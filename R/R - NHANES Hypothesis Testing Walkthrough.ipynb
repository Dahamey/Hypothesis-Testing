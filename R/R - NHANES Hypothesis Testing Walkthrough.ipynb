{
 "cells": [
  {
   "cell_type": "markdown",
   "id": "6fe5a3fe",
   "metadata": {},
   "source": [
    "# Hypothesis Testing\n",
    "\n",
    "In this notebook we demonstrate formal hypothesis testing using the NHANES data.\n",
    "\n",
    "It is important to note that the NHANES data are a \"complex survey\". The data are not an independent and representative sample from the target population. Proper analysis of complex survey data should make use of additional information about how the data were collected. Since complex survey analysis is a somewhat specialized topic, we ignore this aspect of the data here, and analyze the NHANES data as if it were an independent and identically distributed sample from a population.\n",
    "\n",
    "First we import the libraries that we will need."
   ]
  },
  {
   "cell_type": "code",
   "execution_count": 1,
   "id": "2874ceb5",
   "metadata": {},
   "outputs": [
    {
     "name": "stderr",
     "output_type": "stream",
     "text": [
      "── \u001b[1mAttaching core tidyverse packages\u001b[22m ──────────────────────────────────────────────────────────────── tidyverse 2.0.0 ──\n",
      "\u001b[32m✔\u001b[39m \u001b[34mdplyr    \u001b[39m 1.1.1     \u001b[32m✔\u001b[39m \u001b[34mreadr    \u001b[39m 2.1.4\n",
      "\u001b[32m✔\u001b[39m \u001b[34mforcats  \u001b[39m 1.0.0     \u001b[32m✔\u001b[39m \u001b[34mstringr  \u001b[39m 1.5.0\n",
      "\u001b[32m✔\u001b[39m \u001b[34mggplot2  \u001b[39m 3.4.4     \u001b[32m✔\u001b[39m \u001b[34mtibble   \u001b[39m 3.2.1\n",
      "\u001b[32m✔\u001b[39m \u001b[34mlubridate\u001b[39m 1.9.2     \u001b[32m✔\u001b[39m \u001b[34mtidyr    \u001b[39m 1.3.0\n",
      "\u001b[32m✔\u001b[39m \u001b[34mpurrr    \u001b[39m 1.0.1     \n",
      "── \u001b[1mConflicts\u001b[22m ────────────────────────────────────────────────────────────────────────────────── tidyverse_conflicts() ──\n",
      "\u001b[31m✖\u001b[39m \u001b[34mdplyr\u001b[39m::\u001b[32mfilter()\u001b[39m masks \u001b[34mstats\u001b[39m::filter()\n",
      "\u001b[31m✖\u001b[39m \u001b[34mdplyr\u001b[39m::\u001b[32mlag()\u001b[39m    masks \u001b[34mstats\u001b[39m::lag()\n",
      "\u001b[36mℹ\u001b[39m Use the conflicted package (\u001b[3m\u001b[34m<http://conflicted.r-lib.org/>\u001b[39m\u001b[23m) to force all conflicts to become errors\n",
      "Loading required package: lattice\n",
      "\n",
      "\n",
      "Attaching package: 'BSDA'\n",
      "\n",
      "\n",
      "The following object is masked from 'package:datasets':\n",
      "\n",
      "    Orange\n",
      "\n",
      "\n"
     ]
    }
   ],
   "source": [
    "library(tidyverse)\n",
    "library(BSDA)"
   ]
  },
  {
   "cell_type": "markdown",
   "id": "9d87c5cd",
   "metadata": {},
   "source": [
    "Below we read the data, and convert some of the integer codes to text values. The NHANES codebooks for `SMQ020`, `RIAGENDR`, and `DMDCITZN` describe the meanings of the numerical codes."
   ]
  },
  {
   "cell_type": "code",
   "execution_count": 2,
   "id": "2986970b",
   "metadata": {
    "scrolled": true
   },
   "outputs": [
    {
     "data": {
      "text/html": [
       "<table class=\"dataframe\">\n",
       "<caption>A data.frame: 6 × 28</caption>\n",
       "<thead>\n",
       "\t<tr><th></th><th scope=col>SEQN</th><th scope=col>ALQ101</th><th scope=col>ALQ110</th><th scope=col>ALQ130</th><th scope=col>SMQ020</th><th scope=col>RIAGENDR</th><th scope=col>RIDAGEYR</th><th scope=col>RIDRETH1</th><th scope=col>DMDCITZN</th><th scope=col>DMDEDUC2</th><th scope=col>⋯</th><th scope=col>BPXSY2</th><th scope=col>BPXDI2</th><th scope=col>BMXWT</th><th scope=col>BMXHT</th><th scope=col>BMXBMI</th><th scope=col>BMXLEG</th><th scope=col>BMXARML</th><th scope=col>BMXARMC</th><th scope=col>BMXWAIST</th><th scope=col>HIQ210</th></tr>\n",
       "\t<tr><th></th><th scope=col>&lt;int&gt;</th><th scope=col>&lt;dbl&gt;</th><th scope=col>&lt;dbl&gt;</th><th scope=col>&lt;dbl&gt;</th><th scope=col>&lt;int&gt;</th><th scope=col>&lt;int&gt;</th><th scope=col>&lt;int&gt;</th><th scope=col>&lt;int&gt;</th><th scope=col>&lt;dbl&gt;</th><th scope=col>&lt;dbl&gt;</th><th scope=col>⋯</th><th scope=col>&lt;dbl&gt;</th><th scope=col>&lt;dbl&gt;</th><th scope=col>&lt;dbl&gt;</th><th scope=col>&lt;dbl&gt;</th><th scope=col>&lt;dbl&gt;</th><th scope=col>&lt;dbl&gt;</th><th scope=col>&lt;dbl&gt;</th><th scope=col>&lt;dbl&gt;</th><th scope=col>&lt;dbl&gt;</th><th scope=col>&lt;dbl&gt;</th></tr>\n",
       "</thead>\n",
       "<tbody>\n",
       "\t<tr><th scope=row>1</th><td>83732</td><td>1</td><td>NA</td><td> 1</td><td>1</td><td>1</td><td>62</td><td>3</td><td>1</td><td>5</td><td>⋯</td><td>124</td><td>64</td><td> 94.8</td><td>184.5</td><td>27.8</td><td>43.3</td><td>43.6</td><td>35.9</td><td>101.1</td><td> 2</td></tr>\n",
       "\t<tr><th scope=row>2</th><td>83733</td><td>1</td><td>NA</td><td> 6</td><td>1</td><td>1</td><td>53</td><td>3</td><td>2</td><td>3</td><td>⋯</td><td>140</td><td>88</td><td> 90.4</td><td>171.4</td><td>30.8</td><td>38.0</td><td>40.0</td><td>33.2</td><td>107.9</td><td>NA</td></tr>\n",
       "\t<tr><th scope=row>3</th><td>83734</td><td>1</td><td>NA</td><td>NA</td><td>1</td><td>1</td><td>78</td><td>3</td><td>1</td><td>3</td><td>⋯</td><td>132</td><td>44</td><td> 83.4</td><td>170.1</td><td>28.8</td><td>35.6</td><td>37.0</td><td>31.0</td><td>116.5</td><td> 2</td></tr>\n",
       "\t<tr><th scope=row>4</th><td>83735</td><td>2</td><td> 1</td><td> 1</td><td>2</td><td>2</td><td>56</td><td>3</td><td>1</td><td>5</td><td>⋯</td><td>134</td><td>68</td><td>109.8</td><td>160.9</td><td>42.4</td><td>38.5</td><td>37.7</td><td>38.3</td><td>110.1</td><td> 2</td></tr>\n",
       "\t<tr><th scope=row>5</th><td>83736</td><td>2</td><td> 1</td><td> 1</td><td>2</td><td>2</td><td>42</td><td>4</td><td>1</td><td>4</td><td>⋯</td><td>114</td><td>54</td><td> 55.2</td><td>164.9</td><td>20.3</td><td>37.4</td><td>36.0</td><td>27.2</td><td> 80.4</td><td> 2</td></tr>\n",
       "\t<tr><th scope=row>6</th><td>83737</td><td>2</td><td> 2</td><td>NA</td><td>2</td><td>2</td><td>72</td><td>1</td><td>2</td><td>2</td><td>⋯</td><td>122</td><td>58</td><td> 64.4</td><td>150.0</td><td>28.6</td><td>34.4</td><td>33.5</td><td>31.4</td><td> 92.9</td><td>NA</td></tr>\n",
       "</tbody>\n",
       "</table>\n"
      ],
      "text/latex": [
       "A data.frame: 6 × 28\n",
       "\\begin{tabular}{r|lllllllllllllllllllll}\n",
       "  & SEQN & ALQ101 & ALQ110 & ALQ130 & SMQ020 & RIAGENDR & RIDAGEYR & RIDRETH1 & DMDCITZN & DMDEDUC2 & ⋯ & BPXSY2 & BPXDI2 & BMXWT & BMXHT & BMXBMI & BMXLEG & BMXARML & BMXARMC & BMXWAIST & HIQ210\\\\\n",
       "  & <int> & <dbl> & <dbl> & <dbl> & <int> & <int> & <int> & <int> & <dbl> & <dbl> & ⋯ & <dbl> & <dbl> & <dbl> & <dbl> & <dbl> & <dbl> & <dbl> & <dbl> & <dbl> & <dbl>\\\\\n",
       "\\hline\n",
       "\t1 & 83732 & 1 & NA &  1 & 1 & 1 & 62 & 3 & 1 & 5 & ⋯ & 124 & 64 &  94.8 & 184.5 & 27.8 & 43.3 & 43.6 & 35.9 & 101.1 &  2\\\\\n",
       "\t2 & 83733 & 1 & NA &  6 & 1 & 1 & 53 & 3 & 2 & 3 & ⋯ & 140 & 88 &  90.4 & 171.4 & 30.8 & 38.0 & 40.0 & 33.2 & 107.9 & NA\\\\\n",
       "\t3 & 83734 & 1 & NA & NA & 1 & 1 & 78 & 3 & 1 & 3 & ⋯ & 132 & 44 &  83.4 & 170.1 & 28.8 & 35.6 & 37.0 & 31.0 & 116.5 &  2\\\\\n",
       "\t4 & 83735 & 2 &  1 &  1 & 2 & 2 & 56 & 3 & 1 & 5 & ⋯ & 134 & 68 & 109.8 & 160.9 & 42.4 & 38.5 & 37.7 & 38.3 & 110.1 &  2\\\\\n",
       "\t5 & 83736 & 2 &  1 &  1 & 2 & 2 & 42 & 4 & 1 & 4 & ⋯ & 114 & 54 &  55.2 & 164.9 & 20.3 & 37.4 & 36.0 & 27.2 &  80.4 &  2\\\\\n",
       "\t6 & 83737 & 2 &  2 & NA & 2 & 2 & 72 & 1 & 2 & 2 & ⋯ & 122 & 58 &  64.4 & 150.0 & 28.6 & 34.4 & 33.5 & 31.4 &  92.9 & NA\\\\\n",
       "\\end{tabular}\n"
      ],
      "text/markdown": [
       "\n",
       "A data.frame: 6 × 28\n",
       "\n",
       "| <!--/--> | SEQN &lt;int&gt; | ALQ101 &lt;dbl&gt; | ALQ110 &lt;dbl&gt; | ALQ130 &lt;dbl&gt; | SMQ020 &lt;int&gt; | RIAGENDR &lt;int&gt; | RIDAGEYR &lt;int&gt; | RIDRETH1 &lt;int&gt; | DMDCITZN &lt;dbl&gt; | DMDEDUC2 &lt;dbl&gt; | ⋯ ⋯ | BPXSY2 &lt;dbl&gt; | BPXDI2 &lt;dbl&gt; | BMXWT &lt;dbl&gt; | BMXHT &lt;dbl&gt; | BMXBMI &lt;dbl&gt; | BMXLEG &lt;dbl&gt; | BMXARML &lt;dbl&gt; | BMXARMC &lt;dbl&gt; | BMXWAIST &lt;dbl&gt; | HIQ210 &lt;dbl&gt; |\n",
       "|---|---|---|---|---|---|---|---|---|---|---|---|---|---|---|---|---|---|---|---|---|---|\n",
       "| 1 | 83732 | 1 | NA |  1 | 1 | 1 | 62 | 3 | 1 | 5 | ⋯ | 124 | 64 |  94.8 | 184.5 | 27.8 | 43.3 | 43.6 | 35.9 | 101.1 |  2 |\n",
       "| 2 | 83733 | 1 | NA |  6 | 1 | 1 | 53 | 3 | 2 | 3 | ⋯ | 140 | 88 |  90.4 | 171.4 | 30.8 | 38.0 | 40.0 | 33.2 | 107.9 | NA |\n",
       "| 3 | 83734 | 1 | NA | NA | 1 | 1 | 78 | 3 | 1 | 3 | ⋯ | 132 | 44 |  83.4 | 170.1 | 28.8 | 35.6 | 37.0 | 31.0 | 116.5 |  2 |\n",
       "| 4 | 83735 | 2 |  1 |  1 | 2 | 2 | 56 | 3 | 1 | 5 | ⋯ | 134 | 68 | 109.8 | 160.9 | 42.4 | 38.5 | 37.7 | 38.3 | 110.1 |  2 |\n",
       "| 5 | 83736 | 2 |  1 |  1 | 2 | 2 | 42 | 4 | 1 | 4 | ⋯ | 114 | 54 |  55.2 | 164.9 | 20.3 | 37.4 | 36.0 | 27.2 |  80.4 |  2 |\n",
       "| 6 | 83737 | 2 |  2 | NA | 2 | 2 | 72 | 1 | 2 | 2 | ⋯ | 122 | 58 |  64.4 | 150.0 | 28.6 | 34.4 | 33.5 | 31.4 |  92.9 | NA |\n",
       "\n"
      ],
      "text/plain": [
       "  SEQN  ALQ101 ALQ110 ALQ130 SMQ020 RIAGENDR RIDAGEYR RIDRETH1 DMDCITZN\n",
       "1 83732 1      NA      1     1      1        62       3        1       \n",
       "2 83733 1      NA      6     1      1        53       3        2       \n",
       "3 83734 1      NA     NA     1      1        78       3        1       \n",
       "4 83735 2       1      1     2      2        56       3        1       \n",
       "5 83736 2       1      1     2      2        42       4        1       \n",
       "6 83737 2       2     NA     2      2        72       1        2       \n",
       "  DMDEDUC2 ⋯ BPXSY2 BPXDI2 BMXWT BMXHT BMXBMI BMXLEG BMXARML BMXARMC BMXWAIST\n",
       "1 5        ⋯ 124    64      94.8 184.5 27.8   43.3   43.6    35.9    101.1   \n",
       "2 3        ⋯ 140    88      90.4 171.4 30.8   38.0   40.0    33.2    107.9   \n",
       "3 3        ⋯ 132    44      83.4 170.1 28.8   35.6   37.0    31.0    116.5   \n",
       "4 5        ⋯ 134    68     109.8 160.9 42.4   38.5   37.7    38.3    110.1   \n",
       "5 4        ⋯ 114    54      55.2 164.9 20.3   37.4   36.0    27.2     80.4   \n",
       "6 2        ⋯ 122    58      64.4 150.0 28.6   34.4   33.5    31.4     92.9   \n",
       "  HIQ210\n",
       "1  2    \n",
       "2 NA    \n",
       "3  2    \n",
       "4  2    \n",
       "5  2    \n",
       "6 NA    "
      ]
     },
     "metadata": {},
     "output_type": "display_data"
    }
   ],
   "source": [
    "da <- read.csv('nhanes_2015_2016.csv')\n",
    "head(da)"
   ]
  },
  {
   "cell_type": "code",
   "execution_count": 3,
   "id": "cb88dde8",
   "metadata": {},
   "outputs": [
    {
     "data": {
      "text/html": [
       "<style>\n",
       ".list-inline {list-style: none; margin:0; padding: 0}\n",
       ".list-inline>li {display: inline-block}\n",
       ".list-inline>li:not(:last-child)::after {content: \"\\00b7\"; padding: 0 .5ex}\n",
       "</style>\n",
       "<ol class=list-inline><li>1</li><li>2</li></ol>\n"
      ],
      "text/latex": [
       "\\begin{enumerate*}\n",
       "\\item 1\n",
       "\\item 2\n",
       "\\end{enumerate*}\n"
      ],
      "text/markdown": [
       "1. 1\n",
       "2. 2\n",
       "\n",
       "\n"
      ],
      "text/plain": [
       "[1] 1 2"
      ]
     },
     "metadata": {},
     "output_type": "display_data"
    }
   ],
   "source": [
    "unique(da$RIAGENDR)"
   ]
  },
  {
   "cell_type": "code",
   "execution_count": 4,
   "id": "61d4deef",
   "metadata": {
    "scrolled": true
   },
   "outputs": [
    {
     "data": {
      "text/plain": [
       "\n",
       "   1    2    7    9 \n",
       "2319 3406    2    8 "
      ]
     },
     "metadata": {},
     "output_type": "display_data"
    }
   ],
   "source": [
    "table(da$SMQ020)"
   ]
  },
  {
   "cell_type": "code",
   "execution_count": 5,
   "id": "978467de",
   "metadata": {},
   "outputs": [
    {
     "data": {
      "text/plain": [
       "\n",
       "   1    2    7    9 \n",
       "4746  975    8    5 "
      ]
     },
     "metadata": {},
     "output_type": "display_data"
    }
   ],
   "source": [
    "table(da$DMDCITZN)"
   ]
  },
  {
   "cell_type": "code",
   "execution_count": 6,
   "id": "f72f644b",
   "metadata": {},
   "outputs": [],
   "source": [
    "# Converting numerical column into character\n",
    "da$RIAGENDR <- as.character(da$RIAGENDR)\n",
    "\n",
    "# 1-> Male and 2->Female\n",
    "da <- da %>% \n",
    "    mutate(\n",
    "    RIAGENDR = ifelse(RIAGENDR == 1, \"Male\", ifelse(RIAGENDR == 2, \"Female\", RIAGENDR)),\n",
    "    SMQ020 = ifelse(SMQ020 == 1, \"Yes\", ifelse(SMQ020 == 2, \"No\", \n",
    "                                               ifelse(SMQ020 %in% c(7,9), NA, SMQ020))),\n",
    "    DMDCITZN = ifelse(DMDCITZN == 1, \"Yes\", ifelse(DMDCITZN == 2, \"No\",\n",
    "                                                   ifelse(DMDCITZN %in% c(7,9), NA, DMDCITZN))))"
   ]
  },
  {
   "cell_type": "code",
   "execution_count": 7,
   "id": "e6fb0bd9",
   "metadata": {
    "scrolled": true
   },
   "outputs": [
    {
     "data": {
      "text/html": [
       "<table class=\"dataframe\">\n",
       "<caption>A data.frame: 6 × 28</caption>\n",
       "<thead>\n",
       "\t<tr><th></th><th scope=col>SEQN</th><th scope=col>ALQ101</th><th scope=col>ALQ110</th><th scope=col>ALQ130</th><th scope=col>SMQ020</th><th scope=col>RIAGENDR</th><th scope=col>RIDAGEYR</th><th scope=col>RIDRETH1</th><th scope=col>DMDCITZN</th><th scope=col>DMDEDUC2</th><th scope=col>⋯</th><th scope=col>BPXSY2</th><th scope=col>BPXDI2</th><th scope=col>BMXWT</th><th scope=col>BMXHT</th><th scope=col>BMXBMI</th><th scope=col>BMXLEG</th><th scope=col>BMXARML</th><th scope=col>BMXARMC</th><th scope=col>BMXWAIST</th><th scope=col>HIQ210</th></tr>\n",
       "\t<tr><th></th><th scope=col>&lt;int&gt;</th><th scope=col>&lt;dbl&gt;</th><th scope=col>&lt;dbl&gt;</th><th scope=col>&lt;dbl&gt;</th><th scope=col>&lt;chr&gt;</th><th scope=col>&lt;chr&gt;</th><th scope=col>&lt;int&gt;</th><th scope=col>&lt;int&gt;</th><th scope=col>&lt;chr&gt;</th><th scope=col>&lt;dbl&gt;</th><th scope=col>⋯</th><th scope=col>&lt;dbl&gt;</th><th scope=col>&lt;dbl&gt;</th><th scope=col>&lt;dbl&gt;</th><th scope=col>&lt;dbl&gt;</th><th scope=col>&lt;dbl&gt;</th><th scope=col>&lt;dbl&gt;</th><th scope=col>&lt;dbl&gt;</th><th scope=col>&lt;dbl&gt;</th><th scope=col>&lt;dbl&gt;</th><th scope=col>&lt;dbl&gt;</th></tr>\n",
       "</thead>\n",
       "<tbody>\n",
       "\t<tr><th scope=row>1</th><td>83732</td><td>1</td><td>NA</td><td> 1</td><td>Yes</td><td>Male  </td><td>62</td><td>3</td><td>Yes</td><td>5</td><td>⋯</td><td>124</td><td>64</td><td> 94.8</td><td>184.5</td><td>27.8</td><td>43.3</td><td>43.6</td><td>35.9</td><td>101.1</td><td> 2</td></tr>\n",
       "\t<tr><th scope=row>2</th><td>83733</td><td>1</td><td>NA</td><td> 6</td><td>Yes</td><td>Male  </td><td>53</td><td>3</td><td>No </td><td>3</td><td>⋯</td><td>140</td><td>88</td><td> 90.4</td><td>171.4</td><td>30.8</td><td>38.0</td><td>40.0</td><td>33.2</td><td>107.9</td><td>NA</td></tr>\n",
       "\t<tr><th scope=row>3</th><td>83734</td><td>1</td><td>NA</td><td>NA</td><td>Yes</td><td>Male  </td><td>78</td><td>3</td><td>Yes</td><td>3</td><td>⋯</td><td>132</td><td>44</td><td> 83.4</td><td>170.1</td><td>28.8</td><td>35.6</td><td>37.0</td><td>31.0</td><td>116.5</td><td> 2</td></tr>\n",
       "\t<tr><th scope=row>4</th><td>83735</td><td>2</td><td> 1</td><td> 1</td><td>No </td><td>Female</td><td>56</td><td>3</td><td>Yes</td><td>5</td><td>⋯</td><td>134</td><td>68</td><td>109.8</td><td>160.9</td><td>42.4</td><td>38.5</td><td>37.7</td><td>38.3</td><td>110.1</td><td> 2</td></tr>\n",
       "\t<tr><th scope=row>5</th><td>83736</td><td>2</td><td> 1</td><td> 1</td><td>No </td><td>Female</td><td>42</td><td>4</td><td>Yes</td><td>4</td><td>⋯</td><td>114</td><td>54</td><td> 55.2</td><td>164.9</td><td>20.3</td><td>37.4</td><td>36.0</td><td>27.2</td><td> 80.4</td><td> 2</td></tr>\n",
       "\t<tr><th scope=row>6</th><td>83737</td><td>2</td><td> 2</td><td>NA</td><td>No </td><td>Female</td><td>72</td><td>1</td><td>No </td><td>2</td><td>⋯</td><td>122</td><td>58</td><td> 64.4</td><td>150.0</td><td>28.6</td><td>34.4</td><td>33.5</td><td>31.4</td><td> 92.9</td><td>NA</td></tr>\n",
       "</tbody>\n",
       "</table>\n"
      ],
      "text/latex": [
       "A data.frame: 6 × 28\n",
       "\\begin{tabular}{r|lllllllllllllllllllll}\n",
       "  & SEQN & ALQ101 & ALQ110 & ALQ130 & SMQ020 & RIAGENDR & RIDAGEYR & RIDRETH1 & DMDCITZN & DMDEDUC2 & ⋯ & BPXSY2 & BPXDI2 & BMXWT & BMXHT & BMXBMI & BMXLEG & BMXARML & BMXARMC & BMXWAIST & HIQ210\\\\\n",
       "  & <int> & <dbl> & <dbl> & <dbl> & <chr> & <chr> & <int> & <int> & <chr> & <dbl> & ⋯ & <dbl> & <dbl> & <dbl> & <dbl> & <dbl> & <dbl> & <dbl> & <dbl> & <dbl> & <dbl>\\\\\n",
       "\\hline\n",
       "\t1 & 83732 & 1 & NA &  1 & Yes & Male   & 62 & 3 & Yes & 5 & ⋯ & 124 & 64 &  94.8 & 184.5 & 27.8 & 43.3 & 43.6 & 35.9 & 101.1 &  2\\\\\n",
       "\t2 & 83733 & 1 & NA &  6 & Yes & Male   & 53 & 3 & No  & 3 & ⋯ & 140 & 88 &  90.4 & 171.4 & 30.8 & 38.0 & 40.0 & 33.2 & 107.9 & NA\\\\\n",
       "\t3 & 83734 & 1 & NA & NA & Yes & Male   & 78 & 3 & Yes & 3 & ⋯ & 132 & 44 &  83.4 & 170.1 & 28.8 & 35.6 & 37.0 & 31.0 & 116.5 &  2\\\\\n",
       "\t4 & 83735 & 2 &  1 &  1 & No  & Female & 56 & 3 & Yes & 5 & ⋯ & 134 & 68 & 109.8 & 160.9 & 42.4 & 38.5 & 37.7 & 38.3 & 110.1 &  2\\\\\n",
       "\t5 & 83736 & 2 &  1 &  1 & No  & Female & 42 & 4 & Yes & 4 & ⋯ & 114 & 54 &  55.2 & 164.9 & 20.3 & 37.4 & 36.0 & 27.2 &  80.4 &  2\\\\\n",
       "\t6 & 83737 & 2 &  2 & NA & No  & Female & 72 & 1 & No  & 2 & ⋯ & 122 & 58 &  64.4 & 150.0 & 28.6 & 34.4 & 33.5 & 31.4 &  92.9 & NA\\\\\n",
       "\\end{tabular}\n"
      ],
      "text/markdown": [
       "\n",
       "A data.frame: 6 × 28\n",
       "\n",
       "| <!--/--> | SEQN &lt;int&gt; | ALQ101 &lt;dbl&gt; | ALQ110 &lt;dbl&gt; | ALQ130 &lt;dbl&gt; | SMQ020 &lt;chr&gt; | RIAGENDR &lt;chr&gt; | RIDAGEYR &lt;int&gt; | RIDRETH1 &lt;int&gt; | DMDCITZN &lt;chr&gt; | DMDEDUC2 &lt;dbl&gt; | ⋯ ⋯ | BPXSY2 &lt;dbl&gt; | BPXDI2 &lt;dbl&gt; | BMXWT &lt;dbl&gt; | BMXHT &lt;dbl&gt; | BMXBMI &lt;dbl&gt; | BMXLEG &lt;dbl&gt; | BMXARML &lt;dbl&gt; | BMXARMC &lt;dbl&gt; | BMXWAIST &lt;dbl&gt; | HIQ210 &lt;dbl&gt; |\n",
       "|---|---|---|---|---|---|---|---|---|---|---|---|---|---|---|---|---|---|---|---|---|---|\n",
       "| 1 | 83732 | 1 | NA |  1 | Yes | Male   | 62 | 3 | Yes | 5 | ⋯ | 124 | 64 |  94.8 | 184.5 | 27.8 | 43.3 | 43.6 | 35.9 | 101.1 |  2 |\n",
       "| 2 | 83733 | 1 | NA |  6 | Yes | Male   | 53 | 3 | No  | 3 | ⋯ | 140 | 88 |  90.4 | 171.4 | 30.8 | 38.0 | 40.0 | 33.2 | 107.9 | NA |\n",
       "| 3 | 83734 | 1 | NA | NA | Yes | Male   | 78 | 3 | Yes | 3 | ⋯ | 132 | 44 |  83.4 | 170.1 | 28.8 | 35.6 | 37.0 | 31.0 | 116.5 |  2 |\n",
       "| 4 | 83735 | 2 |  1 |  1 | No  | Female | 56 | 3 | Yes | 5 | ⋯ | 134 | 68 | 109.8 | 160.9 | 42.4 | 38.5 | 37.7 | 38.3 | 110.1 |  2 |\n",
       "| 5 | 83736 | 2 |  1 |  1 | No  | Female | 42 | 4 | Yes | 4 | ⋯ | 114 | 54 |  55.2 | 164.9 | 20.3 | 37.4 | 36.0 | 27.2 |  80.4 |  2 |\n",
       "| 6 | 83737 | 2 |  2 | NA | No  | Female | 72 | 1 | No  | 2 | ⋯ | 122 | 58 |  64.4 | 150.0 | 28.6 | 34.4 | 33.5 | 31.4 |  92.9 | NA |\n",
       "\n"
      ],
      "text/plain": [
       "  SEQN  ALQ101 ALQ110 ALQ130 SMQ020 RIAGENDR RIDAGEYR RIDRETH1 DMDCITZN\n",
       "1 83732 1      NA      1     Yes    Male     62       3        Yes     \n",
       "2 83733 1      NA      6     Yes    Male     53       3        No      \n",
       "3 83734 1      NA     NA     Yes    Male     78       3        Yes     \n",
       "4 83735 2       1      1     No     Female   56       3        Yes     \n",
       "5 83736 2       1      1     No     Female   42       4        Yes     \n",
       "6 83737 2       2     NA     No     Female   72       1        No      \n",
       "  DMDEDUC2 ⋯ BPXSY2 BPXDI2 BMXWT BMXHT BMXBMI BMXLEG BMXARML BMXARMC BMXWAIST\n",
       "1 5        ⋯ 124    64      94.8 184.5 27.8   43.3   43.6    35.9    101.1   \n",
       "2 3        ⋯ 140    88      90.4 171.4 30.8   38.0   40.0    33.2    107.9   \n",
       "3 3        ⋯ 132    44      83.4 170.1 28.8   35.6   37.0    31.0    116.5   \n",
       "4 5        ⋯ 134    68     109.8 160.9 42.4   38.5   37.7    38.3    110.1   \n",
       "5 4        ⋯ 114    54      55.2 164.9 20.3   37.4   36.0    27.2     80.4   \n",
       "6 2        ⋯ 122    58      64.4 150.0 28.6   34.4   33.5    31.4     92.9   \n",
       "  HIQ210\n",
       "1  2    \n",
       "2 NA    \n",
       "3  2    \n",
       "4  2    \n",
       "5  2    \n",
       "6 NA    "
      ]
     },
     "metadata": {},
     "output_type": "display_data"
    }
   ],
   "source": [
    "head(da)"
   ]
  },
  {
   "cell_type": "markdown",
   "id": "84943f7b",
   "metadata": {},
   "source": [
    "## 1) Hypothesis Tests for One Proportion\n",
    "\n",
    "The most basic hypothesis test may be the **one-sample test for a proportion**. This test is used if we have specified a particular value as the null value for the proportion, and we wish to assess if the data are compatible with the true parameter value being equal to this specified value. One-sample tests are not used very often in practice, because it is not very common that we have a specific fixed value to use for comparison.\n",
    "\n",
    "For illustration, imagine that the rate of lifetime smoking in another country was known to be 40%, and we wished to assess whether the rate of lifetime smoking in the US were different from 40%. In the following notebook cell, we carry out the **(two-sided) one-sample test** that the population proportion of smokers is 0.4, and obtain a p-value of 0.43. This indicates that the NHANES data are compatible with the proportion of (ever) smokers in the US being 40%."
   ]
  },
  {
   "cell_type": "code",
   "execution_count": 8,
   "id": "dac6f208",
   "metadata": {
    "scrolled": false
   },
   "outputs": [],
   "source": [
    "x <- da[da[!is.na(da$SMQ020),]$SMQ020 == \"Yes\",]"
   ]
  },
  {
   "cell_type": "markdown",
   "id": "b870a528",
   "metadata": {},
   "source": [
    "### Method 1"
   ]
  },
  {
   "cell_type": "code",
   "execution_count": 9,
   "id": "0d073e35",
   "metadata": {
    "scrolled": true
   },
   "outputs": [
    {
     "name": "stdout",
     "output_type": "stream",
     "text": [
      "Test statistic = 0.7823564 and the p-value= 0.4340052"
     ]
    }
   ],
   "source": [
    "# Estimate of the proportion\n",
    "phat <- 0.4 \n",
    "\n",
    "# Filter out the NA's from the SMQ020 column of smokers:\n",
    "x <- na.omit(da$SMQ020)== \"Yes\"\n",
    "\n",
    "# proportion of smokers (sample)\n",
    " p <- mean(x)\n",
    "\n",
    "#Standard Error of proportion:\n",
    "se <- sqrt(phat * (1-phat) / length(x))\n",
    "\n",
    "#Test statistic and p-value\n",
    "test_stat <- (p - phat ) / se\n",
    "pvalue <- 2 * pnorm(-abs(test_stat))\n",
    "\n",
    "cat(\"Test statistic =\", test_stat, \"and the p-value=\", pvalue)"
   ]
  },
  {
   "cell_type": "markdown",
   "id": "236ffb08",
   "metadata": {},
   "source": [
    "### Method 2"
   ]
  },
  {
   "cell_type": "code",
   "execution_count": 10,
   "id": "1f857ad8",
   "metadata": {},
   "outputs": [
    {
     "name": "stdout",
     "output_type": "stream",
     "text": [
      "Test statistic = 0.6120815 Two-sided Z-test p-value: 0.4340052 \n"
     ]
    }
   ],
   "source": [
    "# Two-sided Z-test for proportions\n",
    "n <- length(x)\n",
    "z_test_result <- prop.test(x= sum(x), n = n, p = phat, alternative = \"two.sided\", correct = FALSE)\n",
    "\n",
    "# Extract p-value from the test result\n",
    "z_test_stat <- z_test_result$statistic\n",
    "p_value_z_test <- z_test_result$p.value\n",
    "\n",
    "cat(\"Test statistic =\",z_test_stat, \"Two-sided Z-test p-value:\", p_value_z_test, \"\\n\")"
   ]
  },
  {
   "cell_type": "code",
   "execution_count": 11,
   "id": "13601253",
   "metadata": {},
   "outputs": [
    {
     "name": "stdout",
     "output_type": "stream",
     "text": [
      "Binomial test p-value: 0.4340361 \n"
     ]
    }
   ],
   "source": [
    "# Binomial test\n",
    "binom_test_result <- binom.test(sum(x), n, p = phat)\n",
    "\n",
    "# Extract p-value from the binomial test result\n",
    "p_value_binom_test <- binom_test_result$p.value\n",
    "\n",
    "cat(\"Binomial test p-value:\", p_value_binom_test, \"\\n\")"
   ]
  },
  {
   "cell_type": "markdown",
   "id": "02bef066",
   "metadata": {},
   "source": [
    "## 2) Hypothesis Tests for Two Proportions\n",
    "\n",
    "Comparative tests tend to be used much more frequently than tests comparing one population to a fixed value. A **two-sample test of proportions** is used to assess whether the proportion of individuals with some trait differs between two sub-populations. For example, we can compare the smoking rates between females and males. Since smoking rates vary strongly with age, we do this in the subpopulation of people between 20 and 25 years of age. In the cell below, we carry out this test without using any libraries. We find that the smoking rate for men is around 10 percentage points greater than the smoking rate for females, and this difference is statistically significant (the p-value is around 0.01)."
   ]
  },
  {
   "cell_type": "markdown",
   "id": "f4f57dfe",
   "metadata": {},
   "source": [
    "### Method 1"
   ]
  },
  {
   "cell_type": "code",
   "execution_count": 12,
   "id": "116412ec",
   "metadata": {
    "scrolled": true
   },
   "outputs": [
    {
     "name": "stderr",
     "output_type": "stream",
     "text": [
      "Warning message:\n",
      "\"Setting row names on a tibble is deprecated.\"\n"
     ]
    },
    {
     "name": "stdout",
     "output_type": "stream",
     "text": [
      "\u001b[90m# A tibble: 2 × 3\u001b[39m\n",
      "  RIAGENDR Smoke     N\n",
      "\u001b[90m*\u001b[39m \u001b[3m\u001b[90m<chr>\u001b[39m\u001b[23m    \u001b[3m\u001b[90m<dbl>\u001b[39m\u001b[23m \u001b[3m\u001b[90m<int>\u001b[39m\u001b[23m\n",
      "\u001b[90m1\u001b[39m Female   0.305  \u001b[4m2\u001b[24m972\n",
      "\u001b[90m2\u001b[39m Male     0.513  \u001b[4m2\u001b[24m753\n"
     ]
    }
   ],
   "source": [
    "dx <- da[c(\"SMQ020\", \"RIAGENDR\", \"RIDAGEYR\")]\n",
    "dx <- dx[complete.cases(dx),]\n",
    "\n",
    "# Proportion and number of smokers per gender\n",
    "p <- dx %>%\n",
    "  group_by(RIAGENDR) %>%\n",
    "  summarise(\n",
    "    Smoke = mean(SMQ020 == \"Yes\"),\n",
    "    N = n()\n",
    "  )\n",
    "\n",
    "# Rename columns, and rows\n",
    "colnames(p) <- c(\"RIAGENDR\", \"Smoke\", \"N\")\n",
    "rownames(p) <- p$RIAGENDR\n",
    "\n",
    "# Print the result\n",
    "print(p)"
   ]
  },
  {
   "cell_type": "markdown",
   "id": "b6853bb6",
   "metadata": {},
   "source": [
    "Essentially the same test as above can be conducted by converting the \"Yes\"/\"No\" responses to numbers (Yes=1, No=0) and conducting a two-sample t-test, as below:"
   ]
  },
  {
   "cell_type": "code",
   "execution_count": 13,
   "id": "0e49c7ee",
   "metadata": {},
   "outputs": [],
   "source": [
    "# combined proportion\n",
    "p_comb <- mean(dx$SMQ020 == \"Yes\")\n",
    "va <- p_comb * (1 - p_comb)\n",
    "\n",
    "# Standard Error\n",
    "se <- sqrt(va * (1/ 1/p[\"Female\",\"N\"]+ 1/p[\"Male\",\"N\"]))"
   ]
  },
  {
   "cell_type": "code",
   "execution_count": 14,
   "id": "914d3942",
   "metadata": {},
   "outputs": [
    {
     "name": "stdout",
     "output_type": "stream",
     "text": [
      "test-statistic= -16.04972 pvalue= 5.742289e-58"
     ]
    }
   ],
   "source": [
    "#Test-statistic\n",
    "test_stat <- unlist((p[\"Female\",\"Smoke\"] - p[\"Male\",\"Smoke\"] )/ se)\n",
    "\n",
    "#p-value\n",
    "pvalue <- 2 * pnorm(-abs(test_stat))\n",
    "\n",
    "cat(\"test-statistic=\", test_stat, \"pvalue=\", pvalue)"
   ]
  },
  {
   "cell_type": "markdown",
   "id": "f7f902a1",
   "metadata": {},
   "source": [
    "### Method 2 "
   ]
  },
  {
   "cell_type": "code",
   "execution_count": 15,
   "id": "de34864b",
   "metadata": {},
   "outputs": [
    {
     "data": {
      "text/html": [
       "<style>\n",
       ".list-inline {list-style: none; margin:0; padding: 0}\n",
       ".list-inline>li {display: inline-block}\n",
       ".list-inline>li:not(:last-child)::after {content: \"\\00b7\"; padding: 0 .5ex}\n",
       "</style>\n",
       "<ol class=list-inline><li>'SMQ020'</li><li>'RIAGENDR'</li><li>'RIDAGEYR'</li></ol>\n"
      ],
      "text/latex": [
       "\\begin{enumerate*}\n",
       "\\item 'SMQ020'\n",
       "\\item 'RIAGENDR'\n",
       "\\item 'RIDAGEYR'\n",
       "\\end{enumerate*}\n"
      ],
      "text/markdown": [
       "1. 'SMQ020'\n",
       "2. 'RIAGENDR'\n",
       "3. 'RIDAGEYR'\n",
       "\n",
       "\n"
      ],
      "text/plain": [
       "[1] \"SMQ020\"   \"RIAGENDR\" \"RIDAGEYR\""
      ]
     },
     "metadata": {},
     "output_type": "display_data"
    }
   ],
   "source": [
    "colnames(dx)"
   ]
  },
  {
   "cell_type": "code",
   "execution_count": 16,
   "id": "be42e39b",
   "metadata": {},
   "outputs": [],
   "source": [
    "dx_females <- dx[dx$RIAGENDR == \"Female\",] %>% \n",
    "    mutate(\n",
    "        SMQ020 = ifelse(SMQ020 == \"Yes\", 1, 0)\n",
    "    )\n",
    "\n",
    "dx_male <- dx[dx$RIAGENDR == \"Male\",] %>% \n",
    "    mutate(\n",
    "    SMQ020 = ifelse(SMQ020 == \"Yes\", 1, 0))"
   ]
  },
  {
   "cell_type": "code",
   "execution_count": 17,
   "id": "45dd1fd4",
   "metadata": {},
   "outputs": [],
   "source": [
    "# test\n",
    "\n",
    "t_test_result <- t.test(x = dx_females$SMQ020, y = dx_male$SMQ020)"
   ]
  },
  {
   "cell_type": "code",
   "execution_count": 18,
   "id": "e1cd1183",
   "metadata": {},
   "outputs": [
    {
     "data": {
      "text/html": [
       "<strong>t:</strong> -16.3690774063501"
      ],
      "text/latex": [
       "\\textbf{t:} -16.3690774063501"
      ],
      "text/markdown": [
       "**t:** -16.3690774063501"
      ],
      "text/plain": [
       "        t \n",
       "-16.36908 "
      ]
     },
     "metadata": {},
     "output_type": "display_data"
    }
   ],
   "source": [
    "t_test_result$statistic"
   ]
  },
  {
   "cell_type": "code",
   "execution_count": 19,
   "id": "485ccaa3",
   "metadata": {},
   "outputs": [
    {
     "data": {
      "text/html": [
       "7.33985444632444e-59"
      ],
      "text/latex": [
       "7.33985444632444e-59"
      ],
      "text/markdown": [
       "7.33985444632444e-59"
      ],
      "text/plain": [
       "[1] 7.339854e-59"
      ]
     },
     "metadata": {},
     "output_type": "display_data"
    }
   ],
   "source": [
    "t_test_result$p.value"
   ]
  },
  {
   "cell_type": "markdown",
   "id": "e43f6710",
   "metadata": {},
   "source": [
    "# 3) Hypothesis Tests Comparing Means\n",
    "\n",
    "Tests of means are similar in many ways to tests of proportions. Just as with proportions, for comparing means there are **one** and **two-sample tests**, **z-tests** and **t-tests**, and **one-sided** and **two-sided tests**. As with tests of proportions, one-sample tests of means are not very common, but we illustrate a one sample test in the cell below. We compare systolic blood pressure `BPXSY1` to the fixed value 120 (which is the lower threshold for \"pre-hypertension\"), and find that the mean is significantly different from 120 (the point estimate of the mean is 126)."
   ]
  },
  {
   "cell_type": "markdown",
   "id": "ac5195d8",
   "metadata": {},
   "source": [
    "### One-Sample Test"
   ]
  },
  {
   "cell_type": "code",
   "execution_count": 20,
   "id": "dfc33551",
   "metadata": {},
   "outputs": [
    {
     "data": {
      "text/html": [
       "<style>\n",
       ".list-inline {list-style: none; margin:0; padding: 0}\n",
       ".list-inline>li {display: inline-block}\n",
       ".list-inline>li:not(:last-child)::after {content: \"\\00b7\"; padding: 0 .5ex}\n",
       "</style>\n",
       "<ol class=list-inline><li>'SEQN'</li><li>'ALQ101'</li><li>'ALQ110'</li><li>'ALQ130'</li><li>'SMQ020'</li><li>'RIAGENDR'</li><li>'RIDAGEYR'</li><li>'RIDRETH1'</li><li>'DMDCITZN'</li><li>'DMDEDUC2'</li><li>'DMDMARTL'</li><li>'DMDHHSIZ'</li><li>'WTINT2YR'</li><li>'SDMVPSU'</li><li>'SDMVSTRA'</li><li>'INDFMPIR'</li><li>'BPXSY1'</li><li>'BPXDI1'</li><li>'BPXSY2'</li><li>'BPXDI2'</li><li>'BMXWT'</li><li>'BMXHT'</li><li>'BMXBMI'</li><li>'BMXLEG'</li><li>'BMXARML'</li><li>'BMXARMC'</li><li>'BMXWAIST'</li><li>'HIQ210'</li></ol>\n"
      ],
      "text/latex": [
       "\\begin{enumerate*}\n",
       "\\item 'SEQN'\n",
       "\\item 'ALQ101'\n",
       "\\item 'ALQ110'\n",
       "\\item 'ALQ130'\n",
       "\\item 'SMQ020'\n",
       "\\item 'RIAGENDR'\n",
       "\\item 'RIDAGEYR'\n",
       "\\item 'RIDRETH1'\n",
       "\\item 'DMDCITZN'\n",
       "\\item 'DMDEDUC2'\n",
       "\\item 'DMDMARTL'\n",
       "\\item 'DMDHHSIZ'\n",
       "\\item 'WTINT2YR'\n",
       "\\item 'SDMVPSU'\n",
       "\\item 'SDMVSTRA'\n",
       "\\item 'INDFMPIR'\n",
       "\\item 'BPXSY1'\n",
       "\\item 'BPXDI1'\n",
       "\\item 'BPXSY2'\n",
       "\\item 'BPXDI2'\n",
       "\\item 'BMXWT'\n",
       "\\item 'BMXHT'\n",
       "\\item 'BMXBMI'\n",
       "\\item 'BMXLEG'\n",
       "\\item 'BMXARML'\n",
       "\\item 'BMXARMC'\n",
       "\\item 'BMXWAIST'\n",
       "\\item 'HIQ210'\n",
       "\\end{enumerate*}\n"
      ],
      "text/markdown": [
       "1. 'SEQN'\n",
       "2. 'ALQ101'\n",
       "3. 'ALQ110'\n",
       "4. 'ALQ130'\n",
       "5. 'SMQ020'\n",
       "6. 'RIAGENDR'\n",
       "7. 'RIDAGEYR'\n",
       "8. 'RIDRETH1'\n",
       "9. 'DMDCITZN'\n",
       "10. 'DMDEDUC2'\n",
       "11. 'DMDMARTL'\n",
       "12. 'DMDHHSIZ'\n",
       "13. 'WTINT2YR'\n",
       "14. 'SDMVPSU'\n",
       "15. 'SDMVSTRA'\n",
       "16. 'INDFMPIR'\n",
       "17. 'BPXSY1'\n",
       "18. 'BPXDI1'\n",
       "19. 'BPXSY2'\n",
       "20. 'BPXDI2'\n",
       "21. 'BMXWT'\n",
       "22. 'BMXHT'\n",
       "23. 'BMXBMI'\n",
       "24. 'BMXLEG'\n",
       "25. 'BMXARML'\n",
       "26. 'BMXARMC'\n",
       "27. 'BMXWAIST'\n",
       "28. 'HIQ210'\n",
       "\n",
       "\n"
      ],
      "text/plain": [
       " [1] \"SEQN\"     \"ALQ101\"   \"ALQ110\"   \"ALQ130\"   \"SMQ020\"   \"RIAGENDR\"\n",
       " [7] \"RIDAGEYR\" \"RIDRETH1\" \"DMDCITZN\" \"DMDEDUC2\" \"DMDMARTL\" \"DMDHHSIZ\"\n",
       "[13] \"WTINT2YR\" \"SDMVPSU\"  \"SDMVSTRA\" \"INDFMPIR\" \"BPXSY1\"   \"BPXDI1\"  \n",
       "[19] \"BPXSY2\"   \"BPXDI2\"   \"BMXWT\"    \"BMXHT\"    \"BMXBMI\"   \"BMXLEG\"  \n",
       "[25] \"BMXARML\"  \"BMXARMC\"  \"BMXWAIST\" \"HIQ210\"  "
      ]
     },
     "metadata": {},
     "output_type": "display_data"
    }
   ],
   "source": [
    "colnames(da)"
   ]
  },
  {
   "cell_type": "code",
   "execution_count": 21,
   "id": "42a90ba7",
   "metadata": {},
   "outputs": [
    {
     "data": {
      "text/html": [
       "<table class=\"dataframe\">\n",
       "<caption>A data.frame: 6 × 3</caption>\n",
       "<thead>\n",
       "\t<tr><th></th><th scope=col>BPXSY1</th><th scope=col>RIDAGEYR</th><th scope=col>RIAGENDR</th></tr>\n",
       "\t<tr><th></th><th scope=col>&lt;dbl&gt;</th><th scope=col>&lt;int&gt;</th><th scope=col>&lt;chr&gt;</th></tr>\n",
       "</thead>\n",
       "<tbody>\n",
       "\t<tr><th scope=row>1</th><td>128</td><td>62</td><td>Male  </td></tr>\n",
       "\t<tr><th scope=row>2</th><td>146</td><td>53</td><td>Male  </td></tr>\n",
       "\t<tr><th scope=row>3</th><td>138</td><td>78</td><td>Male  </td></tr>\n",
       "\t<tr><th scope=row>4</th><td>132</td><td>56</td><td>Female</td></tr>\n",
       "\t<tr><th scope=row>5</th><td>100</td><td>42</td><td>Female</td></tr>\n",
       "\t<tr><th scope=row>6</th><td>116</td><td>72</td><td>Female</td></tr>\n",
       "</tbody>\n",
       "</table>\n"
      ],
      "text/latex": [
       "A data.frame: 6 × 3\n",
       "\\begin{tabular}{r|lll}\n",
       "  & BPXSY1 & RIDAGEYR & RIAGENDR\\\\\n",
       "  & <dbl> & <int> & <chr>\\\\\n",
       "\\hline\n",
       "\t1 & 128 & 62 & Male  \\\\\n",
       "\t2 & 146 & 53 & Male  \\\\\n",
       "\t3 & 138 & 78 & Male  \\\\\n",
       "\t4 & 132 & 56 & Female\\\\\n",
       "\t5 & 100 & 42 & Female\\\\\n",
       "\t6 & 116 & 72 & Female\\\\\n",
       "\\end{tabular}\n"
      ],
      "text/markdown": [
       "\n",
       "A data.frame: 6 × 3\n",
       "\n",
       "| <!--/--> | BPXSY1 &lt;dbl&gt; | RIDAGEYR &lt;int&gt; | RIAGENDR &lt;chr&gt; |\n",
       "|---|---|---|---|\n",
       "| 1 | 128 | 62 | Male   |\n",
       "| 2 | 146 | 53 | Male   |\n",
       "| 3 | 138 | 78 | Male   |\n",
       "| 4 | 132 | 56 | Female |\n",
       "| 5 | 100 | 42 | Female |\n",
       "| 6 | 116 | 72 | Female |\n",
       "\n"
      ],
      "text/plain": [
       "  BPXSY1 RIDAGEYR RIAGENDR\n",
       "1 128    62       Male    \n",
       "2 146    53       Male    \n",
       "3 138    78       Male    \n",
       "4 132    56       Female  \n",
       "5 100    42       Female  \n",
       "6 116    72       Female  "
      ]
     },
     "metadata": {},
     "output_type": "display_data"
    }
   ],
   "source": [
    "dx <- da[,c(\"BPXSY1\", \"RIDAGEYR\", \"RIAGENDR\")]\n",
    "dx <- dx[complete.cases(dx),]\n",
    "head(dx)"
   ]
  },
  {
   "cell_type": "code",
   "execution_count": 22,
   "id": "c0e24189",
   "metadata": {},
   "outputs": [],
   "source": [
    "# Male, age between 40 and 50:\n",
    "dx <- dx  %>% \n",
    "    filter((RIAGENDR == \"Male\") & (RIDAGEYR >=40) & (RIDAGEYR <=50))"
   ]
  },
  {
   "cell_type": "code",
   "execution_count": 23,
   "id": "9f09c579",
   "metadata": {},
   "outputs": [
    {
     "data": {
      "text/html": [
       "125.866983372922"
      ],
      "text/latex": [
       "125.866983372922"
      ],
      "text/markdown": [
       "125.866983372922"
      ],
      "text/plain": [
       "[1] 125.867"
      ]
     },
     "metadata": {},
     "output_type": "display_data"
    }
   ],
   "source": [
    "mean(dx$BPXSY1)"
   ]
  },
  {
   "cell_type": "code",
   "execution_count": 24,
   "id": "0cfc1510",
   "metadata": {},
   "outputs": [
    {
     "data": {
      "text/plain": [
       "\n",
       "\tOne-sample z-Test\n",
       "\n",
       "data:  dx$BPXSY1\n",
       "z = 7.4698, p-value = 8.034e-14\n",
       "alternative hypothesis: true mean is not equal to 120\n",
       "95 percent confidence interval:\n",
       " 124.3276 127.4064\n",
       "sample estimates:\n",
       "mean of x \n",
       "  125.867 \n"
      ]
     },
     "metadata": {},
     "output_type": "display_data"
    }
   ],
   "source": [
    "#test statistic and p-value :\n",
    "library(BSDA)\n",
    "\n",
    "z.test(x = dx$BPXSY1, mu = 120, sigma.x = sd(dx$BPXSY1))"
   ]
  },
  {
   "cell_type": "markdown",
   "id": "7be6cf40",
   "metadata": {},
   "source": [
    "### Two-Sample Test\n",
    "\n",
    "In the cell below, we carry out a formal test of the null hypothesis that the mean blood pressure for women between the ages of 50 and 60 is equal to the mean blood pressure of men between the ages of 50 and 60. The results indicate that while the mean systolic blood pressure for men is slightly greater than that for women (129 mm/Hg versus 128 mm/Hg), this difference is not statistically significant.\n",
    "\n",
    "There are a number of different variants on the two-sample t-test. Two often-encountered variants are the t-test carried out using the t-distribution, and the t-test carried out using the normal approximation to the reference distribution of the test statistic, often called a z-test. Below we display results from both these testing approaches. When the sample size is large, the difference between the t-test and z-test is very small."
   ]
  },
  {
   "cell_type": "code",
   "execution_count": 25,
   "id": "9a78911d",
   "metadata": {},
   "outputs": [
    {
     "data": {
      "text/html": [
       "<table class=\"dataframe\">\n",
       "<caption>A data.frame: 6 × 3</caption>\n",
       "<thead>\n",
       "\t<tr><th></th><th scope=col>BPXSY1</th><th scope=col>RIDAGEYR</th><th scope=col>RIAGENDR</th></tr>\n",
       "\t<tr><th></th><th scope=col>&lt;dbl&gt;</th><th scope=col>&lt;int&gt;</th><th scope=col>&lt;chr&gt;</th></tr>\n",
       "</thead>\n",
       "<tbody>\n",
       "\t<tr><th scope=row>1</th><td>146</td><td>53</td><td>Male  </td></tr>\n",
       "\t<tr><th scope=row>2</th><td>132</td><td>56</td><td>Female</td></tr>\n",
       "\t<tr><th scope=row>3</th><td>178</td><td>56</td><td>Male  </td></tr>\n",
       "\t<tr><th scope=row>4</th><td>134</td><td>57</td><td>Female</td></tr>\n",
       "\t<tr><th scope=row>5</th><td>136</td><td>54</td><td>Female</td></tr>\n",
       "\t<tr><th scope=row>6</th><td>116</td><td>58</td><td>Female</td></tr>\n",
       "</tbody>\n",
       "</table>\n"
      ],
      "text/latex": [
       "A data.frame: 6 × 3\n",
       "\\begin{tabular}{r|lll}\n",
       "  & BPXSY1 & RIDAGEYR & RIAGENDR\\\\\n",
       "  & <dbl> & <int> & <chr>\\\\\n",
       "\\hline\n",
       "\t1 & 146 & 53 & Male  \\\\\n",
       "\t2 & 132 & 56 & Female\\\\\n",
       "\t3 & 178 & 56 & Male  \\\\\n",
       "\t4 & 134 & 57 & Female\\\\\n",
       "\t5 & 136 & 54 & Female\\\\\n",
       "\t6 & 116 & 58 & Female\\\\\n",
       "\\end{tabular}\n"
      ],
      "text/markdown": [
       "\n",
       "A data.frame: 6 × 3\n",
       "\n",
       "| <!--/--> | BPXSY1 &lt;dbl&gt; | RIDAGEYR &lt;int&gt; | RIAGENDR &lt;chr&gt; |\n",
       "|---|---|---|---|\n",
       "| 1 | 146 | 53 | Male   |\n",
       "| 2 | 132 | 56 | Female |\n",
       "| 3 | 178 | 56 | Male   |\n",
       "| 4 | 134 | 57 | Female |\n",
       "| 5 | 136 | 54 | Female |\n",
       "| 6 | 116 | 58 | Female |\n",
       "\n"
      ],
      "text/plain": [
       "  BPXSY1 RIDAGEYR RIAGENDR\n",
       "1 146    53       Male    \n",
       "2 132    56       Female  \n",
       "3 178    56       Male    \n",
       "4 134    57       Female  \n",
       "5 136    54       Female  \n",
       "6 116    58       Female  "
      ]
     },
     "metadata": {},
     "output_type": "display_data"
    }
   ],
   "source": [
    "dx <- na.omit(da[c(\"BPXSY1\", \"RIDAGEYR\", \"RIAGENDR\")])\n",
    "dx <- dx %>% \n",
    "    filter((dx$RIDAGEYR>=50) & (dx$RIDAGEYR<=60))\n",
    "head(dx)"
   ]
  },
  {
   "cell_type": "code",
   "execution_count": 26,
   "id": "cc396c9e",
   "metadata": {},
   "outputs": [
    {
     "name": "stdout",
     "output_type": "stream",
     "text": [
      "127.9256   129.2383"
     ]
    }
   ],
   "source": [
    "bpx_female <- dx[dx$RIAGENDR == \"Female\", \"BPXSY1\"]\n",
    "bpx_male <- dx[dx$RIAGENDR == \"Male\", \"BPXSY1\"]\n",
    "\n",
    "cat(mean(bpx_female), \" \",mean(bpx_male))"
   ]
  },
  {
   "cell_type": "code",
   "execution_count": 27,
   "id": "2c0ce5ac",
   "metadata": {},
   "outputs": [
    {
     "data": {
      "text/plain": [
       "\n",
       "\tTwo-sample z-Test\n",
       "\n",
       "data:  bpx_female and bpx_male\n",
       "z = -1.1055, p-value = 0.2689\n",
       "alternative hypothesis: true difference in means is not equal to 0\n",
       "95 percent confidence interval:\n",
       " -3.639892  1.014536\n",
       "sample estimates:\n",
       "mean of x mean of y \n",
       " 127.9256  129.2383 \n"
      ]
     },
     "metadata": {},
     "output_type": "display_data"
    }
   ],
   "source": [
    "# Z-test :\n",
    "library(BSDA)\n",
    "\n",
    "z.test(x = bpx_female, y = bpx_male, sigma.x =  sd(bpx_female), sigma.y = sd(bpx_male))"
   ]
  },
  {
   "cell_type": "code",
   "execution_count": 28,
   "id": "4d86595c",
   "metadata": {},
   "outputs": [
    {
     "data": {
      "text/plain": [
       "\n",
       "\tWelch Two Sample t-test\n",
       "\n",
       "data:  bpx_female and bpx_male\n",
       "t = -1.1055, df = 951.47, p-value = 0.2692\n",
       "alternative hypothesis: true difference in means is not equal to 0\n",
       "95 percent confidence interval:\n",
       " -3.642856  1.017500\n",
       "sample estimates:\n",
       "mean of x mean of y \n",
       " 127.9256  129.2383 \n"
      ]
     },
     "metadata": {},
     "output_type": "display_data"
    }
   ],
   "source": [
    "# T-test:\n",
    "t.test(x = bpx_female, y = bpx_male)"
   ]
  },
  {
   "cell_type": "markdown",
   "id": "8cee5be7",
   "metadata": {},
   "source": [
    "Another important aspect of two-sample mean testing is **\"heteroscedasticity\"**, meaning that the variances within the two groups being compared may be different. While the goal of the test is to compare the means, the variances play an important role in calibrating the statistics (deciding how big the mean difference needs to be to be declared statistically significant). In the NHANES data, we see that there are moderate differences between the amount of variation in BMI for females and for males, looking within 10-year age bands. In every age band, females having greater variation than males."
   ]
  },
  {
   "cell_type": "code",
   "execution_count": 34,
   "id": "ebc89d85",
   "metadata": {},
   "outputs": [
    {
     "name": "stdout",
     "output_type": "stream",
     "text": [
      "\u001b[90m# A tibble: 7 × 3\u001b[39m\n",
      "  agegrp  Female  Male\n",
      "  \u001b[3m\u001b[90m<fct>\u001b[39m\u001b[23m    \u001b[3m\u001b[90m<dbl>\u001b[39m\u001b[23m \u001b[3m\u001b[90m<dbl>\u001b[39m\u001b[23m\n",
      "\u001b[90m1\u001b[39m (18,30]   7.75  6.65\n",
      "\u001b[90m2\u001b[39m (30,40]   8.32  6.62\n",
      "\u001b[90m3\u001b[39m (40,50]   8.08  6.41\n",
      "\u001b[90m4\u001b[39m (50,60]   7.58  5.91\n",
      "\u001b[90m5\u001b[39m (60,70]   7.60  5.93\n",
      "\u001b[90m6\u001b[39m (70,80]   6.28  4.97\n",
      "\u001b[90m7\u001b[39m \u001b[31mNA\u001b[39m        7.18  7.48\n"
     ]
    }
   ],
   "source": [
    "# Subset the data and drop NA values\n",
    "dx <- na.omit(select(da, BPXSY1, RIDAGEYR, RIAGENDR))\n",
    "\n",
    "# Age grouping\n",
    "da <- mutate(da, agegrp = cut(RIDAGEYR, breaks = c(18, 30, 40, 50, 60, 70, 80)))\n",
    "\n",
    "# Calculate standard deviation by age group and gender\n",
    "result <- da %>%\n",
    "  group_by(agegrp, RIAGENDR) %>%\n",
    "  summarise(std_BMXBMI = sd(BMXBMI, na.rm =  TRUE), .groups = \"drop\") %>%\n",
    "  pivot_wider(names_from = RIAGENDR, values_from = std_BMXBMI)\n",
    "\n",
    "# Print the result\n",
    "print(result)"
   ]
  },
  {
   "cell_type": "markdown",
   "id": "a73fb8b8",
   "metadata": {},
   "source": [
    "The standard error of the mean difference (e.g. mean female blood pressure minus mean male blood pressure) can be estimated in at least two different ways. In the statsmodels library, these approaches are referred to as the **\"pooled\"** and the **\"unequal\" approach to estimating the variance**. If the variances are equal (i.e. there is no heteroscedasticity), then there should be little difference between the two approaches. Even in the presence of moderate heteroscedasticity, as we have here, we can see that the results for the two methods are quite similar. Below we have a loop that considers each 10-year age band and assesses the evidence for a difference in mean BMI for women and for men. The results printed in each row of output are the test-statistic and p-value."
   ]
  },
  {
   "cell_type": "code",
   "execution_count": 40,
   "id": "b61b2b39",
   "metadata": {},
   "outputs": [
    {
     "name": "stdout",
     "output_type": "stream",
     "text": [
      "1 \n",
      "pooled: t = 1.702693 , p = 0.08889832 \n",
      "unequal: t = 1.717461 , p = 0.08616718 \n",
      "\n",
      "2 \n",
      "pooled: t = 1.437828 , p = 0.1508233 \n",
      "unequal: t = 1.443787 , p = 0.1491517 \n",
      "\n",
      "3 \n",
      "pooled: t = 2.893376 , p = 0.003903827 \n",
      "unequal: t = 2.967869 , p = 0.003078687 \n",
      "\n",
      "4 \n",
      "pooled: t = 3.362109 , p = 0.0008055543 \n",
      "unequal: t = 3.375494 , p = 0.0007692272 \n",
      "\n",
      "5 \n",
      "pooled: t = 3.61724 , p = 0.000315093 \n",
      "unequal: t = 3.628483 , p = 0.0003027012 \n",
      "\n",
      "6 \n",
      "pooled: t = 2.926729 , p = 0.003523629 \n",
      "unequal: t = 2.93778 , p = 0.003405544 \n",
      "\n",
      "NA \n",
      "pooled: t = 0.04742079 , p = 0.9622512 \n",
      "unequal: t = 0.04734629 , p = 0.9623115 \n",
      "\n"
     ]
    },
    {
     "ename": "ERROR",
     "evalue": "\u001b[1m\u001b[33mError\u001b[39m in `do()`:\u001b[22m\n\u001b[1m\u001b[22m\u001b[33m!\u001b[39m Results 1, 2, 3, 4, 5, ... must be data frames, not NULL.\n",
     "output_type": "error",
     "traceback": [
      "\u001b[1m\u001b[33mError\u001b[39m in `do()`:\u001b[22m\n\u001b[1m\u001b[22m\u001b[33m!\u001b[39m Results 1, 2, 3, 4, 5, ... must be data frames, not NULL.\nTraceback:\n",
      "1. da %>% group_by(agegrp) %>% do(perform_ztest(., group_var = unique(.$agegrp)))",
      "2. do(., perform_ztest(., group_var = unique(.$agegrp)))",
      "3. do.grouped_df(., perform_ztest(., group_var = unique(.$agegrp)))",
      "4. label_output_dataframe(labels, out, group_vars(.data), group_by_drop_default(.data))",
      "5. abort(msg, call = error_call)",
      "6. signal_abort(cnd, .file)"
     ]
    }
   ],
   "source": [
    "# Function to perform Z-test for two independent samples\n",
    "perform_ztest <- function(sub_data, group_var) {\n",
    "  bmi_female <- subset(sub_data, RIAGENDR == \"Female\")$BMXBMI\n",
    "  bmi_male <- subset(sub_data, RIAGENDR == \"Male\")$BMXBMI\n",
    "  \n",
    " # Drop NA values\n",
    "  bmi_female <- bmi_female[complete.cases(bmi_female)]\n",
    "  bmi_male <- bmi_male[complete.cases(bmi_male)]\n",
    "  \n",
    "  # Perform Z-test\n",
    "  result_pooled <- t.test(bmi_female, bmi_male, var.equal = TRUE)\n",
    "  result_unequal <- t.test(bmi_female, bmi_male, var.equal = FALSE)\n",
    "  \n",
    "  # Print results\n",
    "  cat(group_var, \"\\n\")\n",
    "  cat(\"pooled: t =\", result_pooled$statistic, \", p =\", result_pooled$p.value, \"\\n\")\n",
    "  cat(\"unequal: t =\", result_unequal$statistic, \", p =\", result_unequal$p.value, \"\\n\\n\")\n",
    "}\n",
    "\n",
    "\n",
    "\n",
    "# Age grouping\n",
    "da <- mutate(da, agegrp = cut(RIDAGEYR, breaks = c(18, 30, 40, 50, 60, 70, 80)))\n",
    "\n",
    "# Perform Z-tests for each age group\n",
    "da %>%\n",
    "  group_by(agegrp) %>%\n",
    "  do(perform_ztest(., group_var = unique(.$agegrp)))"
   ]
  }
 ],
 "metadata": {
  "kernelspec": {
   "display_name": "R",
   "language": "R",
   "name": "ir"
  },
  "language_info": {
   "codemirror_mode": "r",
   "file_extension": ".r",
   "mimetype": "text/x-r-source",
   "name": "R",
   "pygments_lexer": "r",
   "version": "4.2.3"
  }
 },
 "nbformat": 4,
 "nbformat_minor": 5
}
