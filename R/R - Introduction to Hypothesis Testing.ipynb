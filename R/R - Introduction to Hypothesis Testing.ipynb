{
 "cells": [
  {
   "cell_type": "code",
   "execution_count": 1,
   "id": "c97e24b2",
   "metadata": {
    "scrolled": true
   },
   "outputs": [
    {
     "name": "stderr",
     "output_type": "stream",
     "text": [
      "── \u001b[1mAttaching core tidyverse packages\u001b[22m ──────────────────────────────────────────────────────────────── tidyverse 2.0.0 ──\n",
      "\u001b[32m✔\u001b[39m \u001b[34mdplyr    \u001b[39m 1.1.1     \u001b[32m✔\u001b[39m \u001b[34mreadr    \u001b[39m 2.1.4\n",
      "\u001b[32m✔\u001b[39m \u001b[34mforcats  \u001b[39m 1.0.0     \u001b[32m✔\u001b[39m \u001b[34mstringr  \u001b[39m 1.5.0\n",
      "\u001b[32m✔\u001b[39m \u001b[34mggplot2  \u001b[39m 3.4.4     \u001b[32m✔\u001b[39m \u001b[34mtibble   \u001b[39m 3.2.1\n",
      "\u001b[32m✔\u001b[39m \u001b[34mlubridate\u001b[39m 1.9.2     \u001b[32m✔\u001b[39m \u001b[34mtidyr    \u001b[39m 1.3.0\n",
      "\u001b[32m✔\u001b[39m \u001b[34mpurrr    \u001b[39m 1.0.1     \n",
      "── \u001b[1mConflicts\u001b[22m ────────────────────────────────────────────────────────────────────────────────── tidyverse_conflicts() ──\n",
      "\u001b[31m✖\u001b[39m \u001b[34mdplyr\u001b[39m::\u001b[32mfilter()\u001b[39m masks \u001b[34mstats\u001b[39m::filter()\n",
      "\u001b[31m✖\u001b[39m \u001b[34mdplyr\u001b[39m::\u001b[32mlag()\u001b[39m    masks \u001b[34mstats\u001b[39m::lag()\n",
      "\u001b[36mℹ\u001b[39m Use the conflicted package (\u001b[3m\u001b[34m<http://conflicted.r-lib.org/>\u001b[39m\u001b[23m) to force all conflicts to become errors\n"
     ]
    }
   ],
   "source": [
    "library(tidyverse)"
   ]
  },
  {
   "cell_type": "markdown",
   "id": "67e17166",
   "metadata": {},
   "source": [
    "# One Population Proportion"
   ]
  },
  {
   "cell_type": "code",
   "execution_count": 35,
   "id": "bab1aaf2",
   "metadata": {},
   "outputs": [],
   "source": [
    "# Number of parents:\n",
    "n <- 1018\n",
    "\n",
    "#NULL hypothesis:\n",
    "pnull <- 0.52\n",
    "\n",
    "#Alternative hypothesis:\n",
    "phat <- 0.56\n",
    "\n",
    "# Number of successes:\n",
    "x <- round(0.56 * n)\n",
    "\n",
    "# Z test for proportions\n",
    "result <- prop.test(x= x, n = n, p = pnull, alternative = \"greater\", correct = FALSE)"
   ]
  },
  {
   "cell_type": "code",
   "execution_count": 36,
   "id": "7a8a644f",
   "metadata": {
    "scrolled": true
   },
   "outputs": [],
   "source": [
    "test_stat  <- result$statistic"
   ]
  },
  {
   "cell_type": "code",
   "execution_count": 37,
   "id": "83376cb7",
   "metadata": {},
   "outputs": [],
   "source": [
    "pvalue <- result$p.value"
   ]
  },
  {
   "cell_type": "code",
   "execution_count": 38,
   "id": "b180dee2",
   "metadata": {},
   "outputs": [
    {
     "name": "stdout",
     "output_type": "stream",
     "text": [
      "The test-statistic =  6.500025  and the p-value =  0.005393648"
     ]
    }
   ],
   "source": [
    "cat(\"The test-statistic = \", test_stat, \" and the p-value = \", pvalue)"
   ]
  },
  {
   "cell_type": "markdown",
   "id": "656839bc",
   "metadata": {},
   "source": [
    "# DIfference in Population Proportions"
   ]
  },
  {
   "cell_type": "code",
   "execution_count": 39,
   "id": "2d500c47",
   "metadata": {},
   "outputs": [
    {
     "name": "stdout",
     "output_type": "stream",
     "text": [
      "The test-statistic =  -0.4823695  and the p-value =  0.6295435"
     ]
    }
   ],
   "source": [
    "# Sample sizes\n",
    "n1 <- 247\n",
    "n2 <- 308\n",
    "\n",
    "# Parents reporting that their parents had some swimming lessons\n",
    "y1 <- 91\n",
    "y2 <- 120\n",
    "\n",
    "# Estimates of the population proportions\n",
    "phat1 <- round(y1 / n1, 2)\n",
    "phat2 <- round(y2 / n2, 2)\n",
    "\n",
    "# Estimate of the combined population proportion\n",
    "phat <- (y1+y2) / (n1+n2)\n",
    "\n",
    "#Estimate of the variance of the combined population proportion\n",
    "va <- phat * (1-phat)\n",
    "\n",
    "#Estimate of the standard error of the combined population proportion\n",
    "se <- sqrt(va*(1/n1 + 1/n2))\n",
    "\n",
    "#Test statistic and the p-value\n",
    "test_stat <- (phat1-phat2) / se\n",
    "pvalue <- 2* pnorm(test_stat)\n",
    "\n",
    "cat(\"The test-statistic = \", test_stat, \" and the p-value = \", pvalue)"
   ]
  },
  {
   "cell_type": "markdown",
   "id": "f3ef241f",
   "metadata": {},
   "source": [
    "# One Population Mean"
   ]
  },
  {
   "cell_type": "code",
   "execution_count": 41,
   "id": "8fb7e7ca",
   "metadata": {},
   "outputs": [
    {
     "data": {
      "text/html": [
       "<table class=\"dataframe\">\n",
       "<caption>A data.frame: 5 × 12</caption>\n",
       "<thead>\n",
       "\t<tr><th></th><th scope=col>ID</th><th scope=col>Age</th><th scope=col>Gender</th><th scope=col>GenderGroup</th><th scope=col>Glasses</th><th scope=col>GlassesGroup</th><th scope=col>Height</th><th scope=col>Wingspan</th><th scope=col>CWDistance</th><th scope=col>Complete</th><th scope=col>CompleteGroup</th><th scope=col>Score</th></tr>\n",
       "\t<tr><th></th><th scope=col>&lt;int&gt;</th><th scope=col>&lt;int&gt;</th><th scope=col>&lt;chr&gt;</th><th scope=col>&lt;int&gt;</th><th scope=col>&lt;chr&gt;</th><th scope=col>&lt;int&gt;</th><th scope=col>&lt;dbl&gt;</th><th scope=col>&lt;dbl&gt;</th><th scope=col>&lt;int&gt;</th><th scope=col>&lt;chr&gt;</th><th scope=col>&lt;int&gt;</th><th scope=col>&lt;int&gt;</th></tr>\n",
       "</thead>\n",
       "<tbody>\n",
       "\t<tr><th scope=row>1</th><td>1</td><td>56</td><td>F</td><td>1</td><td>Y</td><td>1</td><td>62</td><td>61</td><td>79</td><td>Y</td><td>1</td><td> 7</td></tr>\n",
       "\t<tr><th scope=row>2</th><td>2</td><td>26</td><td>F</td><td>1</td><td>Y</td><td>1</td><td>62</td><td>60</td><td>70</td><td>Y</td><td>1</td><td> 8</td></tr>\n",
       "\t<tr><th scope=row>3</th><td>3</td><td>33</td><td>F</td><td>1</td><td>Y</td><td>1</td><td>66</td><td>64</td><td>85</td><td>Y</td><td>1</td><td> 7</td></tr>\n",
       "\t<tr><th scope=row>4</th><td>4</td><td>39</td><td>F</td><td>1</td><td>N</td><td>0</td><td>64</td><td>63</td><td>87</td><td>Y</td><td>1</td><td>10</td></tr>\n",
       "\t<tr><th scope=row>5</th><td>5</td><td>27</td><td>M</td><td>2</td><td>N</td><td>0</td><td>73</td><td>75</td><td>72</td><td>N</td><td>0</td><td> 4</td></tr>\n",
       "</tbody>\n",
       "</table>\n"
      ],
      "text/latex": [
       "A data.frame: 5 × 12\n",
       "\\begin{tabular}{r|llllllllllll}\n",
       "  & ID & Age & Gender & GenderGroup & Glasses & GlassesGroup & Height & Wingspan & CWDistance & Complete & CompleteGroup & Score\\\\\n",
       "  & <int> & <int> & <chr> & <int> & <chr> & <int> & <dbl> & <dbl> & <int> & <chr> & <int> & <int>\\\\\n",
       "\\hline\n",
       "\t1 & 1 & 56 & F & 1 & Y & 1 & 62 & 61 & 79 & Y & 1 &  7\\\\\n",
       "\t2 & 2 & 26 & F & 1 & Y & 1 & 62 & 60 & 70 & Y & 1 &  8\\\\\n",
       "\t3 & 3 & 33 & F & 1 & Y & 1 & 66 & 64 & 85 & Y & 1 &  7\\\\\n",
       "\t4 & 4 & 39 & F & 1 & N & 0 & 64 & 63 & 87 & Y & 1 & 10\\\\\n",
       "\t5 & 5 & 27 & M & 2 & N & 0 & 73 & 75 & 72 & N & 0 &  4\\\\\n",
       "\\end{tabular}\n"
      ],
      "text/markdown": [
       "\n",
       "A data.frame: 5 × 12\n",
       "\n",
       "| <!--/--> | ID &lt;int&gt; | Age &lt;int&gt; | Gender &lt;chr&gt; | GenderGroup &lt;int&gt; | Glasses &lt;chr&gt; | GlassesGroup &lt;int&gt; | Height &lt;dbl&gt; | Wingspan &lt;dbl&gt; | CWDistance &lt;int&gt; | Complete &lt;chr&gt; | CompleteGroup &lt;int&gt; | Score &lt;int&gt; |\n",
       "|---|---|---|---|---|---|---|---|---|---|---|---|---|\n",
       "| 1 | 1 | 56 | F | 1 | Y | 1 | 62 | 61 | 79 | Y | 1 |  7 |\n",
       "| 2 | 2 | 26 | F | 1 | Y | 1 | 62 | 60 | 70 | Y | 1 |  8 |\n",
       "| 3 | 3 | 33 | F | 1 | Y | 1 | 66 | 64 | 85 | Y | 1 |  7 |\n",
       "| 4 | 4 | 39 | F | 1 | N | 0 | 64 | 63 | 87 | Y | 1 | 10 |\n",
       "| 5 | 5 | 27 | M | 2 | N | 0 | 73 | 75 | 72 | N | 0 |  4 |\n",
       "\n"
      ],
      "text/plain": [
       "  ID Age Gender GenderGroup Glasses GlassesGroup Height Wingspan CWDistance\n",
       "1 1  56  F      1           Y       1            62     61       79        \n",
       "2 2  26  F      1           Y       1            62     60       70        \n",
       "3 3  33  F      1           Y       1            66     64       85        \n",
       "4 4  39  F      1           N       0            64     63       87        \n",
       "5 5  27  M      2           N       0            73     75       72        \n",
       "  Complete CompleteGroup Score\n",
       "1 Y        1              7   \n",
       "2 Y        1              8   \n",
       "3 Y        1              7   \n",
       "4 Y        1             10   \n",
       "5 N        0              4   "
      ]
     },
     "metadata": {},
     "output_type": "display_data"
    }
   ],
   "source": [
    "df <- read.csv('Cartwheeldata.csv')\n",
    "head(df, 5)"
   ]
  },
  {
   "cell_type": "code",
   "execution_count": 46,
   "id": "332c33bf",
   "metadata": {},
   "outputs": [],
   "source": [
    "# Number of observations :\n",
    "n <- length(df)\n",
    "\n",
    "# Average distance :\n",
    "mean <- mean(df$CWDistance)\n",
    "\n",
    "# Standard deviation :\n",
    "sd <- sd(df$CWDistance)"
   ]
  },
  {
   "cell_type": "code",
   "execution_count": 58,
   "id": "9acec783",
   "metadata": {},
   "outputs": [],
   "source": [
    "# One-sample Z-test (sd known)\n",
    "library(BSDA)\n",
    "result = z.test(df$CWDistance, mu = 80, sigma.x = sd, alternative =\"greater\")"
   ]
  },
  {
   "cell_type": "code",
   "execution_count": 60,
   "id": "daba6028",
   "metadata": {},
   "outputs": [
    {
     "name": "stdout",
     "output_type": "stream",
     "text": [
      "t-stat = 0.8234523 and the p-value = 0.2051254 \n"
     ]
    }
   ],
   "source": [
    "# Extract test-statistic and p-value\n",
    "test_stat <- result$statistic\n",
    "p_value <- result$p.value\n",
    "\n",
    "cat(\"t-stat =\", test_stat, \"and the p-value =\", p_value, \"\\n\")"
   ]
  },
  {
   "cell_type": "markdown",
   "id": "ca342f1f",
   "metadata": {},
   "source": [
    "# Difference in Population Means"
   ]
  },
  {
   "cell_type": "code",
   "execution_count": 61,
   "id": "710f7733",
   "metadata": {},
   "outputs": [
    {
     "data": {
      "text/html": [
       "<table class=\"dataframe\">\n",
       "<caption>A data.frame: 5 × 28</caption>\n",
       "<thead>\n",
       "\t<tr><th></th><th scope=col>SEQN</th><th scope=col>ALQ101</th><th scope=col>ALQ110</th><th scope=col>ALQ130</th><th scope=col>SMQ020</th><th scope=col>RIAGENDR</th><th scope=col>RIDAGEYR</th><th scope=col>RIDRETH1</th><th scope=col>DMDCITZN</th><th scope=col>DMDEDUC2</th><th scope=col>⋯</th><th scope=col>BPXSY2</th><th scope=col>BPXDI2</th><th scope=col>BMXWT</th><th scope=col>BMXHT</th><th scope=col>BMXBMI</th><th scope=col>BMXLEG</th><th scope=col>BMXARML</th><th scope=col>BMXARMC</th><th scope=col>BMXWAIST</th><th scope=col>HIQ210</th></tr>\n",
       "\t<tr><th></th><th scope=col>&lt;int&gt;</th><th scope=col>&lt;dbl&gt;</th><th scope=col>&lt;dbl&gt;</th><th scope=col>&lt;dbl&gt;</th><th scope=col>&lt;int&gt;</th><th scope=col>&lt;int&gt;</th><th scope=col>&lt;int&gt;</th><th scope=col>&lt;int&gt;</th><th scope=col>&lt;dbl&gt;</th><th scope=col>&lt;dbl&gt;</th><th scope=col>⋯</th><th scope=col>&lt;dbl&gt;</th><th scope=col>&lt;dbl&gt;</th><th scope=col>&lt;dbl&gt;</th><th scope=col>&lt;dbl&gt;</th><th scope=col>&lt;dbl&gt;</th><th scope=col>&lt;dbl&gt;</th><th scope=col>&lt;dbl&gt;</th><th scope=col>&lt;dbl&gt;</th><th scope=col>&lt;dbl&gt;</th><th scope=col>&lt;dbl&gt;</th></tr>\n",
       "</thead>\n",
       "<tbody>\n",
       "\t<tr><th scope=row>1</th><td>83732</td><td>1</td><td>NA</td><td> 1</td><td>1</td><td>1</td><td>62</td><td>3</td><td>1</td><td>5</td><td>⋯</td><td>124</td><td>64</td><td> 94.8</td><td>184.5</td><td>27.8</td><td>43.3</td><td>43.6</td><td>35.9</td><td>101.1</td><td> 2</td></tr>\n",
       "\t<tr><th scope=row>2</th><td>83733</td><td>1</td><td>NA</td><td> 6</td><td>1</td><td>1</td><td>53</td><td>3</td><td>2</td><td>3</td><td>⋯</td><td>140</td><td>88</td><td> 90.4</td><td>171.4</td><td>30.8</td><td>38.0</td><td>40.0</td><td>33.2</td><td>107.9</td><td>NA</td></tr>\n",
       "\t<tr><th scope=row>3</th><td>83734</td><td>1</td><td>NA</td><td>NA</td><td>1</td><td>1</td><td>78</td><td>3</td><td>1</td><td>3</td><td>⋯</td><td>132</td><td>44</td><td> 83.4</td><td>170.1</td><td>28.8</td><td>35.6</td><td>37.0</td><td>31.0</td><td>116.5</td><td> 2</td></tr>\n",
       "\t<tr><th scope=row>4</th><td>83735</td><td>2</td><td> 1</td><td> 1</td><td>2</td><td>2</td><td>56</td><td>3</td><td>1</td><td>5</td><td>⋯</td><td>134</td><td>68</td><td>109.8</td><td>160.9</td><td>42.4</td><td>38.5</td><td>37.7</td><td>38.3</td><td>110.1</td><td> 2</td></tr>\n",
       "\t<tr><th scope=row>5</th><td>83736</td><td>2</td><td> 1</td><td> 1</td><td>2</td><td>2</td><td>42</td><td>4</td><td>1</td><td>4</td><td>⋯</td><td>114</td><td>54</td><td> 55.2</td><td>164.9</td><td>20.3</td><td>37.4</td><td>36.0</td><td>27.2</td><td> 80.4</td><td> 2</td></tr>\n",
       "</tbody>\n",
       "</table>\n"
      ],
      "text/latex": [
       "A data.frame: 5 × 28\n",
       "\\begin{tabular}{r|lllllllllllllllllllll}\n",
       "  & SEQN & ALQ101 & ALQ110 & ALQ130 & SMQ020 & RIAGENDR & RIDAGEYR & RIDRETH1 & DMDCITZN & DMDEDUC2 & ⋯ & BPXSY2 & BPXDI2 & BMXWT & BMXHT & BMXBMI & BMXLEG & BMXARML & BMXARMC & BMXWAIST & HIQ210\\\\\n",
       "  & <int> & <dbl> & <dbl> & <dbl> & <int> & <int> & <int> & <int> & <dbl> & <dbl> & ⋯ & <dbl> & <dbl> & <dbl> & <dbl> & <dbl> & <dbl> & <dbl> & <dbl> & <dbl> & <dbl>\\\\\n",
       "\\hline\n",
       "\t1 & 83732 & 1 & NA &  1 & 1 & 1 & 62 & 3 & 1 & 5 & ⋯ & 124 & 64 &  94.8 & 184.5 & 27.8 & 43.3 & 43.6 & 35.9 & 101.1 &  2\\\\\n",
       "\t2 & 83733 & 1 & NA &  6 & 1 & 1 & 53 & 3 & 2 & 3 & ⋯ & 140 & 88 &  90.4 & 171.4 & 30.8 & 38.0 & 40.0 & 33.2 & 107.9 & NA\\\\\n",
       "\t3 & 83734 & 1 & NA & NA & 1 & 1 & 78 & 3 & 1 & 3 & ⋯ & 132 & 44 &  83.4 & 170.1 & 28.8 & 35.6 & 37.0 & 31.0 & 116.5 &  2\\\\\n",
       "\t4 & 83735 & 2 &  1 &  1 & 2 & 2 & 56 & 3 & 1 & 5 & ⋯ & 134 & 68 & 109.8 & 160.9 & 42.4 & 38.5 & 37.7 & 38.3 & 110.1 &  2\\\\\n",
       "\t5 & 83736 & 2 &  1 &  1 & 2 & 2 & 42 & 4 & 1 & 4 & ⋯ & 114 & 54 &  55.2 & 164.9 & 20.3 & 37.4 & 36.0 & 27.2 &  80.4 &  2\\\\\n",
       "\\end{tabular}\n"
      ],
      "text/markdown": [
       "\n",
       "A data.frame: 5 × 28\n",
       "\n",
       "| <!--/--> | SEQN &lt;int&gt; | ALQ101 &lt;dbl&gt; | ALQ110 &lt;dbl&gt; | ALQ130 &lt;dbl&gt; | SMQ020 &lt;int&gt; | RIAGENDR &lt;int&gt; | RIDAGEYR &lt;int&gt; | RIDRETH1 &lt;int&gt; | DMDCITZN &lt;dbl&gt; | DMDEDUC2 &lt;dbl&gt; | ⋯ ⋯ | BPXSY2 &lt;dbl&gt; | BPXDI2 &lt;dbl&gt; | BMXWT &lt;dbl&gt; | BMXHT &lt;dbl&gt; | BMXBMI &lt;dbl&gt; | BMXLEG &lt;dbl&gt; | BMXARML &lt;dbl&gt; | BMXARMC &lt;dbl&gt; | BMXWAIST &lt;dbl&gt; | HIQ210 &lt;dbl&gt; |\n",
       "|---|---|---|---|---|---|---|---|---|---|---|---|---|---|---|---|---|---|---|---|---|---|\n",
       "| 1 | 83732 | 1 | NA |  1 | 1 | 1 | 62 | 3 | 1 | 5 | ⋯ | 124 | 64 |  94.8 | 184.5 | 27.8 | 43.3 | 43.6 | 35.9 | 101.1 |  2 |\n",
       "| 2 | 83733 | 1 | NA |  6 | 1 | 1 | 53 | 3 | 2 | 3 | ⋯ | 140 | 88 |  90.4 | 171.4 | 30.8 | 38.0 | 40.0 | 33.2 | 107.9 | NA |\n",
       "| 3 | 83734 | 1 | NA | NA | 1 | 1 | 78 | 3 | 1 | 3 | ⋯ | 132 | 44 |  83.4 | 170.1 | 28.8 | 35.6 | 37.0 | 31.0 | 116.5 |  2 |\n",
       "| 4 | 83735 | 2 |  1 |  1 | 2 | 2 | 56 | 3 | 1 | 5 | ⋯ | 134 | 68 | 109.8 | 160.9 | 42.4 | 38.5 | 37.7 | 38.3 | 110.1 |  2 |\n",
       "| 5 | 83736 | 2 |  1 |  1 | 2 | 2 | 42 | 4 | 1 | 4 | ⋯ | 114 | 54 |  55.2 | 164.9 | 20.3 | 37.4 | 36.0 | 27.2 |  80.4 |  2 |\n",
       "\n"
      ],
      "text/plain": [
       "  SEQN  ALQ101 ALQ110 ALQ130 SMQ020 RIAGENDR RIDAGEYR RIDRETH1 DMDCITZN\n",
       "1 83732 1      NA      1     1      1        62       3        1       \n",
       "2 83733 1      NA      6     1      1        53       3        2       \n",
       "3 83734 1      NA     NA     1      1        78       3        1       \n",
       "4 83735 2       1      1     2      2        56       3        1       \n",
       "5 83736 2       1      1     2      2        42       4        1       \n",
       "  DMDEDUC2 ⋯ BPXSY2 BPXDI2 BMXWT BMXHT BMXBMI BMXLEG BMXARML BMXARMC BMXWAIST\n",
       "1 5        ⋯ 124    64      94.8 184.5 27.8   43.3   43.6    35.9    101.1   \n",
       "2 3        ⋯ 140    88      90.4 171.4 30.8   38.0   40.0    33.2    107.9   \n",
       "3 3        ⋯ 132    44      83.4 170.1 28.8   35.6   37.0    31.0    116.5   \n",
       "4 5        ⋯ 134    68     109.8 160.9 42.4   38.5   37.7    38.3    110.1   \n",
       "5 4        ⋯ 114    54      55.2 164.9 20.3   37.4   36.0    27.2     80.4   \n",
       "  HIQ210\n",
       "1  2    \n",
       "2 NA    \n",
       "3  2    \n",
       "4  2    \n",
       "5  2    "
      ]
     },
     "metadata": {},
     "output_type": "display_data"
    }
   ],
   "source": [
    "da <- read.csv('nhanes_2015_2016.csv')\n",
    "head(da, 5)"
   ]
  },
  {
   "cell_type": "code",
   "execution_count": 63,
   "id": "cd8907aa",
   "metadata": {},
   "outputs": [
    {
     "data": {
      "text/html": [
       "<style>\n",
       ".list-inline {list-style: none; margin:0; padding: 0}\n",
       ".list-inline>li {display: inline-block}\n",
       ".list-inline>li:not(:last-child)::after {content: \"\\00b7\"; padding: 0 .5ex}\n",
       "</style>\n",
       "<ol class=list-inline><li>'SEQN'</li><li>'ALQ101'</li><li>'ALQ110'</li><li>'ALQ130'</li><li>'SMQ020'</li><li>'RIAGENDR'</li><li>'RIDAGEYR'</li><li>'RIDRETH1'</li><li>'DMDCITZN'</li><li>'DMDEDUC2'</li><li>'DMDMARTL'</li><li>'DMDHHSIZ'</li><li>'WTINT2YR'</li><li>'SDMVPSU'</li><li>'SDMVSTRA'</li><li>'INDFMPIR'</li><li>'BPXSY1'</li><li>'BPXDI1'</li><li>'BPXSY2'</li><li>'BPXDI2'</li><li>'BMXWT'</li><li>'BMXHT'</li><li>'BMXBMI'</li><li>'BMXLEG'</li><li>'BMXARML'</li><li>'BMXARMC'</li><li>'BMXWAIST'</li><li>'HIQ210'</li></ol>\n"
      ],
      "text/latex": [
       "\\begin{enumerate*}\n",
       "\\item 'SEQN'\n",
       "\\item 'ALQ101'\n",
       "\\item 'ALQ110'\n",
       "\\item 'ALQ130'\n",
       "\\item 'SMQ020'\n",
       "\\item 'RIAGENDR'\n",
       "\\item 'RIDAGEYR'\n",
       "\\item 'RIDRETH1'\n",
       "\\item 'DMDCITZN'\n",
       "\\item 'DMDEDUC2'\n",
       "\\item 'DMDMARTL'\n",
       "\\item 'DMDHHSIZ'\n",
       "\\item 'WTINT2YR'\n",
       "\\item 'SDMVPSU'\n",
       "\\item 'SDMVSTRA'\n",
       "\\item 'INDFMPIR'\n",
       "\\item 'BPXSY1'\n",
       "\\item 'BPXDI1'\n",
       "\\item 'BPXSY2'\n",
       "\\item 'BPXDI2'\n",
       "\\item 'BMXWT'\n",
       "\\item 'BMXHT'\n",
       "\\item 'BMXBMI'\n",
       "\\item 'BMXLEG'\n",
       "\\item 'BMXARML'\n",
       "\\item 'BMXARMC'\n",
       "\\item 'BMXWAIST'\n",
       "\\item 'HIQ210'\n",
       "\\end{enumerate*}\n"
      ],
      "text/markdown": [
       "1. 'SEQN'\n",
       "2. 'ALQ101'\n",
       "3. 'ALQ110'\n",
       "4. 'ALQ130'\n",
       "5. 'SMQ020'\n",
       "6. 'RIAGENDR'\n",
       "7. 'RIDAGEYR'\n",
       "8. 'RIDRETH1'\n",
       "9. 'DMDCITZN'\n",
       "10. 'DMDEDUC2'\n",
       "11. 'DMDMARTL'\n",
       "12. 'DMDHHSIZ'\n",
       "13. 'WTINT2YR'\n",
       "14. 'SDMVPSU'\n",
       "15. 'SDMVSTRA'\n",
       "16. 'INDFMPIR'\n",
       "17. 'BPXSY1'\n",
       "18. 'BPXDI1'\n",
       "19. 'BPXSY2'\n",
       "20. 'BPXDI2'\n",
       "21. 'BMXWT'\n",
       "22. 'BMXHT'\n",
       "23. 'BMXBMI'\n",
       "24. 'BMXLEG'\n",
       "25. 'BMXARML'\n",
       "26. 'BMXARMC'\n",
       "27. 'BMXWAIST'\n",
       "28. 'HIQ210'\n",
       "\n",
       "\n"
      ],
      "text/plain": [
       " [1] \"SEQN\"     \"ALQ101\"   \"ALQ110\"   \"ALQ130\"   \"SMQ020\"   \"RIAGENDR\"\n",
       " [7] \"RIDAGEYR\" \"RIDRETH1\" \"DMDCITZN\" \"DMDEDUC2\" \"DMDMARTL\" \"DMDHHSIZ\"\n",
       "[13] \"WTINT2YR\" \"SDMVPSU\"  \"SDMVSTRA\" \"INDFMPIR\" \"BPXSY1\"   \"BPXDI1\"  \n",
       "[19] \"BPXSY2\"   \"BPXDI2\"   \"BMXWT\"    \"BMXHT\"    \"BMXBMI\"   \"BMXLEG\"  \n",
       "[25] \"BMXARML\"  \"BMXARMC\"  \"BMXWAIST\" \"HIQ210\"  "
      ]
     },
     "metadata": {},
     "output_type": "display_data"
    }
   ],
   "source": [
    "colnames(da)"
   ]
  },
  {
   "cell_type": "code",
   "execution_count": 64,
   "id": "6885da08",
   "metadata": {},
   "outputs": [],
   "source": [
    "# female and male dataframes:\n",
    "females <- da %>%\n",
    "    filter(da$RIAGENDR == 2)\n",
    "\n",
    "male <- da  %>% \n",
    "    filter(da$RIAGENDR == 1)"
   ]
  },
  {
   "cell_type": "code",
   "execution_count": 81,
   "id": "58de104a",
   "metadata": {},
   "outputs": [],
   "source": [
    "# males Vs females :\n",
    "n1 <- length(male)\n",
    "mu1 <- mean(male$BMXBMI, na.rm = TRUE)\n",
    "sd1 <- sd(male$BMXBMI, na.rm =  TRUE)\n",
    "\n",
    "\n",
    "n2 <- length(females)\n",
    "mu2 <- mean(females$BMXBMI, na.rm =  TRUE)\n",
    "sd2 <-sd(females$BMXBMI, na.rm =  TRUE)"
   ]
  },
  {
   "cell_type": "code",
   "execution_count": 85,
   "id": "a7c0af23",
   "metadata": {},
   "outputs": [],
   "source": [
    "# Z-test (sd1 and sd2 are known) :\n",
    "result <- z.test(x = na.omit(females$BMXBMI), y = na.omit(male$BMXBMI), sigma.x = sd1, sigma.y = sd2)"
   ]
  },
  {
   "cell_type": "code",
   "execution_count": 92,
   "id": "f9505d79",
   "metadata": {},
   "outputs": [
    {
     "name": "stdout",
     "output_type": "stream",
     "text": [
      "test_statistic = 6.175603 and p-value = 6.591163e-10"
     ]
    }
   ],
   "source": [
    "# Extract test-statistic and p-value\n",
    "test_stat <- result$statistic\n",
    "pvalue <- result$p.value\n",
    "\n",
    "cat(\"test_statistic =\", test_stat, \"and p-value =\", pvalue)"
   ]
  },
  {
   "cell_type": "code",
   "execution_count": null,
   "id": "80dcd40d",
   "metadata": {},
   "outputs": [],
   "source": []
  }
 ],
 "metadata": {
  "kernelspec": {
   "display_name": "R",
   "language": "R",
   "name": "ir"
  },
  "language_info": {
   "codemirror_mode": "r",
   "file_extension": ".r",
   "mimetype": "text/x-r-source",
   "name": "R",
   "pygments_lexer": "r",
   "version": "4.2.3"
  }
 },
 "nbformat": 4,
 "nbformat_minor": 5
}
