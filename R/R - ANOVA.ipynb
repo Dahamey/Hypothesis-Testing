{
 "cells": [
  {
   "cell_type": "code",
   "execution_count": 1,
   "id": "e194ff68",
   "metadata": {},
   "outputs": [
    {
     "name": "stderr",
     "output_type": "stream",
     "text": [
      "── \u001b[1mAttaching core tidyverse packages\u001b[22m ──────────────────────────────────────────────────────────────── tidyverse 2.0.0 ──\n",
      "\u001b[32m✔\u001b[39m \u001b[34mdplyr    \u001b[39m 1.1.1     \u001b[32m✔\u001b[39m \u001b[34mreadr    \u001b[39m 2.1.4\n",
      "\u001b[32m✔\u001b[39m \u001b[34mforcats  \u001b[39m 1.0.0     \u001b[32m✔\u001b[39m \u001b[34mstringr  \u001b[39m 1.5.0\n",
      "\u001b[32m✔\u001b[39m \u001b[34mggplot2  \u001b[39m 3.4.4     \u001b[32m✔\u001b[39m \u001b[34mtibble   \u001b[39m 3.2.1\n",
      "\u001b[32m✔\u001b[39m \u001b[34mlubridate\u001b[39m 1.9.2     \u001b[32m✔\u001b[39m \u001b[34mtidyr    \u001b[39m 1.3.0\n",
      "\u001b[32m✔\u001b[39m \u001b[34mpurrr    \u001b[39m 1.0.1     \n",
      "── \u001b[1mConflicts\u001b[22m ────────────────────────────────────────────────────────────────────────────────── tidyverse_conflicts() ──\n",
      "\u001b[31m✖\u001b[39m \u001b[34mdplyr\u001b[39m::\u001b[32mfilter()\u001b[39m masks \u001b[34mstats\u001b[39m::filter()\n",
      "\u001b[31m✖\u001b[39m \u001b[34mdplyr\u001b[39m::\u001b[32mlag()\u001b[39m    masks \u001b[34mstats\u001b[39m::lag()\n",
      "\u001b[36mℹ\u001b[39m Use the conflicted package (\u001b[3m\u001b[34m<http://conflicted.r-lib.org/>\u001b[39m\u001b[23m) to force all conflicts to become errors\n"
     ]
    }
   ],
   "source": [
    "library(tidyverse)"
   ]
  },
  {
   "cell_type": "code",
   "execution_count": 4,
   "id": "b625f2d9",
   "metadata": {},
   "outputs": [
    {
     "data": {
      "text/html": [
       "<table class=\"dataframe\">\n",
       "<caption>A tibble: 6 × 10</caption>\n",
       "<thead>\n",
       "\t<tr><th scope=col>carat</th><th scope=col>cut</th><th scope=col>color</th><th scope=col>clarity</th><th scope=col>depth</th><th scope=col>table</th><th scope=col>price</th><th scope=col>x</th><th scope=col>y</th><th scope=col>z</th></tr>\n",
       "\t<tr><th scope=col>&lt;dbl&gt;</th><th scope=col>&lt;ord&gt;</th><th scope=col>&lt;ord&gt;</th><th scope=col>&lt;ord&gt;</th><th scope=col>&lt;dbl&gt;</th><th scope=col>&lt;dbl&gt;</th><th scope=col>&lt;int&gt;</th><th scope=col>&lt;dbl&gt;</th><th scope=col>&lt;dbl&gt;</th><th scope=col>&lt;dbl&gt;</th></tr>\n",
       "</thead>\n",
       "<tbody>\n",
       "\t<tr><td>0.23</td><td>Ideal    </td><td>E</td><td>SI2 </td><td>61.5</td><td>55</td><td>326</td><td>3.95</td><td>3.98</td><td>2.43</td></tr>\n",
       "\t<tr><td>0.21</td><td>Premium  </td><td>E</td><td>SI1 </td><td>59.8</td><td>61</td><td>326</td><td>3.89</td><td>3.84</td><td>2.31</td></tr>\n",
       "\t<tr><td>0.23</td><td>Good     </td><td>E</td><td>VS1 </td><td>56.9</td><td>65</td><td>327</td><td>4.05</td><td>4.07</td><td>2.31</td></tr>\n",
       "\t<tr><td>0.29</td><td>Premium  </td><td>I</td><td>VS2 </td><td>62.4</td><td>58</td><td>334</td><td>4.20</td><td>4.23</td><td>2.63</td></tr>\n",
       "\t<tr><td>0.31</td><td>Good     </td><td>J</td><td>SI2 </td><td>63.3</td><td>58</td><td>335</td><td>4.34</td><td>4.35</td><td>2.75</td></tr>\n",
       "\t<tr><td>0.24</td><td>Very Good</td><td>J</td><td>VVS2</td><td>62.8</td><td>57</td><td>336</td><td>3.94</td><td>3.96</td><td>2.48</td></tr>\n",
       "</tbody>\n",
       "</table>\n"
      ],
      "text/latex": [
       "A tibble: 6 × 10\n",
       "\\begin{tabular}{llllllllll}\n",
       " carat & cut & color & clarity & depth & table & price & x & y & z\\\\\n",
       " <dbl> & <ord> & <ord> & <ord> & <dbl> & <dbl> & <int> & <dbl> & <dbl> & <dbl>\\\\\n",
       "\\hline\n",
       "\t 0.23 & Ideal     & E & SI2  & 61.5 & 55 & 326 & 3.95 & 3.98 & 2.43\\\\\n",
       "\t 0.21 & Premium   & E & SI1  & 59.8 & 61 & 326 & 3.89 & 3.84 & 2.31\\\\\n",
       "\t 0.23 & Good      & E & VS1  & 56.9 & 65 & 327 & 4.05 & 4.07 & 2.31\\\\\n",
       "\t 0.29 & Premium   & I & VS2  & 62.4 & 58 & 334 & 4.20 & 4.23 & 2.63\\\\\n",
       "\t 0.31 & Good      & J & SI2  & 63.3 & 58 & 335 & 4.34 & 4.35 & 2.75\\\\\n",
       "\t 0.24 & Very Good & J & VVS2 & 62.8 & 57 & 336 & 3.94 & 3.96 & 2.48\\\\\n",
       "\\end{tabular}\n"
      ],
      "text/markdown": [
       "\n",
       "A tibble: 6 × 10\n",
       "\n",
       "| carat &lt;dbl&gt; | cut &lt;ord&gt; | color &lt;ord&gt; | clarity &lt;ord&gt; | depth &lt;dbl&gt; | table &lt;dbl&gt; | price &lt;int&gt; | x &lt;dbl&gt; | y &lt;dbl&gt; | z &lt;dbl&gt; |\n",
       "|---|---|---|---|---|---|---|---|---|---|\n",
       "| 0.23 | Ideal     | E | SI2  | 61.5 | 55 | 326 | 3.95 | 3.98 | 2.43 |\n",
       "| 0.21 | Premium   | E | SI1  | 59.8 | 61 | 326 | 3.89 | 3.84 | 2.31 |\n",
       "| 0.23 | Good      | E | VS1  | 56.9 | 65 | 327 | 4.05 | 4.07 | 2.31 |\n",
       "| 0.29 | Premium   | I | VS2  | 62.4 | 58 | 334 | 4.20 | 4.23 | 2.63 |\n",
       "| 0.31 | Good      | J | SI2  | 63.3 | 58 | 335 | 4.34 | 4.35 | 2.75 |\n",
       "| 0.24 | Very Good | J | VVS2 | 62.8 | 57 | 336 | 3.94 | 3.96 | 2.48 |\n",
       "\n"
      ],
      "text/plain": [
       "  carat cut       color clarity depth table price x    y    z   \n",
       "1 0.23  Ideal     E     SI2     61.5  55    326   3.95 3.98 2.43\n",
       "2 0.21  Premium   E     SI1     59.8  61    326   3.89 3.84 2.31\n",
       "3 0.23  Good      E     VS1     56.9  65    327   4.05 4.07 2.31\n",
       "4 0.29  Premium   I     VS2     62.4  58    334   4.20 4.23 2.63\n",
       "5 0.31  Good      J     SI2     63.3  58    335   4.34 4.35 2.75\n",
       "6 0.24  Very Good J     VVS2    62.8  57    336   3.94 3.96 2.48"
      ]
     },
     "metadata": {},
     "output_type": "display_data"
    }
   ],
   "source": [
    "data(diamonds)\n",
    "df <- diamonds\n",
    "\n",
    "head(df)"
   ]
  },
  {
   "cell_type": "code",
   "execution_count": 6,
   "id": "4fa66020",
   "metadata": {},
   "outputs": [
    {
     "data": {
      "text/html": [
       "<style>\n",
       ".list-inline {list-style: none; margin:0; padding: 0}\n",
       ".list-inline>li {display: inline-block}\n",
       ".list-inline>li:not(:last-child)::after {content: \"\\00b7\"; padding: 0 .5ex}\n",
       "</style>\n",
       "<ol class=list-inline><li>'carat'</li><li>'cut'</li><li>'color'</li><li>'clarity'</li><li>'depth'</li><li>'table'</li><li>'price'</li><li>'x'</li><li>'y'</li><li>'z'</li></ol>\n"
      ],
      "text/latex": [
       "\\begin{enumerate*}\n",
       "\\item 'carat'\n",
       "\\item 'cut'\n",
       "\\item 'color'\n",
       "\\item 'clarity'\n",
       "\\item 'depth'\n",
       "\\item 'table'\n",
       "\\item 'price'\n",
       "\\item 'x'\n",
       "\\item 'y'\n",
       "\\item 'z'\n",
       "\\end{enumerate*}\n"
      ],
      "text/markdown": [
       "1. 'carat'\n",
       "2. 'cut'\n",
       "3. 'color'\n",
       "4. 'clarity'\n",
       "5. 'depth'\n",
       "6. 'table'\n",
       "7. 'price'\n",
       "8. 'x'\n",
       "9. 'y'\n",
       "10. 'z'\n",
       "\n",
       "\n"
      ],
      "text/plain": [
       " [1] \"carat\"   \"cut\"     \"color\"   \"clarity\" \"depth\"   \"table\"   \"price\"  \n",
       " [8] \"x\"       \"y\"       \"z\"      "
      ]
     },
     "metadata": {},
     "output_type": "display_data"
    }
   ],
   "source": [
    "colnames(df)"
   ]
  },
  {
   "cell_type": "code",
   "execution_count": 7,
   "id": "60710495",
   "metadata": {},
   "outputs": [
    {
     "data": {
      "text/plain": [
       "     carat               cut        color        clarity          depth      \n",
       " Min.   :0.2000   Fair     : 1610   D: 6775   SI1    :13065   Min.   :43.00  \n",
       " 1st Qu.:0.4000   Good     : 4906   E: 9797   VS2    :12258   1st Qu.:61.00  \n",
       " Median :0.7000   Very Good:12082   F: 9542   SI2    : 9194   Median :61.80  \n",
       " Mean   :0.7979   Premium  :13791   G:11292   VS1    : 8171   Mean   :61.75  \n",
       " 3rd Qu.:1.0400   Ideal    :21551   H: 8304   VVS2   : 5066   3rd Qu.:62.50  \n",
       " Max.   :5.0100                     I: 5422   VVS1   : 3655   Max.   :79.00  \n",
       "                                    J: 2808   (Other): 2531                  \n",
       "     table           price             x                y         \n",
       " Min.   :43.00   Min.   :  326   Min.   : 0.000   Min.   : 0.000  \n",
       " 1st Qu.:56.00   1st Qu.:  950   1st Qu.: 4.710   1st Qu.: 4.720  \n",
       " Median :57.00   Median : 2401   Median : 5.700   Median : 5.710  \n",
       " Mean   :57.46   Mean   : 3933   Mean   : 5.731   Mean   : 5.735  \n",
       " 3rd Qu.:59.00   3rd Qu.: 5324   3rd Qu.: 6.540   3rd Qu.: 6.540  \n",
       " Max.   :95.00   Max.   :18823   Max.   :10.740   Max.   :58.900  \n",
       "                                                                  \n",
       "       z         \n",
       " Min.   : 0.000  \n",
       " 1st Qu.: 2.910  \n",
       " Median : 3.530  \n",
       " Mean   : 3.539  \n",
       " 3rd Qu.: 4.040  \n",
       " Max.   :31.800  \n",
       "                 "
      ]
     },
     "metadata": {},
     "output_type": "display_data"
    }
   ],
   "source": [
    "summary(df)"
   ]
  },
  {
   "cell_type": "code",
   "execution_count": 8,
   "id": "b8bdfe75",
   "metadata": {},
   "outputs": [
    {
     "data": {
      "text/plain": [
       "   Min. 1st Qu.  Median    Mean 3rd Qu.    Max. \n",
       "    326     950    2401    3933    5324   18823 "
      ]
     },
     "metadata": {},
     "output_type": "display_data"
    }
   ],
   "source": [
    "summary(df$price)"
   ]
  },
  {
   "cell_type": "code",
   "execution_count": 9,
   "id": "cfbb9afc",
   "metadata": {},
   "outputs": [
    {
     "data": {
      "text/html": [
       "<table class=\"dataframe\">\n",
       "<caption>A tibble: 6 × 11</caption>\n",
       "<thead>\n",
       "\t<tr><th scope=col>carat</th><th scope=col>cut</th><th scope=col>color</th><th scope=col>clarity</th><th scope=col>depth</th><th scope=col>table</th><th scope=col>price</th><th scope=col>x</th><th scope=col>y</th><th scope=col>z</th><th scope=col>logprice</th></tr>\n",
       "\t<tr><th scope=col>&lt;dbl&gt;</th><th scope=col>&lt;ord&gt;</th><th scope=col>&lt;ord&gt;</th><th scope=col>&lt;ord&gt;</th><th scope=col>&lt;dbl&gt;</th><th scope=col>&lt;dbl&gt;</th><th scope=col>&lt;int&gt;</th><th scope=col>&lt;dbl&gt;</th><th scope=col>&lt;dbl&gt;</th><th scope=col>&lt;dbl&gt;</th><th scope=col>&lt;dbl&gt;</th></tr>\n",
       "</thead>\n",
       "<tbody>\n",
       "\t<tr><td>0.23</td><td>Ideal    </td><td>E</td><td>SI2 </td><td>61.5</td><td>55</td><td>326</td><td>3.95</td><td>3.98</td><td>2.43</td><td>5.786897</td></tr>\n",
       "\t<tr><td>0.21</td><td>Premium  </td><td>E</td><td>SI1 </td><td>59.8</td><td>61</td><td>326</td><td>3.89</td><td>3.84</td><td>2.31</td><td>5.786897</td></tr>\n",
       "\t<tr><td>0.23</td><td>Good     </td><td>E</td><td>VS1 </td><td>56.9</td><td>65</td><td>327</td><td>4.05</td><td>4.07</td><td>2.31</td><td>5.789960</td></tr>\n",
       "\t<tr><td>0.29</td><td>Premium  </td><td>I</td><td>VS2 </td><td>62.4</td><td>58</td><td>334</td><td>4.20</td><td>4.23</td><td>2.63</td><td>5.811141</td></tr>\n",
       "\t<tr><td>0.31</td><td>Good     </td><td>J</td><td>SI2 </td><td>63.3</td><td>58</td><td>335</td><td>4.34</td><td>4.35</td><td>2.75</td><td>5.814131</td></tr>\n",
       "\t<tr><td>0.24</td><td>Very Good</td><td>J</td><td>VVS2</td><td>62.8</td><td>57</td><td>336</td><td>3.94</td><td>3.96</td><td>2.48</td><td>5.817111</td></tr>\n",
       "</tbody>\n",
       "</table>\n"
      ],
      "text/latex": [
       "A tibble: 6 × 11\n",
       "\\begin{tabular}{lllllllllll}\n",
       " carat & cut & color & clarity & depth & table & price & x & y & z & logprice\\\\\n",
       " <dbl> & <ord> & <ord> & <ord> & <dbl> & <dbl> & <int> & <dbl> & <dbl> & <dbl> & <dbl>\\\\\n",
       "\\hline\n",
       "\t 0.23 & Ideal     & E & SI2  & 61.5 & 55 & 326 & 3.95 & 3.98 & 2.43 & 5.786897\\\\\n",
       "\t 0.21 & Premium   & E & SI1  & 59.8 & 61 & 326 & 3.89 & 3.84 & 2.31 & 5.786897\\\\\n",
       "\t 0.23 & Good      & E & VS1  & 56.9 & 65 & 327 & 4.05 & 4.07 & 2.31 & 5.789960\\\\\n",
       "\t 0.29 & Premium   & I & VS2  & 62.4 & 58 & 334 & 4.20 & 4.23 & 2.63 & 5.811141\\\\\n",
       "\t 0.31 & Good      & J & SI2  & 63.3 & 58 & 335 & 4.34 & 4.35 & 2.75 & 5.814131\\\\\n",
       "\t 0.24 & Very Good & J & VVS2 & 62.8 & 57 & 336 & 3.94 & 3.96 & 2.48 & 5.817111\\\\\n",
       "\\end{tabular}\n"
      ],
      "text/markdown": [
       "\n",
       "A tibble: 6 × 11\n",
       "\n",
       "| carat &lt;dbl&gt; | cut &lt;ord&gt; | color &lt;ord&gt; | clarity &lt;ord&gt; | depth &lt;dbl&gt; | table &lt;dbl&gt; | price &lt;int&gt; | x &lt;dbl&gt; | y &lt;dbl&gt; | z &lt;dbl&gt; | logprice &lt;dbl&gt; |\n",
       "|---|---|---|---|---|---|---|---|---|---|---|\n",
       "| 0.23 | Ideal     | E | SI2  | 61.5 | 55 | 326 | 3.95 | 3.98 | 2.43 | 5.786897 |\n",
       "| 0.21 | Premium   | E | SI1  | 59.8 | 61 | 326 | 3.89 | 3.84 | 2.31 | 5.786897 |\n",
       "| 0.23 | Good      | E | VS1  | 56.9 | 65 | 327 | 4.05 | 4.07 | 2.31 | 5.789960 |\n",
       "| 0.29 | Premium   | I | VS2  | 62.4 | 58 | 334 | 4.20 | 4.23 | 2.63 | 5.811141 |\n",
       "| 0.31 | Good      | J | SI2  | 63.3 | 58 | 335 | 4.34 | 4.35 | 2.75 | 5.814131 |\n",
       "| 0.24 | Very Good | J | VVS2 | 62.8 | 57 | 336 | 3.94 | 3.96 | 2.48 | 5.817111 |\n",
       "\n"
      ],
      "text/plain": [
       "  carat cut       color clarity depth table price x    y    z    logprice\n",
       "1 0.23  Ideal     E     SI2     61.5  55    326   3.95 3.98 2.43 5.786897\n",
       "2 0.21  Premium   E     SI1     59.8  61    326   3.89 3.84 2.31 5.786897\n",
       "3 0.23  Good      E     VS1     56.9  65    327   4.05 4.07 2.31 5.789960\n",
       "4 0.29  Premium   I     VS2     62.4  58    334   4.20 4.23 2.63 5.811141\n",
       "5 0.31  Good      J     SI2     63.3  58    335   4.34 4.35 2.75 5.814131\n",
       "6 0.24  Very Good J     VVS2    62.8  57    336   3.94 3.96 2.48 5.817111"
      ]
     },
     "metadata": {},
     "output_type": "display_data"
    }
   ],
   "source": [
    "#Log(price):\n",
    "df <- df  %>% \n",
    "    mutate(logprice = log(price))\n",
    "\n",
    "head(df)"
   ]
  },
  {
   "cell_type": "code",
   "execution_count": 10,
   "id": "26a3cb55",
   "metadata": {},
   "outputs": [],
   "source": [
    "df <- df[c(\"color\", \"price\", \"logprice\")]"
   ]
  },
  {
   "cell_type": "code",
   "execution_count": 13,
   "id": "f35b6ecf",
   "metadata": {},
   "outputs": [
    {
     "data": {
      "text/html": [
       "0"
      ],
      "text/latex": [
       "0"
      ],
      "text/markdown": [
       "0"
      ],
      "text/plain": [
       "[1] 0"
      ]
     },
     "metadata": {},
     "output_type": "display_data"
    }
   ],
   "source": [
    "sum(is.na(df))"
   ]
  },
  {
   "cell_type": "code",
   "execution_count": 28,
   "id": "1cf3f5d9",
   "metadata": {},
   "outputs": [
    {
     "data": {
      "image/png": "[encoded data removed]",
      "text/plain": [
       "plot without title"
      ]
     },
     "metadata": {
      "image/png": {
       "height": 420,
       "width": 420
      }
     },
     "output_type": "display_data"
    }
   ],
   "source": [
    "ggplot(df, aes(y=logprice,x= color,fill=color))+ \n",
    "geom_boxplot(varwidth=T)  +\n",
    "labs(x=\"Colors\",\n",
    "         y=\"Logprice\", \n",
    "       title=\"Distribution of Diamond Logprices\")+  \n",
    "theme_bw()+\n",
    "theme(plot.title = element_text(size=22)\n",
    "      ,axis.text.x= element_text(size=15),\n",
    "       axis.text.y= element_text(size=15),\n",
    "        axis.title=element_text(size=18))"
   ]
  },
  {
   "cell_type": "markdown",
   "id": "ad69bb6b",
   "metadata": {},
   "source": [
    "There seems to be some variation in the log of the price, but it's not clear if there is a difference based on color grade. So let's test it out using a **one-way ANOVA**."
   ]
  },
  {
   "cell_type": "markdown",
   "id": "739e2a66",
   "metadata": {},
   "source": [
    "# 1) One-Way ANOVA"
   ]
  },
  {
   "cell_type": "code",
   "execution_count": 32,
   "id": "65a59bc6",
   "metadata": {},
   "outputs": [
    {
     "data": {
      "text/html": [
       "<style>\n",
       ".list-inline {list-style: none; margin:0; padding: 0}\n",
       ".list-inline>li {display: inline-block}\n",
       ".list-inline>li:not(:last-child)::after {content: \"\\00b7\"; padding: 0 .5ex}\n",
       "</style>\n",
       "<ol class=list-inline><li>E</li><li>I</li><li>J</li><li>H</li><li>F</li><li>G</li><li>D</li></ol>\n",
       "\n",
       "<details>\n",
       "\t<summary style=display:list-item;cursor:pointer>\n",
       "\t\t<strong>Levels</strong>:\n",
       "\t</summary>\n",
       "\t<style>\n",
       "\t.list-inline {list-style: none; margin:0; padding: 0}\n",
       "\t.list-inline>li {display: inline-block}\n",
       "\t.list-inline>li:not(:last-child)::after {content: \"\\00b7\"; padding: 0 .5ex}\n",
       "\t</style>\n",
       "\t<ol class=list-inline><li>'D'</li><li>'E'</li><li>'F'</li><li>'G'</li><li>'H'</li><li>'I'</li><li>'J'</li></ol>\n",
       "</details>"
      ],
      "text/latex": [
       "\\begin{enumerate*}\n",
       "\\item E\n",
       "\\item I\n",
       "\\item J\n",
       "\\item H\n",
       "\\item F\n",
       "\\item G\n",
       "\\item D\n",
       "\\end{enumerate*}\n",
       "\n",
       "\\emph{Levels}: \\begin{enumerate*}\n",
       "\\item 'D'\n",
       "\\item 'E'\n",
       "\\item 'F'\n",
       "\\item 'G'\n",
       "\\item 'H'\n",
       "\\item 'I'\n",
       "\\item 'J'\n",
       "\\end{enumerate*}\n"
      ],
      "text/markdown": [
       "1. E\n",
       "2. I\n",
       "3. J\n",
       "4. H\n",
       "5. F\n",
       "6. G\n",
       "7. D\n",
       "\n",
       "\n",
       "\n",
       "**Levels**: 1. 'D'\n",
       "2. 'E'\n",
       "3. 'F'\n",
       "4. 'G'\n",
       "5. 'H'\n",
       "6. 'I'\n",
       "7. 'J'\n",
       "\n",
       "\n"
      ],
      "text/plain": [
       "[1] E I J H F G D\n",
       "Levels: D < E < F < G < H < I < J"
      ]
     },
     "metadata": {},
     "output_type": "display_data"
    }
   ],
   "source": [
    "unique(df$color)"
   ]
  },
  {
   "cell_type": "code",
   "execution_count": 34,
   "id": "6187bd0b",
   "metadata": {},
   "outputs": [
    {
     "data": {
      "text/html": [
       "<style>\n",
       ".list-inline {list-style: none; margin:0; padding: 0}\n",
       ".list-inline>li {display: inline-block}\n",
       ".list-inline>li:not(:last-child)::after {content: \"\\00b7\"; padding: 0 .5ex}\n",
       "</style>\n",
       "<ol class=list-inline><li>'ordered'</li><li>'factor'</li></ol>\n"
      ],
      "text/latex": [
       "\\begin{enumerate*}\n",
       "\\item 'ordered'\n",
       "\\item 'factor'\n",
       "\\end{enumerate*}\n"
      ],
      "text/markdown": [
       "1. 'ordered'\n",
       "2. 'factor'\n",
       "\n",
       "\n"
      ],
      "text/plain": [
       "[1] \"ordered\" \"factor\" "
      ]
     },
     "metadata": {},
     "output_type": "display_data"
    }
   ],
   "source": [
    "class(df$color)"
   ]
  },
  {
   "cell_type": "markdown",
   "id": "e4cfc885",
   "metadata": {},
   "source": [
    "## Building the model"
   ]
  },
  {
   "cell_type": "code",
   "execution_count": 40,
   "id": "961e4f65",
   "metadata": {},
   "outputs": [
    {
     "data": {
      "text/plain": [
       "\n",
       "Call:\n",
       "lm(formula = logprice ~ as.factor(color), data = df)\n",
       "\n",
       "Residuals:\n",
       "     Min       1Q   Median       3Q      Max \n",
       "-2.33184 -0.87715 -0.00128  0.78131  2.25853 \n",
       "\n",
       "Coefficients:\n",
       "                    Estimate Std. Error  t value Pr(>|t|)    \n",
       "(Intercept)         7.833673   0.004754 1647.806  < 2e-16 ***\n",
       "as.factor(color).L  0.497083   0.014544   34.177  < 2e-16 ***\n",
       "as.factor(color).Q  0.066926   0.013839    4.836 1.33e-06 ***\n",
       "as.factor(color).C -0.028781   0.013029   -2.209 0.027186 *  \n",
       "as.factor(color)^4  0.039521   0.011967    3.303 0.000959 ***\n",
       "as.factor(color)^5 -0.050750   0.011313   -4.486 7.28e-06 ***\n",
       "as.factor(color)^6  0.051659   0.010257    5.036 4.76e-07 ***\n",
       "---\n",
       "Signif. codes:  0 '***' 0.001 '**' 0.01 '*' 0.05 '.' 0.1 ' ' 1\n",
       "\n",
       "Residual standard error: 1.002 on 53933 degrees of freedom\n",
       "Multiple R-squared:  0.02577,\tAdjusted R-squared:  0.02567 \n",
       "F-statistic: 237.8 on 6 and 53933 DF,  p-value: < 2.2e-16\n"
      ]
     },
     "metadata": {},
     "output_type": "display_data"
    }
   ],
   "source": [
    "# Define the formula\n",
    "formula <- logprice ~ as.factor(color)\n",
    "\n",
    "# Create and fit the model\n",
    "model <- lm(logprice ~ as.factor(color), data = df)\n",
    "\n",
    "# Display model summary\n",
    "summary(model)"
   ]
  },
  {
   "cell_type": "code",
   "execution_count": 42,
   "id": "773c960f",
   "metadata": {},
   "outputs": [
    {
     "name": "stderr",
     "output_type": "stream",
     "text": [
      "Loading required package: carData\n",
      "\n",
      "\n",
      "Attaching package: 'car'\n",
      "\n",
      "\n",
      "The following object is masked from 'package:dplyr':\n",
      "\n",
      "    recode\n",
      "\n",
      "\n",
      "The following object is masked from 'package:purrr':\n",
      "\n",
      "    some\n",
      "\n",
      "\n"
     ]
    },
    {
     "name": "stdout",
     "output_type": "stream",
     "text": [
      "Anova Table (Type II tests)\n",
      "\n",
      "Response: logprice\n",
      "                 Sum Sq    Df F value    Pr(>F)    \n",
      "as.factor(color)   1431     6  237.81 < 2.2e-16 ***\n",
      "Residuals         54100 53933                      \n",
      "---\n",
      "Signif. codes:  0 '***' 0.001 '**' 0.01 '*' 0.05 '.' 0.1 ' ' 1\n"
     ]
    }
   ],
   "source": [
    "library(car)\n",
    "anova_result <- Anova(model, type = \"II\")\n",
    "print(anova_result)"
   ]
  },
  {
   "cell_type": "markdown",
   "id": "8025f194",
   "metadata": {},
   "source": [
    "The **p-values** are smaller than 0.05, so the results are statistically significant, and therefore we can reject the Null Hypothesis **$H^0$** which is that the mean price is the same across all the diamond colors.\n",
    "\n",
    "Now that we have significant results from anova test, we can run **Tukey's HSD** post hoc test."
   ]
  },
  {
   "cell_type": "markdown",
   "id": "71d9f8d1",
   "metadata": {},
   "source": [
    "### Anova Post hoc test"
   ]
  },
  {
   "cell_type": "code",
   "execution_count": 44,
   "id": "e82e6a50",
   "metadata": {},
   "outputs": [
    {
     "name": "stdout",
     "output_type": "stream",
     "text": [
      "  Tukey multiple comparisons of means\n",
      "    95% family-wise confidence level\n",
      "\n",
      "Fit: aov(formula = logprice ~ color, data = df)\n",
      "\n",
      "$color\n",
      "           diff         lwr         upr     p adj\n",
      "E-D -0.03750025 -0.08415876 0.009158265 0.2115210\n",
      "F-D  0.14553467  0.09862197 0.192447371 0.0000000\n",
      "G-D  0.17267847  0.12730024 0.218056704 0.0000000\n",
      "H-D  0.30154098  0.25319810 0.349883867 0.0000000\n",
      "I-D  0.40605693  0.35225018 0.459863674 0.0000000\n",
      "J-D  0.52906556  0.46279171 0.595339398 0.0000000\n",
      "F-E  0.18303492  0.14056364 0.225506199 0.0000000\n",
      "G-E  0.21017872  0.16940873 0.250948711 0.0000000\n",
      "H-E  0.33904123  0.29499531 0.383087146 0.0000000\n",
      "I-E  0.44355717  0.39357544 0.493538913 0.0000000\n",
      "J-E  0.56656580  0.50335796 0.629773638 0.0000000\n",
      "G-F  0.02714380 -0.01391685 0.068204450 0.4476501\n",
      "H-F  0.15600631  0.11169121 0.200321404 0.0000000\n",
      "I-F  0.26052226  0.21030315 0.310741365 0.0000000\n",
      "J-F  0.38353088  0.32013518 0.446926587 0.0000000\n",
      "H-G  0.12886251  0.08617515 0.171549860 0.0000000\n",
      "I-G  0.23337845  0.18458971 0.282167197 0.0000000\n",
      "J-G  0.35638708  0.29411833 0.418655836 0.0000000\n",
      "I-H  0.10451595  0.05295829 0.156073605 0.0000000\n",
      "J-H  0.22752457  0.16306336 0.291985791 0.0000000\n",
      "J-I  0.12300863  0.05435457 0.191662686 0.0000027\n",
      "\n"
     ]
    }
   ],
   "source": [
    "# Run one-way ANOVA\n",
    "anova_result <- aov(logprice ~ color, data = df)\n",
    "\n",
    "# Perform Tukey's HSD test\n",
    "tukey_result <- TukeyHSD(anova_result)\n",
    "print(tukey_result)"
   ]
  },
  {
   "cell_type": "markdown",
   "id": "a0b5ca25",
   "metadata": {},
   "source": [
    "# Two-Way ANOVA"
   ]
  },
  {
   "cell_type": "code",
   "execution_count": 48,
   "id": "39ec1c3f",
   "metadata": {},
   "outputs": [
    {
     "data": {
      "text/html": [
       "<table class=\"dataframe\">\n",
       "<caption>A tibble: 6 × 3</caption>\n",
       "<thead>\n",
       "\t<tr><th scope=col>color</th><th scope=col>cut</th><th scope=col>logprice</th></tr>\n",
       "\t<tr><th scope=col>&lt;ord&gt;</th><th scope=col>&lt;ord&gt;</th><th scope=col>&lt;dbl&gt;</th></tr>\n",
       "</thead>\n",
       "<tbody>\n",
       "\t<tr><td>E</td><td>Ideal    </td><td>5.786897</td></tr>\n",
       "\t<tr><td>E</td><td>Premium  </td><td>5.786897</td></tr>\n",
       "\t<tr><td>E</td><td>Good     </td><td>5.789960</td></tr>\n",
       "\t<tr><td>I</td><td>Premium  </td><td>5.811141</td></tr>\n",
       "\t<tr><td>J</td><td>Good     </td><td>5.814131</td></tr>\n",
       "\t<tr><td>J</td><td>Very Good</td><td>5.817111</td></tr>\n",
       "</tbody>\n",
       "</table>\n"
      ],
      "text/latex": [
       "A tibble: 6 × 3\n",
       "\\begin{tabular}{lll}\n",
       " color & cut & logprice\\\\\n",
       " <ord> & <ord> & <dbl>\\\\\n",
       "\\hline\n",
       "\t E & Ideal     & 5.786897\\\\\n",
       "\t E & Premium   & 5.786897\\\\\n",
       "\t E & Good      & 5.789960\\\\\n",
       "\t I & Premium   & 5.811141\\\\\n",
       "\t J & Good      & 5.814131\\\\\n",
       "\t J & Very Good & 5.817111\\\\\n",
       "\\end{tabular}\n"
      ],
      "text/markdown": [
       "\n",
       "A tibble: 6 × 3\n",
       "\n",
       "| color &lt;ord&gt; | cut &lt;ord&gt; | logprice &lt;dbl&gt; |\n",
       "|---|---|---|\n",
       "| E | Ideal     | 5.786897 |\n",
       "| E | Premium   | 5.786897 |\n",
       "| E | Good      | 5.789960 |\n",
       "| I | Premium   | 5.811141 |\n",
       "| J | Good      | 5.814131 |\n",
       "| J | Very Good | 5.817111 |\n",
       "\n"
      ],
      "text/plain": [
       "  color cut       logprice\n",
       "1 E     Ideal     5.786897\n",
       "2 E     Premium   5.786897\n",
       "3 E     Good      5.789960\n",
       "4 I     Premium   5.811141\n",
       "5 J     Good      5.814131\n",
       "6 J     Very Good 5.817111"
      ]
     },
     "metadata": {},
     "output_type": "display_data"
    }
   ],
   "source": [
    "diamonds$logprice <- log(diamonds$price)\n",
    "df <- na.omit(diamonds[c(\"color\", \"cut\", \"logprice\")])\n",
    "head(df)"
   ]
  },
  {
   "cell_type": "code",
   "execution_count": 49,
   "id": "a2513e18",
   "metadata": {},
   "outputs": [
    {
     "data": {
      "text/html": [
       "<style>\n",
       ".list-inline {list-style: none; margin:0; padding: 0}\n",
       ".list-inline>li {display: inline-block}\n",
       ".list-inline>li:not(:last-child)::after {content: \"\\00b7\"; padding: 0 .5ex}\n",
       "</style>\n",
       "<ol class=list-inline><li>Ideal</li><li>Premium</li><li>Good</li><li>Very Good</li><li>Fair</li></ol>\n",
       "\n",
       "<details>\n",
       "\t<summary style=display:list-item;cursor:pointer>\n",
       "\t\t<strong>Levels</strong>:\n",
       "\t</summary>\n",
       "\t<style>\n",
       "\t.list-inline {list-style: none; margin:0; padding: 0}\n",
       "\t.list-inline>li {display: inline-block}\n",
       "\t.list-inline>li:not(:last-child)::after {content: \"\\00b7\"; padding: 0 .5ex}\n",
       "\t</style>\n",
       "\t<ol class=list-inline><li>'Fair'</li><li>'Good'</li><li>'Very Good'</li><li>'Premium'</li><li>'Ideal'</li></ol>\n",
       "</details>"
      ],
      "text/latex": [
       "\\begin{enumerate*}\n",
       "\\item Ideal\n",
       "\\item Premium\n",
       "\\item Good\n",
       "\\item Very Good\n",
       "\\item Fair\n",
       "\\end{enumerate*}\n",
       "\n",
       "\\emph{Levels}: \\begin{enumerate*}\n",
       "\\item 'Fair'\n",
       "\\item 'Good'\n",
       "\\item 'Very Good'\n",
       "\\item 'Premium'\n",
       "\\item 'Ideal'\n",
       "\\end{enumerate*}\n"
      ],
      "text/markdown": [
       "1. Ideal\n",
       "2. Premium\n",
       "3. Good\n",
       "4. Very Good\n",
       "5. Fair\n",
       "\n",
       "\n",
       "\n",
       "**Levels**: 1. 'Fair'\n",
       "2. 'Good'\n",
       "3. 'Very Good'\n",
       "4. 'Premium'\n",
       "5. 'Ideal'\n",
       "\n",
       "\n"
      ],
      "text/plain": [
       "[1] Ideal     Premium   Good      Very Good Fair     \n",
       "Levels: Fair < Good < Very Good < Premium < Ideal"
      ]
     },
     "metadata": {},
     "output_type": "display_data"
    }
   ],
   "source": [
    "unique(df$cut)"
   ]
  },
  {
   "cell_type": "code",
   "execution_count": 50,
   "id": "d31184e1",
   "metadata": {
    "scrolled": true
   },
   "outputs": [
    {
     "data": {
      "text/html": [
       "<style>\n",
       ".list-inline {list-style: none; margin:0; padding: 0}\n",
       ".list-inline>li {display: inline-block}\n",
       ".list-inline>li:not(:last-child)::after {content: \"\\00b7\"; padding: 0 .5ex}\n",
       "</style>\n",
       "<ol class=list-inline><li>'ordered'</li><li>'factor'</li></ol>\n"
      ],
      "text/latex": [
       "\\begin{enumerate*}\n",
       "\\item 'ordered'\n",
       "\\item 'factor'\n",
       "\\end{enumerate*}\n"
      ],
      "text/markdown": [
       "1. 'ordered'\n",
       "2. 'factor'\n",
       "\n",
       "\n"
      ],
      "text/plain": [
       "[1] \"ordered\" \"factor\" "
      ]
     },
     "metadata": {},
     "output_type": "display_data"
    }
   ],
   "source": [
    "class(df$cut)"
   ]
  },
  {
   "cell_type": "markdown",
   "id": "4542c001",
   "metadata": {},
   "source": [
    "## Build the Model"
   ]
  },
  {
   "cell_type": "code",
   "execution_count": 56,
   "id": "e1c09237",
   "metadata": {},
   "outputs": [
    {
     "data": {
      "text/plain": [
       "\n",
       "Call:\n",
       "lm(formula = formula, data = df)\n",
       "\n",
       "Residuals:\n",
       "     Min       1Q   Median       3Q      Max \n",
       "-2.38524 -0.84460  0.01333  0.76191  2.39562 \n",
       "\n",
       "Coefficients:\n",
       "                    Estimate Std. Error  t value Pr(>|t|)    \n",
       "(Intercept)         7.904376   0.006629 1192.394  < 2e-16 ***\n",
       "as.factor(cut).L   -0.235830   0.017060  -13.824  < 2e-16 ***\n",
       "as.factor(cut).Q    0.010586   0.015202    0.696  0.48622    \n",
       "as.factor(cut).C   -0.195884   0.013235  -14.800  < 2e-16 ***\n",
       "as.factor(cut)^4   -0.073589   0.010664   -6.901 5.23e-12 ***\n",
       "as.factor(color).L  0.476286   0.014440   32.984  < 2e-16 ***\n",
       "as.factor(color).Q  0.059368   0.013730    4.324 1.54e-05 ***\n",
       "as.factor(color).C -0.032800   0.012924   -2.538  0.01115 *  \n",
       "as.factor(color)^4  0.038279   0.011869    3.225  0.00126 ** \n",
       "as.factor(color)^5 -0.055887   0.011221   -4.980 6.36e-07 ***\n",
       "as.factor(color)^6  0.043247   0.010177    4.250 2.15e-05 ***\n",
       "---\n",
       "Signif. codes:  0 '***' 0.001 '**' 0.01 '*' 0.05 '.' 0.1 ' ' 1\n",
       "\n",
       "Residual standard error: 0.9932 on 53929 degrees of freedom\n",
       "Multiple R-squared:  0.04202,\tAdjusted R-squared:  0.04184 \n",
       "F-statistic: 236.5 on 10 and 53929 DF,  p-value: < 2.2e-16\n"
      ]
     },
     "metadata": {},
     "output_type": "display_data"
    }
   ],
   "source": [
    "# Define the formula\n",
    "formula <- logprice ~ as.factor(cut) + as.factor(color)\n",
    "\n",
    "# Create and fit the model\n",
    "model <- lm(formula = formula, data = df)\n",
    "\n",
    "# Display model summary\n",
    "summary(model)"
   ]
  },
  {
   "cell_type": "code",
   "execution_count": 58,
   "id": "51cb7bde",
   "metadata": {},
   "outputs": [
    {
     "name": "stdout",
     "output_type": "stream",
     "text": [
      "Anova Table (Type II tests)\n",
      "\n",
      "Response: logprice\n",
      "                 Sum Sq    Df F value    Pr(>F)    \n",
      "as.factor(cut)      902     4  228.58 < 2.2e-16 ***\n",
      "as.factor(color)   1326     6  224.04 < 2.2e-16 ***\n",
      "Residuals         53198 53929                      \n",
      "---\n",
      "Signif. codes:  0 '***' 0.001 '**' 0.01 '*' 0.05 '.' 0.1 ' ' 1\n"
     ]
    }
   ],
   "source": [
    "library(car)\n",
    "anova_result <- Anova(model, type = \"II\")\n",
    "print(anova_result)"
   ]
  },
  {
   "cell_type": "markdown",
   "id": "ec9783f9",
   "metadata": {},
   "source": [
    "Since the **p-value** is small in all 3, we can reject all 3 Null Hypotheses.\n",
    "\n",
    "**TWO-way ANOVA results** :\n",
    "* Logarithm of price is **NOT** the same for different colors\n",
    "* Logarithm of the price is **NOT** the same for different diamond cuts\n",
    "* There is an interaction effect between the color and cut that impacts the price of the diamond"
   ]
  }
 ],
 "metadata": {
  "kernelspec": {
   "display_name": "R",
   "language": "R",
   "name": "ir"
  },
  "language_info": {
   "codemirror_mode": "r",
   "file_extension": ".r",
   "mimetype": "text/x-r-source",
   "name": "R",
   "pygments_lexer": "r",
   "version": "4.2.3"
  }
 },
 "nbformat": 4,
 "nbformat_minor": 5
}
