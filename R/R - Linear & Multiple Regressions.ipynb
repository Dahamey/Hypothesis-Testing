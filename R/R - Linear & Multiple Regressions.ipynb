{
 "cells": [
  {
   "cell_type": "code",
   "execution_count": 1,
   "id": "ced1be84",
   "metadata": {},
   "outputs": [
    {
     "name": "stderr",
     "output_type": "stream",
     "text": [
      "Installing package into 'C:/Users/Badr/AppData/Local/R/win-library/4.2'\n",
      "(as 'lib' is unspecified)\n",
      "\n"
     ]
    },
    {
     "name": "stdout",
     "output_type": "stream",
     "text": [
      "package 'palmerpenguins' successfully unpacked and MD5 sums checked\n",
      "\n",
      "The downloaded binary packages are in\n",
      "\tC:\\Users\\Badr\\AppData\\Local\\Temp\\RtmpMVSvF9\\downloaded_packages\n"
     ]
    }
   ],
   "source": [
    "# Import Penguins dataset\n",
    "\n",
    "install.packages(\"palmerpenguins\")"
   ]
  },
  {
   "cell_type": "code",
   "execution_count": 2,
   "id": "cbcc77dc",
   "metadata": {},
   "outputs": [
    {
     "name": "stderr",
     "output_type": "stream",
     "text": [
      "── \u001b[1mAttaching core tidyverse packages\u001b[22m ──────────────────────────────────────────────────────────────── tidyverse 2.0.0 ──\n",
      "\u001b[32m✔\u001b[39m \u001b[34mdplyr    \u001b[39m 1.1.1     \u001b[32m✔\u001b[39m \u001b[34mreadr    \u001b[39m 2.1.4\n",
      "\u001b[32m✔\u001b[39m \u001b[34mforcats  \u001b[39m 1.0.0     \u001b[32m✔\u001b[39m \u001b[34mstringr  \u001b[39m 1.5.0\n",
      "\u001b[32m✔\u001b[39m \u001b[34mggplot2  \u001b[39m 3.4.4     \u001b[32m✔\u001b[39m \u001b[34mtibble   \u001b[39m 3.2.1\n",
      "\u001b[32m✔\u001b[39m \u001b[34mlubridate\u001b[39m 1.9.2     \u001b[32m✔\u001b[39m \u001b[34mtidyr    \u001b[39m 1.3.0\n",
      "\u001b[32m✔\u001b[39m \u001b[34mpurrr    \u001b[39m 1.0.1     \n",
      "── \u001b[1mConflicts\u001b[22m ────────────────────────────────────────────────────────────────────────────────── tidyverse_conflicts() ──\n",
      "\u001b[31m✖\u001b[39m \u001b[34mdplyr\u001b[39m::\u001b[32mfilter()\u001b[39m masks \u001b[34mstats\u001b[39m::filter()\n",
      "\u001b[31m✖\u001b[39m \u001b[34mdplyr\u001b[39m::\u001b[32mlag()\u001b[39m    masks \u001b[34mstats\u001b[39m::lag()\n",
      "\u001b[36mℹ\u001b[39m Use the conflicted package (\u001b[3m\u001b[34m<http://conflicted.r-lib.org/>\u001b[39m\u001b[23m) to force all conflicts to become errors\n"
     ]
    }
   ],
   "source": [
    "library(tidyverse)\n",
    "\n",
    "library(palmerpenguins)\n",
    "data(package = 'palmerpenguins')\n",
    "df <- penguins %>% \n",
    "        select(-year)\n",
    "\n",
    "df <- na.omit(df)"
   ]
  },
  {
   "cell_type": "code",
   "execution_count": 3,
   "id": "08fab35b",
   "metadata": {},
   "outputs": [
    {
     "data": {
      "text/html": [
       "<table class=\"dataframe\">\n",
       "<caption>A tibble: 6 × 7</caption>\n",
       "<thead>\n",
       "\t<tr><th scope=col>species</th><th scope=col>island</th><th scope=col>bill_length_mm</th><th scope=col>bill_depth_mm</th><th scope=col>flipper_length_mm</th><th scope=col>body_mass_g</th><th scope=col>sex</th></tr>\n",
       "\t<tr><th scope=col>&lt;fct&gt;</th><th scope=col>&lt;fct&gt;</th><th scope=col>&lt;dbl&gt;</th><th scope=col>&lt;dbl&gt;</th><th scope=col>&lt;int&gt;</th><th scope=col>&lt;int&gt;</th><th scope=col>&lt;fct&gt;</th></tr>\n",
       "</thead>\n",
       "<tbody>\n",
       "\t<tr><td>Adelie</td><td>Torgersen</td><td>39.1</td><td>18.7</td><td>181</td><td>3750</td><td>male  </td></tr>\n",
       "\t<tr><td>Adelie</td><td>Torgersen</td><td>39.5</td><td>17.4</td><td>186</td><td>3800</td><td>female</td></tr>\n",
       "\t<tr><td>Adelie</td><td>Torgersen</td><td>40.3</td><td>18.0</td><td>195</td><td>3250</td><td>female</td></tr>\n",
       "\t<tr><td>Adelie</td><td>Torgersen</td><td>36.7</td><td>19.3</td><td>193</td><td>3450</td><td>female</td></tr>\n",
       "\t<tr><td>Adelie</td><td>Torgersen</td><td>39.3</td><td>20.6</td><td>190</td><td>3650</td><td>male  </td></tr>\n",
       "\t<tr><td>Adelie</td><td>Torgersen</td><td>38.9</td><td>17.8</td><td>181</td><td>3625</td><td>female</td></tr>\n",
       "</tbody>\n",
       "</table>\n"
      ],
      "text/latex": [
       "A tibble: 6 × 7\n",
       "\\begin{tabular}{lllllll}\n",
       " species & island & bill\\_length\\_mm & bill\\_depth\\_mm & flipper\\_length\\_mm & body\\_mass\\_g & sex\\\\\n",
       " <fct> & <fct> & <dbl> & <dbl> & <int> & <int> & <fct>\\\\\n",
       "\\hline\n",
       "\t Adelie & Torgersen & 39.1 & 18.7 & 181 & 3750 & male  \\\\\n",
       "\t Adelie & Torgersen & 39.5 & 17.4 & 186 & 3800 & female\\\\\n",
       "\t Adelie & Torgersen & 40.3 & 18.0 & 195 & 3250 & female\\\\\n",
       "\t Adelie & Torgersen & 36.7 & 19.3 & 193 & 3450 & female\\\\\n",
       "\t Adelie & Torgersen & 39.3 & 20.6 & 190 & 3650 & male  \\\\\n",
       "\t Adelie & Torgersen & 38.9 & 17.8 & 181 & 3625 & female\\\\\n",
       "\\end{tabular}\n"
      ],
      "text/markdown": [
       "\n",
       "A tibble: 6 × 7\n",
       "\n",
       "| species &lt;fct&gt; | island &lt;fct&gt; | bill_length_mm &lt;dbl&gt; | bill_depth_mm &lt;dbl&gt; | flipper_length_mm &lt;int&gt; | body_mass_g &lt;int&gt; | sex &lt;fct&gt; |\n",
       "|---|---|---|---|---|---|---|\n",
       "| Adelie | Torgersen | 39.1 | 18.7 | 181 | 3750 | male   |\n",
       "| Adelie | Torgersen | 39.5 | 17.4 | 186 | 3800 | female |\n",
       "| Adelie | Torgersen | 40.3 | 18.0 | 195 | 3250 | female |\n",
       "| Adelie | Torgersen | 36.7 | 19.3 | 193 | 3450 | female |\n",
       "| Adelie | Torgersen | 39.3 | 20.6 | 190 | 3650 | male   |\n",
       "| Adelie | Torgersen | 38.9 | 17.8 | 181 | 3625 | female |\n",
       "\n"
      ],
      "text/plain": [
       "  species island    bill_length_mm bill_depth_mm flipper_length_mm body_mass_g\n",
       "1 Adelie  Torgersen 39.1           18.7          181               3750       \n",
       "2 Adelie  Torgersen 39.5           17.4          186               3800       \n",
       "3 Adelie  Torgersen 40.3           18.0          195               3250       \n",
       "4 Adelie  Torgersen 36.7           19.3          193               3450       \n",
       "5 Adelie  Torgersen 39.3           20.6          190               3650       \n",
       "6 Adelie  Torgersen 38.9           17.8          181               3625       \n",
       "  sex   \n",
       "1 male  \n",
       "2 female\n",
       "3 female\n",
       "4 female\n",
       "5 male  \n",
       "6 female"
      ]
     },
     "metadata": {},
     "output_type": "display_data"
    }
   ],
   "source": [
    "head(df)"
   ]
  },
  {
   "cell_type": "code",
   "execution_count": 4,
   "id": "20ee1168",
   "metadata": {},
   "outputs": [
    {
     "data": {
      "text/html": [
       "<style>\n",
       ".list-inline {list-style: none; margin:0; padding: 0}\n",
       ".list-inline>li {display: inline-block}\n",
       ".list-inline>li:not(:last-child)::after {content: \"\\00b7\"; padding: 0 .5ex}\n",
       "</style>\n",
       "<ol class=list-inline><li>333</li><li>7</li></ol>\n"
      ],
      "text/latex": [
       "\\begin{enumerate*}\n",
       "\\item 333\n",
       "\\item 7\n",
       "\\end{enumerate*}\n"
      ],
      "text/markdown": [
       "1. 333\n",
       "2. 7\n",
       "\n",
       "\n"
      ],
      "text/plain": [
       "[1] 333   7"
      ]
     },
     "metadata": {},
     "output_type": "display_data"
    }
   ],
   "source": [
    "dim(df)"
   ]
  },
  {
   "cell_type": "code",
   "execution_count": 5,
   "id": "b8b87a96",
   "metadata": {},
   "outputs": [
    {
     "data": {
      "text/html": [
       "<style>\n",
       ".list-inline {list-style: none; margin:0; padding: 0}\n",
       ".list-inline>li {display: inline-block}\n",
       ".list-inline>li:not(:last-child)::after {content: \"\\00b7\"; padding: 0 .5ex}\n",
       "</style>\n",
       "<ol class=list-inline><li>'species'</li><li>'island'</li><li>'bill_length_mm'</li><li>'bill_depth_mm'</li><li>'flipper_length_mm'</li><li>'body_mass_g'</li><li>'sex'</li></ol>\n"
      ],
      "text/latex": [
       "\\begin{enumerate*}\n",
       "\\item 'species'\n",
       "\\item 'island'\n",
       "\\item 'bill\\_length\\_mm'\n",
       "\\item 'bill\\_depth\\_mm'\n",
       "\\item 'flipper\\_length\\_mm'\n",
       "\\item 'body\\_mass\\_g'\n",
       "\\item 'sex'\n",
       "\\end{enumerate*}\n"
      ],
      "text/markdown": [
       "1. 'species'\n",
       "2. 'island'\n",
       "3. 'bill_length_mm'\n",
       "4. 'bill_depth_mm'\n",
       "5. 'flipper_length_mm'\n",
       "6. 'body_mass_g'\n",
       "7. 'sex'\n",
       "\n",
       "\n"
      ],
      "text/plain": [
       "[1] \"species\"           \"island\"            \"bill_length_mm\"   \n",
       "[4] \"bill_depth_mm\"     \"flipper_length_mm\" \"body_mass_g\"      \n",
       "[7] \"sex\"              "
      ]
     },
     "metadata": {},
     "output_type": "display_data"
    }
   ],
   "source": [
    "colnames(df)"
   ]
  },
  {
   "cell_type": "code",
   "execution_count": 6,
   "id": "439d7a13",
   "metadata": {
    "scrolled": true
   },
   "outputs": [
    {
     "data": {
      "text/html": [
       "<style>\n",
       ".list-inline {list-style: none; margin:0; padding: 0}\n",
       ".list-inline>li {display: inline-block}\n",
       ".list-inline>li:not(:last-child)::after {content: \"\\00b7\"; padding: 0 .5ex}\n",
       "</style>\n",
       "<ol class=list-inline><li>Adelie</li><li>Gentoo</li><li>Chinstrap</li></ol>\n",
       "\n",
       "<details>\n",
       "\t<summary style=display:list-item;cursor:pointer>\n",
       "\t\t<strong>Levels</strong>:\n",
       "\t</summary>\n",
       "\t<style>\n",
       "\t.list-inline {list-style: none; margin:0; padding: 0}\n",
       "\t.list-inline>li {display: inline-block}\n",
       "\t.list-inline>li:not(:last-child)::after {content: \"\\00b7\"; padding: 0 .5ex}\n",
       "\t</style>\n",
       "\t<ol class=list-inline><li>'Adelie'</li><li>'Chinstrap'</li><li>'Gentoo'</li></ol>\n",
       "</details>"
      ],
      "text/latex": [
       "\\begin{enumerate*}\n",
       "\\item Adelie\n",
       "\\item Gentoo\n",
       "\\item Chinstrap\n",
       "\\end{enumerate*}\n",
       "\n",
       "\\emph{Levels}: \\begin{enumerate*}\n",
       "\\item 'Adelie'\n",
       "\\item 'Chinstrap'\n",
       "\\item 'Gentoo'\n",
       "\\end{enumerate*}\n"
      ],
      "text/markdown": [
       "1. Adelie\n",
       "2. Gentoo\n",
       "3. Chinstrap\n",
       "\n",
       "\n",
       "\n",
       "**Levels**: 1. 'Adelie'\n",
       "2. 'Chinstrap'\n",
       "3. 'Gentoo'\n",
       "\n",
       "\n"
      ],
      "text/plain": [
       "[1] Adelie    Gentoo    Chinstrap\n",
       "Levels: Adelie Chinstrap Gentoo"
      ]
     },
     "metadata": {},
     "output_type": "display_data"
    }
   ],
   "source": [
    "unique(df$species)"
   ]
  },
  {
   "cell_type": "code",
   "execution_count": 7,
   "id": "d3ceb795",
   "metadata": {},
   "outputs": [
    {
     "data": {
      "text/html": [
       "<style>\n",
       ".dl-inline {width: auto; margin:0; padding: 0}\n",
       ".dl-inline>dt, .dl-inline>dd {float: none; width: auto; display: inline-block}\n",
       ".dl-inline>dt::after {content: \":\\0020\"; padding-right: .5ex}\n",
       ".dl-inline>dt:not(:first-of-type) {padding-left: .5ex}\n",
       "</style><dl class=dl-inline><dt>species</dt><dd>0</dd><dt>island</dt><dd>0</dd><dt>bill_length_mm</dt><dd>0</dd><dt>bill_depth_mm</dt><dd>0</dd><dt>flipper_length_mm</dt><dd>0</dd><dt>body_mass_g</dt><dd>0</dd><dt>sex</dt><dd>0</dd></dl>\n"
      ],
      "text/latex": [
       "\\begin{description*}\n",
       "\\item[species] 0\n",
       "\\item[island] 0\n",
       "\\item[bill\\textbackslash{}\\_length\\textbackslash{}\\_mm] 0\n",
       "\\item[bill\\textbackslash{}\\_depth\\textbackslash{}\\_mm] 0\n",
       "\\item[flipper\\textbackslash{}\\_length\\textbackslash{}\\_mm] 0\n",
       "\\item[body\\textbackslash{}\\_mass\\textbackslash{}\\_g] 0\n",
       "\\item[sex] 0\n",
       "\\end{description*}\n"
      ],
      "text/markdown": [
       "species\n",
       ":   0island\n",
       ":   0bill_length_mm\n",
       ":   0bill_depth_mm\n",
       ":   0flipper_length_mm\n",
       ":   0body_mass_g\n",
       ":   0sex\n",
       ":   0\n",
       "\n"
      ],
      "text/plain": [
       "          species            island    bill_length_mm     bill_depth_mm \n",
       "                0                 0                 0                 0 \n",
       "flipper_length_mm       body_mass_g               sex \n",
       "                0                 0                 0 "
      ]
     },
     "metadata": {},
     "output_type": "display_data"
    }
   ],
   "source": [
    "# Number of NA's per column\n",
    "colSums(is.na(df))"
   ]
  },
  {
   "cell_type": "code",
   "execution_count": 8,
   "id": "ed77f8e1",
   "metadata": {},
   "outputs": [
    {
     "data": {
      "text/plain": [
       "      species          island    bill_length_mm  bill_depth_mm  \n",
       " Adelie   :152   Biscoe   :168   Min.   :32.10   Min.   :13.10  \n",
       " Chinstrap: 68   Dream    :124   1st Qu.:39.23   1st Qu.:15.60  \n",
       " Gentoo   :124   Torgersen: 52   Median :44.45   Median :17.30  \n",
       "                                 Mean   :43.92   Mean   :17.15  \n",
       "                                 3rd Qu.:48.50   3rd Qu.:18.70  \n",
       "                                 Max.   :59.60   Max.   :21.50  \n",
       "                                 NA's   :2       NA's   :2      \n",
       " flipper_length_mm  body_mass_g       sex           year     \n",
       " Min.   :172.0     Min.   :2700   female:165   Min.   :2007  \n",
       " 1st Qu.:190.0     1st Qu.:3550   male  :168   1st Qu.:2007  \n",
       " Median :197.0     Median :4050   NA's  : 11   Median :2008  \n",
       " Mean   :200.9     Mean   :4202                Mean   :2008  \n",
       " 3rd Qu.:213.0     3rd Qu.:4750                3rd Qu.:2009  \n",
       " Max.   :231.0     Max.   :6300                Max.   :2009  \n",
       " NA's   :2         NA's   :2                                 "
      ]
     },
     "metadata": {},
     "output_type": "display_data"
    }
   ],
   "source": [
    "summary(penguins)"
   ]
  },
  {
   "cell_type": "code",
   "execution_count": 9,
   "id": "74a30e71",
   "metadata": {},
   "outputs": [],
   "source": [
    "# Penguins species : 'Adelie', 'Chinstrap':\n",
    "penguins_sub <- df  %>% \n",
    "    subset(species != \"Chinstrap\")"
   ]
  },
  {
   "cell_type": "code",
   "execution_count": 10,
   "id": "5fdb87ea",
   "metadata": {},
   "outputs": [
    {
     "name": "stderr",
     "output_type": "stream",
     "text": [
      "Registered S3 method overwritten by 'GGally':\n",
      "  method from   \n",
      "  +.gg   ggplot2\n",
      "\n"
     ]
    }
   ],
   "source": [
    "library(GGally)"
   ]
  },
  {
   "cell_type": "code",
   "execution_count": 11,
   "id": "2af9e7fc",
   "metadata": {},
   "outputs": [
    {
     "name": "stderr",
     "output_type": "stream",
     "text": [
      "\u001b[1m\u001b[22m`stat_bin()` using `bins = 30`. Pick better value with `binwidth`.\n",
      "\u001b[1m\u001b[22m`stat_bin()` using `bins = 30`. Pick better value with `binwidth`.\n",
      "\u001b[1m\u001b[22m`stat_bin()` using `bins = 30`. Pick better value with `binwidth`.\n",
      "\u001b[1m\u001b[22m`stat_bin()` using `bins = 30`. Pick better value with `binwidth`.\n",
      "\u001b[1m\u001b[22m`stat_bin()` using `bins = 30`. Pick better value with `binwidth`.\n",
      "\u001b[1m\u001b[22m`stat_bin()` using `bins = 30`. Pick better value with `binwidth`.\n",
      "\u001b[1m\u001b[22m`stat_bin()` using `bins = 30`. Pick better value with `binwidth`.\n",
      "\u001b[1m\u001b[22m`stat_bin()` using `bins = 30`. Pick better value with `binwidth`.\n",
      "\u001b[1m\u001b[22m`stat_bin()` using `bins = 30`. Pick better value with `binwidth`.\n",
      "\u001b[1m\u001b[22m`stat_bin()` using `bins = 30`. Pick better value with `binwidth`.\n",
      "\u001b[1m\u001b[22m`stat_bin()` using `bins = 30`. Pick better value with `binwidth`.\n",
      "\u001b[1m\u001b[22m`stat_bin()` using `bins = 30`. Pick better value with `binwidth`.\n"
     ]
    },
    {
     "data": {
      "image/png": "[encoded data removed]",
      "text/plain": [
       "plot without title"
      ]
     },
     "metadata": {
      "image/png": {
       "height": 420,
       "width": 420
      }
     },
     "output_type": "display_data"
    }
   ],
   "source": [
    "# looking for linear relationships between the features :\n",
    "ggpairs(penguins_sub)"
   ]
  },
  {
   "cell_type": "code",
   "execution_count": 12,
   "id": "550af7b6",
   "metadata": {
    "scrolled": true
   },
   "outputs": [
    {
     "data": {
      "image/png": "[encoded data removed]",
      "text/plain": [
       "plot without title"
      ]
     },
     "metadata": {
      "image/png": {
       "height": 420,
       "width": 420
      }
     },
     "output_type": "display_data"
    }
   ],
   "source": [
    "pairs(penguins_sub)"
   ]
  },
  {
   "cell_type": "markdown",
   "id": "829cf077",
   "metadata": {},
   "source": [
    "### Normality"
   ]
  },
  {
   "cell_type": "code",
   "execution_count": 13,
   "id": "e4975f37",
   "metadata": {},
   "outputs": [
    {
     "data": {
      "image/png": "[encoded data removed]",
      "text/plain": [
       "Plot with title \"Histogram of df$body_mass_g\""
      ]
     },
     "metadata": {
      "image/png": {
       "height": 420,
       "width": 420
      }
     },
     "output_type": "display_data"
    }
   ],
   "source": [
    "hist(df$body_mass_g)"
   ]
  },
  {
   "cell_type": "markdown",
   "id": "3e1ce5c0",
   "metadata": {},
   "source": [
    "### Linearity"
   ]
  },
  {
   "cell_type": "code",
   "execution_count": 14,
   "id": "eee56823",
   "metadata": {},
   "outputs": [],
   "source": [
    "library(ggplot2)"
   ]
  },
  {
   "cell_type": "code",
   "execution_count": 15,
   "id": "3a1f2dfa",
   "metadata": {
    "scrolled": true
   },
   "outputs": [
    {
     "data": {
      "image/png": "[encoded data removed]",
      "text/plain": [
       "plot without title"
      ]
     },
     "metadata": {
      "image/png": {
       "height": 420,
       "width": 420
      }
     },
     "output_type": "display_data"
    }
   ],
   "source": [
    "ggplot(df, aes(x=bill_length_mm, y=body_mass_g))+\n",
    "    geom_point()+\n",
    "    labs(x=\"Bill Length (mm)\",\n",
    "        y = \"Badoy Mass (g)\",\n",
    "        title = \"Scatterplot of body mass \") + \n",
    "  geom_smooth(method = 'lm', formula = y ~ x, se = FALSE) "
   ]
  },
  {
   "cell_type": "markdown",
   "id": "859bdc2a",
   "metadata": {},
   "source": [
    "`bill_length_mm` and `body_mass_g` have a linear relatioship"
   ]
  },
  {
   "cell_type": "markdown",
   "id": "9aeab459",
   "metadata": {},
   "source": [
    "## Build the model"
   ]
  },
  {
   "cell_type": "code",
   "execution_count": 16,
   "id": "91ea811d",
   "metadata": {},
   "outputs": [
    {
     "data": {
      "text/html": [
       "0.589451110176949"
      ],
      "text/latex": [
       "0.589451110176949"
      ],
      "text/markdown": [
       "0.589451110176949"
      ],
      "text/plain": [
       "[1] 0.5894511"
      ]
     },
     "metadata": {},
     "output_type": "display_data"
    }
   ],
   "source": [
    "cor(df$body_mass_g, df$bill_length_mm)"
   ]
  },
  {
   "cell_type": "code",
   "execution_count": 17,
   "id": "8c9675c7",
   "metadata": {},
   "outputs": [
    {
     "data": {
      "text/plain": [
       "\n",
       "Call:\n",
       "lm(formula = model_formula, data = model_data)\n",
       "\n",
       "Residuals:\n",
       "    Min      1Q  Median      3Q     Max \n",
       "-895.64 -275.56   -2.64  278.98 1275.48 \n",
       "\n",
       "Coefficients:\n",
       "                Estimate Std. Error t value Pr(>|t|)    \n",
       "(Intercept)    -1707.292    205.640  -8.302 5.42e-15 ***\n",
       "bill_length_mm   141.190      4.775  29.569  < 2e-16 ***\n",
       "---\n",
       "Signif. codes:  0 '***' 0.001 '**' 0.01 '*' 0.05 '.' 0.1 ' ' 1\n",
       "\n",
       "Residual standard error: 404.6 on 263 degrees of freedom\n",
       "Multiple R-squared:  0.7688,\tAdjusted R-squared:  0.7679 \n",
       "F-statistic: 874.3 on 1 and 263 DF,  p-value: < 2.2e-16\n"
      ]
     },
     "metadata": {},
     "output_type": "display_data"
    }
   ],
   "source": [
    "# Assuming penguins_sub is your data frame\n",
    "model_data <- penguins_sub[c('bill_length_mm', 'body_mass_g')]\n",
    "model_formula <- body_mass_g ~ bill_length_mm\n",
    "\n",
    "# Fit the linear regression model\n",
    "model <- lm(model_formula, data = model_data)\n",
    "\n",
    "# Display model summary\n",
    "summary(model)"
   ]
  },
  {
   "cell_type": "markdown",
   "id": "d22c81e0",
   "metadata": {},
   "source": [
    "## Visualize the predictions"
   ]
  },
  {
   "cell_type": "code",
   "execution_count": 18,
   "id": "29d2aa8d",
   "metadata": {
    "scrolled": true
   },
   "outputs": [
    {
     "data": {
      "image/png": "[encoded data removed]",
      "text/plain": [
       "plot without title"
      ]
     },
     "metadata": {
      "image/png": {
       "height": 420,
       "width": 420
      }
     },
     "output_type": "display_data"
    }
   ],
   "source": [
    "# Assuming ols_data is your data frame\n",
    "X <- model_data$bill_length_mm\n",
    "\n",
    "# Get predictions from the model\n",
    "fitted_values <- predict(model, newdata = data.frame(bill_length_mm = X))\n",
    "\n",
    "# Calculate residuals\n",
    "residuals <- residuals(model)\n",
    "\n",
    "# Plot the regression\n",
    "library(ggplot2)\n",
    "ggplot(model_data, aes(x = bill_length_mm, y = body_mass_g)) +\n",
    "  geom_point() +\n",
    "  geom_smooth(method = \"lm\",formula = y~x, se = FALSE, color = \"blue\") +\n",
    "  theme_minimal()"
   ]
  },
  {
   "cell_type": "code",
   "execution_count": 19,
   "id": "b92ea9ca",
   "metadata": {},
   "outputs": [
    {
     "data": {
      "image/png": "[encoded data removed]",
      "text/plain": [
       "plot without title"
      ]
     },
     "metadata": {
      "image/png": {
       "height": 420,
       "width": 420
      }
     },
     "output_type": "display_data"
    }
   ],
   "source": [
    "# visualize the prediction with the interval \n",
    "library(jtools)\n",
    "effect_plot(model, pred = bill_length_mm, interval = TRUE, plot.points = TRUE)"
   ]
  },
  {
   "cell_type": "markdown",
   "id": "ecb27661",
   "metadata": {},
   "source": [
    "## Verification of the assumptions \n"
   ]
  },
  {
   "cell_type": "code",
   "execution_count": 20,
   "id": "58dbc7ab",
   "metadata": {},
   "outputs": [
    {
     "data": {
      "image/png": "[encoded data removed]",
      "text/plain": [
       "plot without title"
      ]
     },
     "metadata": {
      "image/png": {
       "height": 420,
       "width": 420
      }
     },
     "output_type": "display_data"
    }
   ],
   "source": [
    "# Homoscedasticity assumption and Independence :\n",
    "\n",
    "\n",
    "ggplot(data.frame(Fitted = fitted_values, Residuals = residuals), aes(x = Fitted, y = Residuals)) +\n",
    "  geom_point() +\n",
    "  geom_hline(yintercept = 0, linetype = \"dashed\", color = \"red\") +\n",
    "  labs(x = \"Fitted values\", y = \"Residuals\", title = \"Residuals vs Fitted Values\") +\n",
    "  theme_minimal()"
   ]
  },
  {
   "cell_type": "code",
   "execution_count": 21,
   "id": "d5642a4a",
   "metadata": {
    "scrolled": true
   },
   "outputs": [
    {
     "data": {
      "image/png": "[encoded data removed]",
      "text/plain": [
       "Plot with title \"Histogram of Residuals\""
      ]
     },
     "metadata": {
      "image/png": {
       "height": 420,
       "width": 420
      }
     },
     "output_type": "display_data"
    }
   ],
   "source": [
    "# Normality assumption :\n",
    "\n",
    "## Method 1 :\n",
    "# Assuming residuals is already calculated\n",
    "hist(residuals, \n",
    "     xlab = 'Residuals', ylab = 'Count',\n",
    "     main = 'Histogram of Residuals')"
   ]
  },
  {
   "cell_type": "code",
   "execution_count": 22,
   "id": "03152cdf",
   "metadata": {},
   "outputs": [
    {
     "data": {
      "image/png": "[encoded data removed]",
      "text/plain": [
       "plot without title"
      ]
     },
     "metadata": {
      "image/png": {
       "height": 420,
       "width": 420
      }
     },
     "output_type": "display_data"
    }
   ],
   "source": [
    "## Method with ggplot2:\n",
    "\n",
    "ggplot(data.frame(Residuals = residuals), aes(x = Residuals)) +\n",
    "  geom_histogram(bins = 15, fill = 'blue', color = 'black', alpha = 0.7) +\n",
    "  labs(x = 'Residuals', y = 'Count', title = 'Histogram of Residuals') +\n",
    "  theme_minimal()"
   ]
  },
  {
   "cell_type": "markdown",
   "id": "39ec06ea",
   "metadata": {},
   "source": [
    "**Remark:** The residuals are a little bit scued in the histogram, so I'm going to create a q-q plot to verify normality.m"
   ]
  },
  {
   "cell_type": "code",
   "execution_count": 23,
   "id": "842e13d0",
   "metadata": {},
   "outputs": [
    {
     "data": {
      "image/png": "[encoded data removed]",
      "text/plain": [
       "Plot with title \"Normal Q-Q Plot\""
      ]
     },
     "metadata": {
      "image/png": {
       "height": 420,
       "width": 420
      }
     },
     "output_type": "display_data"
    }
   ],
   "source": [
    "## Method 1\n",
    " \n",
    "qqnorm(residuals)\n",
    "qqline(residuals, col = 2)"
   ]
  },
  {
   "cell_type": "code",
   "execution_count": 24,
   "id": "ac5e664a",
   "metadata": {},
   "outputs": [
    {
     "data": {
      "image/png": "[encoded data removed]",
      "text/plain": [
       "plot without title"
      ]
     },
     "metadata": {
      "image/png": {
       "height": 420,
       "width": 420
      }
     },
     "output_type": "display_data"
    }
   ],
   "source": [
    "## Method 2 (ggplot2):\n",
    "\n",
    "ggplot(data.frame(Residuals = residuals), aes(sample = Residuals)) +\n",
    "  stat_qq() +\n",
    "  stat_qq_line(col = \"red\") +\n",
    "  labs(title = \"Q-Q Plot of Residuals\")"
   ]
  },
  {
   "cell_type": "markdown",
   "id": "00e2a83c",
   "metadata": {},
   "source": [
    "# 2) Multiple Linear Regression (MLR)"
   ]
  },
  {
   "cell_type": "code",
   "execution_count": 25,
   "id": "b101d855",
   "metadata": {},
   "outputs": [
    {
     "data": {
      "text/html": [
       "<table class=\"dataframe\">\n",
       "<caption>A tibble: 6 × 7</caption>\n",
       "<thead>\n",
       "\t<tr><th scope=col>species</th><th scope=col>island</th><th scope=col>bill_length_mm</th><th scope=col>bill_depth_mm</th><th scope=col>flipper_length_mm</th><th scope=col>body_mass_g</th><th scope=col>sex</th></tr>\n",
       "\t<tr><th scope=col>&lt;fct&gt;</th><th scope=col>&lt;fct&gt;</th><th scope=col>&lt;dbl&gt;</th><th scope=col>&lt;dbl&gt;</th><th scope=col>&lt;int&gt;</th><th scope=col>&lt;int&gt;</th><th scope=col>&lt;fct&gt;</th></tr>\n",
       "</thead>\n",
       "<tbody>\n",
       "\t<tr><td>Adelie</td><td>Torgersen</td><td>39.1</td><td>18.7</td><td>181</td><td>3750</td><td>male  </td></tr>\n",
       "\t<tr><td>Adelie</td><td>Torgersen</td><td>39.5</td><td>17.4</td><td>186</td><td>3800</td><td>female</td></tr>\n",
       "\t<tr><td>Adelie</td><td>Torgersen</td><td>40.3</td><td>18.0</td><td>195</td><td>3250</td><td>female</td></tr>\n",
       "\t<tr><td>Adelie</td><td>Torgersen</td><td>  NA</td><td>  NA</td><td> NA</td><td>  NA</td><td>NA    </td></tr>\n",
       "\t<tr><td>Adelie</td><td>Torgersen</td><td>36.7</td><td>19.3</td><td>193</td><td>3450</td><td>female</td></tr>\n",
       "\t<tr><td>Adelie</td><td>Torgersen</td><td>39.3</td><td>20.6</td><td>190</td><td>3650</td><td>male  </td></tr>\n",
       "</tbody>\n",
       "</table>\n"
      ],
      "text/latex": [
       "A tibble: 6 × 7\n",
       "\\begin{tabular}{lllllll}\n",
       " species & island & bill\\_length\\_mm & bill\\_depth\\_mm & flipper\\_length\\_mm & body\\_mass\\_g & sex\\\\\n",
       " <fct> & <fct> & <dbl> & <dbl> & <int> & <int> & <fct>\\\\\n",
       "\\hline\n",
       "\t Adelie & Torgersen & 39.1 & 18.7 & 181 & 3750 & male  \\\\\n",
       "\t Adelie & Torgersen & 39.5 & 17.4 & 186 & 3800 & female\\\\\n",
       "\t Adelie & Torgersen & 40.3 & 18.0 & 195 & 3250 & female\\\\\n",
       "\t Adelie & Torgersen &   NA &   NA &  NA &   NA & NA    \\\\\n",
       "\t Adelie & Torgersen & 36.7 & 19.3 & 193 & 3450 & female\\\\\n",
       "\t Adelie & Torgersen & 39.3 & 20.6 & 190 & 3650 & male  \\\\\n",
       "\\end{tabular}\n"
      ],
      "text/markdown": [
       "\n",
       "A tibble: 6 × 7\n",
       "\n",
       "| species &lt;fct&gt; | island &lt;fct&gt; | bill_length_mm &lt;dbl&gt; | bill_depth_mm &lt;dbl&gt; | flipper_length_mm &lt;int&gt; | body_mass_g &lt;int&gt; | sex &lt;fct&gt; |\n",
       "|---|---|---|---|---|---|---|\n",
       "| Adelie | Torgersen | 39.1 | 18.7 | 181 | 3750 | male   |\n",
       "| Adelie | Torgersen | 39.5 | 17.4 | 186 | 3800 | female |\n",
       "| Adelie | Torgersen | 40.3 | 18.0 | 195 | 3250 | female |\n",
       "| Adelie | Torgersen |   NA |   NA |  NA |   NA | NA     |\n",
       "| Adelie | Torgersen | 36.7 | 19.3 | 193 | 3450 | female |\n",
       "| Adelie | Torgersen | 39.3 | 20.6 | 190 | 3650 | male   |\n",
       "\n"
      ],
      "text/plain": [
       "  species island    bill_length_mm bill_depth_mm flipper_length_mm body_mass_g\n",
       "1 Adelie  Torgersen 39.1           18.7          181               3750       \n",
       "2 Adelie  Torgersen 39.5           17.4          186               3800       \n",
       "3 Adelie  Torgersen 40.3           18.0          195               3250       \n",
       "4 Adelie  Torgersen   NA             NA           NA                 NA       \n",
       "5 Adelie  Torgersen 36.7           19.3          193               3450       \n",
       "6 Adelie  Torgersen 39.3           20.6          190               3650       \n",
       "  sex   \n",
       "1 male  \n",
       "2 female\n",
       "3 female\n",
       "4 NA    \n",
       "5 female\n",
       "6 male  "
      ]
     },
     "metadata": {},
     "output_type": "display_data"
    }
   ],
   "source": [
    "df <- select(penguins, -year)\n",
    "head(df)"
   ]
  },
  {
   "cell_type": "code",
   "execution_count": 26,
   "id": "8edd7cba",
   "metadata": {},
   "outputs": [
    {
     "data": {
      "text/html": [
       "<table class=\"dataframe\">\n",
       "<caption>A tibble: 6 × 4</caption>\n",
       "<thead>\n",
       "\t<tr><th scope=col>bill_length_mm</th><th scope=col>body_mass_g</th><th scope=col>gender</th><th scope=col>species</th></tr>\n",
       "\t<tr><th scope=col>&lt;dbl&gt;</th><th scope=col>&lt;int&gt;</th><th scope=col>&lt;fct&gt;</th><th scope=col>&lt;fct&gt;</th></tr>\n",
       "</thead>\n",
       "<tbody>\n",
       "\t<tr><td>39.1</td><td>3750</td><td>male  </td><td>Adelie</td></tr>\n",
       "\t<tr><td>39.5</td><td>3800</td><td>female</td><td>Adelie</td></tr>\n",
       "\t<tr><td>40.3</td><td>3250</td><td>female</td><td>Adelie</td></tr>\n",
       "\t<tr><td>36.7</td><td>3450</td><td>female</td><td>Adelie</td></tr>\n",
       "\t<tr><td>39.3</td><td>3650</td><td>male  </td><td>Adelie</td></tr>\n",
       "\t<tr><td>38.9</td><td>3625</td><td>female</td><td>Adelie</td></tr>\n",
       "</tbody>\n",
       "</table>\n"
      ],
      "text/latex": [
       "A tibble: 6 × 4\n",
       "\\begin{tabular}{llll}\n",
       " bill\\_length\\_mm & body\\_mass\\_g & gender & species\\\\\n",
       " <dbl> & <int> & <fct> & <fct>\\\\\n",
       "\\hline\n",
       "\t 39.1 & 3750 & male   & Adelie\\\\\n",
       "\t 39.5 & 3800 & female & Adelie\\\\\n",
       "\t 40.3 & 3250 & female & Adelie\\\\\n",
       "\t 36.7 & 3450 & female & Adelie\\\\\n",
       "\t 39.3 & 3650 & male   & Adelie\\\\\n",
       "\t 38.9 & 3625 & female & Adelie\\\\\n",
       "\\end{tabular}\n"
      ],
      "text/markdown": [
       "\n",
       "A tibble: 6 × 4\n",
       "\n",
       "| bill_length_mm &lt;dbl&gt; | body_mass_g &lt;int&gt; | gender &lt;fct&gt; | species &lt;fct&gt; |\n",
       "|---|---|---|---|\n",
       "| 39.1 | 3750 | male   | Adelie |\n",
       "| 39.5 | 3800 | female | Adelie |\n",
       "| 40.3 | 3250 | female | Adelie |\n",
       "| 36.7 | 3450 | female | Adelie |\n",
       "| 39.3 | 3650 | male   | Adelie |\n",
       "| 38.9 | 3625 | female | Adelie |\n",
       "\n"
      ],
      "text/plain": [
       "  bill_length_mm body_mass_g gender species\n",
       "1 39.1           3750        male   Adelie \n",
       "2 39.5           3800        female Adelie \n",
       "3 40.3           3250        female Adelie \n",
       "4 36.7           3450        female Adelie \n",
       "5 39.3           3650        male   Adelie \n",
       "6 38.9           3625        female Adelie "
      ]
     },
     "metadata": {},
     "output_type": "display_data"
    }
   ],
   "source": [
    "df <- df[c(\"bill_length_mm\", \"body_mass_g\", \"sex\", \"species\")] %>% \n",
    "    rename(\n",
    "    gender = sex) %>% \n",
    "    na.omit()\n",
    "\n",
    "head(df)"
   ]
  },
  {
   "cell_type": "markdown",
   "id": "39ba4b78",
   "metadata": {},
   "source": [
    "## Build the model"
   ]
  },
  {
   "cell_type": "code",
   "execution_count": 27,
   "id": "562236af",
   "metadata": {},
   "outputs": [
    {
     "name": "stderr",
     "output_type": "stream",
     "text": [
      "Installing package into 'C:/Users/Badr/AppData/Local/R/win-library/4.2'\n",
      "(as 'lib' is unspecified)\n",
      "\n"
     ]
    },
    {
     "name": "stdout",
     "output_type": "stream",
     "text": [
      "package 'caret' successfully unpacked and MD5 sums checked\n",
      "\n",
      "The downloaded binary packages are in\n",
      "\tC:\\Users\\Badr\\AppData\\Local\\Temp\\RtmpMVSvF9\\downloaded_packages\n"
     ]
    }
   ],
   "source": [
    "install.packages(\"caret\")"
   ]
  },
  {
   "cell_type": "code",
   "execution_count": 28,
   "id": "64c80f87",
   "metadata": {},
   "outputs": [
    {
     "name": "stderr",
     "output_type": "stream",
     "text": [
      "Loading required package: lattice\n",
      "\n",
      "\n",
      "Attaching package: 'caret'\n",
      "\n",
      "\n",
      "The following object is masked from 'package:purrr':\n",
      "\n",
      "    lift\n",
      "\n",
      "\n"
     ]
    },
    {
     "data": {
      "text/plain": [
       "\n",
       "Call:\n",
       "lm(formula = model_formula, data = train_data)\n",
       "\n",
       "Residuals:\n",
       "    Min      1Q  Median      3Q     Max \n",
       "-719.55 -204.62  -20.66  195.05  892.65 \n",
       "\n",
       "Coefficients:\n",
       "                 Estimate Std. Error t value Pr(>|t|)    \n",
       "(Intercept)      2364.362    302.367   7.820 1.88e-13 ***\n",
       "bill_length_mm     27.525      8.197   3.358 0.000918 ***\n",
       "gendermale        555.774     49.271  11.280  < 2e-16 ***\n",
       "speciesChinstrap -285.091     95.702  -2.979 0.003201 ** \n",
       "speciesGentoo    1132.987     84.375  13.428  < 2e-16 ***\n",
       "---\n",
       "Signif. codes:  0 '***' 0.001 '**' 0.01 '*' 0.05 '.' 0.1 ' ' 1\n",
       "\n",
       "Residual standard error: 289.8 on 231 degrees of freedom\n",
       "Multiple R-squared:  0.8687,\tAdjusted R-squared:  0.8664 \n",
       "F-statistic:   382 on 4 and 231 DF,  p-value: < 2.2e-16\n"
      ]
     },
     "metadata": {},
     "output_type": "display_data"
    }
   ],
   "source": [
    "library(caret)\n",
    "\n",
    "# Set seed for reproducibility\n",
    "set.seed(42)\n",
    "\n",
    "# Create indices for the split (tain size is 70%)\n",
    "split_indices <- createDataPartition(df$body_mass_g, p = 0.7, list = FALSE)\n",
    "\n",
    "# Split the data\n",
    "train_data <- df[split_indices, ]\n",
    "test_data <- df[-split_indices, ]\n",
    "\n",
    "# Define the formula\n",
    "model_formula <- body_mass_g ~ bill_length_mm + gender + species\n",
    "\n",
    "# Fit the model\n",
    "model <- lm(model_formula, data = train_data)\n",
    "\n",
    "# Display model summary\n",
    "summary(model)"
   ]
  },
  {
   "cell_type": "markdown",
   "id": "606eafcc",
   "metadata": {},
   "source": [
    "**The Row : gendermale ** \n",
    "\n",
    "\n",
    "The way the variable `gender` was encoded was **male is 1**, and **female is 0**, this means that the baseline or reference point is female penguins, so the coefficient indicates how much body mass would differ between 2 penguins that only differ in `gender` (cahier p. 107 **default**).\n",
    "\n",
    "Assuming the penguins are the same species, and have the same building, we expect the male penguin's body mass to be about 555.77g more than the female penguin.\n",
    "\n",
    "The **p-value** is very small, so this coefficient is **statistically significant**.\n",
    "\n",
    "Now, let's consider the row for **bill_length_mm** :\n",
    "\n",
    "Assuming that 2 penguins are the same gender, and species, if the bill length increases by *1mm*, we would expect the penguin with the longer built to be about **27.52g larger** in body mass.\n",
    "\n",
    "The **p-value** is very small, so te estimate is **statistically significant**."
   ]
  },
  {
   "cell_type": "markdown",
   "id": "0877e488",
   "metadata": {},
   "source": [
    "The OLS summary table also gives model evaluation metrics like **$R^2$** which is **0.8687**, indicating that the model explains about **86.87% of the variance in body mass**, this seems reasonable."
   ]
  },
  {
   "cell_type": "code",
   "execution_count": 29,
   "id": "87c7cdb8",
   "metadata": {},
   "outputs": [
    {
     "data": {
      "text/plain": [
       "   Min. 1st Qu.  Median    Mean 3rd Qu.    Max. \n",
       "-802.58 -222.03   19.44   16.27  265.12  804.58 "
      ]
     },
     "metadata": {},
     "output_type": "display_data"
    }
   ],
   "source": [
    "#Predictions\n",
    "predictions <- predict(model, newdata = test_data)\n",
    "\n",
    "# Calculate residuals\n",
    "residuals <- test_data$body_mass_g - predictions\n",
    "\n",
    "# Assess model performance\n",
    "summary(residuals)"
   ]
  },
  {
   "cell_type": "code",
   "execution_count": 30,
   "id": "cae14597",
   "metadata": {},
   "outputs": [
    {
     "name": "stdout",
     "output_type": "stream",
     "text": [
      "Mean Squared Error: 121908.8 \n",
      "Root Mean Squared Error: 349.1543 \n"
     ]
    }
   ],
   "source": [
    "# Calculate Mean Squared Error\n",
    "mse <- mean(residuals^2)\n",
    "cat(\"Mean Squared Error:\", mse, \"\\n\")\n",
    "\n",
    "# Calculate Root Mean Squared Error\n",
    "rmse <- sqrt(mse)\n",
    "cat(\"Root Mean Squared Error:\", rmse, \"\\n\")"
   ]
  }
 ],
 "metadata": {
  "kernelspec": {
   "display_name": "R",
   "language": "R",
   "name": "ir"
  },
  "language_info": {
   "codemirror_mode": "r",
   "file_extension": ".r",
   "mimetype": "text/x-r-source",
   "name": "R",
   "pygments_lexer": "r",
   "version": "4.2.3"
  }
 },
 "nbformat": 4,
 "nbformat_minor": 5
}
