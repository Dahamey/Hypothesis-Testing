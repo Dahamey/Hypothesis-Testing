{
 "cells": [
  {
   "cell_type": "markdown",
   "id": "aca41f4d",
   "metadata": {},
   "source": [
    "<h1 style=\"text-align:center;\">Les Concepts Statistiques Fondamentaux dans R</h1>\n"
   ]
  },
  {
   "cell_type": "markdown",
   "id": "27bca02d",
   "metadata": {},
   "source": [
    "<u>**Auteur</u> :** [Younes Dahami](https://www.linkedin.com/in/dahami/)"
   ]
  },
  {
   "cell_type": "code",
   "execution_count": 1,
   "id": "aa0710be",
   "metadata": {},
   "outputs": [
    {
     "name": "stderr",
     "output_type": "stream",
     "text": [
      "── \u001b[1mAttaching core tidyverse packages\u001b[22m ──────────────────────────────────────────────────────────────── tidyverse 2.0.0 ──\n",
      "\u001b[32m✔\u001b[39m \u001b[34mdplyr    \u001b[39m 1.1.4     \u001b[32m✔\u001b[39m \u001b[34mpurrr    \u001b[39m 1.0.2\n",
      "\u001b[32m✔\u001b[39m \u001b[34mforcats  \u001b[39m 1.0.0     \u001b[32m✔\u001b[39m \u001b[34mstringr  \u001b[39m 1.5.1\n",
      "\u001b[32m✔\u001b[39m \u001b[34mggplot2  \u001b[39m 3.5.1     \u001b[32m✔\u001b[39m \u001b[34mtibble   \u001b[39m 3.2.1\n",
      "\u001b[32m✔\u001b[39m \u001b[34mlubridate\u001b[39m 1.9.3     \u001b[32m✔\u001b[39m \u001b[34mtidyr    \u001b[39m 1.3.1\n",
      "── \u001b[1mConflicts\u001b[22m ────────────────────────────────────────────────────────────────────────────────── tidyverse_conflicts() ──\n",
      "\u001b[31m✖\u001b[39m \u001b[34mdplyr\u001b[39m::\u001b[32mfilter()\u001b[39m masks \u001b[34mstats\u001b[39m::filter()\n",
      "\u001b[31m✖\u001b[39m \u001b[34mdplyr\u001b[39m::\u001b[32mlag()\u001b[39m    masks \u001b[34mstats\u001b[39m::lag()\n",
      "\u001b[36mℹ\u001b[39m Use the conflicted package (\u001b[3m\u001b[34m<http://conflicted.r-lib.org/>\u001b[39m\u001b[23m) to force all conflicts to become errors\n"
     ]
    }
   ],
   "source": [
    "library(readr)\n",
    "library(tidyverse)"
   ]
  },
  {
   "cell_type": "markdown",
   "id": "304574f0",
   "metadata": {},
   "source": [
    "# Introduction\n",
    "\n",
    "Ce notebook détaille les concepts statistiques fondamentaux, illustrés avec les données des études d'imagerie cérébrale infantile, IBIS (Infant Brain Imaging Study). L'objectif principal est double :\n",
    "\n",
    "1) Développer un ensemble de notations, de définitions et d'idées qui constituent les bases des analyses statistiques standard.\n",
    "\n",
    "2) Présenter quelques méthodes statistiques de base et illustrer comment elles sont effectuées dans R en utilisant les données IBIS.\n",
    "\n",
    "Les notations et concepts développés ici seront référencés à nouveau dans les notebooks ultérieurs, de sorte que ceux qui n'ont pas de formation statistique formelle seraient enclins à lire ce notebook. Pour ceux ayant une solide expérience en statistique, ce notebook devrait servir de rappel rapide ainsi que de référence pour la terminologie et la notation statistiques standard."
   ]
  },
  {
   "cell_type": "markdown",
   "id": "50b3e20a",
   "metadata": {},
   "source": [
    "## 1) Inférence statistique\n",
    "\n",
    "Pour une variable $X$, sa distribution peut être considérée comme une fonction qui indique la probabilité que $X$ soit égale à une valeur spécifique $x$, pour chaque $x$ possible.\n",
    "\n",
    "Par exemple, si $X$ suit une distribution normale, sa distribution peut être tracée comme illustré ci-dessous :\n",
    "\n",
    "![alt](normal_dist.png)"
   ]
  },
  {
   "cell_type": "markdown",
   "id": "14688b68",
   "metadata": {},
   "source": [
    "On peut voir que la probabilité est la plus élevée autour de $x=0$, puis diminue rapidement lorsque l'on s'éloigne de $0$. Lorsque des données réelles sont disponibles, un histogramme est souvent utilisé pour visualiser la distribution de la variable. Par exemple, l'histogramme du score total AOSI à 12 mois dans les données transversales de l'AOSI est le suivant :\n"
   ]
  },
  {
   "cell_type": "code",
   "execution_count": 2,
   "id": "e2b13fad",
   "metadata": {},
   "outputs": [
    {
     "data": {
      "image/png": "[encoded data removed]",
      "text/plain": [
       "Plot with title \"Histogramme du Score Total de l'AOSI à 12 mois\""
      ]
     },
     "metadata": {
      "image/png": {
       "height": 420,
       "width": 420
      }
     },
     "output_type": "display_data"
    }
   ],
   "source": [
    "data <- read.csv(\"Cross-sec_full.csv\", stringsAsFactors = FALSE, na.strings = c(\" \",\".\"))\n",
    "\n",
    "hist(x = data$V12.aosi.total_score_1_18, xlab =\"Score Total de l'AOSI\", main= \"Histogramme du Score Total de l'AOSI à 12 mois\")"
   ]
  },
  {
   "cell_type": "markdown",
   "id": "00ca2a23",
   "metadata": {},
   "source": [
    "On peut voir qu'il est très probable que le score total de l'AOSI se situe entre 0 et 10, avec des valeurs supérieures à 10 peu probables.\n",
    "\n",
    "Ce type de distribution est appelé **asymétrique (oblique)**, plus précisément **asymétrique à droite** car elle a une longue **queue** (tail) à droite et la plupart de la probabilité à gauche. Une distribution **asymétrique à gauche** est l'opposée. \n",
    "\n",
    "On peut aussi considérer la distribution de notre variable $X$ **conditionnelle** sur la valeur **y** d'une autre variable **Y**. Conditionnelle signifie \"uniquement sur la population avec Y=y\". Cela est appelé la **distribution conditionnelle** de $X$ pour $Y=y$.\n",
    "\n",
    "Par exemple, alors que nous avons créé l'histogramme du score total AOSI pour l'ensemble de l'échantillon, nous pouvons vouloir visualiser la distribution du score total AOSI séparément pour chacun des groupes de diagnostic suivants : Risque élevé : TSA (High Risk: ASD), Risque élevé : Négatif (High Risk: Negative) et Risque faible : Négatif (Low Risk: Negative). Par exemple, nous créons l'histogramme pour le groupe Risque élevé : TSA ci-dessous :\n"
   ]
  },
  {
   "cell_type": "code",
   "execution_count": 3,
   "id": "cff2797b",
   "metadata": {},
   "outputs": [
    {
     "data": {
      "image/png": "[encoded data removed]",
      "text/plain": [
       "Plot with title \"Histogramme du Score Total de l'AOSI à 12 mois pour le groupe 'High Risk: ASD'\""
      ]
     },
     "metadata": {
      "image/png": {
       "height": 420,
       "width": 420
      }
     },
     "output_type": "display_data"
    }
   ],
   "source": [
    "data_HR_ASD <- data  %>% filter(GROUP ==\"HR_ASD\")\n",
    "\n",
    "hist(data_HR_ASD$V12.aosi.total_score_1_18, xlab =\"Score Total de l'AOSI\", main= \"Histogramme du Score Total de l'AOSI à 12 mois pour le groupe 'High Risk: ASD'\")"
   ]
  },
  {
   "cell_type": "markdown",
   "id": "275a754f",
   "metadata": {},
   "source": [
    "On peut voir que la variable est considérée comme une chaine de caractères par défaut dans les données, il est nécessaire de la forcer à être numérique pour créer un histogramme."
   ]
  },
  {
   "cell_type": "markdown",
   "id": "dc53960b",
   "metadata": {},
   "source": [
    "Les analyses statistiques sont souvent conçues pour **estimer** certaines caractéristiques de la distribution d'une variable (ou de plusieurs variables). Ces caractéristiques sont généralement appelées **paramètres**. Souvent, ces paramètres sont la moyenne, la variance, la médiane/les quantiles, ou les probabilités de valeurs spécifiques (pour une variable discrète, c'est-à-dire la probabilité de diagnostic positif de ASD). Nous ne connaissons pas les valeurs réelles de ces paramètres, donc nous essayons d'obtenir une approximation précise d'après des échantillons aléatoires (nos données) provenant de la distribution/population d'intérêt. Ces approximations varieront d'un échantillon à l'autre en raison du hasard derrière la sélection de ces échantillons et de leur taille finie. Ainsi, nous devons également tenir compte de la **variance** de ces approximations lors de la réalisation de nos analyses.\n",
    "\n",
    "Cette analyse, composée de l'**estimation** des paramètres ainsi que de la prise en compte de la **variance** de cette estimation, est appelée **inférence statistique**.\n"
   ]
  },
  {
   "cell_type": "markdown",
   "id": "586cdc19",
   "metadata": {},
   "source": [
    "## 1.1) Estimation des Paramètres: Moyenne, Médiane, Quantiles\n",
    "\n",
    "Ici, nous discutons de l'estimation de paramètres spécifiques qui sont généralement d'intérêt pour les variables continues.\n",
    "\n",
    "Pour les variables catégorielles, voir [Les Tableaux dans R](https://github.com/Dahamey/R/blob/main/R%20%20-%20Fr/Les%20Tableaux%20dans%20R.ipynb). Ces paramètres sont la moyenne, la médiane, la variance et les quantiles. Souvent, on verra ces estimations résumées dans le \"Tableau 1\" des articles de recherche. Ici, nous discutons de la méthodologie derrière leur estimation ainsi que de comment calculer ces estimations dans R.\n",
    "\n",
    "La moyenne et la médiane peuvent intuitivement être considérées comme des mesures du \"centre\" de la distribution. La variance peut être considérée comme une mesure de la \"dispersion\" de la distribution. Pour illustrer la variance, nous traçons deux distributions normales avec toutes deux une moyenne de 0 mais l'une avec une variance de 1 et l'autre avec une variance de 4. L'augmentation de la plage probable de valeurs avec une variance de 4 est assez évidente, et les probabilités sont plus étalées. Notez que l'**écart type** est simplement la racine carrée de la variance.\""
   ]
  },
  {
   "cell_type": "code",
   "execution_count": 4,
   "id": "6d5e48b2",
   "metadata": {},
   "outputs": [
    {
     "data": {
      "image/png": "[encoded data removed]",
      "text/plain": [
       "Plot with title \"Distribution Normale de variance 1\""
      ]
     },
     "metadata": {
      "image/png": {
       "height": 420,
       "width": 420
      }
     },
     "output_type": "display_data"
    },
    {
     "data": {
      "image/png": "[encoded data removed]",
      "text/plain": [
       "Plot with title \"Distribution Normale de variance 4\""
      ]
     },
     "metadata": {
      "image/png": {
       "height": 420,
       "width": 420
      }
     },
     "output_type": "display_data"
    }
   ],
   "source": [
    "# Générer une séquence de valeurs x\n",
    "x <- seq(-10, 10, length.out=100)\n",
    "\n",
    "# Calculer les densités de probabilité normales pour chaque valeur de x\n",
    "y1 <- dnorm(x, mean=0, sd=1)\n",
    "y2 <- dnorm(x, mean=0, sd=4)\n",
    "\n",
    "# Tracer la distribution normale\n",
    "plot(x, y1, type=\"l\", lwd=2, col=\"blue\", xlab=\"Valeurs\", ylab=\"Densité de probabilité\", main=\"Distribution Normale de variance 1\")\n",
    "plot(x, y2, type=\"l\", lwd=2, col=\"blue\", xlab=\"Valeurs\", ylab=\"Densité de probabilité\", main=\"Distribution Normale de variance 4\")\n"
   ]
  },
  {
   "cell_type": "markdown",
   "id": "962a889c",
   "metadata": {},
   "source": [
    "On estime la moyenne, la médiane, la variance et les quantiles de la distribution en utilisant respectivement la moyenne, la médiane, la variance et les quantiles de l'échantillon habituels. Ces estimations peuvent être calculées dans R en utilisant les fonctions **`mean()`**, **`median()`**, **`var()`** et **`quantile()`** respectivement.\n",
    "\n",
    "Remarque : lors de l'utilisation de `quantile()`, les valeurs minimale et maximale de l'échantillon sont également fournies. Nous illustrons ces fonctions ci-dessous en utilisant le score total de l'AOSI à 12 mois. De plus, notons l'inclusion de **`na.rm=TRUE`** dans ces fonctions. Par défaut, lors du calcul de ces estimations, si une valeur manquante est rencontrée, R renvoie NA (manquante). Ainsi, nous devons dire à R de supprimer ces valeurs manquantes avant de calculer les estimations.\n"
   ]
  },
  {
   "cell_type": "code",
   "execution_count": 5,
   "id": "608e1c81",
   "metadata": {},
   "outputs": [
    {
     "data": {
      "text/html": [
       "4.98046875"
      ],
      "text/latex": [
       "4.98046875"
      ],
      "text/markdown": [
       "4.98046875"
      ],
      "text/plain": [
       "[1] 4.980469"
      ]
     },
     "metadata": {},
     "output_type": "display_data"
    }
   ],
   "source": [
    "# La moyenne\n",
    "mean(data$V12.aosi.total_score_1_18, na.rm = TRUE)"
   ]
  },
  {
   "cell_type": "code",
   "execution_count": 6,
   "id": "a520a158",
   "metadata": {},
   "outputs": [
    {
     "data": {
      "text/html": [
       "13.0837665117417"
      ],
      "text/latex": [
       "13.0837665117417"
      ],
      "text/markdown": [
       "13.0837665117417"
      ],
      "text/plain": [
       "[1] 13.08377"
      ]
     },
     "metadata": {},
     "output_type": "display_data"
    }
   ],
   "source": [
    "# La variance\n",
    "var(data$V12.aosi.total_score_1_18, na.rm = TRUE)"
   ]
  },
  {
   "cell_type": "code",
   "execution_count": 7,
   "id": "fb9692e5",
   "metadata": {},
   "outputs": [
    {
     "data": {
      "text/html": [
       "4"
      ],
      "text/latex": [
       "4"
      ],
      "text/markdown": [
       "4"
      ],
      "text/plain": [
       "[1] 4"
      ]
     },
     "metadata": {},
     "output_type": "display_data"
    }
   ],
   "source": [
    "# La médiane\n",
    "median(data$V12.aosi.total_score_1_18, na.rm = TRUE)"
   ]
  },
  {
   "cell_type": "code",
   "execution_count": 8,
   "id": "0ed7a26b",
   "metadata": {},
   "outputs": [
    {
     "data": {
      "text/html": [
       "<style>\n",
       ".dl-inline {width: auto; margin:0; padding: 0}\n",
       ".dl-inline>dt, .dl-inline>dd {float: none; width: auto; display: inline-block}\n",
       ".dl-inline>dt::after {content: \":\\0020\"; padding-right: .5ex}\n",
       ".dl-inline>dt:not(:first-of-type) {padding-left: .5ex}\n",
       "</style><dl class=dl-inline><dt>0%</dt><dd>0</dd><dt>25%</dt><dd>2</dd><dt>50%</dt><dd>4</dd><dt>75%</dt><dd>7</dd><dt>100%</dt><dd>22</dd></dl>\n"
      ],
      "text/latex": [
       "\\begin{description*}\n",
       "\\item[0\\textbackslash{}\\%] 0\n",
       "\\item[25\\textbackslash{}\\%] 2\n",
       "\\item[50\\textbackslash{}\\%] 4\n",
       "\\item[75\\textbackslash{}\\%] 7\n",
       "\\item[100\\textbackslash{}\\%] 22\n",
       "\\end{description*}\n"
      ],
      "text/markdown": [
       "0%\n",
       ":   025%\n",
       ":   250%\n",
       ":   475%\n",
       ":   7100%\n",
       ":   22\n",
       "\n"
      ],
      "text/plain": [
       "  0%  25%  50%  75% 100% \n",
       "   0    2    4    7   22 "
      ]
     },
     "metadata": {},
     "output_type": "display_data"
    }
   ],
   "source": [
    "# quatile\n",
    "quantile(data$V12.aosi.total_score_1_18, na.rm = TRUE)"
   ]
  },
  {
   "cell_type": "markdown",
   "id": "3ce8bee8",
   "metadata": {},
   "source": [
    "Cependant, nous voulons souvent voir ces estimations (et d'autres) pour de nombreuses variables de notre ensemble de données sans avoir à calculer chacune séparément. Cela peut être fait en utilisant **`summary()`**. Ces estimations sont souvent appelées **statistiques sommaires** des données. Nous calculons les statistiques sommaires pour un certain nombre de variables dans l'ensemble de données ci-dessous :"
   ]
  },
  {
   "cell_type": "code",
   "execution_count": 9,
   "id": "5e4d9d2e",
   "metadata": {},
   "outputs": [
    {
     "data": {
      "text/html": [
       "<table class=\"dataframe\">\n",
       "<caption>A data.frame: 6 × 3</caption>\n",
       "<thead>\n",
       "\t<tr><th></th><th scope=col>V12.aosi.total_score_1_18</th><th scope=col>V06.aosi.total_score_1_18</th><th scope=col>V12.aosi.Candidate_Age</th></tr>\n",
       "\t<tr><th></th><th scope=col>&lt;int&gt;</th><th scope=col>&lt;int&gt;</th><th scope=col>&lt;dbl&gt;</th></tr>\n",
       "</thead>\n",
       "<tbody>\n",
       "\t<tr><th scope=row>1</th><td> 3</td><td> 8</td><td>12.5</td></tr>\n",
       "\t<tr><th scope=row>2</th><td>10</td><td>18</td><td>12.4</td></tr>\n",
       "\t<tr><th scope=row>3</th><td> 2</td><td> 4</td><td>12.9</td></tr>\n",
       "\t<tr><th scope=row>4</th><td> 3</td><td>NA</td><td>12.7</td></tr>\n",
       "\t<tr><th scope=row>5</th><td>NA</td><td> 6</td><td>  NA</td></tr>\n",
       "\t<tr><th scope=row>6</th><td> 4</td><td>NA</td><td>12.1</td></tr>\n",
       "</tbody>\n",
       "</table>\n"
      ],
      "text/latex": [
       "A data.frame: 6 × 3\n",
       "\\begin{tabular}{r|lll}\n",
       "  & V12.aosi.total\\_score\\_1\\_18 & V06.aosi.total\\_score\\_1\\_18 & V12.aosi.Candidate\\_Age\\\\\n",
       "  & <int> & <int> & <dbl>\\\\\n",
       "\\hline\n",
       "\t1 &  3 &  8 & 12.5\\\\\n",
       "\t2 & 10 & 18 & 12.4\\\\\n",
       "\t3 &  2 &  4 & 12.9\\\\\n",
       "\t4 &  3 & NA & 12.7\\\\\n",
       "\t5 & NA &  6 &   NA\\\\\n",
       "\t6 &  4 & NA & 12.1\\\\\n",
       "\\end{tabular}\n"
      ],
      "text/markdown": [
       "\n",
       "A data.frame: 6 × 3\n",
       "\n",
       "| <!--/--> | V12.aosi.total_score_1_18 &lt;int&gt; | V06.aosi.total_score_1_18 &lt;int&gt; | V12.aosi.Candidate_Age &lt;dbl&gt; |\n",
       "|---|---|---|---|\n",
       "| 1 |  3 |  8 | 12.5 |\n",
       "| 2 | 10 | 18 | 12.4 |\n",
       "| 3 |  2 |  4 | 12.9 |\n",
       "| 4 |  3 | NA | 12.7 |\n",
       "| 5 | NA |  6 |   NA |\n",
       "| 6 |  4 | NA | 12.1 |\n",
       "\n"
      ],
      "text/plain": [
       "  V12.aosi.total_score_1_18 V06.aosi.total_score_1_18 V12.aosi.Candidate_Age\n",
       "1  3                         8                        12.5                  \n",
       "2 10                        18                        12.4                  \n",
       "3  2                         4                        12.9                  \n",
       "4  3                        NA                        12.7                  \n",
       "5 NA                         6                          NA                  \n",
       "6  4                        NA                        12.1                  "
      ]
     },
     "metadata": {},
     "output_type": "display_data"
    }
   ],
   "source": [
    "data_petite <- data %>% \n",
    "    select(V12.aosi.total_score_1_18, V06.aosi.total_score_1_18,\n",
    "         V12.aosi.Candidate_Age)\n",
    "\n",
    "\n",
    "head(data_petite)"
   ]
  },
  {
   "cell_type": "code",
   "execution_count": 10,
   "id": "551eb20b",
   "metadata": {},
   "outputs": [
    {
     "data": {
      "text/plain": [
       " V12.aosi.total_score_1_18 V06.aosi.total_score_1_18 V12.aosi.Candidate_Age\n",
       " Min.   : 0.00             Min.   : 1.000            Min.   : 0.00         \n",
       " 1st Qu.: 2.00             1st Qu.: 7.000            1st Qu.:12.20         \n",
       " Median : 4.00             Median : 9.000            Median :12.50         \n",
       " Mean   : 4.98             Mean   : 9.562            Mean   :12.59         \n",
       " 3rd Qu.: 7.00             3rd Qu.:12.000            3rd Qu.:12.90         \n",
       " Max.   :22.00             Max.   :28.000            Max.   :16.70         \n",
       " NA's   :75                NA's   :105               NA's   :75            "
      ]
     },
     "metadata": {},
     "output_type": "display_data"
    }
   ],
   "source": [
    "summary(data_petite)"
   ]
  },
  {
   "cell_type": "markdown",
   "id": "a2e6836b",
   "metadata": {},
   "source": [
    "Il existe également plusieurs packages qui étendent la fonctionnalité de R dans le calcul de ces statistiques sommaires. Un package recommandé est le package **`Hmisc`**. Il comprend la fonction **`describe()`** qui est une version améliorée de `summary()`, `describe()` est utilisé ci-dessous avec les mêmes variables :\n"
   ]
  },
  {
   "cell_type": "code",
   "execution_count": 11,
   "id": "917ac964",
   "metadata": {},
   "outputs": [
    {
     "name": "stderr",
     "output_type": "stream",
     "text": [
      "\n",
      "Attaching package: 'Hmisc'\n",
      "\n",
      "\n",
      "The following objects are masked from 'package:dplyr':\n",
      "\n",
      "    src, summarize\n",
      "\n",
      "\n",
      "The following objects are masked from 'package:base':\n",
      "\n",
      "    format.pval, units\n",
      "\n",
      "\n"
     ]
    },
    {
     "data": {
      "text/plain": [
       "data_petite \n",
       "\n",
       " 3  Variables      587  Observations\n",
       "--------------------------------------------------------------------------------\n",
       "V12.aosi.total_score_1_18 \n",
       "       n  missing distinct     Info     Mean      Gmd      .05      .10 \n",
       "     512       75       20     0.99     4.98    3.901        1        1 \n",
       "     .25      .50      .75      .90      .95 \n",
       "       2        4        7       10       12 \n",
       "                                                                            \n",
       "Value          0     1     2     3     4     5     6     7     8     9    10\n",
       "Frequency     23    51    66    68    72    51    34    40    27    18    21\n",
       "Proportion 0.045 0.100 0.129 0.133 0.141 0.100 0.066 0.078 0.053 0.035 0.041\n",
       "                                                                \n",
       "Value         11    12    13    14    15    16    17    20    22\n",
       "Frequency     10     8     7     6     4     3     1     1     1\n",
       "Proportion 0.020 0.016 0.014 0.012 0.008 0.006 0.002 0.002 0.002\n",
       "\n",
       "For the frequency table, variable is rounded to the nearest 0\n",
       "--------------------------------------------------------------------------------\n",
       "V06.aosi.total_score_1_18 \n",
       "       n  missing distinct     Info     Mean      Gmd      .05      .10 \n",
       "     482      105       24    0.994    9.562    4.622        4        5 \n",
       "     .25      .50      .75      .90      .95 \n",
       "       7        9       12       15       17 \n",
       "\n",
       "lowest :  1  2  3  4  5, highest: 20 21 22 24 28\n",
       "--------------------------------------------------------------------------------\n",
       "V12.aosi.Candidate_Age \n",
       "       n  missing distinct     Info     Mean      Gmd      .05      .10 \n",
       "     512       75       37    0.994    12.59   0.7036     11.9     12.0 \n",
       "     .25      .50      .75      .90      .95 \n",
       "    12.2     12.5     12.9     13.4     13.9 \n",
       "\n",
       "lowest : 0    11.4 11.6 11.7 11.8, highest: 14.9 15.1 15.6 15.9 16.7\n",
       "--------------------------------------------------------------------------------"
      ]
     },
     "metadata": {},
     "output_type": "display_data"
    }
   ],
   "source": [
    "library(Hmisc)\n",
    "describe(data_petite)"
   ]
  },
  {
   "cell_type": "markdown",
   "id": "2d7137ed",
   "metadata": {},
   "source": [
    "## 1.2) Prise en compte de la variance d'estimation et des tests d'hypothèse\n",
    "\n",
    "Bien que ces estimations fournissent des approximations des paramètres d'intérêt, elles :\n",
    "\n",
    "1) comportent une certaine marge d'erreur\n",
    "\n",
    "2) varient d'un échantillon à l'autre.\n",
    "\n",
    "Pour illustrer cela, 5 ensembles de données simulés, chacun de taille 100 et avec une seule variable, sont générés sous une moyenne de 0. La moyenne de l'échantillon est calculée pour chacun de ces 5 échantillons. Nous constatons que\n",
    "\n",
    "1) ces moyennes d'échantillon diffèrent d'un échantillon à l'autre\n",
    "\n",
    "2) aucune n'est exactement égale à 0.\n",
    "\n",
    "Ainsi, nous devons tenir compte de cette variance lors de la fourniture des approximations.\n"
   ]
  },
  {
   "cell_type": "code",
   "execution_count": 12,
   "id": "6f541127",
   "metadata": {},
   "outputs": [
    {
     "data": {
      "text/html": [
       "<ol>\n",
       "\t<li>0.221670088271868</li>\n",
       "\t<li>-0.0986858939765272</li>\n",
       "\t<li>-0.0504832772423357</li>\n",
       "\t<li>0.000294163682141951</li>\n",
       "\t<li>-0.0618869258046182</li>\n",
       "</ol>\n"
      ],
      "text/latex": [
       "\\begin{enumerate}\n",
       "\\item 0.221670088271868\n",
       "\\item -0.0986858939765272\n",
       "\\item -0.0504832772423357\n",
       "\\item 0.000294163682141951\n",
       "\\item -0.0618869258046182\n",
       "\\end{enumerate}\n"
      ],
      "text/markdown": [
       "1. 0.221670088271868\n",
       "2. -0.0986858939765272\n",
       "3. -0.0504832772423357\n",
       "4. 0.000294163682141951\n",
       "5. -0.0618869258046182\n",
       "\n",
       "\n"
      ],
      "text/plain": [
       "[[1]]\n",
       "[1] 0.2216701\n",
       "\n",
       "[[2]]\n",
       "[1] -0.09868589\n",
       "\n",
       "[[3]]\n",
       "[1] -0.05048328\n",
       "\n",
       "[[4]]\n",
       "[1] 0.0002941637\n",
       "\n",
       "[[5]]\n",
       "[1] -0.06188693\n"
      ]
     },
     "metadata": {},
     "output_type": "display_data"
    }
   ],
   "source": [
    "data_simul <- list()\n",
    "\n",
    "for(i in 1:5){\n",
    "    data_simul[[i]] <- rnorm(100, 0, 1) # simuler 100 obs de moyenne 0 et variance 1 \n",
    "}\n",
    "\n",
    "lapply(data_simul, mean)"
   ]
  },
  {
   "cell_type": "markdown",
   "id": "aa5686a5",
   "metadata": {},
   "source": [
    "## 1.3) Intervalles de confiance\n",
    "\n",
    "Cela se fait généralement en incluant un **intervalle de confiance** avec notre approximation, plus précisément un **intervalle de confiance de $x$%** où $x$ est un nombre compris entre 0 et 100. \n",
    "\n",
    "Intuitivement, nous pouvons interpréter un intervalle de confiance comme une plage \"raisonnable\" de valeurs pour le paramètre d'intérêt en fonction de nos données. Augmenter le pourcentage de l'intervalle de confiance augmente sa largeur, et donc augmente les chances que l'intervalle de confiance à partir d'un échantillon contienne le vrai paramètre. Cependant, cette augmentation de la largeur diminue également la précision des informations que nous recevons de l'intervalle de confiance, il y a donc un compromis. Généralement, on utilise 95% (bien que ce ne soit qu'une convention).\n",
    "\n",
    "À titre d'exemple, nous envisageons de calculer un intervalle de confiance pour la moyenne. Considérez le score total de l'AOSI à 12 mois à partir de notre ensemble de données. Nous avons déjà calculé une estimation de la moyenne, ajoutons un intervalle de confiance à cette estimation. Cela peut être fait en utilisant la fonction **`t.test()`** (qui a d'autres utilisations que nous couvrons plus tard).\n"
   ]
  },
  {
   "cell_type": "code",
   "execution_count": 13,
   "id": "4e3f5d60",
   "metadata": {},
   "outputs": [
    {
     "data": {
      "text/html": [
       "4.98046875"
      ],
      "text/latex": [
       "4.98046875"
      ],
      "text/markdown": [
       "4.98046875"
      ],
      "text/plain": [
       "[1] 4.980469"
      ]
     },
     "metadata": {},
     "output_type": "display_data"
    }
   ],
   "source": [
    "mean(data$V12.aosi.total_score_1_18, na.rm = TRUE)"
   ]
  },
  {
   "cell_type": "code",
   "execution_count": 14,
   "id": "4887e675",
   "metadata": {
    "scrolled": true
   },
   "outputs": [
    {
     "data": {
      "text/plain": [
       "\n",
       "\tOne Sample t-test\n",
       "\n",
       "data:  data$V12.aosi.total_score_1_18\n",
       "t = 31.156, df = 511, p-value < 2.2e-16\n",
       "alternative hypothesis: true mean is not equal to 0\n",
       "95 percent confidence interval:\n",
       " 4.666411 5.294526\n",
       "sample estimates:\n",
       "mean of x \n",
       " 4.980469 \n"
      ]
     },
     "metadata": {},
     "output_type": "display_data"
    }
   ],
   "source": [
    "resultats <- t.test(data$V12.aosi.total_score_1_18, conf.level = 0.95)\n",
    "resultats"
   ]
  },
  {
   "cell_type": "markdown",
   "id": "970580b9",
   "metadata": {},
   "source": [
    "Concentrons-nous sur le bas de la sortie pour le moment, nous couvrirons le haut plus tard. Nous constatons que nous approchons que le score total moyen de l'AOSI à 12 mois dans la population est de 4.98 et un ensemble raisonnable de valeurs pour cette moyenne dans la population est de 4.67 à 5.29 en utilisant un intervalle de confiance de 95%.\n"
   ]
  },
  {
   "cell_type": "code",
   "execution_count": 15,
   "id": "cbf8f779",
   "metadata": {},
   "outputs": [
    {
     "data": {
      "text/html": [
       "<style>\n",
       ".list-inline {list-style: none; margin:0; padding: 0}\n",
       ".list-inline>li {display: inline-block}\n",
       ".list-inline>li:not(:last-child)::after {content: \"\\00b7\"; padding: 0 .5ex}\n",
       "</style>\n",
       "<ol class=list-inline><li>4.66641111277442</li><li>5.29452638722558</li></ol>\n"
      ],
      "text/latex": [
       "\\begin{enumerate*}\n",
       "\\item 4.66641111277442\n",
       "\\item 5.29452638722558\n",
       "\\end{enumerate*}\n"
      ],
      "text/markdown": [
       "1. 4.66641111277442\n",
       "2. 5.29452638722558\n",
       "\n",
       "\n"
      ],
      "text/plain": [
       "[1] 4.666411 5.294526\n",
       "attr(,\"conf.level\")\n",
       "[1] 0.95"
      ]
     },
     "metadata": {},
     "output_type": "display_data"
    }
   ],
   "source": [
    "# Extraction de l'intervalle de confiance\n",
    "int_conf <- resultats$conf.int\n",
    "int_conf"
   ]
  },
  {
   "cell_type": "code",
   "execution_count": 16,
   "id": "74ab597b",
   "metadata": {},
   "outputs": [
    {
     "data": {
      "text/html": [
       "<strong>t:</strong> 31.1557928282454"
      ],
      "text/latex": [
       "\\textbf{t:} 31.1557928282454"
      ],
      "text/markdown": [
       "**t:** 31.1557928282454"
      ],
      "text/plain": [
       "       t \n",
       "31.15579 "
      ]
     },
     "metadata": {},
     "output_type": "display_data"
    }
   ],
   "source": [
    "resultats$statistic"
   ]
  },
  {
   "cell_type": "code",
   "execution_count": 17,
   "id": "36afc803",
   "metadata": {},
   "outputs": [
    {
     "data": {
      "text/html": [
       "<strong>df:</strong> 511"
      ],
      "text/latex": [
       "\\textbf{df:} 511"
      ],
      "text/markdown": [
       "**df:** 511"
      ],
      "text/plain": [
       " df \n",
       "511 "
      ]
     },
     "metadata": {},
     "output_type": "display_data"
    }
   ],
   "source": [
    "resultats$parameter"
   ]
  },
  {
   "cell_type": "code",
   "execution_count": 18,
   "id": "3d2caaac",
   "metadata": {},
   "outputs": [
    {
     "data": {
      "text/html": [
       "3.25417481447708e-120"
      ],
      "text/latex": [
       "3.25417481447708e-120"
      ],
      "text/markdown": [
       "3.25417481447708e-120"
      ],
      "text/plain": [
       "[1] 3.254175e-120"
      ]
     },
     "metadata": {},
     "output_type": "display_data"
    }
   ],
   "source": [
    "resultats$p.value"
   ]
  },
  {
   "cell_type": "code",
   "execution_count": 19,
   "id": "e07ce1ec",
   "metadata": {},
   "outputs": [
    {
     "data": {
      "text/html": [
       "<strong>mean of x:</strong> 4.98046875"
      ],
      "text/latex": [
       "\\textbf{mean of x:} 4.98046875"
      ],
      "text/markdown": [
       "**mean of x:** 4.98046875"
      ],
      "text/plain": [
       "mean of x \n",
       " 4.980469 "
      ]
     },
     "metadata": {},
     "output_type": "display_data"
    }
   ],
   "source": [
    "resultats$estimate"
   ]
  },
  {
   "cell_type": "code",
   "execution_count": 20,
   "id": "a538f9a4",
   "metadata": {},
   "outputs": [
    {
     "data": {
      "text/html": [
       "<strong>mean:</strong> 0"
      ],
      "text/latex": [
       "\\textbf{mean:} 0"
      ],
      "text/markdown": [
       "**mean:** 0"
      ],
      "text/plain": [
       "mean \n",
       "   0 "
      ]
     },
     "metadata": {},
     "output_type": "display_data"
    }
   ],
   "source": [
    "resultats$null.value"
   ]
  },
  {
   "cell_type": "code",
   "execution_count": 21,
   "id": "97241c79",
   "metadata": {
    "scrolled": true
   },
   "outputs": [
    {
     "data": {
      "text/html": [
       "0.159856909354102"
      ],
      "text/latex": [
       "0.159856909354102"
      ],
      "text/markdown": [
       "0.159856909354102"
      ],
      "text/plain": [
       "[1] 0.1598569"
      ]
     },
     "metadata": {},
     "output_type": "display_data"
    }
   ],
   "source": [
    "resultats$stderr"
   ]
  },
  {
   "cell_type": "markdown",
   "id": "01b55c75",
   "metadata": {},
   "source": [
    "Calculon manuellement l'erreur standard :"
   ]
  },
  {
   "cell_type": "code",
   "execution_count": 22,
   "id": "b6affe66",
   "metadata": {},
   "outputs": [
    {
     "data": {
      "text/html": [
       "3.61714894796187"
      ],
      "text/latex": [
       "3.61714894796187"
      ],
      "text/markdown": [
       "3.61714894796187"
      ],
      "text/plain": [
       "[1] 3.617149"
      ]
     },
     "metadata": {},
     "output_type": "display_data"
    }
   ],
   "source": [
    "# écart-type\n",
    "ecart_type <- sd(data$V12.aosi.total_score_1_18, na.rm = TRUE)\n",
    "ecart_type"
   ]
  },
  {
   "cell_type": "code",
   "execution_count": 23,
   "id": "2993ff32",
   "metadata": {},
   "outputs": [
    {
     "data": {
      "text/html": [
       "3.61714894796187"
      ],
      "text/latex": [
       "3.61714894796187"
      ],
      "text/markdown": [
       "3.61714894796187"
      ],
      "text/plain": [
       "[1] 3.617149"
      ]
     },
     "metadata": {},
     "output_type": "display_data"
    }
   ],
   "source": [
    "# écart-type\n",
    "sqrt(var(data$V12.aosi.total_score_1_18, na.rm = TRUE))"
   ]
  },
  {
   "cell_type": "code",
   "execution_count": 24,
   "id": "1e9e3b21",
   "metadata": {},
   "outputs": [
    {
     "data": {
      "text/html": [
       "0.149295714646555"
      ],
      "text/latex": [
       "0.149295714646555"
      ],
      "text/markdown": [
       "0.149295714646555"
      ],
      "text/plain": [
       "[1] 0.1492957"
      ]
     },
     "metadata": {},
     "output_type": "display_data"
    }
   ],
   "source": [
    "# SE = s/sqrt(n)\n",
    "ecart_type / sqrt(length(data$V12.aosi.total_score_1_18))"
   ]
  },
  {
   "cell_type": "code",
   "execution_count": 25,
   "id": "315d7cb4",
   "metadata": {},
   "outputs": [
    {
     "data": {
      "text/html": [
       "5.27308835070725"
      ],
      "text/latex": [
       "5.27308835070725"
      ],
      "text/markdown": [
       "5.27308835070725"
      ],
      "text/plain": [
       "[1] 5.273088"
      ]
     },
     "metadata": {},
     "output_type": "display_data"
    }
   ],
   "source": [
    "# Intervalle de confiance manuellement : Z_score = 1.96 pour 95% niveau de confidence\n",
    "lim_sup <- mean(data$V12.aosi.total_score_1_18, na.rm = TRUE) + 1.96 * ecart_type / sqrt(length(data$V12.aosi.total_score_1_18))\n",
    "lim_sup"
   ]
  },
  {
   "cell_type": "code",
   "execution_count": 26,
   "id": "147f0c2e",
   "metadata": {},
   "outputs": [
    {
     "data": {
      "text/html": [
       "4.68784914929275"
      ],
      "text/latex": [
       "4.68784914929275"
      ],
      "text/markdown": [
       "4.68784914929275"
      ],
      "text/plain": [
       "[1] 4.687849"
      ]
     },
     "metadata": {},
     "output_type": "display_data"
    }
   ],
   "source": [
    "lim_inf <- mean(data$V12.aosi.total_score_1_18, na.rm = TRUE) - 1.96 * ecart_type / sqrt(length(data$V12.aosi.total_score_1_18))\n",
    "lim_inf"
   ]
  },
  {
   "cell_type": "code",
   "execution_count": 27,
   "id": "6bfc0eb7",
   "metadata": {},
   "outputs": [
    {
     "data": {
      "text/html": [
       "'two.sided'"
      ],
      "text/latex": [
       "'two.sided'"
      ],
      "text/markdown": [
       "'two.sided'"
      ],
      "text/plain": [
       "[1] \"two.sided\""
      ]
     },
     "metadata": {},
     "output_type": "display_data"
    }
   ],
   "source": [
    "resultats$alternative"
   ]
  },
  {
   "cell_type": "code",
   "execution_count": 28,
   "id": "5e226386",
   "metadata": {},
   "outputs": [
    {
     "data": {
      "text/html": [
       "'One Sample t-test'"
      ],
      "text/latex": [
       "'One Sample t-test'"
      ],
      "text/markdown": [
       "'One Sample t-test'"
      ],
      "text/plain": [
       "[1] \"One Sample t-test\""
      ]
     },
     "metadata": {},
     "output_type": "display_data"
    }
   ],
   "source": [
    "resultats$method"
   ]
  },
  {
   "cell_type": "code",
   "execution_count": 29,
   "id": "dbf9c0a4",
   "metadata": {},
   "outputs": [
    {
     "data": {
      "text/html": [
       "'data$V12.aosi.total_score_1_18'"
      ],
      "text/latex": [
       "'data\\$V12.aosi.total\\_score\\_1\\_18'"
      ],
      "text/markdown": [
       "'data$V12.aosi.total_score_1_18'"
      ],
      "text/plain": [
       "[1] \"data$V12.aosi.total_score_1_18\""
      ]
     },
     "metadata": {},
     "output_type": "display_data"
    }
   ],
   "source": [
    "resultats$data.name"
   ]
  },
  {
   "cell_type": "markdown",
   "id": "ac9f868c",
   "metadata": {},
   "source": [
    "## 1.4) Test d'hypothèse\n",
    "\n",
    "Pour conclure sur un paramètre à partir des informations de l'échantillon, on utilise généralement des **tests d'hypothèse.**\n",
    "\n",
    "Le cadre est le suivant : supposons que nous voulons déduire si la moyenne pour une variable est une certaine valeur, disons $\\mu_0$. À partir des données que nous avons, nous aimerions faire une supposition éclairée sur l'affirmation selon laquelle la moyenne est $\\mu_0$. Le principe principal de la recherche scientifique est que l'on fait une affirmation ou une hypothèse, on réalise une expérience et on voit si les résultats de l'expérience contredisent l'affirmation. C'est le même raisonnement qui régit les tests d'hypothèse.\n",
    "\n",
    "Pour commencer, nous formulons une affirmation que nous aimerions \"réfuter\" (par exemple, un traitement n'a aucun effet). Cette affirmation est appelée **l'hypothèse nulle.** Par exemple, considérons l'hypothèse nulle selon laquelle la moyenne est $\\mu_0$. Nous définissons ensuite la contradiction à cette affirmation, à savoir que la moyenne n'est PAS $\\mu_0$, comme **l'hypothèse alternative.** Enfin, nous prenons les informations de nos données et nous voyons s'il y a suffisamment de preuves pour **rejeter** l'hypothèse nulle en faveur de l'alternative. S'il n'y a pas suffisamment de preuves, nous **ne parvenons pas à rejeter** l'hypothèse nulle. Autrement dit, nous **n'acceptons jamais** l'hypothèse nulle ou ne prouvons pas que l'hypothèse nulle est vraie. Rappelons que la nulle est notre affirmation de base que nous cherchons à réfuter, si nous acceptons la nulle, nous \"prouverions\" que ce que nous avons initialement affirmé est vrai.\n",
    "\n",
    "**Comment déterminons-nous si nous avons \"suffisamment de preuves\" pour rejeter la nulle ?**\n",
    "\n",
    "Le processus suivant est généralement utilisé. Tout d'abord, nous réduisons nos données à une seule valeur qui est liée à l'hypothèse testée. Cette valeur est appelée une **statistique de test**. Ensuite, nous voyons dans quelle mesure la statistique de test observée de nos données s'écarte de la plage de valeurs que nous attendrions si l'hypothèse nulle était vraie. Si cet écart est suffisamment grand, nous décidons de rejeter la nulle. Sinon, nous ne parvenons pas à rejeter.\n"
   ]
  },
  {
   "cell_type": "markdown",
   "id": "239a7ec4",
   "metadata": {},
   "source": [
    "Cela s'explique mieux par un exemple :\n",
    "\n",
    "Considérons notre hypothèse nulle selon laquelle la moyenne est $\\mu_0$. Intuitivement, nous calculerions la moyenne de l'échantillon et l'utiliserions comme statistique de test, et comparerions sa valeur à $\\mu_0$. Si la moyenne de l'échantillon est \"proche\" de $\\mu_0$, nous ne parviendrons pas à rejeter, sinon nous rejetterions. Par exemple, rappelons que pour le score total de l'AOSI à 12 mois, la moyenne de l'échantillon était de $4.98$. Pour notre hypothèse nulle selon laquelle la moyenne de la population était $\\mu_0=5$, nous n'aurions probablement pas suffisamment de preuves pour rejeter la nulle. Cependant, nous avons besoin d'une manière formelle de mesurer l'écart par rapport à la nulle, de préférence une qui soit indépendante des unités de la variable. La **valeur p** sert de mesure.\n",
    "\n",
    "Formellement :\n",
    "\n",
    "* **<u>la valeur p**</u> **:** mesure la probabilité de voir une valeur de statistique de test aussi extrême ou plus extrême que l'hypothèse nulle que la valeur de statistique de test que vous avez réellement observée.\n",
    "\n",
    "Informellement, nous pouvons considérer une valeur p comme une mesure indépendante des unités de la mesure dans laquelle nos données s'écartent de l'hypothèse nulle. Nous calculons la valeur p en utilisant la valeur observée de la statistique de test ainsi que la **distribution de la statistique de test** (également appelée sa **distribution d'échantillonnage**). Cette distribution est comment nous sommes capables de calculer la probabilité que la valeur p reflète.\n",
    "\n",
    "Pour mener le test d'hypothèse correspondant à l'hypothèse nulle selon laquelle la moyenne de la population est 0, un **test t à un échantillon (one sample t-test)** est souvent utilisé. Nous couvrirons cela plus en détail plus tard, ici, nous l'utilisons pour illustrer les concepts ci-dessus. La fonction **`t.test()`** peut également être utilisée pour mener ce test d'hypothèse. Nous considérons le test si la moyenne du score total de l'AOSI à 12 mois est 0. Notons que nous pouvons choisir une valeur différente de 0 à utiliser dans notre hypothèse nulle en ajoutant l'argument $mu=x$, où $x$ est la valeur d'intérêt.\n"
   ]
  },
  {
   "cell_type": "code",
   "execution_count": 30,
   "id": "b7a53d85",
   "metadata": {},
   "outputs": [
    {
     "data": {
      "text/plain": [
       "\n",
       "\tOne Sample t-test\n",
       "\n",
       "data:  data$V12.aosi.total_score_1_18\n",
       "t = 31.156, df = 511, p-value < 2.2e-16\n",
       "alternative hypothesis: true mean is not equal to 0\n",
       "95 percent confidence interval:\n",
       " 4.666411 5.294526\n",
       "sample estimates:\n",
       "mean of x \n",
       " 4.980469 \n"
      ]
     },
     "metadata": {},
     "output_type": "display_data"
    }
   ],
   "source": [
    "t.test(data$V12.aosi.total_score_1_18)"
   ]
  },
  {
   "cell_type": "markdown",
   "id": "5f92daa3",
   "metadata": {},
   "source": [
    "La partie supérieure de la sortie contient les résultats du test d'hypothèse. Nous voyons que la statistique de test (indiquée par $t$) est de $31.156$ et la valeur $p$ correspondante est essentiellement $0.$ Notons qu'il y a une correspondance biunivoque (une correspondance qui d'un élément d'un premier ensemble fait passer à un seul élément d'un second, et réciproquement) entre la valeur de la statistique de test et la valeur $p.$ Ainsi, il suffit de rapporter uniquement la valeur$ p.$ Nous voyons que la valeur $p$ est très petite, une petite valeur $p$ implique que les données s'écartent de la nulle. Cependant, pour prendre une décision de rejet ou de non-rejet, nous devons fixer un seuil pour cette valeur $p.$ Généralement, les gens choisissent $0.05$ comme seuil, en dessous de $0.05,$ cela implique que les preuves sont suffisamment fortes pour rejeter et au-dessus de $0.05,$ cela implique que les preuves ne sont pas suffisantes. Cependant, c'est juste une règle empirique et on pourrait justifier un seuil différent.\n",
    "\n",
    "De plus, il peut ne pas être sage de prendre une décision tout ou rien en termes de juger de la valeur scientifique des résultats. Utiliser un seuil de valeur $p$ implique qu'une valeur $p$ de $0.051$ a la même interprétation qu'une valeur $p$ de $0.51$ et qu'une valeur $p$ de $0.049$ est une preuve \"significative\" tandis qu'une valeur $p$ de $0.051$ ne l'est pas. Cela limite considérablement l'information scientifique fournie par les résultats. Il est préférable d'interpréter les valeurs $p$ de manière plus large et en termes de force de preuve. Par exemple, une valeur $p$ de $0.06$ ou $0.025$ peut indiquer une \"forte preuve\" en faveur de l'hypothèse alternative et $0.10$ ou $0.12$ peut indiquer une \"preuve modérée\". Réduire simplement l'interprétation à \"significatif\" ou \"non significatif\" n'est pas optimal et devrait être évité.\n"
   ]
  },
  {
   "cell_type": "markdown",
   "id": "9f105fce",
   "metadata": {},
   "source": [
    "## 1.5) Tests d'hypothèses avec les moyennes\n",
    "\n",
    "Ici, nous couvrons les méthodes pour mener des tests d'hypothèses avec les moyennes de population. Nous couvrons les **tests t** et **ANOVA**. Nous illustrons cela en utilisant le score total AOSI à 12 mois et le groupe de diagnostic (High Risk: ASD, High Risk: Negative, Low Risk: Negative).\n",
    "\n",
    "### 1.5.1) Tests t (test de Student) : Un échantillon\n",
    "\n",
    "En anglais : **One Sample t-tests**\n",
    "\n",
    "Tout d'abord, considérons le test de l'hypothèse nulle selon laquelle la moyenne du score total AOSI à 12 mois est de 0 dans la population. Comme discuté précédemment, cette **comparaison d'une seule moyenne à une valeur** est généralement effectuée avec un **test t pour un échantillon**. Rappelons-nous que chaque fois que nous faisons un test d'hypothèse, nous avons besoin des éléments suivants :\n",
    "\n",
    "1) Statistique de test\n",
    "2) Distribution de la statistique de test\n",
    "3) Valeur $p$ de cette distribution et de la valeur observée de la statistique de test\n",
    "\n",
    "Dans ce cas, la statistique de test est notée par $t$ car elle a une **distribution $t$**. Cette statistique de test $t$ est égale à la moyenne de l'échantillon moins la valeur nulle (souvent 0) puis divisée par l'étendue de la moyenne de l'échantillon (appelée **erreur standard**) :\n",
    "\n",
    "$$t = \\frac{\\bar{X} - \\mu}{s/\\sqrt{n}}$$\n",
    "\n",
    "où :\n",
    "\n",
    "* $\\bar{X}$ est la moyenne de l'echantillon\n",
    "* $\\mu$ est la moyenne de l'hypothèse nulle \n",
    "* $s$ est l'écart-type de l'echantillon\n",
    "\n",
    "Voir le projet que nous avions déjà fait regardant [les tests statistiques sur Python](https://github.com/Dahamey/Hypothesis-Testing/blob/main/Python/Hypothesis%20Tests%20in%20Python%20.ipynb)\n",
    "\n",
    "Les distributions $T$ sont différenciées par le paramètre appelé **degrés de liberté** (similaire à la manière dont les distributions normales sont différenciées par leur moyenne et leur variance). En utilisant la valeur de $T$ avec la valeur des degrés de liberté et la distribution $T$, les composantes 1) et 2), nous pouvons calculer une valeur $p.$ Ces trois composantes sont fournies dans la sortie de **`t.test()`**, ainsi que l'hypothèse alternative du test (que la moyenne n'est pas de 0).\n"
   ]
  },
  {
   "cell_type": "code",
   "execution_count": 31,
   "id": "96716090",
   "metadata": {},
   "outputs": [
    {
     "data": {
      "text/plain": [
       "\n",
       "\tOne Sample t-test\n",
       "\n",
       "data:  data$V12.aosi.total_score_1_18\n",
       "t = 31.156, df = 511, p-value < 2.2e-16\n",
       "alternative hypothesis: true mean is not equal to 0\n",
       "95 percent confidence interval:\n",
       " 4.666411 5.294526\n",
       "sample estimates:\n",
       "mean of x \n",
       " 4.980469 \n"
      ]
     },
     "metadata": {},
     "output_type": "display_data"
    }
   ],
   "source": [
    "t.test(data$V12.aosi.total_score_1_18)"
   ]
  },
  {
   "cell_type": "markdown",
   "id": "9868935d",
   "metadata": {},
   "source": [
    "* Nous voyons qu'avec une valeur $p$ d'environ 0, nous avons des preuves solides en faveur du fait que la moyenne du score total AOSI à 12 mois n'est pas égale à 0.\n",
    "\n",
    "* Remarquons également que nous pouvons voir que 0 est bien en dehors de l'intervalle de confiance à 95 %, ce qui indique que 0 n'est pas une valeur raisonnable pour la moyenne de la population basée sur ce jeu de données (ce qui pointe vers l'hypothèse alternative). Il s'avère que les valeurs $p$ et les intervalles de confiance sont généralement liés et seront en accord de cette manière **par leur conception**.\n",
    "\n",
    "Notons que pour que ce processus soit valide, certaines hypothèses (assumptions) sont faites. Elles sont :\n",
    "\n",
    "* **a) Le score total AOSI à 12 mois est distribué normalement**\n",
    "\n",
    "* **b) Toutes les observations sont indépendantes.**\n",
    "\n",
    "Si une ou plusieurs de ces hypothèses sont violées, les résultats de notre test t pour un échantillon seront invalides.\n"
   ]
  },
  {
   "cell_type": "markdown",
   "id": "f6df48d9",
   "metadata": {},
   "source": [
    "### 1.5.2) Tests t (test de Student) : Deux echantillons\n",
    "\n",
    "En anglais : **Two-Sample t-tests.**\n",
    "\n",
    "Maintenant, supposons que nous voulions **comparer la moyenne** du score total AOSI à 12 mois **entre deux groupes** de diagnostic, tels que High Risk: ASD et High Risk: Negative.\n",
    "\n",
    "Plus précisément, l'hypothèse nulle sera que les moyennes sont les mêmes entre les deux groupes. Le test correspondant courant est appelé un **test t à deux échantillons**. Encore une fois, nous utilisons la fonction **`t.test()`**. Ici, nous utilisons la notation **`y~x `**où **x** est la variable de regroupement pour effectuer le test à deux échantillons. Nous obtiendrons à nouveau une statistique de test $t,$ des degrés de liberté et une valeur $p.$ Comme dans le cas d'un échantillon, cette statistique de test a également une distribution $t$."
   ]
  },
  {
   "cell_type": "code",
   "execution_count": 32,
   "id": "2721fd79",
   "metadata": {},
   "outputs": [
    {
     "data": {
      "text/html": [
       "<table class=\"dataframe\">\n",
       "<caption>A data.frame: 6 × 22</caption>\n",
       "<thead>\n",
       "\t<tr><th></th><th scope=col>Identifiers</th><th scope=col>SSM_ASD_v24</th><th scope=col>V24.demographics.Risk</th><th scope=col>GROUP</th><th scope=col>Study_Site</th><th scope=col>Gender</th><th scope=col>V06.aosi.Candidate_Age</th><th scope=col>V12.aosi.Candidate_Age</th><th scope=col>V06.aosi.total_score_1_18</th><th scope=col>V12.aosi.total_score_1_18</th><th scope=col>⋯</th><th scope=col>V06.mullen.Candidate_Age</th><th scope=col>V12.mullen.Candidate_Age</th><th scope=col>V36.mullen.cognitive_t_score_sum</th><th scope=col>V24.mullen.cognitive_t_score_sum</th><th scope=col>V06.mullen.cognitive_t_score_sum</th><th scope=col>V12.mullen.cognitive_t_score_sum</th><th scope=col>V36.mullen.composite_standard_score</th><th scope=col>V24.mullen.composite_standard_score</th><th scope=col>V06.mullen.composite_standard_score</th><th scope=col>V12.mullen.composite_standard_score</th></tr>\n",
       "\t<tr><th></th><th scope=col>&lt;int&gt;</th><th scope=col>&lt;chr&gt;</th><th scope=col>&lt;chr&gt;</th><th scope=col>&lt;chr&gt;</th><th scope=col>&lt;chr&gt;</th><th scope=col>&lt;chr&gt;</th><th scope=col>&lt;dbl&gt;</th><th scope=col>&lt;dbl&gt;</th><th scope=col>&lt;int&gt;</th><th scope=col>&lt;int&gt;</th><th scope=col>⋯</th><th scope=col>&lt;dbl&gt;</th><th scope=col>&lt;dbl&gt;</th><th scope=col>&lt;int&gt;</th><th scope=col>&lt;int&gt;</th><th scope=col>&lt;int&gt;</th><th scope=col>&lt;int&gt;</th><th scope=col>&lt;int&gt;</th><th scope=col>&lt;int&gt;</th><th scope=col>&lt;int&gt;</th><th scope=col>&lt;int&gt;</th></tr>\n",
       "</thead>\n",
       "<tbody>\n",
       "\t<tr><th scope=row>1</th><td>1</td><td>YES_ASD</td><td>HR</td><td>HR_ASD</td><td>PHI</td><td>Male</td><td>7.1</td><td>12.5</td><td> 8</td><td> 3</td><td>⋯</td><td>7.1</td><td>12.5</td><td>153</td><td>123</td><td>179</td><td>172</td><td> 77</td><td>65</td><td> 90</td><td> 86</td></tr>\n",
       "\t<tr><th scope=row>2</th><td>2</td><td>YES_ASD</td><td>HR</td><td>HR_ASD</td><td>PHI</td><td>Male</td><td>6.1</td><td>12.4</td><td>18</td><td>10</td><td>⋯</td><td>6.1</td><td>12.4</td><td>110</td><td>124</td><td>170</td><td>124</td><td> 59</td><td>65</td><td> 85</td><td> 65</td></tr>\n",
       "\t<tr><th scope=row>3</th><td>3</td><td>YES_ASD</td><td>HR</td><td>HR_ASD</td><td>PHI</td><td>Male</td><td>6.6</td><td>12.9</td><td> 4</td><td> 2</td><td>⋯</td><td>6.6</td><td>12.9</td><td>117</td><td>134</td><td>183</td><td>219</td><td> 62</td><td>69</td><td> 92</td><td>110</td></tr>\n",
       "\t<tr><th scope=row>4</th><td>4</td><td>YES_ASD</td><td>HR</td><td>HR_ASD</td><td>PHI</td><td>Male</td><td> NA</td><td>12.7</td><td>NA</td><td> 3</td><td>⋯</td><td> NA</td><td>12.7</td><td>152</td><td>107</td><td> NA</td><td>219</td><td> 77</td><td>58</td><td> NA</td><td>110</td></tr>\n",
       "\t<tr><th scope=row>5</th><td>5</td><td>NO_ASD </td><td>HR</td><td>HR_neg</td><td>PHI</td><td>Male</td><td>6.8</td><td>  NA</td><td> 6</td><td>NA</td><td>⋯</td><td>6.8</td><td>  NA</td><td>226</td><td>173</td><td>226</td><td> NA</td><td>113</td><td>87</td><td>113</td><td> NA</td></tr>\n",
       "\t<tr><th scope=row>6</th><td>6</td><td>NO_ASD </td><td>HR</td><td>HR_neg</td><td>PHI</td><td>Male</td><td> NA</td><td>12.1</td><td>NA</td><td> 4</td><td>⋯</td><td> NA</td><td>12.1</td><td>184</td><td>196</td><td> NA</td><td>155</td><td> 92</td><td>98</td><td> NA</td><td> 78</td></tr>\n",
       "</tbody>\n",
       "</table>\n"
      ],
      "text/latex": [
       "A data.frame: 6 × 22\n",
       "\\begin{tabular}{r|lllllllllllllllllllll}\n",
       "  & Identifiers & SSM\\_ASD\\_v24 & V24.demographics.Risk & GROUP & Study\\_Site & Gender & V06.aosi.Candidate\\_Age & V12.aosi.Candidate\\_Age & V06.aosi.total\\_score\\_1\\_18 & V12.aosi.total\\_score\\_1\\_18 & ⋯ & V06.mullen.Candidate\\_Age & V12.mullen.Candidate\\_Age & V36.mullen.cognitive\\_t\\_score\\_sum & V24.mullen.cognitive\\_t\\_score\\_sum & V06.mullen.cognitive\\_t\\_score\\_sum & V12.mullen.cognitive\\_t\\_score\\_sum & V36.mullen.composite\\_standard\\_score & V24.mullen.composite\\_standard\\_score & V06.mullen.composite\\_standard\\_score & V12.mullen.composite\\_standard\\_score\\\\\n",
       "  & <int> & <chr> & <chr> & <chr> & <chr> & <chr> & <dbl> & <dbl> & <int> & <int> & ⋯ & <dbl> & <dbl> & <int> & <int> & <int> & <int> & <int> & <int> & <int> & <int>\\\\\n",
       "\\hline\n",
       "\t1 & 1 & YES\\_ASD & HR & HR\\_ASD & PHI & Male & 7.1 & 12.5 &  8 &  3 & ⋯ & 7.1 & 12.5 & 153 & 123 & 179 & 172 &  77 & 65 &  90 &  86\\\\\n",
       "\t2 & 2 & YES\\_ASD & HR & HR\\_ASD & PHI & Male & 6.1 & 12.4 & 18 & 10 & ⋯ & 6.1 & 12.4 & 110 & 124 & 170 & 124 &  59 & 65 &  85 &  65\\\\\n",
       "\t3 & 3 & YES\\_ASD & HR & HR\\_ASD & PHI & Male & 6.6 & 12.9 &  4 &  2 & ⋯ & 6.6 & 12.9 & 117 & 134 & 183 & 219 &  62 & 69 &  92 & 110\\\\\n",
       "\t4 & 4 & YES\\_ASD & HR & HR\\_ASD & PHI & Male &  NA & 12.7 & NA &  3 & ⋯ &  NA & 12.7 & 152 & 107 &  NA & 219 &  77 & 58 &  NA & 110\\\\\n",
       "\t5 & 5 & NO\\_ASD  & HR & HR\\_neg & PHI & Male & 6.8 &   NA &  6 & NA & ⋯ & 6.8 &   NA & 226 & 173 & 226 &  NA & 113 & 87 & 113 &  NA\\\\\n",
       "\t6 & 6 & NO\\_ASD  & HR & HR\\_neg & PHI & Male &  NA & 12.1 & NA &  4 & ⋯ &  NA & 12.1 & 184 & 196 &  NA & 155 &  92 & 98 &  NA &  78\\\\\n",
       "\\end{tabular}\n"
      ],
      "text/markdown": [
       "\n",
       "A data.frame: 6 × 22\n",
       "\n",
       "| <!--/--> | Identifiers &lt;int&gt; | SSM_ASD_v24 &lt;chr&gt; | V24.demographics.Risk &lt;chr&gt; | GROUP &lt;chr&gt; | Study_Site &lt;chr&gt; | Gender &lt;chr&gt; | V06.aosi.Candidate_Age &lt;dbl&gt; | V12.aosi.Candidate_Age &lt;dbl&gt; | V06.aosi.total_score_1_18 &lt;int&gt; | V12.aosi.total_score_1_18 &lt;int&gt; | ⋯ ⋯ | V06.mullen.Candidate_Age &lt;dbl&gt; | V12.mullen.Candidate_Age &lt;dbl&gt; | V36.mullen.cognitive_t_score_sum &lt;int&gt; | V24.mullen.cognitive_t_score_sum &lt;int&gt; | V06.mullen.cognitive_t_score_sum &lt;int&gt; | V12.mullen.cognitive_t_score_sum &lt;int&gt; | V36.mullen.composite_standard_score &lt;int&gt; | V24.mullen.composite_standard_score &lt;int&gt; | V06.mullen.composite_standard_score &lt;int&gt; | V12.mullen.composite_standard_score &lt;int&gt; |\n",
       "|---|---|---|---|---|---|---|---|---|---|---|---|---|---|---|---|---|---|---|---|---|---|\n",
       "| 1 | 1 | YES_ASD | HR | HR_ASD | PHI | Male | 7.1 | 12.5 |  8 |  3 | ⋯ | 7.1 | 12.5 | 153 | 123 | 179 | 172 |  77 | 65 |  90 |  86 |\n",
       "| 2 | 2 | YES_ASD | HR | HR_ASD | PHI | Male | 6.1 | 12.4 | 18 | 10 | ⋯ | 6.1 | 12.4 | 110 | 124 | 170 | 124 |  59 | 65 |  85 |  65 |\n",
       "| 3 | 3 | YES_ASD | HR | HR_ASD | PHI | Male | 6.6 | 12.9 |  4 |  2 | ⋯ | 6.6 | 12.9 | 117 | 134 | 183 | 219 |  62 | 69 |  92 | 110 |\n",
       "| 4 | 4 | YES_ASD | HR | HR_ASD | PHI | Male |  NA | 12.7 | NA |  3 | ⋯ |  NA | 12.7 | 152 | 107 |  NA | 219 |  77 | 58 |  NA | 110 |\n",
       "| 5 | 5 | NO_ASD  | HR | HR_neg | PHI | Male | 6.8 |   NA |  6 | NA | ⋯ | 6.8 |   NA | 226 | 173 | 226 |  NA | 113 | 87 | 113 |  NA |\n",
       "| 6 | 6 | NO_ASD  | HR | HR_neg | PHI | Male |  NA | 12.1 | NA |  4 | ⋯ |  NA | 12.1 | 184 | 196 |  NA | 155 |  92 | 98 |  NA |  78 |\n",
       "\n"
      ],
      "text/plain": [
       "  Identifiers SSM_ASD_v24 V24.demographics.Risk GROUP  Study_Site Gender\n",
       "1 1           YES_ASD     HR                    HR_ASD PHI        Male  \n",
       "2 2           YES_ASD     HR                    HR_ASD PHI        Male  \n",
       "3 3           YES_ASD     HR                    HR_ASD PHI        Male  \n",
       "4 4           YES_ASD     HR                    HR_ASD PHI        Male  \n",
       "5 5           NO_ASD      HR                    HR_neg PHI        Male  \n",
       "6 6           NO_ASD      HR                    HR_neg PHI        Male  \n",
       "  V06.aosi.Candidate_Age V12.aosi.Candidate_Age V06.aosi.total_score_1_18\n",
       "1 7.1                    12.5                    8                       \n",
       "2 6.1                    12.4                   18                       \n",
       "3 6.6                    12.9                    4                       \n",
       "4  NA                    12.7                   NA                       \n",
       "5 6.8                      NA                    6                       \n",
       "6  NA                    12.1                   NA                       \n",
       "  V12.aosi.total_score_1_18 ⋯ V06.mullen.Candidate_Age V12.mullen.Candidate_Age\n",
       "1  3                        ⋯ 7.1                      12.5                    \n",
       "2 10                        ⋯ 6.1                      12.4                    \n",
       "3  2                        ⋯ 6.6                      12.9                    \n",
       "4  3                        ⋯  NA                      12.7                    \n",
       "5 NA                        ⋯ 6.8                        NA                    \n",
       "6  4                        ⋯  NA                      12.1                    \n",
       "  V36.mullen.cognitive_t_score_sum V24.mullen.cognitive_t_score_sum\n",
       "1 153                              123                             \n",
       "2 110                              124                             \n",
       "3 117                              134                             \n",
       "4 152                              107                             \n",
       "5 226                              173                             \n",
       "6 184                              196                             \n",
       "  V06.mullen.cognitive_t_score_sum V12.mullen.cognitive_t_score_sum\n",
       "1 179                              172                             \n",
       "2 170                              124                             \n",
       "3 183                              219                             \n",
       "4  NA                              219                             \n",
       "5 226                               NA                             \n",
       "6  NA                              155                             \n",
       "  V36.mullen.composite_standard_score V24.mullen.composite_standard_score\n",
       "1  77                                 65                                 \n",
       "2  59                                 65                                 \n",
       "3  62                                 69                                 \n",
       "4  77                                 58                                 \n",
       "5 113                                 87                                 \n",
       "6  92                                 98                                 \n",
       "  V06.mullen.composite_standard_score V12.mullen.composite_standard_score\n",
       "1  90                                  86                                \n",
       "2  85                                  65                                \n",
       "3  92                                 110                                \n",
       "4  NA                                 110                                \n",
       "5 113                                  NA                                \n",
       "6  NA                                  78                                "
      ]
     },
     "metadata": {},
     "output_type": "display_data"
    }
   ],
   "source": [
    "head(data)"
   ]
  },
  {
   "cell_type": "code",
   "execution_count": 33,
   "id": "df45dfec",
   "metadata": {},
   "outputs": [
    {
     "data": {
      "text/plain": [
       "\n",
       "\tWelch Two Sample t-test\n",
       "\n",
       "data:  V12.aosi.total_score_1_18 by GROUP\n",
       "t = 4.9977, df = 113.84, p-value = 2.119e-06\n",
       "alternative hypothesis: true difference in means between group HR_ASD and group HR_neg is not equal to 0\n",
       "95 percent confidence interval:\n",
       " 1.506931 3.486090\n",
       "sample estimates:\n",
       "mean in group HR_ASD mean in group HR_neg \n",
       "            7.337500             4.840989 \n"
      ]
     },
     "metadata": {},
     "output_type": "display_data"
    }
   ],
   "source": [
    "data_high_risk <- data  %>% \n",
    "    filter((GROUP == \"HR_ASD\") | (GROUP ==\"HR_neg\"))\n",
    "\n",
    "t.test(data = data_high_risk, V12.aosi.total_score_1_18~GROUP)"
   ]
  },
  {
   "cell_type": "markdown",
   "id": "8dc5d99b",
   "metadata": {},
   "source": [
    "Nous pouvons voir que R fournit ce qui suit, en commençant par le haut :\n",
    "\n",
    "1) Statistique de test $t,$ degrés de liberté et valeur $p$\n",
    "2) Hypothèse alternative\n",
    "3) Intervalle de confiance à $95\\%$ pour la **différence des moyennes**\n",
    "4) Moyennes des échantillons pour chaque groupe\n",
    "\n",
    "Nous constatons que, comme prévu, sur la base d'une valeur $p$ d'environ 0, nous avons des preuves solides que les scores totaux moyens AOSI à 12 mois sont différents entre High Risk: ASD et High Risk: Negative. Cela peut également être observé en voyant que 0 est loin de l'intervalle de confiance et que les moyennes des échantillons de 7.34 et 4.84 sont assez différentes l'une de l'autre.\n"
   ]
  },
  {
   "cell_type": "markdown",
   "id": "40fd5d8b",
   "metadata": {},
   "source": [
    "### 1.5.3) ANOVA (Analysis of Variance)\n",
    "\n",
    "Supposons que nous voulions **comparer les moyennes de plus de deux groupes.** Par exemple, supposons que nous voulions comparer la moyenne du score total AOSI à 12 mois pour les groupes High Risk: ASD et High Risk: Negative, et à Lwo Risk: Negative. Cela se fait en utilisant un **test F ANOVA**. \n",
    "\n",
    "L'hypothèse nulle est que la moyenne du score total AOSI à 12 mois est la même dans les trois groupes. L'alternative est qu'au moins une moyenne de groupe diffère du reste.\n",
    "\n",
    "Nous pouvons réaliser ce test dans R en utilisant **`aov()`**. Encore une fois, la fonction utilise la notation de formule (**`y~x`**). Nous effectuons ce test ci-dessous. Notons que de nombreux composants sont calculés par R pour ce test. Pour obtenir les principales valeurs d'intérêt, nous devons enregistrer la sortie en tant qu'objet (qui stocke tous les composants) et ensuite utiliser la fonction **`summary()`** sur cet objet :\n"
   ]
  },
  {
   "cell_type": "code",
   "execution_count": 35,
   "id": "1af4f178",
   "metadata": {},
   "outputs": [
    {
     "data": {
      "text/html": [
       "<style>\n",
       ".list-inline {list-style: none; margin:0; padding: 0}\n",
       ".list-inline>li {display: inline-block}\n",
       ".list-inline>li:not(:last-child)::after {content: \"\\00b7\"; padding: 0 .5ex}\n",
       "</style>\n",
       "<ol class=list-inline><li>'HR_ASD'</li><li>'HR_neg'</li><li>'LR_neg'</li><li>'LR_ASD'</li></ol>\n"
      ],
      "text/latex": [
       "\\begin{enumerate*}\n",
       "\\item 'HR\\_ASD'\n",
       "\\item 'HR\\_neg'\n",
       "\\item 'LR\\_neg'\n",
       "\\item 'LR\\_ASD'\n",
       "\\end{enumerate*}\n"
      ],
      "text/markdown": [
       "1. 'HR_ASD'\n",
       "2. 'HR_neg'\n",
       "3. 'LR_neg'\n",
       "4. 'LR_ASD'\n",
       "\n",
       "\n"
      ],
      "text/plain": [
       "[1] \"HR_ASD\" \"HR_neg\" \"LR_neg\" \"LR_ASD\""
      ]
     },
     "metadata": {},
     "output_type": "display_data"
    }
   ],
   "source": [
    "unique(data$GROUP)"
   ]
  },
  {
   "cell_type": "code",
   "execution_count": 36,
   "id": "bdd9ad41",
   "metadata": {},
   "outputs": [
    {
     "data": {
      "text/plain": [
       "Call:\n",
       "   aov(formula = V12.aosi.total_score_1_18 ~ GROUP, data = data)\n",
       "\n",
       "Terms:\n",
       "                   GROUP Residuals\n",
       "Sum of Squares   599.433  6086.371\n",
       "Deg. of Freedom        3       508\n",
       "\n",
       "Residual standard error: 3.461365\n",
       "Estimated effects may be unbalanced\n",
       "75 observations deleted due to missingness"
      ]
     },
     "metadata": {},
     "output_type": "display_data"
    }
   ],
   "source": [
    "objet_aov <- aov(V12.aosi.total_score_1_18~GROUP, data= data)\n",
    "objet_aov"
   ]
  },
  {
   "cell_type": "code",
   "execution_count": 37,
   "id": "8de166a7",
   "metadata": {},
   "outputs": [
    {
     "data": {
      "text/plain": [
       "             Df Sum Sq Mean Sq F value   Pr(>F)    \n",
       "GROUP         3    599  199.81   16.68 2.39e-10 ***\n",
       "Residuals   508   6086   11.98                     \n",
       "---\n",
       "Signif. codes:  0 '***' 0.001 '**' 0.01 '*' 0.05 '.' 0.1 ' ' 1\n",
       "75 observations deleted due to missingness"
      ]
     },
     "metadata": {},
     "output_type": "display_data"
    }
   ],
   "source": [
    "summary(objet_aov)"
   ]
  },
  {
   "cell_type": "markdown",
   "id": "9160511a",
   "metadata": {},
   "source": [
    "Nous voyons que les degrés de liberté sont fournis (3 et 508 dans cet exemple), la valeur de la statistique de test (valeur $F=16.68$) et la valeur $p$ correspondante (2.39e-10 ou essentiellement 0).\n",
    "\n",
    "Pour un test F ANOVA, la statistique de test $F$ suit une distribution $F$. Une distribution $F$ est définie par deux paramètres de degrés de liberté. En utilisant cette valeur de statistique $F$ et la distribution $F$, la valeur $p$ peut être calculée.\n"
   ]
  },
  {
   "cell_type": "markdown",
   "id": "b3f65c08",
   "metadata": {},
   "source": [
    "#### La statistique de test $F$ \n",
    "\n",
    "La statistique de test $F$ est un outil fondamental en statistique, principalement utilisé dans l'analyse de la variance (ANOVA) et dans la régression linéaire. Elle permet de comparer la variabilité entre plusieurs groupes ou plusieurs modèles par rapport à la variabilité au sein de ces groupes ou de ces modèles. La statistique de test $F$ suit une distribution de probabilité $F$, qui est une distribution de probabilité continue et positive.\n",
    "\n",
    "* <u>**La statistique de test $F$**</u> **:** est définie comme le rapport des variances entre deux échantillons ou entre deux modèles. Formellement, si `SS_entre` est la somme des carrés des écarts entre les moyennes des groupes (ou des modèles) et `SS_erreur` est la somme des carrés des écarts à l'intérieur des groupes (ou des modèles), alors la statistique de test `F` est calculée comme suit :\n",
    "\n",
    "$$F = \\frac{SS_{entre} / (df_{entre})}{SS_{erreur} / (df_{erreur})} $$\n",
    "\n",
    "où `df_entre` est le nombre de degrés de liberté associés à la variance entre les groupes (ou les modèles), et `df_erreur` est le nombre de degrés de liberté associés à la variance à l'intérieur des groupes (ou des modèles).\n",
    "\n",
    "#### Utilisation de $F$\n",
    "\n",
    "1. **Analyse de la variance (ANOVA)** :\n",
    "   - En ANOVA à un facteur (One-way ANOVA), $F$ est utilisé pour tester si les moyennes de plusieurs groupes sont égales ou non.\n",
    "   \n",
    "   - En ANOVA à deux facteurs (Two-way ANOVA) ou plus, $F$ est utilisé pour tester l'interaction entre les facteurs ainsi que les effets principaux.\n",
    "\n",
    "2. **Régression linéaire** :\n",
    "   - En régression linéaire simple, $F$ peut être utilisé pour tester si la pente de la droite de régression est significativement différente de zéro.\n",
    "   \n",
    "   - En régression linéaire multiple, $F$ est utilisé pour tester la significativité globale du modèle.\n",
    "\n",
    "#### Interprétation de $F$\n",
    "\n",
    "Pour interpréter la statistique de test $F$, on compare sa valeur critique à la valeur observée. Si la valeur observée de $F$ est plus grande que la valeur critique, on rejette l'hypothèse nulle, ce qui signifie qu'il y a une différence significative entre les groupes ou les modèles. Sinon, on ne peut pas rejeter l'hypothèse nulle, ce qui signifie qu'il n'y a pas de différence significative.\n",
    "\n",
    "La statistique de test $F$ est un outil puissant pour comparer les variances entre les groupes ou les modèles dans diverses analyses statistiques, offrant une méthode quantitative pour évaluer les différences et les effets dans les données.\n"
   ]
  },
  {
   "cell_type": "markdown",
   "id": "652cf973",
   "metadata": {},
   "source": [
    "Alors qu'un test $F$ ANOVA permettra d'inférer si les groupes diffèrent globalement, nous aimerions savoir **quels** groupes diffèrent. Cela se fait généralement en effectuant toutes les comparaisons deux à deux.\n",
    "\n",
    "Pour notre exemple, cela impliquerait des tests d'hypothèse pour \n",
    "\n",
    "1) HR: ASD vs HR: Negative,\n",
    "2) HR: ASD vs LR: Negative,\n",
    "3) HR: Negative vs LR: Negative, etc. pour 6 tests au total.\n",
    "\n",
    "Rappelons-nous que lors de la comparaison des moyennes de deux groupes, nous pouvons utiliser un test $t$ à deux échantillons. Pour chaque test par paire, nous utilisons ce test $t$ à deux échantillons. Ensuite, nous interprétons les résultats du test pour chaque paire séparément. Cela est fréquemment appelé analyse **post-hoc**. Il s'avère que parce que nous effectuons plusieurs tests d'hypothèse en même temps, nous devons \"corriger\" (ajuster) chaque valeur $p$ de ces comparaisons par paire pour tenir compte de cette **comparaison multiple**.\n",
    "\n",
    "Généralement, la correction effectuée est appelée **Méthode de Tukey**, bien que d'autres corrections telles que **Bonferroni** ou **Méthode de Holm** peuvent également être utilisées. Ces **valeurs $p$ corrigées** peuvent ensuite être interprétées \"valablement\" comme des valeurs $p$ habituelles. Pour effectuer cette analyse post-hoc dans R en utilisant la Méthode de Tukey, nous utilisons la fonction **`TukeyASD()`** avec l'objet provenant de `aov()` :"
   ]
  },
  {
   "cell_type": "code",
   "execution_count": 38,
   "id": "ecff78af",
   "metadata": {},
   "outputs": [
    {
     "data": {
      "text/plain": [
       "  Tukey multiple comparisons of means\n",
       "    95% family-wise confidence level\n",
       "\n",
       "Fit: aov(formula = V12.aosi.total_score_1_18 ~ GROUP, data = data)\n",
       "\n",
       "$GROUP\n",
       "                    diff       lwr         upr     p adj\n",
       "HR_neg-HR_ASD -2.4965106 -3.626229 -1.36679183 0.0000001\n",
       "LR_ASD-HR_ASD -3.6708333 -8.917563  1.57589610 0.2728961\n",
       "LR_neg-HR_ASD -3.3511986 -4.592245 -2.11015217 0.0000000\n",
       "LR_ASD-HR_neg -1.1743227 -6.352589  4.00394397 0.9367305\n",
       "LR_neg-HR_neg -0.8546880 -1.763793  0.05441738 0.0740168\n",
       "LR_neg-LR_ASD  0.3196347 -4.884054  5.52332358 0.9985859\n"
      ]
     },
     "metadata": {},
     "output_type": "display_data"
    }
   ],
   "source": [
    "TukeyHSD(objet_aov)"
   ]
  },
  {
   "cell_type": "markdown",
   "id": "5e219678",
   "metadata": {},
   "source": [
    "La sortie contient les éléments suivants :\n",
    "\n",
    "1) Différence entre les moyennes des échantillons entre les groupes (diff)\n",
    "\n",
    "2) Intervalle de confiance à 95 % pour chaque différence de moyenne (lwr et upr)\n",
    "\n",
    "3) Valeurs $p$ corrigées pour chaque comparaison par paire (p adj)\n",
    "\n",
    "Cette analyse ANOVA entière fournit des résultats valides sous les hypothèses (assumptions) suivantes :\n",
    "\n",
    "1) Les valeurs de tous les groupes sont distribuées normalement **avec la même variance**\n",
    "\n",
    "2) Toutes les observations sont indépendantes (à la fois au sein des groupes et entre les groupes)\n",
    "\n",
    "La première hypothèse peut être vérifiée visuellement à l'aide d'un histogramme et en estimant les variances avec des intervalles de confiance, ou en effectuant des tests d'hypothèses pour des variances égales. La deuxième hypothèse est vérifiée en fonction de l'étude à partir de laquelle les données ont été obtenues.\n"
   ]
  },
  {
   "cell_type": "code",
   "execution_count": 39,
   "id": "3c151489",
   "metadata": {},
   "outputs": [],
   "source": [
    "library(ggplot2)"
   ]
  },
  {
   "cell_type": "code",
   "execution_count": 46,
   "id": "e1c955ac",
   "metadata": {},
   "outputs": [],
   "source": [
    "?geom_histogram"
   ]
  },
  {
   "cell_type": "code",
   "execution_count": 47,
   "id": "ab72a31a",
   "metadata": {},
   "outputs": [
    {
     "name": "stderr",
     "output_type": "stream",
     "text": [
      "\u001b[1m\u001b[22m`stat_bin()` using `bins = 30`. Pick better value with `binwidth`.\n",
      "Warning message:\n",
      "\"\u001b[1m\u001b[22mRemoved 75 rows containing non-finite outside the scale range (`stat_bin()`).\"\n"
     ]
    },
    {
     "data": {
      "image/png": "[encoded data removed]",
      "text/plain": [
       "plot without title"
      ]
     },
     "metadata": {
      "image/png": {
       "height": 420,
       "width": 420
      }
     },
     "output_type": "display_data"
    }
   ],
   "source": [
    "ggplot(data = data, aes(x = V12.aosi.total_score_1_18, fill = GROUP)) +\n",
    "  geom_histogram()+\n",
    "  facet_wrap(~ GROUP, ncol = 2)"
   ]
  },
  {
   "cell_type": "markdown",
   "id": "613419bc",
   "metadata": {},
   "source": [
    " * <u>**Liens importants**</u> **:** \n",
    " \n",
    "     * [Les Tableaux dans R](https://github.com/Dahamey/R/blob/main/R%20%20-%20Fr/Les%20Tableaux%20dans%20R.ipynb)\n",
    "     * [les tests statistiques sur Python](https://github.com/Dahamey/Hypothesis-Testing/blob/main/Python/Hypothesis%20Tests%20in%20Python%20.ipynb)\n",
    " "
   ]
  },
  {
   "cell_type": "markdown",
   "id": "f7e5bb74",
   "metadata": {},
   "source": [
    "# Changement d'enregistrement\n",
    "\n",
    "\n",
    "| Date (YYYY-MM-DD) | Version | Changé Par      | Description du Changement |\n",
    "| ----------------- | ------- | -------------   | ----------------------- |\n",
    "| 2024-01-09       | 1.0     | Younes Dahami   |  version initiale|"
   ]
  },
  {
   "cell_type": "code",
   "execution_count": null,
   "id": "da69a637",
   "metadata": {},
   "outputs": [],
   "source": []
  }
 ],
 "metadata": {
  "kernelspec": {
   "display_name": "R",
   "language": "R",
   "name": "ir"
  },
  "language_info": {
   "codemirror_mode": "r",
   "file_extension": ".r",
   "mimetype": "text/x-r-source",
   "name": "R",
   "pygments_lexer": "r",
   "version": "4.2.3"
  }
 },
 "nbformat": 4,
 "nbformat_minor": 5
}
