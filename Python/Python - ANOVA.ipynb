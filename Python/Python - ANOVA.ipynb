{
 "cells": [
  {
   "cell_type": "markdown",
   "id": "640078b7",
   "metadata": {},
   "source": [
    "# ANOVA"
   ]
  },
  {
   "cell_type": "code",
   "execution_count": 9,
   "id": "64d26c08",
   "metadata": {},
   "outputs": [],
   "source": [
    "import numpy as np\n",
    "import pandas as pd\n",
    "import matplotlib.pyplot as plt\n",
    "import seaborn as sns"
   ]
  },
  {
   "cell_type": "code",
   "execution_count": 10,
   "id": "0c4e2e32",
   "metadata": {},
   "outputs": [
    {
     "data": {
      "text/html": [
       "<div>\n",
       "<style scoped>\n",
       "    .dataframe tbody tr th:only-of-type {\n",
       "        vertical-align: middle;\n",
       "    }\n",
       "\n",
       "    .dataframe tbody tr th {\n",
       "        vertical-align: top;\n",
       "    }\n",
       "\n",
       "    .dataframe thead th {\n",
       "        text-align: right;\n",
       "    }\n",
       "</style>\n",
       "<table border=\"1\" class=\"dataframe\">\n",
       "  <thead>\n",
       "    <tr style=\"text-align: right;\">\n",
       "      <th></th>\n",
       "      <th>carat</th>\n",
       "      <th>cut</th>\n",
       "      <th>color</th>\n",
       "      <th>clarity</th>\n",
       "      <th>depth</th>\n",
       "      <th>table</th>\n",
       "      <th>price</th>\n",
       "      <th>x</th>\n",
       "      <th>y</th>\n",
       "      <th>z</th>\n",
       "    </tr>\n",
       "  </thead>\n",
       "  <tbody>\n",
       "    <tr>\n",
       "      <th>0</th>\n",
       "      <td>0.23</td>\n",
       "      <td>Ideal</td>\n",
       "      <td>E</td>\n",
       "      <td>SI2</td>\n",
       "      <td>61.5</td>\n",
       "      <td>55.0</td>\n",
       "      <td>326</td>\n",
       "      <td>3.95</td>\n",
       "      <td>3.98</td>\n",
       "      <td>2.43</td>\n",
       "    </tr>\n",
       "    <tr>\n",
       "      <th>1</th>\n",
       "      <td>0.21</td>\n",
       "      <td>Premium</td>\n",
       "      <td>E</td>\n",
       "      <td>SI1</td>\n",
       "      <td>59.8</td>\n",
       "      <td>61.0</td>\n",
       "      <td>326</td>\n",
       "      <td>3.89</td>\n",
       "      <td>3.84</td>\n",
       "      <td>2.31</td>\n",
       "    </tr>\n",
       "    <tr>\n",
       "      <th>2</th>\n",
       "      <td>0.23</td>\n",
       "      <td>Good</td>\n",
       "      <td>E</td>\n",
       "      <td>VS1</td>\n",
       "      <td>56.9</td>\n",
       "      <td>65.0</td>\n",
       "      <td>327</td>\n",
       "      <td>4.05</td>\n",
       "      <td>4.07</td>\n",
       "      <td>2.31</td>\n",
       "    </tr>\n",
       "    <tr>\n",
       "      <th>3</th>\n",
       "      <td>0.29</td>\n",
       "      <td>Premium</td>\n",
       "      <td>I</td>\n",
       "      <td>VS2</td>\n",
       "      <td>62.4</td>\n",
       "      <td>58.0</td>\n",
       "      <td>334</td>\n",
       "      <td>4.20</td>\n",
       "      <td>4.23</td>\n",
       "      <td>2.63</td>\n",
       "    </tr>\n",
       "    <tr>\n",
       "      <th>4</th>\n",
       "      <td>0.31</td>\n",
       "      <td>Good</td>\n",
       "      <td>J</td>\n",
       "      <td>SI2</td>\n",
       "      <td>63.3</td>\n",
       "      <td>58.0</td>\n",
       "      <td>335</td>\n",
       "      <td>4.34</td>\n",
       "      <td>4.35</td>\n",
       "      <td>2.75</td>\n",
       "    </tr>\n",
       "  </tbody>\n",
       "</table>\n",
       "</div>"
      ],
      "text/plain": [
       "   carat      cut color clarity  depth  table  price     x     y     z\n",
       "0   0.23    Ideal     E     SI2   61.5   55.0    326  3.95  3.98  2.43\n",
       "1   0.21  Premium     E     SI1   59.8   61.0    326  3.89  3.84  2.31\n",
       "2   0.23     Good     E     VS1   56.9   65.0    327  4.05  4.07  2.31\n",
       "3   0.29  Premium     I     VS2   62.4   58.0    334  4.20  4.23  2.63\n",
       "4   0.31     Good     J     SI2   63.3   58.0    335  4.34  4.35  2.75"
      ]
     },
     "execution_count": 10,
     "metadata": {},
     "output_type": "execute_result"
    }
   ],
   "source": [
    "diamonds = sns.load_dataset('diamonds')\n",
    "diamonds.head()"
   ]
  },
  {
   "cell_type": "code",
   "execution_count": 11,
   "id": "fee31e8e",
   "metadata": {},
   "outputs": [
    {
     "data": {
      "text/plain": [
       "Index(['carat', 'cut', 'color', 'clarity', 'depth', 'table', 'price', 'x', 'y',\n",
       "       'z'],\n",
       "      dtype='object')"
      ]
     },
     "execution_count": 11,
     "metadata": {},
     "output_type": "execute_result"
    }
   ],
   "source": [
    "diamonds.columns"
   ]
  },
  {
   "cell_type": "code",
   "execution_count": 12,
   "id": "7ef9a250",
   "metadata": {},
   "outputs": [
    {
     "data": {
      "text/plain": [
       "count    53940.000000\n",
       "mean      3932.799722\n",
       "std       3989.439738\n",
       "min        326.000000\n",
       "25%        950.000000\n",
       "50%       2401.000000\n",
       "75%       5324.250000\n",
       "max      18823.000000\n",
       "Name: price, dtype: float64"
      ]
     },
     "execution_count": 12,
     "metadata": {},
     "output_type": "execute_result"
    }
   ],
   "source": [
    "diamonds['price'].describe()"
   ]
  },
  {
   "cell_type": "code",
   "execution_count": 13,
   "id": "0bc46608",
   "metadata": {},
   "outputs": [],
   "source": [
    "#Log(price):\n",
    "diamonds['log_price'] = np.log(diamonds['price'])"
   ]
  },
  {
   "cell_type": "code",
   "execution_count": 17,
   "id": "0192c560",
   "metadata": {},
   "outputs": [
    {
     "data": {
      "text/html": [
       "<div>\n",
       "<style scoped>\n",
       "    .dataframe tbody tr th:only-of-type {\n",
       "        vertical-align: middle;\n",
       "    }\n",
       "\n",
       "    .dataframe tbody tr th {\n",
       "        vertical-align: top;\n",
       "    }\n",
       "\n",
       "    .dataframe thead th {\n",
       "        text-align: right;\n",
       "    }\n",
       "</style>\n",
       "<table border=\"1\" class=\"dataframe\">\n",
       "  <thead>\n",
       "    <tr style=\"text-align: right;\">\n",
       "      <th></th>\n",
       "      <th>color</th>\n",
       "      <th>price</th>\n",
       "      <th>log_price</th>\n",
       "    </tr>\n",
       "  </thead>\n",
       "  <tbody>\n",
       "    <tr>\n",
       "      <th>0</th>\n",
       "      <td>E</td>\n",
       "      <td>326</td>\n",
       "      <td>5.786897</td>\n",
       "    </tr>\n",
       "    <tr>\n",
       "      <th>1</th>\n",
       "      <td>E</td>\n",
       "      <td>326</td>\n",
       "      <td>5.786897</td>\n",
       "    </tr>\n",
       "    <tr>\n",
       "      <th>2</th>\n",
       "      <td>E</td>\n",
       "      <td>327</td>\n",
       "      <td>5.789960</td>\n",
       "    </tr>\n",
       "    <tr>\n",
       "      <th>3</th>\n",
       "      <td>I</td>\n",
       "      <td>334</td>\n",
       "      <td>5.811141</td>\n",
       "    </tr>\n",
       "    <tr>\n",
       "      <th>4</th>\n",
       "      <td>J</td>\n",
       "      <td>335</td>\n",
       "      <td>5.814131</td>\n",
       "    </tr>\n",
       "    <tr>\n",
       "      <th>...</th>\n",
       "      <td>...</td>\n",
       "      <td>...</td>\n",
       "      <td>...</td>\n",
       "    </tr>\n",
       "    <tr>\n",
       "      <th>53935</th>\n",
       "      <td>D</td>\n",
       "      <td>2757</td>\n",
       "      <td>7.921898</td>\n",
       "    </tr>\n",
       "    <tr>\n",
       "      <th>53936</th>\n",
       "      <td>D</td>\n",
       "      <td>2757</td>\n",
       "      <td>7.921898</td>\n",
       "    </tr>\n",
       "    <tr>\n",
       "      <th>53937</th>\n",
       "      <td>D</td>\n",
       "      <td>2757</td>\n",
       "      <td>7.921898</td>\n",
       "    </tr>\n",
       "    <tr>\n",
       "      <th>53938</th>\n",
       "      <td>H</td>\n",
       "      <td>2757</td>\n",
       "      <td>7.921898</td>\n",
       "    </tr>\n",
       "    <tr>\n",
       "      <th>53939</th>\n",
       "      <td>D</td>\n",
       "      <td>2757</td>\n",
       "      <td>7.921898</td>\n",
       "    </tr>\n",
       "  </tbody>\n",
       "</table>\n",
       "<p>53940 rows × 3 columns</p>\n",
       "</div>"
      ],
      "text/plain": [
       "      color  price  log_price\n",
       "0         E    326   5.786897\n",
       "1         E    326   5.786897\n",
       "2         E    327   5.789960\n",
       "3         I    334   5.811141\n",
       "4         J    335   5.814131\n",
       "...     ...    ...        ...\n",
       "53935     D   2757   7.921898\n",
       "53936     D   2757   7.921898\n",
       "53937     D   2757   7.921898\n",
       "53938     H   2757   7.921898\n",
       "53939     D   2757   7.921898\n",
       "\n",
       "[53940 rows x 3 columns]"
      ]
     },
     "execution_count": 17,
     "metadata": {},
     "output_type": "execute_result"
    }
   ],
   "source": [
    "diamonds = diamonds[['color', \"price\", \"log_price\"]].dropna().reset_index(drop =True)\n",
    "diamonds"
   ]
  },
  {
   "cell_type": "code",
   "execution_count": 20,
   "id": "48387399",
   "metadata": {},
   "outputs": [
    {
     "data": {
      "image/png": "[encoded data removed]",
      "text/plain": [
       "<Figure size 640x480 with 1 Axes>"
      ]
     },
     "metadata": {},
     "output_type": "display_data"
    }
   ],
   "source": [
    "sns.boxplot(data = diamonds, x='color', y = 'log_price');"
   ]
  },
  {
   "cell_type": "markdown",
   "id": "ff75d938",
   "metadata": {},
   "source": [
    "There seems to be some variation in the log of the price, but it's not clear if there is a difference based on color grade. So let's test it out using a **one-way ANOVA**."
   ]
  },
  {
   "cell_type": "markdown",
   "id": "35387089",
   "metadata": {},
   "source": [
    "## 1) One-Way ANOVA"
   ]
  },
  {
   "cell_type": "code",
   "execution_count": 23,
   "id": "16ff674b",
   "metadata": {
    "scrolled": true
   },
   "outputs": [
    {
     "data": {
      "text/plain": [
       "['E', 'I', 'J', 'H', 'F', 'G', 'D']\n",
       "Categories (7, object): ['D', 'E', 'F', 'G', 'H', 'I', 'J']"
      ]
     },
     "execution_count": 23,
     "metadata": {},
     "output_type": "execute_result"
    }
   ],
   "source": [
    "diamonds['color'].unique()"
   ]
  },
  {
   "cell_type": "markdown",
   "id": "c271696e",
   "metadata": {},
   "source": [
    "### Building the Model"
   ]
  },
  {
   "cell_type": "code",
   "execution_count": 30,
   "id": "beae9069",
   "metadata": {},
   "outputs": [],
   "source": [
    "import statsmodels.formula.api as smf"
   ]
  },
  {
   "cell_type": "code",
   "execution_count": 31,
   "id": "d8f64d26",
   "metadata": {},
   "outputs": [
    {
     "data": {
      "text/html": [
       "<table class=\"simpletable\">\n",
       "<caption>OLS Regression Results</caption>\n",
       "<tr>\n",
       "  <th>Dep. Variable:</th>        <td>log_price</td>    <th>  R-squared:         </th> <td>   0.026</td> \n",
       "</tr>\n",
       "<tr>\n",
       "  <th>Model:</th>                   <td>OLS</td>       <th>  Adj. R-squared:    </th> <td>   0.026</td> \n",
       "</tr>\n",
       "<tr>\n",
       "  <th>Method:</th>             <td>Least Squares</td>  <th>  F-statistic:       </th> <td>   237.8</td> \n",
       "</tr>\n",
       "<tr>\n",
       "  <th>Date:</th>             <td>Wed, 20 Dec 2023</td> <th>  Prob (F-statistic):</th> <td>3.77e-301</td>\n",
       "</tr>\n",
       "<tr>\n",
       "  <th>Time:</th>                 <td>20:04:43</td>     <th>  Log-Likelihood:    </th> <td> -76617.</td> \n",
       "</tr>\n",
       "<tr>\n",
       "  <th>No. Observations:</th>      <td> 53940</td>      <th>  AIC:               </th> <td>1.532e+05</td>\n",
       "</tr>\n",
       "<tr>\n",
       "  <th>Df Residuals:</th>          <td> 53933</td>      <th>  BIC:               </th> <td>1.533e+05</td>\n",
       "</tr>\n",
       "<tr>\n",
       "  <th>Df Model:</th>              <td>     6</td>      <th>                     </th>     <td> </td>    \n",
       "</tr>\n",
       "<tr>\n",
       "  <th>Covariance Type:</th>      <td>nonrobust</td>    <th>                     </th>     <td> </td>    \n",
       "</tr>\n",
       "</table>\n",
       "<table class=\"simpletable\">\n",
       "<tr>\n",
       "        <td></td>           <th>coef</th>     <th>std err</th>      <th>t</th>      <th>P>|t|</th>  <th>[0.025</th>    <th>0.975]</th>  \n",
       "</tr>\n",
       "<tr>\n",
       "  <th>Intercept</th>     <td>    7.6169</td> <td>    0.012</td> <td>  625.984</td> <td> 0.000</td> <td>    7.593</td> <td>    7.641</td>\n",
       "</tr>\n",
       "<tr>\n",
       "  <th>C(color)[T.E]</th> <td>   -0.0375</td> <td>    0.016</td> <td>   -2.370</td> <td> 0.018</td> <td>   -0.069</td> <td>   -0.006</td>\n",
       "</tr>\n",
       "<tr>\n",
       "  <th>C(color)[T.F]</th> <td>    0.1455</td> <td>    0.016</td> <td>    9.146</td> <td> 0.000</td> <td>    0.114</td> <td>    0.177</td>\n",
       "</tr>\n",
       "<tr>\n",
       "  <th>C(color)[T.G]</th> <td>    0.1727</td> <td>    0.015</td> <td>   11.219</td> <td> 0.000</td> <td>    0.143</td> <td>    0.203</td>\n",
       "</tr>\n",
       "<tr>\n",
       "  <th>C(color)[T.H]</th> <td>    0.3015</td> <td>    0.016</td> <td>   18.390</td> <td> 0.000</td> <td>    0.269</td> <td>    0.334</td>\n",
       "</tr>\n",
       "<tr>\n",
       "  <th>C(color)[T.I]</th> <td>    0.4061</td> <td>    0.018</td> <td>   22.250</td> <td> 0.000</td> <td>    0.370</td> <td>    0.442</td>\n",
       "</tr>\n",
       "<tr>\n",
       "  <th>C(color)[T.J]</th> <td>    0.5291</td> <td>    0.022</td> <td>   23.537</td> <td> 0.000</td> <td>    0.485</td> <td>    0.573</td>\n",
       "</tr>\n",
       "</table>\n",
       "<table class=\"simpletable\">\n",
       "<tr>\n",
       "  <th>Omnibus:</th>       <td>11794.122</td> <th>  Durbin-Watson:     </th> <td>   0.059</td>\n",
       "</tr>\n",
       "<tr>\n",
       "  <th>Prob(Omnibus):</th>  <td> 0.000</td>   <th>  Jarque-Bera (JB):  </th> <td>2240.596</td>\n",
       "</tr>\n",
       "<tr>\n",
       "  <th>Skew:</th>           <td> 0.064</td>   <th>  Prob(JB):          </th> <td>    0.00</td>\n",
       "</tr>\n",
       "<tr>\n",
       "  <th>Kurtosis:</th>       <td> 2.010</td>   <th>  Cond. No.          </th> <td>    8.56</td>\n",
       "</tr>\n",
       "</table><br/><br/>Notes:<br/>[1] Standard Errors assume that the covariance matrix of the errors is correctly specified."
      ],
      "text/latex": [
       "\\begin{center}\n",
       "\\begin{tabular}{lclc}\n",
       "\\toprule\n",
       "\\textbf{Dep. Variable:}    &    log\\_price    & \\textbf{  R-squared:         } &     0.026   \\\\\n",
       "\\textbf{Model:}            &       OLS        & \\textbf{  Adj. R-squared:    } &     0.026   \\\\\n",
       "\\textbf{Method:}           &  Least Squares   & \\textbf{  F-statistic:       } &     237.8   \\\\\n",
       "\\textbf{Date:}             & Wed, 20 Dec 2023 & \\textbf{  Prob (F-statistic):} & 3.77e-301   \\\\\n",
       "\\textbf{Time:}             &     20:04:43     & \\textbf{  Log-Likelihood:    } &   -76617.   \\\\\n",
       "\\textbf{No. Observations:} &       53940      & \\textbf{  AIC:               } & 1.532e+05   \\\\\n",
       "\\textbf{Df Residuals:}     &       53933      & \\textbf{  BIC:               } & 1.533e+05   \\\\\n",
       "\\textbf{Df Model:}         &           6      & \\textbf{                     } &             \\\\\n",
       "\\textbf{Covariance Type:}  &    nonrobust     & \\textbf{                     } &             \\\\\n",
       "\\bottomrule\n",
       "\\end{tabular}\n",
       "\\begin{tabular}{lcccccc}\n",
       "                       & \\textbf{coef} & \\textbf{std err} & \\textbf{t} & \\textbf{P$> |$t$|$} & \\textbf{[0.025} & \\textbf{0.975]}  \\\\\n",
       "\\midrule\n",
       "\\textbf{Intercept}     &       7.6169  &        0.012     &   625.984  &         0.000        &        7.593    &        7.641     \\\\\n",
       "\\textbf{C(color)[T.E]} &      -0.0375  &        0.016     &    -2.370  &         0.018        &       -0.069    &       -0.006     \\\\\n",
       "\\textbf{C(color)[T.F]} &       0.1455  &        0.016     &     9.146  &         0.000        &        0.114    &        0.177     \\\\\n",
       "\\textbf{C(color)[T.G]} &       0.1727  &        0.015     &    11.219  &         0.000        &        0.143    &        0.203     \\\\\n",
       "\\textbf{C(color)[T.H]} &       0.3015  &        0.016     &    18.390  &         0.000        &        0.269    &        0.334     \\\\\n",
       "\\textbf{C(color)[T.I]} &       0.4061  &        0.018     &    22.250  &         0.000        &        0.370    &        0.442     \\\\\n",
       "\\textbf{C(color)[T.J]} &       0.5291  &        0.022     &    23.537  &         0.000        &        0.485    &        0.573     \\\\\n",
       "\\bottomrule\n",
       "\\end{tabular}\n",
       "\\begin{tabular}{lclc}\n",
       "\\textbf{Omnibus:}       & 11794.122 & \\textbf{  Durbin-Watson:     } &    0.059  \\\\\n",
       "\\textbf{Prob(Omnibus):} &    0.000  & \\textbf{  Jarque-Bera (JB):  } & 2240.596  \\\\\n",
       "\\textbf{Skew:}          &    0.064  & \\textbf{  Prob(JB):          } &     0.00  \\\\\n",
       "\\textbf{Kurtosis:}      &    2.010  & \\textbf{  Cond. No.          } &     8.56  \\\\\n",
       "\\bottomrule\n",
       "\\end{tabular}\n",
       "%\\caption{OLS Regression Results}\n",
       "\\end{center}\n",
       "\n",
       "Notes: \\newline\n",
       " [1] Standard Errors assume that the covariance matrix of the errors is correctly specified."
      ],
      "text/plain": [
       "<class 'statsmodels.iolib.summary.Summary'>\n",
       "\"\"\"\n",
       "                            OLS Regression Results                            \n",
       "==============================================================================\n",
       "Dep. Variable:              log_price   R-squared:                       0.026\n",
       "Model:                            OLS   Adj. R-squared:                  0.026\n",
       "Method:                 Least Squares   F-statistic:                     237.8\n",
       "Date:                Wed, 20 Dec 2023   Prob (F-statistic):          3.77e-301\n",
       "Time:                        20:04:43   Log-Likelihood:                -76617.\n",
       "No. Observations:               53940   AIC:                         1.532e+05\n",
       "Df Residuals:                   53933   BIC:                         1.533e+05\n",
       "Df Model:                           6                                         \n",
       "Covariance Type:            nonrobust                                         \n",
       "=================================================================================\n",
       "                    coef    std err          t      P>|t|      [0.025      0.975]\n",
       "---------------------------------------------------------------------------------\n",
       "Intercept         7.6169      0.012    625.984      0.000       7.593       7.641\n",
       "C(color)[T.E]    -0.0375      0.016     -2.370      0.018      -0.069      -0.006\n",
       "C(color)[T.F]     0.1455      0.016      9.146      0.000       0.114       0.177\n",
       "C(color)[T.G]     0.1727      0.015     11.219      0.000       0.143       0.203\n",
       "C(color)[T.H]     0.3015      0.016     18.390      0.000       0.269       0.334\n",
       "C(color)[T.I]     0.4061      0.018     22.250      0.000       0.370       0.442\n",
       "C(color)[T.J]     0.5291      0.022     23.537      0.000       0.485       0.573\n",
       "==============================================================================\n",
       "Omnibus:                    11794.122   Durbin-Watson:                   0.059\n",
       "Prob(Omnibus):                  0.000   Jarque-Bera (JB):             2240.596\n",
       "Skew:                           0.064   Prob(JB):                         0.00\n",
       "Kurtosis:                       2.010   Cond. No.                         8.56\n",
       "==============================================================================\n",
       "\n",
       "Notes:\n",
       "[1] Standard Errors assume that the covariance matrix of the errors is correctly specified.\n",
       "\"\"\""
      ]
     },
     "execution_count": 31,
     "metadata": {},
     "output_type": "execute_result"
    }
   ],
   "source": [
    "# Creating a regression model using the OLS function, and then fitting the model into the data :\n",
    "# 'color' is a categorical variable hence C(color):\n",
    "ols_data = diamonds\n",
    "ols_formula = \"log_price ~ C(color)\"\n",
    "OLS = smf.ols(formula=ols_formula, data = ols_data)\n",
    "\n",
    "model = OLS.fit()\n",
    "model.summary()"
   ]
  },
  {
   "cell_type": "markdown",
   "id": "9c6628c9",
   "metadata": {},
   "source": [
    "**Remarque** : Couleur de base est : D"
   ]
  },
  {
   "cell_type": "code",
   "execution_count": 32,
   "id": "47bab0bd",
   "metadata": {},
   "outputs": [],
   "source": [
    "import statsmodels.api as sm"
   ]
  },
  {
   "cell_type": "code",
   "execution_count": 33,
   "id": "3eae7228",
   "metadata": {},
   "outputs": [
    {
     "data": {
      "text/html": [
       "<div>\n",
       "<style scoped>\n",
       "    .dataframe tbody tr th:only-of-type {\n",
       "        vertical-align: middle;\n",
       "    }\n",
       "\n",
       "    .dataframe tbody tr th {\n",
       "        vertical-align: top;\n",
       "    }\n",
       "\n",
       "    .dataframe thead th {\n",
       "        text-align: right;\n",
       "    }\n",
       "</style>\n",
       "<table border=\"1\" class=\"dataframe\">\n",
       "  <thead>\n",
       "    <tr style=\"text-align: right;\">\n",
       "      <th></th>\n",
       "      <th>sum_sq</th>\n",
       "      <th>df</th>\n",
       "      <th>F</th>\n",
       "      <th>PR(&gt;F)</th>\n",
       "    </tr>\n",
       "  </thead>\n",
       "  <tbody>\n",
       "    <tr>\n",
       "      <th>C(color)</th>\n",
       "      <td>1431.255783</td>\n",
       "      <td>6.0</td>\n",
       "      <td>237.807767</td>\n",
       "      <td>3.767555e-301</td>\n",
       "    </tr>\n",
       "    <tr>\n",
       "      <th>Residual</th>\n",
       "      <td>54099.661516</td>\n",
       "      <td>53933.0</td>\n",
       "      <td>NaN</td>\n",
       "      <td>NaN</td>\n",
       "    </tr>\n",
       "  </tbody>\n",
       "</table>\n",
       "</div>"
      ],
      "text/plain": [
       "                sum_sq       df           F         PR(>F)\n",
       "C(color)   1431.255783      6.0  237.807767  3.767555e-301\n",
       "Residual  54099.661516  53933.0         NaN            NaN"
      ]
     },
     "execution_count": 33,
     "metadata": {},
     "output_type": "execute_result"
    }
   ],
   "source": [
    "sm.stats.anova_lm(model, typ = 2)"
   ]
  },
  {
   "cell_type": "markdown",
   "id": "86eb155e",
   "metadata": {},
   "source": [
    "The **p-values** are smaller than 0.05, so the results are statistically significant, and therefore we can reject the Null Hypothesis **$H^0$** which is that the mean price is the same across all the diamond colors.\n",
    "\n",
    "Now that we have significant results from anova test, we can run **Tukey's HSD** post hoc test."
   ]
  },
  {
   "cell_type": "markdown",
   "id": "ede73a8d",
   "metadata": {},
   "source": [
    "### Anova Post hoc test"
   ]
  },
  {
   "cell_type": "code",
   "execution_count": 49,
   "id": "19e5419d",
   "metadata": {},
   "outputs": [],
   "source": [
    "from statsmodels.stats.multicomp import pairwise_tukeyhsd"
   ]
  },
  {
   "cell_type": "code",
   "execution_count": 50,
   "id": "3ba17702",
   "metadata": {},
   "outputs": [],
   "source": [
    "# Run the test endog=Y groups=X :\n",
    "turkey_oneway = pairwise_tukeyhsd(endog = diamonds['log_price'], groups = diamonds['color'], alpha = 0.05)"
   ]
  },
  {
   "cell_type": "code",
   "execution_count": 51,
   "id": "8498888d",
   "metadata": {},
   "outputs": [
    {
     "data": {
      "text/html": [
       "<table class=\"simpletable\">\n",
       "<caption>Multiple Comparison of Means - Tukey HSD, FWER=0.05</caption>\n",
       "<tr>\n",
       "  <th>group1</th> <th>group2</th> <th>meandiff</th>  <th>p-adj</th>  <th>lower</th>   <th>upper</th> <th>reject</th>\n",
       "</tr>\n",
       "<tr>\n",
       "     <td>D</td>      <td>E</td>    <td>-0.0375</td> <td>0.2115</td> <td>-0.0842</td> <td>0.0092</td>  <td>False</td>\n",
       "</tr>\n",
       "<tr>\n",
       "     <td>D</td>      <td>F</td>    <td>0.1455</td>    <td>0.0</td>  <td>0.0986</td>  <td>0.1924</td>  <td>True</td> \n",
       "</tr>\n",
       "<tr>\n",
       "     <td>D</td>      <td>G</td>    <td>0.1727</td>    <td>0.0</td>  <td>0.1273</td>  <td>0.2181</td>  <td>True</td> \n",
       "</tr>\n",
       "<tr>\n",
       "     <td>D</td>      <td>H</td>    <td>0.3015</td>    <td>0.0</td>  <td>0.2532</td>  <td>0.3499</td>  <td>True</td> \n",
       "</tr>\n",
       "<tr>\n",
       "     <td>D</td>      <td>I</td>    <td>0.4061</td>    <td>0.0</td>  <td>0.3522</td>  <td>0.4599</td>  <td>True</td> \n",
       "</tr>\n",
       "<tr>\n",
       "     <td>D</td>      <td>J</td>    <td>0.5291</td>    <td>0.0</td>  <td>0.4628</td>  <td>0.5953</td>  <td>True</td> \n",
       "</tr>\n",
       "<tr>\n",
       "     <td>E</td>      <td>F</td>     <td>0.183</td>    <td>0.0</td>  <td>0.1406</td>  <td>0.2255</td>  <td>True</td> \n",
       "</tr>\n",
       "<tr>\n",
       "     <td>E</td>      <td>G</td>    <td>0.2102</td>    <td>0.0</td>  <td>0.1694</td>   <td>0.251</td>  <td>True</td> \n",
       "</tr>\n",
       "<tr>\n",
       "     <td>E</td>      <td>H</td>     <td>0.339</td>    <td>0.0</td>   <td>0.295</td>  <td>0.3831</td>  <td>True</td> \n",
       "</tr>\n",
       "<tr>\n",
       "     <td>E</td>      <td>I</td>    <td>0.4436</td>    <td>0.0</td>  <td>0.3936</td>  <td>0.4935</td>  <td>True</td> \n",
       "</tr>\n",
       "<tr>\n",
       "     <td>E</td>      <td>J</td>    <td>0.5666</td>    <td>0.0</td>  <td>0.5034</td>  <td>0.6298</td>  <td>True</td> \n",
       "</tr>\n",
       "<tr>\n",
       "     <td>F</td>      <td>G</td>    <td>0.0271</td>  <td>0.4477</td> <td>-0.0139</td> <td>0.0682</td>  <td>False</td>\n",
       "</tr>\n",
       "<tr>\n",
       "     <td>F</td>      <td>H</td>     <td>0.156</td>    <td>0.0</td>  <td>0.1117</td>  <td>0.2003</td>  <td>True</td> \n",
       "</tr>\n",
       "<tr>\n",
       "     <td>F</td>      <td>I</td>    <td>0.2605</td>    <td>0.0</td>  <td>0.2103</td>  <td>0.3107</td>  <td>True</td> \n",
       "</tr>\n",
       "<tr>\n",
       "     <td>F</td>      <td>J</td>    <td>0.3835</td>    <td>0.0</td>  <td>0.3201</td>  <td>0.4469</td>  <td>True</td> \n",
       "</tr>\n",
       "<tr>\n",
       "     <td>G</td>      <td>H</td>    <td>0.1289</td>    <td>0.0</td>  <td>0.0862</td>  <td>0.1716</td>  <td>True</td> \n",
       "</tr>\n",
       "<tr>\n",
       "     <td>G</td>      <td>I</td>    <td>0.2334</td>    <td>0.0</td>  <td>0.1846</td>  <td>0.2822</td>  <td>True</td> \n",
       "</tr>\n",
       "<tr>\n",
       "     <td>G</td>      <td>J</td>    <td>0.3564</td>    <td>0.0</td>  <td>0.2941</td>  <td>0.4187</td>  <td>True</td> \n",
       "</tr>\n",
       "<tr>\n",
       "     <td>H</td>      <td>I</td>    <td>0.1045</td>    <td>0.0</td>   <td>0.053</td>  <td>0.1561</td>  <td>True</td> \n",
       "</tr>\n",
       "<tr>\n",
       "     <td>H</td>      <td>J</td>    <td>0.2275</td>    <td>0.0</td>  <td>0.1631</td>   <td>0.292</td>  <td>True</td> \n",
       "</tr>\n",
       "<tr>\n",
       "     <td>I</td>      <td>J</td>     <td>0.123</td>    <td>0.0</td>  <td>0.0544</td>  <td>0.1917</td>  <td>True</td> \n",
       "</tr>\n",
       "</table>"
      ],
      "text/latex": [
       "\\begin{center}\n",
       "\\begin{tabular}{ccccccc}\n",
       "\\toprule\n",
       "\\textbf{group1} & \\textbf{group2} & \\textbf{meandiff} & \\textbf{p-adj} & \\textbf{lower} & \\textbf{upper} & \\textbf{reject}  \\\\\n",
       "\\midrule\n",
       "       D        &        E        &      -0.0375      &     0.2115     &    -0.0842     &     0.0092     &      False       \\\\\n",
       "       D        &        F        &       0.1455      &      0.0       &     0.0986     &     0.1924     &       True       \\\\\n",
       "       D        &        G        &       0.1727      &      0.0       &     0.1273     &     0.2181     &       True       \\\\\n",
       "       D        &        H        &       0.3015      &      0.0       &     0.2532     &     0.3499     &       True       \\\\\n",
       "       D        &        I        &       0.4061      &      0.0       &     0.3522     &     0.4599     &       True       \\\\\n",
       "       D        &        J        &       0.5291      &      0.0       &     0.4628     &     0.5953     &       True       \\\\\n",
       "       E        &        F        &       0.183       &      0.0       &     0.1406     &     0.2255     &       True       \\\\\n",
       "       E        &        G        &       0.2102      &      0.0       &     0.1694     &     0.251      &       True       \\\\\n",
       "       E        &        H        &       0.339       &      0.0       &     0.295      &     0.3831     &       True       \\\\\n",
       "       E        &        I        &       0.4436      &      0.0       &     0.3936     &     0.4935     &       True       \\\\\n",
       "       E        &        J        &       0.5666      &      0.0       &     0.5034     &     0.6298     &       True       \\\\\n",
       "       F        &        G        &       0.0271      &     0.4477     &    -0.0139     &     0.0682     &      False       \\\\\n",
       "       F        &        H        &       0.156       &      0.0       &     0.1117     &     0.2003     &       True       \\\\\n",
       "       F        &        I        &       0.2605      &      0.0       &     0.2103     &     0.3107     &       True       \\\\\n",
       "       F        &        J        &       0.3835      &      0.0       &     0.3201     &     0.4469     &       True       \\\\\n",
       "       G        &        H        &       0.1289      &      0.0       &     0.0862     &     0.1716     &       True       \\\\\n",
       "       G        &        I        &       0.2334      &      0.0       &     0.1846     &     0.2822     &       True       \\\\\n",
       "       G        &        J        &       0.3564      &      0.0       &     0.2941     &     0.4187     &       True       \\\\\n",
       "       H        &        I        &       0.1045      &      0.0       &     0.053      &     0.1561     &       True       \\\\\n",
       "       H        &        J        &       0.2275      &      0.0       &     0.1631     &     0.292      &       True       \\\\\n",
       "       I        &        J        &       0.123       &      0.0       &     0.0544     &     0.1917     &       True       \\\\\n",
       "\\bottomrule\n",
       "\\end{tabular}\n",
       "%\\caption{Multiple Comparison of Means - Tukey HSD, FWER=0.05}\n",
       "\\end{center}"
      ],
      "text/plain": [
       "<class 'statsmodels.iolib.table.SimpleTable'>"
      ]
     },
     "execution_count": 51,
     "metadata": {},
     "output_type": "execute_result"
    }
   ],
   "source": [
    "turkey_oneway.summary()"
   ]
  },
  {
   "cell_type": "code",
   "execution_count": null,
   "id": "7c1db8e1",
   "metadata": {},
   "outputs": [],
   "source": []
  },
  {
   "cell_type": "markdown",
   "id": "e7e4130c",
   "metadata": {},
   "source": [
    "## 2) Two-Way ANOVA"
   ]
  },
  {
   "cell_type": "code",
   "execution_count": 38,
   "id": "65b3b103",
   "metadata": {
    "scrolled": true
   },
   "outputs": [
    {
     "data": {
      "text/html": [
       "<div>\n",
       "<style scoped>\n",
       "    .dataframe tbody tr th:only-of-type {\n",
       "        vertical-align: middle;\n",
       "    }\n",
       "\n",
       "    .dataframe tbody tr th {\n",
       "        vertical-align: top;\n",
       "    }\n",
       "\n",
       "    .dataframe thead th {\n",
       "        text-align: right;\n",
       "    }\n",
       "</style>\n",
       "<table border=\"1\" class=\"dataframe\">\n",
       "  <thead>\n",
       "    <tr style=\"text-align: right;\">\n",
       "      <th></th>\n",
       "      <th>carat</th>\n",
       "      <th>cut</th>\n",
       "      <th>color</th>\n",
       "      <th>clarity</th>\n",
       "      <th>depth</th>\n",
       "      <th>table</th>\n",
       "      <th>price</th>\n",
       "      <th>x</th>\n",
       "      <th>y</th>\n",
       "      <th>z</th>\n",
       "    </tr>\n",
       "  </thead>\n",
       "  <tbody>\n",
       "    <tr>\n",
       "      <th>0</th>\n",
       "      <td>0.23</td>\n",
       "      <td>Ideal</td>\n",
       "      <td>E</td>\n",
       "      <td>SI2</td>\n",
       "      <td>61.5</td>\n",
       "      <td>55.0</td>\n",
       "      <td>326</td>\n",
       "      <td>3.95</td>\n",
       "      <td>3.98</td>\n",
       "      <td>2.43</td>\n",
       "    </tr>\n",
       "    <tr>\n",
       "      <th>1</th>\n",
       "      <td>0.21</td>\n",
       "      <td>Premium</td>\n",
       "      <td>E</td>\n",
       "      <td>SI1</td>\n",
       "      <td>59.8</td>\n",
       "      <td>61.0</td>\n",
       "      <td>326</td>\n",
       "      <td>3.89</td>\n",
       "      <td>3.84</td>\n",
       "      <td>2.31</td>\n",
       "    </tr>\n",
       "    <tr>\n",
       "      <th>2</th>\n",
       "      <td>0.23</td>\n",
       "      <td>Good</td>\n",
       "      <td>E</td>\n",
       "      <td>VS1</td>\n",
       "      <td>56.9</td>\n",
       "      <td>65.0</td>\n",
       "      <td>327</td>\n",
       "      <td>4.05</td>\n",
       "      <td>4.07</td>\n",
       "      <td>2.31</td>\n",
       "    </tr>\n",
       "    <tr>\n",
       "      <th>3</th>\n",
       "      <td>0.29</td>\n",
       "      <td>Premium</td>\n",
       "      <td>I</td>\n",
       "      <td>VS2</td>\n",
       "      <td>62.4</td>\n",
       "      <td>58.0</td>\n",
       "      <td>334</td>\n",
       "      <td>4.20</td>\n",
       "      <td>4.23</td>\n",
       "      <td>2.63</td>\n",
       "    </tr>\n",
       "    <tr>\n",
       "      <th>4</th>\n",
       "      <td>0.31</td>\n",
       "      <td>Good</td>\n",
       "      <td>J</td>\n",
       "      <td>SI2</td>\n",
       "      <td>63.3</td>\n",
       "      <td>58.0</td>\n",
       "      <td>335</td>\n",
       "      <td>4.34</td>\n",
       "      <td>4.35</td>\n",
       "      <td>2.75</td>\n",
       "    </tr>\n",
       "  </tbody>\n",
       "</table>\n",
       "</div>"
      ],
      "text/plain": [
       "   carat      cut color clarity  depth  table  price     x     y     z\n",
       "0   0.23    Ideal     E     SI2   61.5   55.0    326  3.95  3.98  2.43\n",
       "1   0.21  Premium     E     SI1   59.8   61.0    326  3.89  3.84  2.31\n",
       "2   0.23     Good     E     VS1   56.9   65.0    327  4.05  4.07  2.31\n",
       "3   0.29  Premium     I     VS2   62.4   58.0    334  4.20  4.23  2.63\n",
       "4   0.31     Good     J     SI2   63.3   58.0    335  4.34  4.35  2.75"
      ]
     },
     "execution_count": 38,
     "metadata": {},
     "output_type": "execute_result"
    }
   ],
   "source": [
    "diamonds = sns.load_dataset(\"diamonds\")\n",
    "diamonds.head()"
   ]
  },
  {
   "cell_type": "code",
   "execution_count": 39,
   "id": "cd09c6ad",
   "metadata": {},
   "outputs": [
    {
     "data": {
      "text/plain": [
       "['Ideal', 'Premium', 'Good', 'Very Good', 'Fair']\n",
       "Categories (5, object): ['Ideal', 'Premium', 'Very Good', 'Good', 'Fair']"
      ]
     },
     "execution_count": 39,
     "metadata": {},
     "output_type": "execute_result"
    }
   ],
   "source": [
    "diamonds['cut'].unique()"
   ]
  },
  {
   "cell_type": "code",
   "execution_count": 40,
   "id": "1c84f83f",
   "metadata": {},
   "outputs": [
    {
     "data": {
      "text/html": [
       "<div>\n",
       "<style scoped>\n",
       "    .dataframe tbody tr th:only-of-type {\n",
       "        vertical-align: middle;\n",
       "    }\n",
       "\n",
       "    .dataframe tbody tr th {\n",
       "        vertical-align: top;\n",
       "    }\n",
       "\n",
       "    .dataframe thead th {\n",
       "        text-align: right;\n",
       "    }\n",
       "</style>\n",
       "<table border=\"1\" class=\"dataframe\">\n",
       "  <thead>\n",
       "    <tr style=\"text-align: right;\">\n",
       "      <th></th>\n",
       "      <th>color</th>\n",
       "      <th>cut</th>\n",
       "      <th>log_price</th>\n",
       "    </tr>\n",
       "  </thead>\n",
       "  <tbody>\n",
       "    <tr>\n",
       "      <th>0</th>\n",
       "      <td>E</td>\n",
       "      <td>Ideal</td>\n",
       "      <td>5.786897</td>\n",
       "    </tr>\n",
       "    <tr>\n",
       "      <th>1</th>\n",
       "      <td>E</td>\n",
       "      <td>Premium</td>\n",
       "      <td>5.786897</td>\n",
       "    </tr>\n",
       "    <tr>\n",
       "      <th>2</th>\n",
       "      <td>E</td>\n",
       "      <td>Good</td>\n",
       "      <td>5.789960</td>\n",
       "    </tr>\n",
       "    <tr>\n",
       "      <th>3</th>\n",
       "      <td>I</td>\n",
       "      <td>Premium</td>\n",
       "      <td>5.811141</td>\n",
       "    </tr>\n",
       "    <tr>\n",
       "      <th>4</th>\n",
       "      <td>J</td>\n",
       "      <td>Good</td>\n",
       "      <td>5.814131</td>\n",
       "    </tr>\n",
       "  </tbody>\n",
       "</table>\n",
       "</div>"
      ],
      "text/plain": [
       "  color      cut  log_price\n",
       "0     E    Ideal   5.786897\n",
       "1     E  Premium   5.786897\n",
       "2     E     Good   5.789960\n",
       "3     I  Premium   5.811141\n",
       "4     J     Good   5.814131"
      ]
     },
     "execution_count": 40,
     "metadata": {},
     "output_type": "execute_result"
    }
   ],
   "source": [
    "diamonds['log_price'] = np.log(diamonds['price'])\n",
    "diamonds = diamonds[['color', 'cut', 'log_price']].dropna().reset_index(drop=True)\n",
    "diamonds.head(5)"
   ]
  },
  {
   "cell_type": "markdown",
   "id": "0ecc29f5",
   "metadata": {},
   "source": [
    "### Building the Model\n"
   ]
  },
  {
   "cell_type": "code",
   "execution_count": 43,
   "id": "b7246045",
   "metadata": {},
   "outputs": [],
   "source": [
    "import statsmodels.formula.api as smf"
   ]
  },
  {
   "cell_type": "code",
   "execution_count": 44,
   "id": "c9a928fc",
   "metadata": {
    "scrolled": false
   },
   "outputs": [
    {
     "data": {
      "text/html": [
       "<table class=\"simpletable\">\n",
       "<caption>OLS Regression Results</caption>\n",
       "<tr>\n",
       "  <th>Dep. Variable:</th>        <td>log_price</td>    <th>  R-squared:         </th> <td>   0.042</td> \n",
       "</tr>\n",
       "<tr>\n",
       "  <th>Model:</th>                   <td>OLS</td>       <th>  Adj. R-squared:    </th> <td>   0.042</td> \n",
       "</tr>\n",
       "<tr>\n",
       "  <th>Method:</th>             <td>Least Squares</td>  <th>  F-statistic:       </th> <td>   236.5</td> \n",
       "</tr>\n",
       "<tr>\n",
       "  <th>Date:</th>             <td>Wed, 20 Dec 2023</td> <th>  Prob (F-statistic):</th>  <td>  0.00</td>  \n",
       "</tr>\n",
       "<tr>\n",
       "  <th>Time:</th>                 <td>20:12:33</td>     <th>  Log-Likelihood:    </th> <td> -76164.</td> \n",
       "</tr>\n",
       "<tr>\n",
       "  <th>No. Observations:</th>      <td> 53940</td>      <th>  AIC:               </th> <td>1.523e+05</td>\n",
       "</tr>\n",
       "<tr>\n",
       "  <th>Df Residuals:</th>          <td> 53929</td>      <th>  BIC:               </th> <td>1.524e+05</td>\n",
       "</tr>\n",
       "<tr>\n",
       "  <th>Df Model:</th>              <td>    10</td>      <th>                     </th>     <td> </td>    \n",
       "</tr>\n",
       "<tr>\n",
       "  <th>Covariance Type:</th>      <td>nonrobust</td>    <th>                     </th>     <td> </td>    \n",
       "</tr>\n",
       "</table>\n",
       "<table class=\"simpletable\">\n",
       "<tr>\n",
       "           <td></td>              <th>coef</th>     <th>std err</th>      <th>t</th>      <th>P>|t|</th>  <th>[0.025</th>    <th>0.975]</th>  \n",
       "</tr>\n",
       "<tr>\n",
       "  <th>Intercept</th>           <td>    7.4827</td> <td>    0.013</td> <td>  571.353</td> <td> 0.000</td> <td>    7.457</td> <td>    7.508</td>\n",
       "</tr>\n",
       "<tr>\n",
       "  <th>C(color)[T.E]</th>       <td>   -0.0405</td> <td>    0.016</td> <td>   -2.577</td> <td> 0.010</td> <td>   -0.071</td> <td>   -0.010</td>\n",
       "</tr>\n",
       "<tr>\n",
       "  <th>C(color)[T.F]</th>       <td>    0.1396</td> <td>    0.016</td> <td>    8.843</td> <td> 0.000</td> <td>    0.109</td> <td>    0.170</td>\n",
       "</tr>\n",
       "<tr>\n",
       "  <th>C(color)[T.G]</th>       <td>    0.1716</td> <td>    0.015</td> <td>   11.240</td> <td> 0.000</td> <td>    0.142</td> <td>    0.202</td>\n",
       "</tr>\n",
       "<tr>\n",
       "  <th>C(color)[T.H]</th>       <td>    0.2854</td> <td>    0.016</td> <td>   17.538</td> <td> 0.000</td> <td>    0.253</td> <td>    0.317</td>\n",
       "</tr>\n",
       "<tr>\n",
       "  <th>C(color)[T.I]</th>       <td>    0.3951</td> <td>    0.018</td> <td>   21.829</td> <td> 0.000</td> <td>    0.360</td> <td>    0.431</td>\n",
       "</tr>\n",
       "<tr>\n",
       "  <th>C(color)[T.J]</th>       <td>    0.5011</td> <td>    0.022</td> <td>   22.459</td> <td> 0.000</td> <td>    0.457</td> <td>    0.545</td>\n",
       "</tr>\n",
       "<tr>\n",
       "  <th>C(cut)[T.Premium]</th>   <td>    0.2959</td> <td>    0.011</td> <td>   27.290</td> <td> 0.000</td> <td>    0.275</td> <td>    0.317</td>\n",
       "</tr>\n",
       "<tr>\n",
       "  <th>C(cut)[T.Very Good]</th> <td>    0.1558</td> <td>    0.011</td> <td>   13.790</td> <td> 0.000</td> <td>    0.134</td> <td>    0.178</td>\n",
       "</tr>\n",
       "<tr>\n",
       "  <th>C(cut)[T.Good]</th>      <td>    0.1973</td> <td>    0.016</td> <td>   12.546</td> <td> 0.000</td> <td>    0.166</td> <td>    0.228</td>\n",
       "</tr>\n",
       "<tr>\n",
       "  <th>C(cut)[T.Fair]</th>      <td>    0.4222</td> <td>    0.026</td> <td>   16.440</td> <td> 0.000</td> <td>    0.372</td> <td>    0.473</td>\n",
       "</tr>\n",
       "</table>\n",
       "<table class=\"simpletable\">\n",
       "<tr>\n",
       "  <th>Omnibus:</th>       <td>8938.102</td> <th>  Durbin-Watson:     </th> <td>   0.084</td>\n",
       "</tr>\n",
       "<tr>\n",
       "  <th>Prob(Omnibus):</th>  <td> 0.000</td>  <th>  Jarque-Bera (JB):  </th> <td>2012.667</td>\n",
       "</tr>\n",
       "<tr>\n",
       "  <th>Skew:</th>           <td> 0.068</td>  <th>  Prob(JB):          </th> <td>    0.00</td>\n",
       "</tr>\n",
       "<tr>\n",
       "  <th>Kurtosis:</th>       <td> 2.064</td>  <th>  Cond. No.          </th> <td>    9.05</td>\n",
       "</tr>\n",
       "</table><br/><br/>Notes:<br/>[1] Standard Errors assume that the covariance matrix of the errors is correctly specified."
      ],
      "text/latex": [
       "\\begin{center}\n",
       "\\begin{tabular}{lclc}\n",
       "\\toprule\n",
       "\\textbf{Dep. Variable:}      &    log\\_price    & \\textbf{  R-squared:         } &     0.042   \\\\\n",
       "\\textbf{Model:}              &       OLS        & \\textbf{  Adj. R-squared:    } &     0.042   \\\\\n",
       "\\textbf{Method:}             &  Least Squares   & \\textbf{  F-statistic:       } &     236.5   \\\\\n",
       "\\textbf{Date:}               & Wed, 20 Dec 2023 & \\textbf{  Prob (F-statistic):} &     0.00    \\\\\n",
       "\\textbf{Time:}               &     20:12:33     & \\textbf{  Log-Likelihood:    } &   -76164.   \\\\\n",
       "\\textbf{No. Observations:}   &       53940      & \\textbf{  AIC:               } & 1.523e+05   \\\\\n",
       "\\textbf{Df Residuals:}       &       53929      & \\textbf{  BIC:               } & 1.524e+05   \\\\\n",
       "\\textbf{Df Model:}           &          10      & \\textbf{                     } &             \\\\\n",
       "\\textbf{Covariance Type:}    &    nonrobust     & \\textbf{                     } &             \\\\\n",
       "\\bottomrule\n",
       "\\end{tabular}\n",
       "\\begin{tabular}{lcccccc}\n",
       "                             & \\textbf{coef} & \\textbf{std err} & \\textbf{t} & \\textbf{P$> |$t$|$} & \\textbf{[0.025} & \\textbf{0.975]}  \\\\\n",
       "\\midrule\n",
       "\\textbf{Intercept}           &       7.4827  &        0.013     &   571.353  &         0.000        &        7.457    &        7.508     \\\\\n",
       "\\textbf{C(color)[T.E]}       &      -0.0405  &        0.016     &    -2.577  &         0.010        &       -0.071    &       -0.010     \\\\\n",
       "\\textbf{C(color)[T.F]}       &       0.1396  &        0.016     &     8.843  &         0.000        &        0.109    &        0.170     \\\\\n",
       "\\textbf{C(color)[T.G]}       &       0.1716  &        0.015     &    11.240  &         0.000        &        0.142    &        0.202     \\\\\n",
       "\\textbf{C(color)[T.H]}       &       0.2854  &        0.016     &    17.538  &         0.000        &        0.253    &        0.317     \\\\\n",
       "\\textbf{C(color)[T.I]}       &       0.3951  &        0.018     &    21.829  &         0.000        &        0.360    &        0.431     \\\\\n",
       "\\textbf{C(color)[T.J]}       &       0.5011  &        0.022     &    22.459  &         0.000        &        0.457    &        0.545     \\\\\n",
       "\\textbf{C(cut)[T.Premium]}   &       0.2959  &        0.011     &    27.290  &         0.000        &        0.275    &        0.317     \\\\\n",
       "\\textbf{C(cut)[T.Very Good]} &       0.1558  &        0.011     &    13.790  &         0.000        &        0.134    &        0.178     \\\\\n",
       "\\textbf{C(cut)[T.Good]}      &       0.1973  &        0.016     &    12.546  &         0.000        &        0.166    &        0.228     \\\\\n",
       "\\textbf{C(cut)[T.Fair]}      &       0.4222  &        0.026     &    16.440  &         0.000        &        0.372    &        0.473     \\\\\n",
       "\\bottomrule\n",
       "\\end{tabular}\n",
       "\\begin{tabular}{lclc}\n",
       "\\textbf{Omnibus:}       & 8938.102 & \\textbf{  Durbin-Watson:     } &    0.084  \\\\\n",
       "\\textbf{Prob(Omnibus):} &   0.000  & \\textbf{  Jarque-Bera (JB):  } & 2012.667  \\\\\n",
       "\\textbf{Skew:}          &   0.068  & \\textbf{  Prob(JB):          } &     0.00  \\\\\n",
       "\\textbf{Kurtosis:}      &   2.064  & \\textbf{  Cond. No.          } &     9.05  \\\\\n",
       "\\bottomrule\n",
       "\\end{tabular}\n",
       "%\\caption{OLS Regression Results}\n",
       "\\end{center}\n",
       "\n",
       "Notes: \\newline\n",
       " [1] Standard Errors assume that the covariance matrix of the errors is correctly specified."
      ],
      "text/plain": [
       "<class 'statsmodels.iolib.summary.Summary'>\n",
       "\"\"\"\n",
       "                            OLS Regression Results                            \n",
       "==============================================================================\n",
       "Dep. Variable:              log_price   R-squared:                       0.042\n",
       "Model:                            OLS   Adj. R-squared:                  0.042\n",
       "Method:                 Least Squares   F-statistic:                     236.5\n",
       "Date:                Wed, 20 Dec 2023   Prob (F-statistic):               0.00\n",
       "Time:                        20:12:33   Log-Likelihood:                -76164.\n",
       "No. Observations:               53940   AIC:                         1.523e+05\n",
       "Df Residuals:                   53929   BIC:                         1.524e+05\n",
       "Df Model:                          10                                         \n",
       "Covariance Type:            nonrobust                                         \n",
       "=======================================================================================\n",
       "                          coef    std err          t      P>|t|      [0.025      0.975]\n",
       "---------------------------------------------------------------------------------------\n",
       "Intercept               7.4827      0.013    571.353      0.000       7.457       7.508\n",
       "C(color)[T.E]          -0.0405      0.016     -2.577      0.010      -0.071      -0.010\n",
       "C(color)[T.F]           0.1396      0.016      8.843      0.000       0.109       0.170\n",
       "C(color)[T.G]           0.1716      0.015     11.240      0.000       0.142       0.202\n",
       "C(color)[T.H]           0.2854      0.016     17.538      0.000       0.253       0.317\n",
       "C(color)[T.I]           0.3951      0.018     21.829      0.000       0.360       0.431\n",
       "C(color)[T.J]           0.5011      0.022     22.459      0.000       0.457       0.545\n",
       "C(cut)[T.Premium]       0.2959      0.011     27.290      0.000       0.275       0.317\n",
       "C(cut)[T.Very Good]     0.1558      0.011     13.790      0.000       0.134       0.178\n",
       "C(cut)[T.Good]          0.1973      0.016     12.546      0.000       0.166       0.228\n",
       "C(cut)[T.Fair]          0.4222      0.026     16.440      0.000       0.372       0.473\n",
       "==============================================================================\n",
       "Omnibus:                     8938.102   Durbin-Watson:                   0.084\n",
       "Prob(Omnibus):                  0.000   Jarque-Bera (JB):             2012.667\n",
       "Skew:                           0.068   Prob(JB):                         0.00\n",
       "Kurtosis:                       2.064   Cond. No.                         9.05\n",
       "==============================================================================\n",
       "\n",
       "Notes:\n",
       "[1] Standard Errors assume that the covariance matrix of the errors is correctly specified.\n",
       "\"\"\""
      ]
     },
     "execution_count": 44,
     "metadata": {},
     "output_type": "execute_result"
    }
   ],
   "source": [
    "ols_data = diamonds\n",
    "ols_formula = \"log_price ~ C(color) + C(cut)\"\n",
    "OLS = smf.ols(formula = ols_formula, data= ols_data)\n",
    "model = OLS.fit()\n",
    "\n",
    "model.summary()"
   ]
  },
  {
   "cell_type": "code",
   "execution_count": 46,
   "id": "883b747f",
   "metadata": {},
   "outputs": [],
   "source": [
    "import statsmodels.api as sm"
   ]
  },
  {
   "cell_type": "code",
   "execution_count": 48,
   "id": "e254713a",
   "metadata": {},
   "outputs": [
    {
     "data": {
      "text/html": [
       "<div>\n",
       "<style scoped>\n",
       "    .dataframe tbody tr th:only-of-type {\n",
       "        vertical-align: middle;\n",
       "    }\n",
       "\n",
       "    .dataframe tbody tr th {\n",
       "        vertical-align: top;\n",
       "    }\n",
       "\n",
       "    .dataframe thead th {\n",
       "        text-align: right;\n",
       "    }\n",
       "</style>\n",
       "<table border=\"1\" class=\"dataframe\">\n",
       "  <thead>\n",
       "    <tr style=\"text-align: right;\">\n",
       "      <th></th>\n",
       "      <th>sum_sq</th>\n",
       "      <th>df</th>\n",
       "      <th>F</th>\n",
       "      <th>PR(&gt;F)</th>\n",
       "    </tr>\n",
       "  </thead>\n",
       "  <tbody>\n",
       "    <tr>\n",
       "      <th>C(color)</th>\n",
       "      <td>1325.991186</td>\n",
       "      <td>6.0</td>\n",
       "      <td>224.036379</td>\n",
       "      <td>1.044711e-283</td>\n",
       "    </tr>\n",
       "    <tr>\n",
       "      <th>C(cut)</th>\n",
       "      <td>901.918331</td>\n",
       "      <td>4.0</td>\n",
       "      <td>228.579028</td>\n",
       "      <td>5.980890e-195</td>\n",
       "    </tr>\n",
       "    <tr>\n",
       "      <th>Residual</th>\n",
       "      <td>53197.743185</td>\n",
       "      <td>53929.0</td>\n",
       "      <td>NaN</td>\n",
       "      <td>NaN</td>\n",
       "    </tr>\n",
       "  </tbody>\n",
       "</table>\n",
       "</div>"
      ],
      "text/plain": [
       "                sum_sq       df           F         PR(>F)\n",
       "C(color)   1325.991186      6.0  224.036379  1.044711e-283\n",
       "C(cut)      901.918331      4.0  228.579028  5.980890e-195\n",
       "Residual  53197.743185  53929.0         NaN            NaN"
      ]
     },
     "execution_count": 48,
     "metadata": {},
     "output_type": "execute_result"
    }
   ],
   "source": [
    "sm.stats.anova_lm(model, typ = 2)"
   ]
  },
  {
   "cell_type": "markdown",
   "id": "34e94d6b",
   "metadata": {},
   "source": [
    "Since the **p-value** is small in all 3, we can reject all 3 Null Hypotheses."
   ]
  },
  {
   "cell_type": "markdown",
   "id": "07dec2dc",
   "metadata": {},
   "source": [
    "**TWO-way ANOVA results** :\n",
    "* Logarithm of price is **NOT** the same for different colors\n",
    "* Logarithm of the price is **NOT** the same for different diamond cuts\n",
    "* There is an interaction effect between the color and cut that impacts the price of the diamond"
   ]
  },
  {
   "cell_type": "code",
   "execution_count": null,
   "id": "a625a63c",
   "metadata": {},
   "outputs": [],
   "source": []
  }
 ],
 "metadata": {
  "kernelspec": {
   "display_name": "Python 3 (ipykernel)",
   "language": "python",
   "name": "python3"
  },
  "language_info": {
   "codemirror_mode": {
    "name": "ipython",
    "version": 3
   },
   "file_extension": ".py",
   "mimetype": "text/x-python",
   "name": "python",
   "nbconvert_exporter": "python",
   "pygments_lexer": "ipython3",
   "version": "3.10.10"
  }
 },
 "nbformat": 4,
 "nbformat_minor": 5
}
