{
 "cells": [
  {
   "cell_type": "code",
   "execution_count": 1,
   "id": "2fee4326",
   "metadata": {},
   "outputs": [],
   "source": [
    "# Python"
   ]
  },
  {
   "cell_type": "markdown",
   "id": "7a282c2b",
   "metadata": {},
   "source": [
    "# Hypothesis Testing\n",
    "\n",
    "\n",
    "In this notebook we demonstrate formal hypothesis testing using the NHANES data.\n",
    "\n",
    "It is important to note that the NHANES data are a \"complex survey\". The data are not an independent and representative sample from the target population. Proper analysis of complex survey data should make use of additional information about how the data were collected. Since complex survey analysis is a somewhat specialized topic, we ignore this aspect of the data here, and analyze the NHANES data as if it were an independent and identically distributed sample from a population.\n",
    "\n",
    "First we import the libraries that we will need."
   ]
  },
  {
   "cell_type": "code",
   "execution_count": 2,
   "id": "0e367e4f",
   "metadata": {},
   "outputs": [],
   "source": [
    "import pandas as pd\n",
    "import numpy as np\n",
    "\n",
    "import matplotlib.pyplot as plt\n",
    "import seaborn as sns\n",
    "%matplotlib inline\n",
    "\n",
    "import statsmodels.api as sm\n",
    "import scipy.stats.distributions as dist"
   ]
  },
  {
   "cell_type": "markdown",
   "id": "73c93b39",
   "metadata": {},
   "source": [
    "## Data importation\n",
    "\n",
    "Below we read the data, and convert some of the integer codes to text values. The NHANES codebooks for `SMQ020`, `RIAGENDR`, and `DMDCITZN` describe the meanings of the numerical codes."
   ]
  },
  {
   "cell_type": "code",
   "execution_count": 3,
   "id": "fbe74b30",
   "metadata": {},
   "outputs": [],
   "source": [
    "da = pd.read_csv('nhanes_2015_2016.csv')"
   ]
  },
  {
   "cell_type": "code",
   "execution_count": 4,
   "id": "551d1540",
   "metadata": {},
   "outputs": [
    {
     "data": {
      "text/html": [
       "<div>\n",
       "<style scoped>\n",
       "    .dataframe tbody tr th:only-of-type {\n",
       "        vertical-align: middle;\n",
       "    }\n",
       "\n",
       "    .dataframe tbody tr th {\n",
       "        vertical-align: top;\n",
       "    }\n",
       "\n",
       "    .dataframe thead th {\n",
       "        text-align: right;\n",
       "    }\n",
       "</style>\n",
       "<table border=\"1\" class=\"dataframe\">\n",
       "  <thead>\n",
       "    <tr style=\"text-align: right;\">\n",
       "      <th></th>\n",
       "      <th>SEQN</th>\n",
       "      <th>ALQ101</th>\n",
       "      <th>ALQ110</th>\n",
       "      <th>ALQ130</th>\n",
       "      <th>SMQ020</th>\n",
       "      <th>RIAGENDR</th>\n",
       "      <th>RIDAGEYR</th>\n",
       "      <th>RIDRETH1</th>\n",
       "      <th>DMDCITZN</th>\n",
       "      <th>DMDEDUC2</th>\n",
       "      <th>...</th>\n",
       "      <th>BPXSY2</th>\n",
       "      <th>BPXDI2</th>\n",
       "      <th>BMXWT</th>\n",
       "      <th>BMXHT</th>\n",
       "      <th>BMXBMI</th>\n",
       "      <th>BMXLEG</th>\n",
       "      <th>BMXARML</th>\n",
       "      <th>BMXARMC</th>\n",
       "      <th>BMXWAIST</th>\n",
       "      <th>HIQ210</th>\n",
       "    </tr>\n",
       "  </thead>\n",
       "  <tbody>\n",
       "    <tr>\n",
       "      <th>0</th>\n",
       "      <td>83732</td>\n",
       "      <td>1.0</td>\n",
       "      <td>NaN</td>\n",
       "      <td>1.0</td>\n",
       "      <td>1</td>\n",
       "      <td>1</td>\n",
       "      <td>62</td>\n",
       "      <td>3</td>\n",
       "      <td>1.0</td>\n",
       "      <td>5.0</td>\n",
       "      <td>...</td>\n",
       "      <td>124.0</td>\n",
       "      <td>64.0</td>\n",
       "      <td>94.8</td>\n",
       "      <td>184.5</td>\n",
       "      <td>27.8</td>\n",
       "      <td>43.3</td>\n",
       "      <td>43.6</td>\n",
       "      <td>35.9</td>\n",
       "      <td>101.1</td>\n",
       "      <td>2.0</td>\n",
       "    </tr>\n",
       "    <tr>\n",
       "      <th>1</th>\n",
       "      <td>83733</td>\n",
       "      <td>1.0</td>\n",
       "      <td>NaN</td>\n",
       "      <td>6.0</td>\n",
       "      <td>1</td>\n",
       "      <td>1</td>\n",
       "      <td>53</td>\n",
       "      <td>3</td>\n",
       "      <td>2.0</td>\n",
       "      <td>3.0</td>\n",
       "      <td>...</td>\n",
       "      <td>140.0</td>\n",
       "      <td>88.0</td>\n",
       "      <td>90.4</td>\n",
       "      <td>171.4</td>\n",
       "      <td>30.8</td>\n",
       "      <td>38.0</td>\n",
       "      <td>40.0</td>\n",
       "      <td>33.2</td>\n",
       "      <td>107.9</td>\n",
       "      <td>NaN</td>\n",
       "    </tr>\n",
       "    <tr>\n",
       "      <th>2</th>\n",
       "      <td>83734</td>\n",
       "      <td>1.0</td>\n",
       "      <td>NaN</td>\n",
       "      <td>NaN</td>\n",
       "      <td>1</td>\n",
       "      <td>1</td>\n",
       "      <td>78</td>\n",
       "      <td>3</td>\n",
       "      <td>1.0</td>\n",
       "      <td>3.0</td>\n",
       "      <td>...</td>\n",
       "      <td>132.0</td>\n",
       "      <td>44.0</td>\n",
       "      <td>83.4</td>\n",
       "      <td>170.1</td>\n",
       "      <td>28.8</td>\n",
       "      <td>35.6</td>\n",
       "      <td>37.0</td>\n",
       "      <td>31.0</td>\n",
       "      <td>116.5</td>\n",
       "      <td>2.0</td>\n",
       "    </tr>\n",
       "    <tr>\n",
       "      <th>3</th>\n",
       "      <td>83735</td>\n",
       "      <td>2.0</td>\n",
       "      <td>1.0</td>\n",
       "      <td>1.0</td>\n",
       "      <td>2</td>\n",
       "      <td>2</td>\n",
       "      <td>56</td>\n",
       "      <td>3</td>\n",
       "      <td>1.0</td>\n",
       "      <td>5.0</td>\n",
       "      <td>...</td>\n",
       "      <td>134.0</td>\n",
       "      <td>68.0</td>\n",
       "      <td>109.8</td>\n",
       "      <td>160.9</td>\n",
       "      <td>42.4</td>\n",
       "      <td>38.5</td>\n",
       "      <td>37.7</td>\n",
       "      <td>38.3</td>\n",
       "      <td>110.1</td>\n",
       "      <td>2.0</td>\n",
       "    </tr>\n",
       "    <tr>\n",
       "      <th>4</th>\n",
       "      <td>83736</td>\n",
       "      <td>2.0</td>\n",
       "      <td>1.0</td>\n",
       "      <td>1.0</td>\n",
       "      <td>2</td>\n",
       "      <td>2</td>\n",
       "      <td>42</td>\n",
       "      <td>4</td>\n",
       "      <td>1.0</td>\n",
       "      <td>4.0</td>\n",
       "      <td>...</td>\n",
       "      <td>114.0</td>\n",
       "      <td>54.0</td>\n",
       "      <td>55.2</td>\n",
       "      <td>164.9</td>\n",
       "      <td>20.3</td>\n",
       "      <td>37.4</td>\n",
       "      <td>36.0</td>\n",
       "      <td>27.2</td>\n",
       "      <td>80.4</td>\n",
       "      <td>2.0</td>\n",
       "    </tr>\n",
       "  </tbody>\n",
       "</table>\n",
       "<p>5 rows × 28 columns</p>\n",
       "</div>"
      ],
      "text/plain": [
       "    SEQN  ALQ101  ALQ110  ALQ130  SMQ020  RIAGENDR  RIDAGEYR  RIDRETH1  \\\n",
       "0  83732     1.0     NaN     1.0       1         1        62         3   \n",
       "1  83733     1.0     NaN     6.0       1         1        53         3   \n",
       "2  83734     1.0     NaN     NaN       1         1        78         3   \n",
       "3  83735     2.0     1.0     1.0       2         2        56         3   \n",
       "4  83736     2.0     1.0     1.0       2         2        42         4   \n",
       "\n",
       "   DMDCITZN  DMDEDUC2  ...  BPXSY2  BPXDI2  BMXWT  BMXHT  BMXBMI  BMXLEG  \\\n",
       "0       1.0       5.0  ...   124.0    64.0   94.8  184.5    27.8    43.3   \n",
       "1       2.0       3.0  ...   140.0    88.0   90.4  171.4    30.8    38.0   \n",
       "2       1.0       3.0  ...   132.0    44.0   83.4  170.1    28.8    35.6   \n",
       "3       1.0       5.0  ...   134.0    68.0  109.8  160.9    42.4    38.5   \n",
       "4       1.0       4.0  ...   114.0    54.0   55.2  164.9    20.3    37.4   \n",
       "\n",
       "   BMXARML  BMXARMC  BMXWAIST  HIQ210  \n",
       "0     43.6     35.9     101.1     2.0  \n",
       "1     40.0     33.2     107.9     NaN  \n",
       "2     37.0     31.0     116.5     2.0  \n",
       "3     37.7     38.3     110.1     2.0  \n",
       "4     36.0     27.2      80.4     2.0  \n",
       "\n",
       "[5 rows x 28 columns]"
      ]
     },
     "execution_count": 4,
     "metadata": {},
     "output_type": "execute_result"
    }
   ],
   "source": [
    "da.head()"
   ]
  },
  {
   "cell_type": "code",
   "execution_count": 5,
   "id": "7ec5e80f",
   "metadata": {
    "scrolled": false
   },
   "outputs": [
    {
     "data": {
      "text/plain": [
       "SEQN        5735\n",
       "ALQ101         3\n",
       "ALQ110         4\n",
       "ALQ130        15\n",
       "SMQ020         4\n",
       "RIAGENDR       2\n",
       "RIDAGEYR      63\n",
       "RIDRETH1       5\n",
       "DMDCITZN       4\n",
       "DMDEDUC2       6\n",
       "DMDMARTL       7\n",
       "DMDHHSIZ       7\n",
       "WTINT2YR    4355\n",
       "SDMVPSU        2\n",
       "SDMVSTRA      15\n",
       "INDFMPIR     440\n",
       "BPXSY1        68\n",
       "BPXDI1        50\n",
       "BPXSY2        67\n",
       "BPXDI2        49\n",
       "BMXWT        997\n",
       "BMXHT        509\n",
       "BMXBMI       393\n",
       "BMXLEG       218\n",
       "BMXARML      163\n",
       "BMXARMC      297\n",
       "BMXWAIST     794\n",
       "HIQ210         3\n",
       "dtype: int64"
      ]
     },
     "execution_count": 5,
     "metadata": {},
     "output_type": "execute_result"
    }
   ],
   "source": [
    "da.nunique()"
   ]
  },
  {
   "cell_type": "code",
   "execution_count": 6,
   "id": "bbb23f7b",
   "metadata": {},
   "outputs": [],
   "source": [
    "# Convert some columns :\n",
    "da[\"RIAGENDR\"] = da[\"RIAGENDR\"].replace({1:\"Male\", 2:\"Female\"})\n",
    "da[\"SMQ020\"] = da[\"SMQ020\"].replace({1:\"Yes\", 2:\"No\", 7:np.nan, 9:np.nan })\n",
    "da[\"DMDCITZN\"] = da[\"DMDCITZN\"].replace({1:\"Yes\", 2:\"No\", 7:np.nan, 9:np.nan})"
   ]
  },
  {
   "cell_type": "code",
   "execution_count": 7,
   "id": "aaca3b7c",
   "metadata": {},
   "outputs": [
    {
     "data": {
      "text/plain": [
       "array(['Yes', 'No', nan], dtype=object)"
      ]
     },
     "execution_count": 7,
     "metadata": {},
     "output_type": "execute_result"
    }
   ],
   "source": [
    "da[\"SMQ020\"].unique()"
   ]
  },
  {
   "cell_type": "markdown",
   "id": "a3cf8741",
   "metadata": {},
   "source": [
    "##  1) Hypothesis Tests for one Proportion\n",
    "\n",
    "The most basic hypothesis test may be the :\n",
    "\n",
    "\n",
    "$$\n",
    "Z = \\frac{\\hat{p} - p}{SE} \\quad \\text{where} \\quad SE = \\sqrt{p(1-p)/n} \\quad \\text{and} \\quad \\hat{p} = \\frac{x}{n}\n",
    "$$\n",
    "\n",
    "where :\n",
    "\n",
    "* $SE$ : is the standard error of the estimate.\n",
    "* $\\hat{p}$ : is the best estimate\n",
    "* $p$ : is the hypothesized estimate\n",
    "\n",
    "* **one-sample test for a proportion**. This test is used if we have specified a particular value as the null value for the proportion, and we wish to assess if the data are compatible with the true parameter value being equal to this specified value. One-sample tests are not used very often in practice, because it is **not very common** that we have a specific fixed value to use for comparison.\n",
    "\n",
    "For illustration, imagine that the rate of lifetime smoking in another country was known to be 40% ($p$), and we wished to assess whether the rate of lifetime smoking in the US were different from 40%. In the following notebook cell, we carry out the **(two-sided) one-sample test** that the population proportion of smokers is 0.4, and obtain a p-value of 0.43. This indicates that the NHANES data are compatible with the proportion of (ever) smokers in the US being 40%."
   ]
  },
  {
   "cell_type": "markdown",
   "id": "00d16afa",
   "metadata": {},
   "source": [
    "### <ins> **Method 1 :**</ins>"
   ]
  },
  {
   "cell_type": "markdown",
   "id": "695dbed8",
   "metadata": {},
   "source": [
    "First of all, we need to calculate $\\hat{p}$ :"
   ]
  },
  {
   "cell_type": "code",
   "execution_count": 20,
   "id": "81d5281e",
   "metadata": {},
   "outputs": [
    {
     "data": {
      "text/plain": [
       "0.4050655021834061"
      ]
     },
     "execution_count": 20,
     "metadata": {},
     "output_type": "execute_result"
    }
   ],
   "source": [
    "x = da.SMQ020.dropna() == \"Yes\"\n",
    "phat = x.mean()\n",
    "phat                  # best estimate"
   ]
  },
  {
   "cell_type": "code",
   "execution_count": 21,
   "id": "dcb85356",
   "metadata": {},
   "outputs": [],
   "source": [
    "p = .4                    # hypothesized estimate\n",
    "n = len(x)                # nb of \"success\"\n",
    "se = np.sqrt(p*(1-p)/n)    # standard error\n",
    "\n",
    "test_stat = (phat-p) / se"
   ]
  },
  {
   "cell_type": "code",
   "execution_count": 22,
   "id": "882da802",
   "metadata": {},
   "outputs": [
    {
     "name": "stdout",
     "output_type": "stream",
     "text": [
      "0.7823563854332805 0.4340051581348052\n"
     ]
    }
   ],
   "source": [
    "# two-sided one-sample test\n",
    "pvalue = 2 * dist.norm.cdf(-np.abs(test_stat))       # P(|Z|<test_stat)\n",
    "print(test_stat, pvalue)"
   ]
  },
  {
   "cell_type": "markdown",
   "id": "bfa6294d",
   "metadata": {},
   "source": [
    "### <ins> **Method 2 : statsmodels**</ins>\n",
    "\n",
    "The following cell carries out the same test as performed above using the `Statsmodels` library. The results in the first (default) case below are slightly different from the results obtained above because Statsmodels by default uses the sample proportion ($\\hat{p}$) instead of the null proportion ($p$) when computing the standard error. This distinction is rarely consequential, but we can specify that the null proportion should be used to calculate the standard error, and the results agree exactly with what we calculated above. The first two lines below carry out tests using the normal approximation to the sampling distribution of the test statistic, and the third line below carries uses the exact binomial sampling distribution. We can see here that the p-values are nearly identical in all three cases. This is expected when the sample size is large, and the proportion is not close to either 0 or 1."
   ]
  },
  {
   "cell_type": "code",
   "execution_count": 23,
   "id": "6c84a51d",
   "metadata": {},
   "outputs": [
    {
     "name": "stdout",
     "output_type": "stream",
     "text": [
      "(0.7807518954896244, 0.43494843171868214)\n",
      "(0.7823563854332805, 0.4340051581348052)\n",
      "0.4340360854410028\n"
     ]
    }
   ],
   "source": [
    "# Twoside is the default mode in sm.stats.proportions_ztest: it prints test statistic, p-value\n",
    "# By default : Normal approximation with estimated proportion (phat) in calculating SE\n",
    "# since the values of x is either 0 or 1 : x.sum() will return the nb of smokers\n",
    "print(sm.stats.proportions_ztest(count=x.sum(), nobs=len(x), value=p))\n",
    "\n",
    "# Normal approximation with null proportion (p) in SE\n",
    "print(sm.stats.proportions_ztest(count=x.sum(), nobs=len(x), value=p, prop_var=p))\n",
    "\n",
    "# Binominal : prints the p-value\n",
    "print(sm.stats.binom_test(count = x.sum(), nobs=len(x), prop = 0.4))"
   ]
  },
  {
   "cell_type": "markdown",
   "id": "62742a0f",
   "metadata": {},
   "source": [
    "## 2) Hypothesis Tests for two proportions\n",
    "\n",
    "Comparative tests tend to be used **much more frequently** than tests comparing one population to a fixed value. \n",
    "\n",
    "$$\n",
    "z = \\frac{(\\hat{p}_1 - \\hat{p}_2) - (p_1 - p_2)}{\\sqrt{\\hat{p}(1-\\hat{p})\\left(\\frac{1}{n_1} + \\frac{1}{n_2}\\right)}}= \\frac{(\\hat{p}_1 - \\hat{p}_2) - (p_1 - p_2)}{SE}\n",
    "$$\n",
    "\n",
    "where $SE$ is the standard error, and the pooled proportion : \n",
    "\n",
    "$$\n",
    "\\hat{p} = \\frac{n_1 \\hat{p}_1 + n_2 \\hat{p}_2}{n_1 + n_2} = \\frac{X_1 + X_2}{n_1 + n_2}\n",
    "$$\n",
    "\n",
    "* **two-sample test of proportions :** is used to assess whether the proportion of individuals with some trait differs between two sub-populations.\n",
    "\n",
    "For example, we can compare the smoking rates between females and males. Since smoking rates vary strongly with age, we do this in the subpopulation of **people between 20 and 25 years of age**. In the cell below, we carry out this test without using any libraries, implementing all the test procedures using Python code. We find that the **smoking rate for men is around 10 percentage points greater than the smoking rate for females**, and this difference is statistically significant (the p-value is around 0.01)."
   ]
  },
  {
   "cell_type": "markdown",
   "id": "73404c52",
   "metadata": {},
   "source": [
    "### <ins> **Method 1 :**</ins>"
   ]
  },
  {
   "cell_type": "markdown",
   "id": "7441dc39",
   "metadata": {},
   "source": [
    "First we need to calculate $\\hat{p}_1$ and $\\hat{p}_2$"
   ]
  },
  {
   "cell_type": "code",
   "execution_count": 12,
   "id": "12ce5b70",
   "metadata": {},
   "outputs": [
    {
     "data": {
      "text/html": [
       "<div>\n",
       "<style scoped>\n",
       "    .dataframe tbody tr th:only-of-type {\n",
       "        vertical-align: middle;\n",
       "    }\n",
       "\n",
       "    .dataframe tbody tr th {\n",
       "        vertical-align: top;\n",
       "    }\n",
       "\n",
       "    .dataframe thead th {\n",
       "        text-align: right;\n",
       "    }\n",
       "</style>\n",
       "<table border=\"1\" class=\"dataframe\">\n",
       "  <thead>\n",
       "    <tr style=\"text-align: right;\">\n",
       "      <th></th>\n",
       "      <th>SMQ020</th>\n",
       "      <th>RIAGENDR</th>\n",
       "      <th>RIDAGEYR</th>\n",
       "    </tr>\n",
       "  </thead>\n",
       "  <tbody>\n",
       "    <tr>\n",
       "      <th>6</th>\n",
       "      <td>Yes</td>\n",
       "      <td>Male</td>\n",
       "      <td>22</td>\n",
       "    </tr>\n",
       "    <tr>\n",
       "      <th>17</th>\n",
       "      <td>No</td>\n",
       "      <td>Female</td>\n",
       "      <td>24</td>\n",
       "    </tr>\n",
       "    <tr>\n",
       "      <th>26</th>\n",
       "      <td>Yes</td>\n",
       "      <td>Male</td>\n",
       "      <td>22</td>\n",
       "    </tr>\n",
       "    <tr>\n",
       "      <th>38</th>\n",
       "      <td>No</td>\n",
       "      <td>Female</td>\n",
       "      <td>20</td>\n",
       "    </tr>\n",
       "    <tr>\n",
       "      <th>40</th>\n",
       "      <td>Yes</td>\n",
       "      <td>Male</td>\n",
       "      <td>24</td>\n",
       "    </tr>\n",
       "  </tbody>\n",
       "</table>\n",
       "</div>"
      ],
      "text/plain": [
       "   SMQ020 RIAGENDR  RIDAGEYR\n",
       "6     Yes     Male        22\n",
       "17     No   Female        24\n",
       "26    Yes     Male        22\n",
       "38     No   Female        20\n",
       "40    Yes     Male        24"
      ]
     },
     "execution_count": 12,
     "metadata": {},
     "output_type": "execute_result"
    }
   ],
   "source": [
    "dx = da[[\"SMQ020\", \"RIAGENDR\", \"RIDAGEYR\"]].dropna()\n",
    "dx = dx.loc[(dx.RIDAGEYR >=20) & (dx.RIDAGEYR <=25),:]\n",
    "dx.head()"
   ]
  },
  {
   "cell_type": "code",
   "execution_count": 13,
   "id": "49ede24f",
   "metadata": {},
   "outputs": [
    {
     "data": {
      "text/html": [
       "<div>\n",
       "<style scoped>\n",
       "    .dataframe tbody tr th:only-of-type {\n",
       "        vertical-align: middle;\n",
       "    }\n",
       "\n",
       "    .dataframe tbody tr th {\n",
       "        vertical-align: top;\n",
       "    }\n",
       "\n",
       "    .dataframe thead th {\n",
       "        text-align: right;\n",
       "    }\n",
       "</style>\n",
       "<table border=\"1\" class=\"dataframe\">\n",
       "  <thead>\n",
       "    <tr style=\"text-align: right;\">\n",
       "      <th></th>\n",
       "      <th>&lt;lambda_0&gt;</th>\n",
       "      <th>size</th>\n",
       "    </tr>\n",
       "    <tr>\n",
       "      <th>RIAGENDR</th>\n",
       "      <th></th>\n",
       "      <th></th>\n",
       "    </tr>\n",
       "  </thead>\n",
       "  <tbody>\n",
       "    <tr>\n",
       "      <th>Female</th>\n",
       "      <td>0.238971</td>\n",
       "      <td>272</td>\n",
       "    </tr>\n",
       "    <tr>\n",
       "      <th>Male</th>\n",
       "      <td>0.341270</td>\n",
       "      <td>252</td>\n",
       "    </tr>\n",
       "  </tbody>\n",
       "</table>\n",
       "</div>"
      ],
      "text/plain": [
       "          <lambda_0>  size\n",
       "RIAGENDR                  \n",
       "Female      0.238971   272\n",
       "Male        0.341270   252"
      ]
     },
     "execution_count": 13,
     "metadata": {},
     "output_type": "execute_result"
    }
   ],
   "source": [
    "p = dx.groupby(\"RIAGENDR\")[\"SMQ020\"].agg([lambda z : np.mean(z==\"Yes\"), \"size\"])\n",
    "p"
   ]
  },
  {
   "cell_type": "code",
   "execution_count": 14,
   "id": "836eedb7",
   "metadata": {},
   "outputs": [
    {
     "data": {
      "text/html": [
       "<div>\n",
       "<style scoped>\n",
       "    .dataframe tbody tr th:only-of-type {\n",
       "        vertical-align: middle;\n",
       "    }\n",
       "\n",
       "    .dataframe tbody tr th {\n",
       "        vertical-align: top;\n",
       "    }\n",
       "\n",
       "    .dataframe thead th {\n",
       "        text-align: right;\n",
       "    }\n",
       "</style>\n",
       "<table border=\"1\" class=\"dataframe\">\n",
       "  <thead>\n",
       "    <tr style=\"text-align: right;\">\n",
       "      <th></th>\n",
       "      <th>Smoke</th>\n",
       "      <th>N</th>\n",
       "    </tr>\n",
       "    <tr>\n",
       "      <th>RIAGENDR</th>\n",
       "      <th></th>\n",
       "      <th></th>\n",
       "    </tr>\n",
       "  </thead>\n",
       "  <tbody>\n",
       "    <tr>\n",
       "      <th>Female</th>\n",
       "      <td>0.238971</td>\n",
       "      <td>272</td>\n",
       "    </tr>\n",
       "    <tr>\n",
       "      <th>Male</th>\n",
       "      <td>0.341270</td>\n",
       "      <td>252</td>\n",
       "    </tr>\n",
       "  </tbody>\n",
       "</table>\n",
       "</div>"
      ],
      "text/plain": [
       "             Smoke    N\n",
       "RIAGENDR               \n",
       "Female    0.238971  272\n",
       "Male      0.341270  252"
      ]
     },
     "execution_count": 14,
     "metadata": {},
     "output_type": "execute_result"
    }
   ],
   "source": [
    "p.columns = [\"Smoke\", \"N\"]\n",
    "p"
   ]
  },
  {
   "cell_type": "code",
   "execution_count": 15,
   "id": "c336765a",
   "metadata": {},
   "outputs": [
    {
     "name": "stdout",
     "output_type": "stream",
     "text": [
      "Male : 0.23897058823529413\n",
      "Female: 0.3412698412698413\n"
     ]
    }
   ],
   "source": [
    "phat_1 = p.Smoke[0] # Male\n",
    "phat_2 = p.Smoke[1] # Female\n",
    "\n",
    "print(f\"Male : {phat_1}\\nFemale: {phat_2}\")"
   ]
  },
  {
   "cell_type": "markdown",
   "id": "6d3c4072",
   "metadata": {},
   "source": [
    "For the pooled proportion :"
   ]
  },
  {
   "cell_type": "code",
   "execution_count": 16,
   "id": "2dd568bc",
   "metadata": {
    "scrolled": true
   },
   "outputs": [
    {
     "data": {
      "text/plain": [
       "0.2881679389312977"
      ]
     },
     "execution_count": 16,
     "metadata": {},
     "output_type": "execute_result"
    }
   ],
   "source": [
    "# pooled proportion \n",
    "phat = (dx.SMQ020 == \"Yes\").mean()\n",
    "phat"
   ]
  },
  {
   "cell_type": "code",
   "execution_count": 17,
   "id": "b545f5b7",
   "metadata": {},
   "outputs": [
    {
     "data": {
      "text/plain": [
       "0.039599757248262944"
      ]
     },
     "execution_count": 17,
     "metadata": {},
     "output_type": "execute_result"
    }
   ],
   "source": [
    "# variance:\n",
    "va = phat * (1-phat)\n",
    "\n",
    "# Standard deviation\n",
    "n1 = p.N[1]  # nb of male smokers\n",
    "n2 = p.N[0]  # nb of female smokers\n",
    "\n",
    "se = np.sqrt(va * (1/n1 + 1/n2))\n",
    "se"
   ]
  },
  {
   "cell_type": "code",
   "execution_count": 18,
   "id": "10411a8d",
   "metadata": {},
   "outputs": [
    {
     "name": "stdout",
     "output_type": "stream",
     "text": [
      "-2.5833303066279414 0.004892579528754187\n"
     ]
    }
   ],
   "source": [
    "# Calculate the test statistic and the p-value : p1-p2 =0 (NH : they are equal)\n",
    "test_stat = (phat_1-phat_2)/se\n",
    "pvalue = dist.norm.cdf(-np.abs(test_stat))   # pvalue = P(|Z|< test_stat)\n",
    "\n",
    "print(test_stat, pvalue)"
   ]
  },
  {
   "cell_type": "markdown",
   "id": "12e23f98",
   "metadata": {},
   "source": [
    "### <ins> **Method 2 (statsmodels) :**</ins>\n",
    "Essentially the same test as above can be conducted by converting the \"Yes/No\" responses into numbers (\"Yes\"=1, \"No\"=0) and conducting a two-sample t-test, as below :"
   ]
  },
  {
   "cell_type": "code",
   "execution_count": 19,
   "id": "647e7e37",
   "metadata": {},
   "outputs": [
    {
     "data": {
      "text/plain": [
       "(-2.5949731446269344, 0.00972590232121254, 522.0)"
      ]
     },
     "execution_count": 19,
     "metadata": {},
     "output_type": "execute_result"
    }
   ],
   "source": [
    "dx_females = dx.loc[dx['RIAGENDR'] == \"Female\", \"SMQ020\"].replace({\n",
    "    \"Yes\" : 1,\n",
    "    \"No\" : 0\n",
    "})\n",
    "\n",
    "dx_males = dx.loc[dx['RIAGENDR'] == \"Male\", \"SMQ020\"].replace({\n",
    "    \"Yes\" : 1,\n",
    "    \"No\" :0\n",
    "})\n",
    "\n",
    "sm.stats.ttest_ind(x1=dx_females, x2=dx_males)"
   ]
  },
  {
   "cell_type": "markdown",
   "id": "702d13fa",
   "metadata": {},
   "source": [
    "## 3) Hypothesis tests comparing means\n",
    "\n",
    "Tests of means are similar in many ways to tests of proportions. Just as with proportions, for comparing means there are **one** and **two-sample tests**, **z-tests** and **t-tests**, and **one-sided** and **two-sided** tests.\n",
    "\n",
    "### 3-1) One Sample mean / One Sample test\n",
    "\n",
    "$$ Z = \\frac{\\bar{X} - \\mu}{\\sigma/\\sqrt{n}} \\quad \\text{and} \\quad t = \\frac{\\bar{X} - \\mu}{s/\\sqrt{n}}$$\n",
    "\n",
    "where :\n",
    "\n",
    "* $\\bar{X}$ is the sample mean\n",
    "* $\\mu$ is the hypothesized mean (NH)\n",
    "* $\\sigma$ is the population standard deviation\n",
    "* $s$ is the sample standard deviation\n",
    "\n",
    "As with tests of proportions, **one-sample tests of means are not very common**, but we illustrate a one sample test in the cell below. We compare systolic blood pressure `BPXSY1` to the fixed value 120 ($\\mu$) (which is the lower threshold for \"pre-hypertension\"), and find that the mean is significantly different from 120 (the point estimate of the mean ($\\bar{X}$) is 126)."
   ]
  },
  {
   "cell_type": "code",
   "execution_count": 33,
   "id": "0bafcd04",
   "metadata": {},
   "outputs": [
    {
     "name": "stdout",
     "output_type": "stream",
     "text": [
      "125.86698337292161\n"
     ]
    },
    {
     "data": {
      "text/plain": [
       "(7.469764137102597, 8.033869113167905e-14)"
      ]
     },
     "execution_count": 33,
     "metadata": {},
     "output_type": "execute_result"
    }
   ],
   "source": [
    "dx = da[[\"BPXSY1\", \"RIDAGEYR\", \"RIAGENDR\"]].dropna()\n",
    "\n",
    "# The hypothesized mean under the NH\n",
    "mu = 120\n",
    "\n",
    "# Male between 40 and 50\n",
    "dx = dx.loc[(dx[\"RIDAGEYR\"]>=40) & (dx[\"RIDAGEYR\"]<=50) & (dx[\"RIAGENDR\"]==\"Male\"),:]\n",
    "\n",
    "# sample mean\n",
    "X_bar = dx[\"BPXSY1\"].mean()\n",
    "print(X_bar)\n",
    "\n",
    "# test-statistic and p-value:\n",
    "sm.stats.ztest(x1 = dx.BPXSY1, value=mu)"
   ]
  },
  {
   "cell_type": "code",
   "execution_count": 29,
   "id": "c91d450f",
   "metadata": {},
   "outputs": [
    {
     "data": {
      "text/plain": [
       "0         Male\n",
       "1         Male\n",
       "2         Male\n",
       "3       Female\n",
       "4       Female\n",
       "         ...  \n",
       "5730    Female\n",
       "5731      Male\n",
       "5732    Female\n",
       "5733      Male\n",
       "5734    Female\n",
       "Name: RIAGENDR, Length: 5735, dtype: object"
      ]
     },
     "execution_count": 29,
     "metadata": {},
     "output_type": "execute_result"
    }
   ],
   "source": [
    "da.RIAGENDR"
   ]
  },
  {
   "cell_type": "markdown",
   "id": "5c96db46",
   "metadata": {},
   "source": [
    "### 3-2) Two-Sample mean/ Two-Sample test\n",
    "\n",
    "There are a number of different variants on the two-sample t-test. Two often-encountered variants are the t-test carried out using the t-distribution :\n",
    "\n",
    "$$t = \\frac{(\\bar{X}_1 - \\bar{X}_2) - (\\mu_1 - \\mu_2)}{\\sqrt{\\frac{s_1^2}{n_1} + \\frac{s_2^2}{n_2}}}$$\n",
    "\n",
    "and the t-test carried out using the normal approximation to the reference distribution of the test statistic, often called a z-test :\n",
    "\n",
    "$$Z = \\frac{(\\bar{X}_1 - \\bar{X}_2) - (\\mu_1 - \\mu_2)}{\\sqrt{\\frac{\\sigma_1^2}{n_1} + \\frac{\\sigma_2^2}{n_2}}}$$\n",
    "\n",
    "\n",
    "Where :\n",
    "\n",
    "* $\\mu_1, \\mu_2$ : the hypothesized means (are equal in the NH)\n",
    "* $\\bar{X_1}, \\bar{X_2}$ : the best estimates for the means \n",
    "* $s_1, s_2$ : Standard deviation of both groups\n",
    "* $n_1, n_2$ : The size of both groups\n",
    "\n",
    "\n",
    "In the cell below, we carry out a formal test of the null hypothesis that $\\mu_1$ the mean blood pressure for women between the ages of 50 and 60 is equal to $\\mu_2$ the mean blood pressure of men between the ages of 50 and 60 ($\\mu_1 =\\mu_2$). The results indicate that while the mean systolic blood pressure for men is slightly greater than that for women ($\\bar{X}_2 = 129$ mm/Hg versus $\\bar{X}_1 =128$ mm/Hg), **this difference is not statistically significant**. Below we display results from both these testing approaches. When the sample size is large, the difference between the t-test and z-test is very small."
   ]
  },
  {
   "cell_type": "code",
   "execution_count": 81,
   "id": "02a53e5b",
   "metadata": {},
   "outputs": [
    {
     "data": {
      "text/html": [
       "<div>\n",
       "<style scoped>\n",
       "    .dataframe tbody tr th:only-of-type {\n",
       "        vertical-align: middle;\n",
       "    }\n",
       "\n",
       "    .dataframe tbody tr th {\n",
       "        vertical-align: top;\n",
       "    }\n",
       "\n",
       "    .dataframe thead th {\n",
       "        text-align: right;\n",
       "    }\n",
       "</style>\n",
       "<table border=\"1\" class=\"dataframe\">\n",
       "  <thead>\n",
       "    <tr style=\"text-align: right;\">\n",
       "      <th></th>\n",
       "      <th>BMXBMI</th>\n",
       "      <th>RIDAGEYR</th>\n",
       "      <th>RIAGENDR</th>\n",
       "    </tr>\n",
       "  </thead>\n",
       "  <tbody>\n",
       "    <tr>\n",
       "      <th>0</th>\n",
       "      <td>27.8</td>\n",
       "      <td>62</td>\n",
       "      <td>Male</td>\n",
       "    </tr>\n",
       "    <tr>\n",
       "      <th>1</th>\n",
       "      <td>30.8</td>\n",
       "      <td>53</td>\n",
       "      <td>Male</td>\n",
       "    </tr>\n",
       "    <tr>\n",
       "      <th>2</th>\n",
       "      <td>28.8</td>\n",
       "      <td>78</td>\n",
       "      <td>Male</td>\n",
       "    </tr>\n",
       "    <tr>\n",
       "      <th>3</th>\n",
       "      <td>42.4</td>\n",
       "      <td>56</td>\n",
       "      <td>Female</td>\n",
       "    </tr>\n",
       "    <tr>\n",
       "      <th>4</th>\n",
       "      <td>20.3</td>\n",
       "      <td>42</td>\n",
       "      <td>Female</td>\n",
       "    </tr>\n",
       "    <tr>\n",
       "      <th>...</th>\n",
       "      <td>...</td>\n",
       "      <td>...</td>\n",
       "      <td>...</td>\n",
       "    </tr>\n",
       "    <tr>\n",
       "      <th>5730</th>\n",
       "      <td>21.5</td>\n",
       "      <td>76</td>\n",
       "      <td>Female</td>\n",
       "    </tr>\n",
       "    <tr>\n",
       "      <th>5731</th>\n",
       "      <td>33.8</td>\n",
       "      <td>26</td>\n",
       "      <td>Male</td>\n",
       "    </tr>\n",
       "    <tr>\n",
       "      <th>5732</th>\n",
       "      <td>31.0</td>\n",
       "      <td>80</td>\n",
       "      <td>Female</td>\n",
       "    </tr>\n",
       "    <tr>\n",
       "      <th>5733</th>\n",
       "      <td>26.0</td>\n",
       "      <td>35</td>\n",
       "      <td>Male</td>\n",
       "    </tr>\n",
       "    <tr>\n",
       "      <th>5734</th>\n",
       "      <td>21.4</td>\n",
       "      <td>24</td>\n",
       "      <td>Female</td>\n",
       "    </tr>\n",
       "  </tbody>\n",
       "</table>\n",
       "<p>5662 rows × 3 columns</p>\n",
       "</div>"
      ],
      "text/plain": [
       "      BMXBMI  RIDAGEYR RIAGENDR\n",
       "0       27.8        62     Male\n",
       "1       30.8        53     Male\n",
       "2       28.8        78     Male\n",
       "3       42.4        56   Female\n",
       "4       20.3        42   Female\n",
       "...      ...       ...      ...\n",
       "5730    21.5        76   Female\n",
       "5731    33.8        26     Male\n",
       "5732    31.0        80   Female\n",
       "5733    26.0        35     Male\n",
       "5734    21.4        24   Female\n",
       "\n",
       "[5662 rows x 3 columns]"
      ]
     },
     "execution_count": 81,
     "metadata": {},
     "output_type": "execute_result"
    }
   ],
   "source": [
    "dx"
   ]
  },
  {
   "cell_type": "code",
   "execution_count": 82,
   "id": "b0b4c21e",
   "metadata": {},
   "outputs": [],
   "source": [
    "dx= da[[\"BPXSY1\", \"RIDAGEYR\", \"RIAGENDR\"]].dropna()\n",
    "dx = dx.loc[(dx[\"RIDAGEYR\"]>=50) & (dx[\"RIDAGEYR\"]<=60),:]\n",
    "\n",
    "# Female blood pressure \n",
    "bp_female = dx.loc[dx[\"RIAGENDR\"] == \"Female\", \"BPXSY1\"]\n",
    "\n",
    "# Male blood pressure\n",
    "bp_male = dx.loc[dx[\"RIAGENDR\"] == \"Male\", \"BPXSY1\"]\n"
   ]
  },
  {
   "cell_type": "markdown",
   "id": "48a755fc",
   "metadata": {},
   "source": [
    "### <ins> **Method 1 :**</ins>"
   ]
  },
  {
   "cell_type": "code",
   "execution_count": 83,
   "id": "fe7ca75c",
   "metadata": {},
   "outputs": [],
   "source": [
    "# Best estimates of the means \n",
    "X_1 = bp_female.mean()   # Woman\n",
    "X_2 = bp_male.mean()     # Men\n",
    "\n",
    "# Standard deviations\n",
    "sigma_1 = bp_female.std()  # Woman\n",
    "sigma_2 = bp_male.std()     # Men\n",
    "\n",
    "# the sizes \n",
    "n_1 = len(bp_female)\n",
    "n_2 = len(bp_male)"
   ]
  },
  {
   "cell_type": "code",
   "execution_count": 84,
   "id": "3f533caf",
   "metadata": {},
   "outputs": [
    {
     "name": "stdout",
     "output_type": "stream",
     "text": [
      "127.92561983471074 129.23829787234044\n"
     ]
    }
   ],
   "source": [
    "print(X_1, X_2)"
   ]
  },
  {
   "cell_type": "code",
   "execution_count": 85,
   "id": "576f6422",
   "metadata": {},
   "outputs": [
    {
     "name": "stdout",
     "output_type": "stream",
     "text": [
      "Test statistic : -1.105528804150671\n",
      "p-value : 0.2689305203990454\n"
     ]
    }
   ],
   "source": [
    "# test statistic \n",
    "test_stat = (X_1-X_2) / np.sqrt(sigma_1**2/n_1 +sigma_2**2/n_2)\n",
    "pvalue = 2* dist.norm.cdf(-abs(test_stat))     # P(|Z|<test_stat)\n",
    "print(f\"Test statistic : {test_stat}\\np-value : {pvalue}\")"
   ]
  },
  {
   "cell_type": "markdown",
   "id": "4b1f7e90",
   "metadata": {},
   "source": [
    "### <ins> **Method 2 (statsmodels) :**</ins>\n"
   ]
  },
  {
   "cell_type": "code",
   "execution_count": 86,
   "id": "01d7b75a",
   "metadata": {},
   "outputs": [
    {
     "name": "stdout",
     "output_type": "stream",
     "text": [
      "(-1.105435895556249, 0.2689707570859362)\n"
     ]
    }
   ],
   "source": [
    "# prints test statistic, p-value\n",
    "print(sm.stats.ztest(x1 = bp_female, x2=bp_male))"
   ]
  },
  {
   "cell_type": "code",
   "execution_count": 87,
   "id": "24a21740",
   "metadata": {},
   "outputs": [
    {
     "name": "stdout",
     "output_type": "stream",
     "text": [
      "(-1.105435895556249, 0.26925004137768577, 952.0)\n"
     ]
    }
   ],
   "source": [
    "# prints test statistic, p-value and degrees of freedom\n",
    "print(sm.stats.ttest_ind(x1= bp_female, x2=bp_male))"
   ]
  },
  {
   "cell_type": "markdown",
   "id": "0c8311f0",
   "metadata": {},
   "source": [
    "Another important aspect of two-sample mean testing is\n",
    "\n",
    "* **heteroscedasticity**: meaning that the variances within the two groups being compared may be different.\n",
    "\n",
    "While the goal of the test is to compare the means, the variances play an important role in calibrating the statistics (deciding how big the mean difference needs to be to be declared statistically significant).\n",
    "\n",
    "In the NHANES data, we see that there are moderate differences between the amount of variation in BMI `BMXBMI` for females and for males, looking **within 10-year age bands**. In every age band, females having greater variation than males."
   ]
  },
  {
   "cell_type": "code",
   "execution_count": 88,
   "id": "70c94aa0",
   "metadata": {},
   "outputs": [
    {
     "data": {
      "text/plain": [
       "count    5735.000000\n",
       "mean       48.052310\n",
       "std        18.431011\n",
       "min        18.000000\n",
       "25%        32.000000\n",
       "50%        48.000000\n",
       "75%        63.000000\n",
       "max        80.000000\n",
       "Name: RIDAGEYR, dtype: float64"
      ]
     },
     "execution_count": 88,
     "metadata": {},
     "output_type": "execute_result"
    }
   ],
   "source": [
    "da[\"RIDAGEYR\"].describe()"
   ]
  },
  {
   "cell_type": "code",
   "execution_count": 89,
   "id": "04812035",
   "metadata": {},
   "outputs": [],
   "source": [
    "dx = da[[\"BMXBMI\", \"RIDAGEYR\", \"RIAGENDR\"]].dropna()\n",
    "# create a column of age intervals\n",
    "da[\"AGEGRP\"] = pd.cut(x= da.RIDAGEYR, bins = [18, 30, 40,50,60,70,80])"
   ]
  },
  {
   "cell_type": "code",
   "execution_count": 90,
   "id": "1b833e8e",
   "metadata": {},
   "outputs": [
    {
     "data": {
      "text/html": [
       "<div>\n",
       "<style scoped>\n",
       "    .dataframe tbody tr th:only-of-type {\n",
       "        vertical-align: middle;\n",
       "    }\n",
       "\n",
       "    .dataframe tbody tr th {\n",
       "        vertical-align: top;\n",
       "    }\n",
       "\n",
       "    .dataframe thead th {\n",
       "        text-align: right;\n",
       "    }\n",
       "</style>\n",
       "<table border=\"1\" class=\"dataframe\">\n",
       "  <thead>\n",
       "    <tr style=\"text-align: right;\">\n",
       "      <th>RIAGENDR</th>\n",
       "      <th>Female</th>\n",
       "      <th>Male</th>\n",
       "    </tr>\n",
       "    <tr>\n",
       "      <th>AGEGRP</th>\n",
       "      <th></th>\n",
       "      <th></th>\n",
       "    </tr>\n",
       "  </thead>\n",
       "  <tbody>\n",
       "    <tr>\n",
       "      <th>(18, 30]</th>\n",
       "      <td>7.745893</td>\n",
       "      <td>6.649440</td>\n",
       "    </tr>\n",
       "    <tr>\n",
       "      <th>(30, 40]</th>\n",
       "      <td>8.315608</td>\n",
       "      <td>6.622412</td>\n",
       "    </tr>\n",
       "    <tr>\n",
       "      <th>(40, 50]</th>\n",
       "      <td>8.076195</td>\n",
       "      <td>6.407076</td>\n",
       "    </tr>\n",
       "    <tr>\n",
       "      <th>(50, 60]</th>\n",
       "      <td>7.575848</td>\n",
       "      <td>5.914373</td>\n",
       "    </tr>\n",
       "    <tr>\n",
       "      <th>(60, 70]</th>\n",
       "      <td>7.604514</td>\n",
       "      <td>5.933307</td>\n",
       "    </tr>\n",
       "    <tr>\n",
       "      <th>(70, 80]</th>\n",
       "      <td>6.284968</td>\n",
       "      <td>4.974855</td>\n",
       "    </tr>\n",
       "  </tbody>\n",
       "</table>\n",
       "</div>"
      ],
      "text/plain": [
       "RIAGENDR    Female      Male\n",
       "AGEGRP                      \n",
       "(18, 30]  7.745893  6.649440\n",
       "(30, 40]  8.315608  6.622412\n",
       "(40, 50]  8.076195  6.407076\n",
       "(50, 60]  7.575848  5.914373\n",
       "(60, 70]  7.604514  5.933307\n",
       "(70, 80]  6.284968  4.974855"
      ]
     },
     "execution_count": 90,
     "metadata": {},
     "output_type": "execute_result"
    }
   ],
   "source": [
    "da.groupby([\"AGEGRP\", \"RIAGENDR\"])[\"BMXBMI\"].agg(np.std).unstack()"
   ]
  },
  {
   "cell_type": "markdown",
   "id": "a3a39c34",
   "metadata": {},
   "source": [
    "The standard error of the mean difference (e.g. mean female blood pressure minus mean male blood pressure) can be estimated in at least two different ways. In the statsmodels library, these approaches are referred to as the **\"pooled\"** and the **\"unequal\"** approach to estimating the variance. If the variances are equal (i.e. there is no heteroscedasticity), then there should be little difference between the two approaches. Even in the presence of moderate heteroscedasticity, as we have here, we can see that the results for the two methods are quite similar.\n",
    "\n",
    "Below we have a loop that considers each 10-year age band and assesses the evidence for a difference in mean BMI for women and for men. The results printed in each row of output are the test-statistic and p-value."
   ]
  },
  {
   "cell_type": "code",
   "execution_count": 99,
   "id": "830a4de9",
   "metadata": {},
   "outputs": [
    {
     "name": "stdout",
     "output_type": "stream",
     "text": [
      "(18, 30]\n",
      "Pooled :  (1.7026932933643388, 0.08862548061449649)\n",
      "unequal :  (1.7174610823927268, 0.08589495934713022)\n",
      "\n",
      "(30, 40]\n",
      "Pooled :  (1.4378280405644916, 0.1504828511464818)\n",
      "unequal :  (1.4437869620833494, 0.14879891057892475)\n",
      "\n",
      "(40, 50]\n",
      "Pooled :  (2.8933761158070186, 0.003811246059501354)\n",
      "unequal :  (2.9678691663536725, 0.0029987194174035366)\n",
      "\n",
      "(50, 60]\n",
      "Pooled :  (3.362108779981367, 0.0007734964571391746)\n",
      "unequal :  (3.375494390173923, 0.0007368319423226574)\n",
      "\n",
      "(60, 70]\n",
      "Pooled :  (3.6172401442432753, 0.000297761021031936)\n",
      "unequal :  (3.62848309454456, 0.0002850914147149227)\n",
      "\n",
      "(70, 80]\n",
      "Pooled :  (2.926729252512258, 0.0034254694144858636)\n",
      "unequal :  (2.937779886769224, 0.0033057163315192996)\n",
      "\n"
     ]
    }
   ],
   "source": [
    "for k, v in da.groupby(\"AGEGRP\"):\n",
    "    # k are the keys (age intervals), v are the values (the dataframes)\n",
    "    \n",
    "    bmi_female = v.loc[v[\"RIAGENDR\"]==\"Female\", \"BMXBMI\"].dropna()\n",
    "    bmi_female = sm.stats.DescrStatsW(bmi_female)\n",
    "    \n",
    "    bmi_male = v.loc[v[\"RIAGENDR\"]==\"Male\", \"BMXBMI\"].dropna()\n",
    "    bmi_male = sm.stats.DescrStatsW(bmi_male)\n",
    "    \n",
    "    print(k)\n",
    "    print(\"Pooled : \", sm.stats.CompareMeans(bmi_female, bmi_male).ztest_ind(usevar=\"pooled\"))\n",
    "    print(\"unequal : \", sm.stats.CompareMeans(bmi_female, bmi_male).ztest_ind(usevar=\"unequal\"))\n",
    "    \n",
    "    print()"
   ]
  },
  {
   "cell_type": "markdown",
   "id": "88db9dea",
   "metadata": {},
   "source": [
    "## 4) Paired tests\n",
    "\n",
    "A common situation in applied research is to measure the same quantity multiple times on each unit of analysis. For example, in NHANES, systolic blood pressure `BPXSY1` is measured at least two times (sometimes there is a third measurement) on each subject. Although the measurements are repeated, there is no guarantee that the mean is the same each time, i.e. the mean blood pressure may be slightly lower on the second `BPXSY2` measurement compared to the first `BPXSY1`, since people are a bit more nervous the first time they are measured.\n",
    "\n",
    "* **Paired test :** is a modified form of mean test that can be used when we are comparing two repeated measurements on the same unit.\n",
    "\n",
    "A paired t-test for means is equivalent to taking the difference between the first and second measurement, and using a one-sample test to compare the mean of these differences to zero.\n",
    "\n",
    "Below we see that in the entire NHANES sample, the first measurement of systolic blood pressure is on average 0.67 mm/Hg greater than the second measurement. While this difference is not large, it is **strongly statistically significant**. That is, there is strong evidence that the mean values for the first and second blood pressure measurement differ."
   ]
  },
  {
   "cell_type": "code",
   "execution_count": 104,
   "id": "8047f502",
   "metadata": {},
   "outputs": [
    {
     "name": "stdout",
     "output_type": "stream",
     "text": [
      "0.6749860309182343\n"
     ]
    },
    {
     "data": {
      "text/plain": [
       "(9.800634425497911, 1.1188070930963587e-22)"
      ]
     },
     "execution_count": 104,
     "metadata": {},
     "output_type": "execute_result"
    }
   ],
   "source": [
    "# first and second measurement for blood pressure\n",
    "dx = da[[\"BPXSY1\", \"BPXSY2\"]].dropna()\n",
    "\n",
    "# difference between the first and second measurement\n",
    "db = dx.BPXSY1 - dx.BPXSY2\n",
    "\n",
    "print(db.mean())\n",
    "sm.stats.ztest(db)"
   ]
  },
  {
   "cell_type": "markdown",
   "id": "c75fc915",
   "metadata": {},
   "source": [
    "To probe this effect further, we can divide the population into **10 year wide age bands and also stratify by gender**, then carry out the paired t-test within each of the resulting **12 strata**. We see that the second systolic blood pressure measurement `BPXSY2` is always lower on average than the first `BPXSY1`. The difference is larger for older people and for males. The difference is statistically significant for females over 30, and for males over 60.\n",
    "\n",
    "Conducting many hypothesis tests and \"cherry picking\" the interesting results is usually a bad practice. Here we are doing such \"multiple testing\" for illustration, and acknowledge that the strongest differences may be over-stated. Nevertheless, there is a clear and consistent trend with age -- older people tend to have greater differences between their first and second blood pressure measurements than younger people. There is also a difference between the genders, with older men having a stronger difference between the first and second blood pressure measurements than older women. The gender difference for younger people is less clear."
   ]
  },
  {
   "cell_type": "code",
   "execution_count": 108,
   "id": "8e47a23b",
   "metadata": {},
   "outputs": [
    {
     "data": {
      "text/html": [
       "<div>\n",
       "<style scoped>\n",
       "    .dataframe tbody tr th:only-of-type {\n",
       "        vertical-align: middle;\n",
       "    }\n",
       "\n",
       "    .dataframe tbody tr th {\n",
       "        vertical-align: top;\n",
       "    }\n",
       "\n",
       "    .dataframe thead tr th {\n",
       "        text-align: left;\n",
       "    }\n",
       "\n",
       "    .dataframe thead tr:last-of-type th {\n",
       "        text-align: right;\n",
       "    }\n",
       "</style>\n",
       "<table border=\"1\" class=\"dataframe\">\n",
       "  <thead>\n",
       "    <tr>\n",
       "      <th></th>\n",
       "      <th colspan=\"2\" halign=\"left\">BPXSY1</th>\n",
       "      <th colspan=\"2\" halign=\"left\">BPXSY2</th>\n",
       "    </tr>\n",
       "    <tr>\n",
       "      <th>RIAGENDR</th>\n",
       "      <th>Female</th>\n",
       "      <th>Male</th>\n",
       "      <th>Female</th>\n",
       "      <th>Male</th>\n",
       "    </tr>\n",
       "    <tr>\n",
       "      <th>AGEGRP</th>\n",
       "      <th></th>\n",
       "      <th></th>\n",
       "      <th></th>\n",
       "      <th></th>\n",
       "    </tr>\n",
       "  </thead>\n",
       "  <tbody>\n",
       "    <tr>\n",
       "      <th>(18, 30]</th>\n",
       "      <td>110.903339</td>\n",
       "      <td>118.535156</td>\n",
       "      <td>110.766257</td>\n",
       "      <td>118.531250</td>\n",
       "    </tr>\n",
       "    <tr>\n",
       "      <th>(30, 40]</th>\n",
       "      <td>114.267606</td>\n",
       "      <td>121.745370</td>\n",
       "      <td>113.596244</td>\n",
       "      <td>121.282407</td>\n",
       "    </tr>\n",
       "    <tr>\n",
       "      <th>(40, 50]</th>\n",
       "      <td>121.407249</td>\n",
       "      <td>126.263158</td>\n",
       "      <td>120.810235</td>\n",
       "      <td>126.084211</td>\n",
       "    </tr>\n",
       "    <tr>\n",
       "      <th>(50, 60]</th>\n",
       "      <td>128.310112</td>\n",
       "      <td>129.336449</td>\n",
       "      <td>127.541573</td>\n",
       "      <td>128.967290</td>\n",
       "    </tr>\n",
       "    <tr>\n",
       "      <th>(60, 70]</th>\n",
       "      <td>132.691919</td>\n",
       "      <td>133.854722</td>\n",
       "      <td>131.813131</td>\n",
       "      <td>132.581114</td>\n",
       "    </tr>\n",
       "    <tr>\n",
       "      <th>(70, 80]</th>\n",
       "      <td>140.697436</td>\n",
       "      <td>136.706806</td>\n",
       "      <td>139.246154</td>\n",
       "      <td>134.675393</td>\n",
       "    </tr>\n",
       "  </tbody>\n",
       "</table>\n",
       "</div>"
      ],
      "text/plain": [
       "              BPXSY1                  BPXSY2            \n",
       "RIAGENDR      Female        Male      Female        Male\n",
       "AGEGRP                                                  \n",
       "(18, 30]  110.903339  118.535156  110.766257  118.531250\n",
       "(30, 40]  114.267606  121.745370  113.596244  121.282407\n",
       "(40, 50]  121.407249  126.263158  120.810235  126.084211\n",
       "(50, 60]  128.310112  129.336449  127.541573  128.967290\n",
       "(60, 70]  132.691919  133.854722  131.813131  132.581114\n",
       "(70, 80]  140.697436  136.706806  139.246154  134.675393"
      ]
     },
     "execution_count": 108,
     "metadata": {},
     "output_type": "execute_result"
    }
   ],
   "source": [
    "dx = da[[\"RIAGENDR\", \"RIDAGEYR\", \"BPXSY1\", \"BPXSY2\"]].dropna()\n",
    "\n",
    "# age bins\n",
    "dx[\"AGEGRP\"] = pd.cut(dx[\"RIDAGEYR\"], bins = [18,30,40,50,60,70,80])\n",
    "\n",
    "# a look up table into BP for males and females (per bin)\n",
    "dx.groupby([\"AGEGRP\", \"RIAGENDR\"])[[\"BPXSY1\", \"BPXSY2\"]].agg(np.mean).unstack()"
   ]
  },
  {
   "cell_type": "code",
   "execution_count": 110,
   "id": "66c77975",
   "metadata": {},
   "outputs": [
    {
     "name": "stdout",
     "output_type": "stream",
     "text": [
      "('Female', Interval(18, 30, closed='right')) 0.13708260105448156 (0.7612107360791227, 0.4465312067051751)\n",
      "('Female', Interval(30, 40, closed='right')) 0.6713615023474179 (3.307398751951031, 0.0009416674523368051)\n",
      "('Female', Interval(40, 50, closed='right')) 0.5970149253731343 (2.6040611621024654, 0.009212631487347644)\n",
      "('Female', Interval(50, 60, closed='right')) 0.7685393258426966 (3.1023718750881724, 0.0019197663012041955)\n",
      "('Female', Interval(60, 70, closed='right')) 0.8787878787878788 (3.1024528501809625, 0.0019192411825181255)\n",
      "('Female', Interval(70, 80, closed='right')) 1.4512820512820512 (5.141706875154317, 2.7225365035529816e-07)\n",
      "('Male', Interval(18, 30, closed='right')) 0.00390625 (0.01959622841647691, 0.9843654725443948)\n",
      "('Male', Interval(30, 40, closed='right')) 0.46296296296296297 (1.9451535788714596, 0.05175649697939119)\n",
      "('Male', Interval(40, 50, closed='right')) 0.17894736842105263 (0.7201800810138878, 0.47141412641258706)\n",
      "('Male', Interval(50, 60, closed='right')) 0.3691588785046729 (1.4391115097646396, 0.1501189315054144)\n",
      "('Male', Interval(60, 70, closed='right')) 1.2736077481840193 (4.781940964515296, 1.7361067031915547e-06)\n",
      "('Male', Interval(70, 80, closed='right')) 2.031413612565445 (6.8013414549535005, 1.036494265013724e-11)\n"
     ]
    }
   ],
   "source": [
    "for k, g in dx.groupby([\"RIAGENDR\",\"AGEGRP\"]):\n",
    "    # difference of bp\n",
    "    db= g.BPXSY1 - g.BPXSY2\n",
    "    \n",
    "    # print stratum definition, mean difference, sample size, tst statistic, p-value\n",
    "    print(k, db.mean(), sm.stats.ztest(db.values,value =0))"
   ]
  },
  {
   "cell_type": "markdown",
   "id": "8ea4cb12",
   "metadata": {},
   "source": [
    "# Power and sample size for hypothesis tests\n",
    "\n",
    "Like nearly any analysis with data, hypothesis tests will yield more sensitive and confident results when there are larger amounts of data. Here we will study the relationship between the sample size (amount of data), and the behavior of a hypothesis test. For illustration, we will use the paired t-test for assessing whether the first and second systolic blood pressure measurement `BPXSY1` and `BPXSY2` have different means, restricting to people between 50 and 60 years of age.\n",
    "\n",
    "**The simulation below randomly subsamples sets of 100, 200, 400, and 800 people from the 50-60 year old subset of NHANES, and conducts a paired z-test on each subsample. This process is repeated 500 times for each sample size.**\n",
    "\n",
    "We report the fraction of these 500 trials where the p-value was smaller than 0.05. A higher fraction of trials where $p<0.05$ implies that it is easier to detect a difference between the first and second blood pressure measurements. We see that this proportion (called **\"statistical power\"**) is only around 0.2 when the sample size is 100, and grows to essentially 100% when the sample size is 800. Note that all of these subsamples are drawn from the same parent population, so there is no change from subsample to subsample in terms of whether the means are truly different. The only thing that changes is our evidence that the difference is real. When the sample size is small, we rarely amass such evidence."
   ]
  },
  {
   "cell_type": "code",
   "execution_count": 119,
   "id": "d229ec6d",
   "metadata": {
    "scrolled": true
   },
   "outputs": [
    {
     "name": "stdout",
     "output_type": "stream",
     "text": [
      "In the subsample of 100 people, the proportion of trials where p<0.05, is : 0.23\n",
      "In the subsample of 200 people, the proportion of trials where p<0.05, is : 0.384\n",
      "In the subsample of 400 people, the proportion of trials where p<0.05, is : 0.644\n",
      "In the subsample of 800 people, the proportion of trials where p<0.05, is : 1.0\n"
     ]
    }
   ],
   "source": [
    "# a list of \"np arrays that contain pvalues for each subpopulation\"\n",
    "all_p =[]\n",
    "\n",
    "dy = dx.loc[(da[\"RIDAGEYR\"]>=50) & (da[\"RIDAGEYR\"]<=60),:]\n",
    "\n",
    "# subsample of 100,200,400,800\n",
    "for n in 100,200,400,800:\n",
    "    # a list of pvalues for each subsample\n",
    "    pv = []\n",
    "    # conducting a paired z-test 500 times for each subsample of 100,200,400,800\n",
    "    for i in range(500) :\n",
    "        # sampling n times from the parent population dy\n",
    "        dz = dy.sample(n)\n",
    "        # differecnce between blood pressure\n",
    "        db = dz.BPXSY1 - dz.BPXSY2\n",
    "        # test statistic (we use _ because we don't need it) and pvalue for each subsample\n",
    "        _, p = sm.stats.ztest(db.values, value=0)\n",
    "        pv.append(p)\n",
    "    \n",
    "    # convert pv to numpy array\n",
    "    pv = np.asarray(pv)\n",
    "    \n",
    "    # add the numpy array that conatins all the pvalue of the subsample to all_p\n",
    "    all_p.append(pv)\n",
    "    \n",
    "    # The statistical power for each subsample : proportion of trials where p<0.05\n",
    "    print(f\"In the subsample of {n} people, the proportion of trials where p<0.05, is : {(pv<0.05).mean()}\")"
   ]
  },
  {
   "cell_type": "code",
   "execution_count": 121,
   "id": "e0ce4df2",
   "metadata": {},
   "outputs": [],
   "source": [
    "#print(all_p)"
   ]
  },
  {
   "cell_type": "code",
   "execution_count": 122,
   "id": "d472ee7c",
   "metadata": {},
   "outputs": [
    {
     "data": {
      "text/plain": [
       "4"
      ]
     },
     "execution_count": 122,
     "metadata": {},
     "output_type": "execute_result"
    }
   ],
   "source": [
    "len(all_p)"
   ]
  },
  {
   "cell_type": "code",
   "execution_count": 125,
   "id": "23a4e946",
   "metadata": {},
   "outputs": [
    {
     "data": {
      "text/plain": [
       "500"
      ]
     },
     "execution_count": 125,
     "metadata": {},
     "output_type": "execute_result"
    }
   ],
   "source": [
    "len(all_p[0])"
   ]
  },
  {
   "cell_type": "markdown",
   "id": "f335b3c9",
   "metadata": {},
   "source": [
    "In the simulation code above, we saved all the p-values to the array named `all_p` so we can consider them further here. The histogram below shows the distribution of p-values for 500 subsamples of data of size 100. We see that there are more smaller p-values than larger ones, but not to a dramatic degree. Some of the p-values are almost 1, indicating that the subsample mean differences were almost zero in those cases."
   ]
  },
  {
   "cell_type": "code",
   "execution_count": 136,
   "id": "d060929c",
   "metadata": {},
   "outputs": [
    {
     "data": {
      "text/plain": [
       "<Axes: ylabel='Count'>"
      ]
     },
     "execution_count": 136,
     "metadata": {},
     "output_type": "execute_result"
    },
    {
     "data": {
      "image/png": "[encoded data removed]",
      "text/plain": [
       "<Figure size 640x480 with 1 Axes>"
      ]
     },
     "metadata": {},
     "output_type": "display_data"
    }
   ],
   "source": [
    "sns.histplot(all_p[0],kde = True)"
   ]
  },
  {
   "cell_type": "markdown",
   "id": "30901815",
   "metadata": {},
   "source": [
    "Next we inspect the distribution of p-values for subsamples of size 400. We see that the p-values are much more concentrated close to zero compared to when we had only 100 data points. If we obtain a sample of size 400 from this population, we have around a 70% chance of obtaining a p-value smaller than 0.05, and are very unlikely to obtain a p-value greater than 0.4."
   ]
  },
  {
   "cell_type": "code",
   "execution_count": 137,
   "id": "17836749",
   "metadata": {},
   "outputs": [
    {
     "data": {
      "text/plain": [
       "<Axes: ylabel='Count'>"
      ]
     },
     "execution_count": 137,
     "metadata": {},
     "output_type": "execute_result"
    },
    {
     "data": {
      "image/png": "[encoded data removed]",
      "text/plain": [
       "<Figure size 640x480 with 1 Axes>"
      ]
     },
     "metadata": {},
     "output_type": "display_data"
    }
   ],
   "source": [
    "sns.histplot(all_p[2], kde=True)"
   ]
  },
  {
   "cell_type": "code",
   "execution_count": null,
   "id": "0596cfb3",
   "metadata": {},
   "outputs": [],
   "source": []
  }
 ],
 "metadata": {
  "kernelspec": {
   "display_name": "Python 3 (ipykernel)",
   "language": "python",
   "name": "python3"
  },
  "language_info": {
   "codemirror_mode": {
    "name": "ipython",
    "version": 3
   },
   "file_extension": ".py",
   "mimetype": "text/x-python",
   "name": "python",
   "nbconvert_exporter": "python",
   "pygments_lexer": "ipython3",
   "version": "3.10.10"
  }
 },
 "nbformat": 4,
 "nbformat_minor": 5
}
