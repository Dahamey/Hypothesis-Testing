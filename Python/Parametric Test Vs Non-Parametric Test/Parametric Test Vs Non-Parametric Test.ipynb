{
 "cells": [
  {
   "cell_type": "markdown",
   "id": "6b92d3d4",
   "metadata": {},
   "source": [
    "<h1 style=\"text-align:center;\">Parametric Test Vs Non-Parametric Test</h1>\n"
   ]
  },
  {
   "cell_type": "markdown",
   "id": "f0763758",
   "metadata": {},
   "source": [
    "<u>**Author</u> :** [Younes Dahami](https://www.linkedin.com/in/dahami/)"
   ]
  },
  {
   "cell_type": "markdown",
   "id": "6ad6aafc",
   "metadata": {},
   "source": [
    "Check out my other work on hypothesis testing in Python and R :\n",
    "\n",
    "- [Introduction to Hypothesis Testing in Python](https://github.com/Dahamey/Hypothesis-Testing/blob/main/Python/Python%20-%20Introduction%20to%20Hypothesis%20Testing%20.ipynb)\n",
    "\n",
    "- [Introduction to Hypothesis Testing in R](https://github.com/Dahamey/Hypothesis-Testing/blob/main/R/R%20-%20Introduction%20to%20Hypothesis%20Testing.ipynb)\n",
    "\n",
    "- [Hypothesis Tests in Python](https://github.com/Dahamey/Hypothesis-Testing/blob/main/Python/Hypothesis%20Tests%20in%20Python%20.ipynb)\n",
    "\n",
    "- [Hypothesis Tests on Toddler Sleep Habits](https://github.com/Dahamey/Hypothesis-Testing/blob/main/Python/Python%20-%20Hypothesis%20Tests%20on%20Toddler%20Sleep%20Habits.ipynb)\n",
    "    \n",
    "- [NHANES - Hypothesis Testing](https://github.com/Dahamey/Hypothesis-Testing/blob/main/Python/NHANES%20-%20Hypothesis%20Testing.ipynb)\n",
    "\n",
    "- [NHANES Hypothesis Testing Walkthrough in Python](https://github.com/Dahamey/Hypothesis-Testing/blob/main/Python/Python%20-%20NHANES%20Hypothesis%20Testing%20Walkthrough.ipynb)\n",
    "\n",
    "- [NHANES Hypothesis Testing Walkthrough in R](https://github.com/Dahamey/Hypothesis-Testing/blob/main/R/R%20-%20NHANES%20Hypothesis%20Testing%20Walkthrough.ipynb)\n",
    "\n",
    "- [ANOVA in Python](https://github.com/Dahamey/Hypothesis-Testing/blob/main/Python/Python%20-%20ANOVA.ipynb)\n",
    "\n",
    "- [ANOVA in R](https://github.com/Dahamey/Hypothesis-Testing/blob/main/R/R%20-%20ANOVA.ipynb)\n",
    "\n",
    "\n",
    "- [Les Concepts Statistiques Fondamentaux dans R](https://github.com/Dahamey/Hypothesis-Testing/blob/main/R/Les%20Concepts%20Statistiques%20Fondamentaux%20dans%20R.ipynb)\n",
    "\n"
   ]
  },
  {
   "cell_type": "markdown",
   "id": "a5cee692",
   "metadata": {},
   "source": [
    "<a id=\"top\"></a>\n",
    "\n",
    "<div class=\"list-group\" id=\"list-tab\" role=\"tablist\">\n",
    "<h3 class=\"list-group-item list-group-item-action active\" data-toggle=\"list\"  role=\"tab\" aria-controls=\"home\">Table of contents</h3>\n",
    "    \n",
    "<font color=\"blue\" size=+1><b>[0. Introduction](#0)</b></font>\n",
    "    \n",
    "<font color=\"blue\" size=+1><b>[1. Parametric Tests](#1)</b></font>\n",
    "    \n",
    "<font color=\"blue\" size=+1><b>[2. Non-Parametric Tests](#2)</b></font>\n",
    "\n",
    "<font color=\"blue\" size=+1><b>[3. Hypothesis Testing](#3)</b></font>\n",
    "* [3.1 Defining Hypotheses](#3.1)\n",
    "* [3.2 Assumption Check](#3.2)\n",
    "* [3.3 Checking for Normality](#3.3)\n",
    "* [3.4 Checking for Homoscedasticity](#3.4)    \n",
    "* [3.5 Selecting the Proper Test](#3.5)\n",
    "* [3.6 Decision and Conclusion](#3.6)\n",
    "    \n",
    "    \n",
    "<font color=\"blue\" size=+1><b>[4. Tests Examples](#4)</b></font>\n",
    "* [4.1 Independent t-test / Two-sample t-test / Unpaired t-test](#4.1)\n",
    "    * [4.1.1 Definition](#4.1.1)\n",
    "    * [4.1.2 Example of Independent t-test](#4.1.2)\n",
    "    \n",
    "* [4.2 Analysis of Variance (ANOVA)](#4.2)\n",
    "    * [4.2.1 Definition](#4.2.1)\n",
    "    * [4.2.2 Example of ANOVA](#4.2.2)\n",
    "    \n",
    "* [4.3 Mann Whitney U / Wilcoxon rank-sum test](#4.3)\n",
    "    * [4.3.1 Definition](#4.3.1)\n",
    "    * [4.3.2 Example of Mann Whitney U / Wilcoxon rank-sum test](#4.3.2)\n",
    "    \n",
    " \n",
    "* [4.4 Kruskal-Wallis test](#4.4)\n",
    "    * [4.4.1 Definition](#4.4.1)\n",
    "    * [4.4.2 Example of Kruskal-Wallis test](#4.4.2)\n",
    "    \n",
    "    \n",
    "* [4.5 Dependent t-Test / Paired t-Test](#4.5)\n",
    "    * [4.5.1 Definition](#4.5.1)\n",
    "    * [4.5.2 Example of Dependent t-Test (Paired t-Test)](#4.5.2)\n",
    "    \n",
    "    \n",
    "* [4.6 Wilcoxon Signed-Rank test](#4.6)\n",
    "    * [4.6.1 Definition](#4.6.1)\n",
    "    * [4.6.2 Example of Wilcoxon Signed-Rank test](#4.6.2)\n",
    "    \n",
    "* [4.7 Friedman $\\chi$² (Chi-Square)](#4.7)\n",
    "    * [4.7.1 Definition](#4.7.1)\n",
    "    * [4.7.2 Example of Friedman $\\chi$² (Chi-Square)](#4.7.2)\n",
    "    \n",
    "* [4.8 $\\chi^2$ Test for Independence](#4.8)\n",
    "    * [4.8.1 Definition](#4.8.1)\n",
    "    * [4.8.2 Example of $\\chi^2$ Test for Independence](#4.8.2) \n",
    "    \n",
    "* [4.9 $\\chi^2$ Goodness of Fit Test](#4.9)\n",
    "    * [4.9.1 Definition](#4.9.1)\n",
    "    * [4.9.2 Example of $\\chi^2$ Goodness of Fit Test](#4.9.2)\n",
    "\n",
    "* [4.10 Pearson Correlation](#4.10)\n",
    "    * [4.10.1 Definition](#4.10.1)\n",
    "    * [4.10.2 Example of Pearson Correlation](#4.10.2)\n",
    "      \n",
    "* [4.11 Spearman Correlation](#4.11)\n",
    "    * [4.11.1 Definition](#4.11.1)\n",
    "    * [4.11.2 Example of Spearman Correlation](#4.11.2)\n",
    "    "
   ]
  },
  {
   "cell_type": "markdown",
   "id": "7580b825",
   "metadata": {},
   "source": [
    "<a id=\"0\"></a>\n",
    "\n",
    "# Introduction\n",
    "\n",
    "You want to calculate a hypothesis test, but you don't know exactly what's the difference is between **parametric** and **non-parametric** tests, and you're wondering when to use each test.\n",
    "\n",
    "If you want to calculate a hypothesis test, you must first check the assumptions. One of the most common assumptions is the data used must show a **certain distribution**, usually the normal distribution.\n",
    "\n",
    "To simply put it :\n",
    "\n",
    "* If your data is **normally distributed**, use the **parametric tests** e.g. : t-test, ANOVA or Pearson Correlation.\n",
    "\n",
    "* If your data is **not normally distributed**, use the **non-parametric tests** e.g. : Mann-Whitney U test or a Spearman Correlation.\n",
    "\n",
    "Of course you still have to check if there are further assumptions for the respective test. But in general, there are less assumptions for non-parametric tests than for parametric tests.\n",
    "\n",
    "Parametric tests are generally more powerful than non-parametric tests."
   ]
  },
  {
   "cell_type": "markdown",
   "id": "9f141d5c",
   "metadata": {},
   "source": [
    "## About Scale of Measurement\n",
    "\n",
    "In statistics, the scale of measurement refers to the different ways in which variables can be quantified and categorized. There are four primary scales of measurement: **nominal, ordinal, interval,** and **ratio.**\n",
    "\n",
    "* **Nominal Scale :** Data are categorized without any order or ranking. Examples: Gender (male, female), Marital status (single, married, divorced).\n",
    "\n",
    "* **Ordinal Scale :** Data are categorized with a meaningful order, but the intervals between categories are not necessarily equal. Examples: Socioeconomic status (low, middle, high), Education level (high school, bachelor's, master's, Ph.D.).\n",
    "\n",
    "* **Interval Scale :** Data are ordered, and the intervals between data points are equal and meaningful.\n",
    "However, there is no true zero point (i.e., zero does not indicate the absence of the quantity being measured). Examples: Temperature in Celsius or Fahrenheit, IQ scores.\n",
    "\n",
    "* **Ratio Scale :** Data have all the properties of an interval scale, but also have a true zero point, which indicates the absence of the quantity being measured. Examples: Height, weight, age, income.\n",
    "\n"
   ]
  },
  {
   "cell_type": "markdown",
   "id": "c863acb2",
   "metadata": {},
   "source": [
    "<a id=\"1\"></a>\n",
    "\n",
    "# 1) Parametric Tests\n",
    "\n",
    "**<u>Parametric tests</u>** **:** are statistical tests that make assumptions about the parameters of the population distribution from which the samples are drawn. Specifically, they assume that the data follows a certain distribution (usually a normal distribution) and often involve estimating parameters such as the mean and standard deviation.\n",
    "\n",
    "Key Characteristics :\n",
    "\n",
    "* **Assumption of Normality :** Data should be normally distributed or approximately normally distributed.\n",
    "* **Homogeneity of Variances :** Assumes equal variances among the groups being compared.\n",
    "* **Scale of Measurement :** Typically requires data that is at least interval scale, meaning that the data should have :\n",
    "\n",
    "    * Equal intervals between values, ensuring that the difference between any two values is consistent.\n",
    "    * Meaningful numerical distances between data points.\n",
    "\n",
    "In other words, the data should be quantitative and should reflect consistent intervals between measurements, allowing for meaningful addition, subtraction, and in some cases, more complex mathematical operations.\n",
    "\n",
    "This requirement is crucial for parametric tests because these tests rely on calculations involving the mean and standard deviation, which assume that the differences between values are consistent and meaningful.\n",
    "\n",
    "**<u>Examples</u>** **:** t-tests (independent and paired), ANOVA (Analysis of Variance), and linear regression."
   ]
  },
  {
   "cell_type": "markdown",
   "id": "dec4bab0",
   "metadata": {},
   "source": [
    "<a id=\"2\"></a>\n",
    "\n",
    "# 2) Non-Parametric Tests\n",
    "\n",
    "**<u>Non-parametric tests</u>** **:** are statistical tests that do not assume a specific distribution for the data. They are used when the assumptions of parametric tests are not met, particularly when the data does not follow a normal distribution or when dealing with ordinal data or non-quantitative data.\n",
    "\n",
    "Key Characteristics :\n",
    "\n",
    "* **No Assumption of Distribution :** Does not require the data to follow a normal distribution.\n",
    "* **Flexible with Data Types :** Can handle ordinal data, ranks, and non-quantitative data.\n",
    "\n",
    "**<u>Examples</u>** **:** Mann-Whitney U test, Wilcoxon signed-rank test, Kruskal-Wallis test, and Spearman's rank correlation."
   ]
  },
  {
   "cell_type": "markdown",
   "id": "fd375bd5",
   "metadata": {},
   "source": [
    "Parametric tests are more powerful when their assumptions are met because they use more information from the data, while non-parametric tests are more versatile and can be applied to a wider range of data types and distributions.\n",
    "\n",
    "|                                    | Parametric Tests        | Non-Parametric Tests         | \n",
    "| ---------------------------------- | ----------------------- | --------------------------   | \n",
    "| **One Sample**                       | Simple t-Test           | Wilcoxon Test for One Sample |   \n",
    "| **Two dependent Samples**              | Paired Sample t-Test    | Wilcoxon Test                | \n",
    "| **Two independent Samples**            | Unpaired Sample t-Test  | Mann-Whitney U Test          |   \n",
    "| **More than two independent Samples**  | One Factorial ANOVA     | Kruskal-Wallis Test          |   \n",
    "| **More than two dependent Samples**    | Repeated Measures ANOVA | Friedman Test                |   \n",
    "| **Correlation Between Two Variables**  | Pearson Correlation     | Spearman Correlation         |   \n",
    "\n"
   ]
  },
  {
   "cell_type": "markdown",
   "id": "1d0b9dad",
   "metadata": {},
   "source": [
    "<a id=\"3\"></a>\n",
    "\n",
    "# 3) Hypothesis Testing \n",
    "\n",
    "Hypotheses are claims (assertions) that can be verified or refuted using statistical methods. Hypothesis testing organizes these assertions into a framework, allowing us to use statistical evidence to evaluate their validity. This process enables us to determine whether the claims hold true or not.\n",
    "\n",
    "In this notebook, I will demonstrate hypothesis testing with Python through several step-by-step examples. But first, let me briefly explain the hypothesis testing process. If you prefer, you can skip directly to the questions.\n",
    "\n",
    "<a id=\"3.1\"></a>\n",
    "## 3.1) Defining Hypotheses\n",
    "\n",
    "First, we need to identify the scientific question we aim to answer and formulate it as the Null Hypothesis $(H_0)$ and the Alternative Hypothesis ($H_{1}$ or $H_{a}$).\n",
    "\n",
    "* **Null Hypothesis $H_0$ :** A default hypothesis that there is no effect or no difference. It is the hypothesis that the test seeks to reject.\n",
    "* **Alternative Hypothesis $H_{1}$ :** The hypothesis that there is an effect or a difference.\n",
    " \n",
    "Remember that $H_0$ and $H_{1}$ **must be mutually exclusive,** and $H_{1}$ should not include equality :\n",
    "<center>\n",
    "$H_0 : \\mu = x,\\quad\\quad H_{1}: μ \\neq x$\n",
    "</center>\n",
    "<center>\n",
    "$H_0 : \\mu \\leq x,\\quad\\quad H_{1}: μ > x$\n",
    "</center>\n",
    "<center>\n",
    "$H_0 : \\mu \\geq x,\\quad\\quad H_{1}: μ < x$\n",
    "</center>\n",
    "\n",
    "<a id=\"3.2\"></a>\n",
    "## 3.2) Assumption Check\n",
    "\n",
    "To determine whether to use the **parametric** or **non-parametric** version of the test, we need to verify the following requirements :\n",
    "\n",
    "* Observations in each sample are independent and identically distributed (iid).\n",
    "* Observations in each sample are normally distributed.\n",
    "* Observations in each sample have the same variance.\n",
    "\n",
    "\n",
    "<a id=\"3.3\"></a>\n",
    "## 3.3) Checking for Normality\n",
    "\n",
    "### For Small Samples\n",
    "For small sample sizes (typically $n \\leq 50$), the Shapiro-Wilk test is often recommended due to its strong power in detecting deviations from normality. The Shapiro-Wilk test evaluates the null hypothesis that the data was drawn from a normally distributed population.\n",
    "\n",
    "**Steps :**\n",
    "1. **Shapiro-Wilk Test**:\n",
    "   - Conduct the Shapiro-Wilk test.\n",
    "   - The null hypothesis ($H_0$) states that the sample comes from a normal distribution.\n",
    "   - A low p-value (typically $\\leq 0.05$) indicates that the null hypothesis can be rejected, suggesting the data is not normally distributed.\n",
    "\n",
    "### For Large Samples\n",
    "For larger sample sizes, other tests such as the Kolmogorov-Smirnov test, Anderson-Darling test, and Jarque-Bera test are more suitable due to their ability to handle larger datasets and focus on different aspects of the distribution.\n",
    "\n",
    "**Steps:**\n",
    "1. **Kolmogorov-Smirnov (K-S) Test**:\n",
    "   - Compares the sample distribution with a normal distribution.\n",
    "   - The null hypothesis ($H_0$) states that the sample comes from a specified distribution.\n",
    "\n",
    "2. **Anderson-Darling Test**:\n",
    "   - An enhancement of the K-S test, giving more weight to the tails of the distribution.\n",
    "   - Provides critical values for different significance levels to help assess normality.\n",
    "\n",
    "3. **Jarque-Bera Test**:\n",
    "   - Based on sample skewness and kurtosis.\n",
    "   - The null hypothesis ($H_0$) states that the data has skewness and kurtosis matching a normal distribution.\n",
    "\n",
    "### Visual Inspection\n",
    "In addition to formal tests, visual inspection methods can provide valuable insights into the distribution of the data:\n",
    "1. **Histogram with KDE (Kernel Density Estimate)**:\n",
    "   - Provides a visual representation of the data distribution.\n",
    "   - Helps identify any skewness or kurtosis visually.\n",
    "   \n",
    "2. **Q-Q Plot (Quantile-Quantile Plot)**:\n",
    "   - Plots the quantiles of the data against the quantiles of a normal distribution.\n",
    "   - If the data is normally distributed, the points should fall approximately along a straight line.\n",
    "\n",
    "<a id=\"3.4\"></a>\n",
    "## 3.4) Checking for Homoscedasticity\n",
    "\n",
    "Homoscedasticity refers to the assumption that the variance of errors or residuals is constant across all levels of the independent variable(s). It is a key assumption in regression analysis.\n",
    "\n",
    "### For Both Small and Large Samples\n",
    "There are three common tests for checking homoscedasticity: the Breusch-Pagan test, the White test, and Levene's test.\n",
    "\n",
    "**Steps:**\n",
    "1. **Breusch-Pagan Test**:\n",
    "   - Tests the null hypothesis ($H_0$) that the variance of the errors is constant.\n",
    "   - A low p-value (typically $\\leq 0.05$) indicates heteroscedasticity (variance is not constant).\n",
    "\n",
    "2. **White Test**:\n",
    "   - Similar to the Breusch-Pagan test but more general, as it does not assume a specific form for the heteroscedasticity.\n",
    "   - Tests the null hypothesis ($H_0$) that the variance of the errors is constant.\n",
    "\n",
    "3. **Levene's Test**:\n",
    "   - Tests the null hypothesis ($H_0 $) that the variances are equal across groups.\n",
    "   - More robust to non-normal distributions compared to other tests.\n",
    "   - A low p-value (typically $\\leq 0.05$) indicates that the variances are not equal (heteroscedasticity).\n",
    "\n",
    "### Visual Inspection\n",
    "Visual methods can also be employed to check for homoscedasticity:\n",
    "1. **Residuals vs Fitted Plot**:\n",
    "   - Plots the residuals against the fitted values.\n",
    "   - If the variance is constant, the plot should show no clear pattern.\n",
    "   \n",
    "2. **Histogram of Residuals**:\n",
    "   - Helps visualize the distribution of residuals.\n",
    "   - Ideally, the residuals should be normally distributed with constant variance.\n",
    "\n",
    "By using both formal tests and visual inspection, you can effectively check for normality and homoscedasticity in your data, ensuring the assumptions for parametric tests are met.\n"
   ]
  },
  {
   "cell_type": "code",
   "execution_count": 1,
   "id": "e1e76f2e",
   "metadata": {
    "scrolled": false
   },
   "outputs": [
    {
     "name": "stdout",
     "output_type": "stream",
     "text": [
      "Normality Check for Small Sample:\n",
      "Shapiro-Wilk Test:\n",
      "Statistic: 0.9885169267654419, p-value: 0.9814211130142212\n"
     ]
    },
    {
     "data": {
      "image/png": "[encoded data removed]",
      "text/plain": [
       "<Figure size 1200x600 with 2 Axes>"
      ]
     },
     "metadata": {},
     "output_type": "display_data"
    },
    {
     "data": {
      "image/png": "[encoded data removed]",
      "text/plain": [
       "<Figure size 640x480 with 1 Axes>"
      ]
     },
     "metadata": {},
     "output_type": "display_data"
    },
    {
     "name": "stdout",
     "output_type": "stream",
     "text": [
      "\n",
      "Normality Check for Large Sample:\n",
      "Kolmogorov-Smirnov Test:\n",
      "Statistic: 0.029058225535601, p-value: 0.7810423994355093\n",
      "\n",
      "Anderson-Darling Test:\n",
      "Statistic: 0.3869633372557928\n",
      "Significance Level: 15.0, Critical Value: 0.571\n",
      "Significance Level: 10.0, Critical Value: 0.651\n",
      "Significance Level: 5.0, Critical Value: 0.781\n",
      "Significance Level: 2.5, Critical Value: 0.911\n",
      "Significance Level: 1.0, Critical Value: 1.083\n",
      "\n",
      "Jarque-Bera Test:\n",
      "Statistic: 2.288377452538453, p-value: 0.3184821892456843\n"
     ]
    },
    {
     "data": {
      "image/png": "[encoded data removed]",
      "text/plain": [
       "<Figure size 1200x600 with 2 Axes>"
      ]
     },
     "metadata": {},
     "output_type": "display_data"
    },
    {
     "data": {
      "image/png": "[encoded data removed]",
      "text/plain": [
       "<Figure size 640x480 with 1 Axes>"
      ]
     },
     "metadata": {},
     "output_type": "display_data"
    },
    {
     "name": "stdout",
     "output_type": "stream",
     "text": [
      "\n",
      "Homoscedasticity Check:\n",
      "Breusch-Pagan Test:\n",
      "{'LM Statistic': 3.02286300985255, 'LM-Test p-value': 0.08209841168530885, 'F-Statistic': 3.054746553258706, 'F-Test p-value': 0.08363363670122445}\n",
      "\n",
      "White Test:\n",
      "{'LM Statistic': 4.003915377269696, 'LM-Test p-value': 0.1350705980608415, 'F-Statistic': 2.022893918650502, 'F-Test p-value': 0.13781475429253956}\n"
     ]
    },
    {
     "data": {
      "image/png": "[encoded data removed]",
      "text/plain": [
       "<Figure size 1200x600 with 2 Axes>"
      ]
     },
     "metadata": {},
     "output_type": "display_data"
    }
   ],
   "source": [
    "# Import necessary libraries\n",
    "import numpy as np\n",
    "import pandas as pd\n",
    "import matplotlib.pyplot as plt\n",
    "import seaborn as sns\n",
    "from scipy.stats import shapiro, kstest, normaltest, anderson, jarque_bera\n",
    "from statsmodels.graphics.gofplots import qqplot\n",
    "from statsmodels.stats.diagnostic import het_breuschpagan, het_white\n",
    "import statsmodels.api as sm\n",
    "\n",
    "import warnings\n",
    "warnings.filterwarnings(\"ignore\") \n",
    "\n",
    "# Setting the style for plots\n",
    "sns.set(style=\"whitegrid\")\n",
    "\n",
    "# Helper function to create example data\n",
    "def create_example_data(size, mean=0, std=1):\n",
    "    return np.random.normal(mean, std, size)\n",
    "\n",
    "# Checking Normality\n",
    "## For Small Samples\n",
    "def check_normality_small_sample(data):\n",
    "    print(\"Shapiro-Wilk Test:\")\n",
    "    stat, p = shapiro(data)\n",
    "    print(f'Statistic: {stat}, p-value: {p}')\n",
    "    return stat, p\n",
    "\n",
    "## For Large Samples\n",
    "def check_normality_large_sample(data):\n",
    "    print(\"Kolmogorov-Smirnov Test:\")\n",
    "    stat, p = kstest(data, 'norm', args=(np.mean(data), np.std(data)))\n",
    "    print(f'Statistic: {stat}, p-value: {p}')\n",
    "    \n",
    "    print(\"\\nAnderson-Darling Test:\")\n",
    "    result = anderson(data)\n",
    "    print(f'Statistic: {result.statistic}')\n",
    "    for i in range(len(result.critical_values)):\n",
    "        sl, cv = result.significance_level[i], result.critical_values[i]\n",
    "        print(f'Significance Level: {sl}, Critical Value: {cv}')\n",
    "    \n",
    "    print(\"\\nJarque-Bera Test:\")\n",
    "    stat, p = jarque_bera(data)\n",
    "    print(f'Statistic: {stat}, p-value: {p}')\n",
    "    return stat, p\n",
    "\n",
    "# Plotting Data for Visual Inspection\n",
    "def plot_normality(data):\n",
    "    plt.figure(figsize=(12, 6))\n",
    "    \n",
    "    plt.subplot(1, 2, 1)\n",
    "    sns.histplot(data, kde=True)\n",
    "    plt.title(\"Histogram with KDE\")\n",
    "    \n",
    "    plt.subplot(1, 2, 2)\n",
    "    qqplot(data, line='s')\n",
    "    plt.title(\"Q-Q Plot\")\n",
    "    \n",
    "    plt.show()\n",
    "\n",
    "# Checking Homoscedasticity\n",
    "## For Both Small and Large Samples\n",
    "def check_homoscedasticity(X, y):\n",
    "    X = sm.add_constant(X)  # adding a constant for the intercept term\n",
    "    model = sm.OLS(y, X).fit()\n",
    "    residuals = model.resid\n",
    "    \n",
    "    print(\"Breusch-Pagan Test:\")\n",
    "    bp_test = het_breuschpagan(residuals, X)\n",
    "    labels = ['LM Statistic', 'LM-Test p-value', 'F-Statistic', 'F-Test p-value']\n",
    "    print(dict(zip(labels, bp_test)))\n",
    "    \n",
    "    print(\"\\nWhite Test:\")\n",
    "    white_test = het_white(residuals, X)\n",
    "    print(dict(zip(labels, white_test)))\n",
    "    \n",
    "    # Plotting Residuals\n",
    "    plt.figure(figsize=(12, 6))\n",
    "    plt.subplot(1, 2, 1)\n",
    "    sns.residplot(x=X[:, 1], y=residuals, lowess=True, line_kws={'color': 'red'})\n",
    "    plt.title(\"Residuals vs Fitted\")\n",
    "    \n",
    "    plt.subplot(1, 2, 2)\n",
    "    sns.histplot(residuals, kde=True)\n",
    "    plt.title(\"Histogram of Residuals\")\n",
    "    \n",
    "    plt.show()\n",
    "\n",
    "# Example usage\n",
    "if __name__ == \"__main__\":\n",
    "    # Generate example data\n",
    "    small_sample_data = create_example_data(30)\n",
    "    large_sample_data = create_example_data(500)\n",
    "    \n",
    "    # Check normality for small sample\n",
    "    print(\"Normality Check for Small Sample:\")\n",
    "    check_normality_small_sample(small_sample_data)\n",
    "    plot_normality(small_sample_data)\n",
    "    \n",
    "    # Check normality for large sample\n",
    "    print(\"\\nNormality Check for Large Sample:\")\n",
    "    check_normality_large_sample(large_sample_data)\n",
    "    plot_normality(large_sample_data)\n",
    "    \n",
    "    # Generate example data for homoscedasticity check\n",
    "    X = np.random.rand(100, 1) * 100\n",
    "    y = 3 * X.squeeze() + np.random.randn(100) * 10\n",
    "    \n",
    "    # Check homoscedasticity\n",
    "    print(\"\\nHomoscedasticity Check:\")\n",
    "    check_homoscedasticity(X, y)\n"
   ]
  },
  {
   "cell_type": "code",
   "execution_count": 2,
   "id": "3427c5bd",
   "metadata": {
    "scrolled": true
   },
   "outputs": [
    {
     "name": "stdout",
     "output_type": "stream",
     "text": [
      "Levene’s Test Statistic: 11.34534118426058\n",
      "p-value: 1.7862033528463798e-05\n",
      "The variances are significantly different (reject H0)\n"
     ]
    },
    {
     "data": {
      "image/png": "[encoded data removed]",
      "text/plain": [
       "<Figure size 1000x600 with 1 Axes>"
      ]
     },
     "metadata": {},
     "output_type": "display_data"
    }
   ],
   "source": [
    "# Import necessary libraries\n",
    "import numpy as np\n",
    "import scipy.stats as stats\n",
    "import matplotlib.pyplot as plt\n",
    "\n",
    "# Example data\n",
    "group1 = np.random.normal(50, 10, 100)  # Group 1 with mean 50 and std 10\n",
    "group2 = np.random.normal(60, 15, 100)  # Group 2 with mean 60 and std 15\n",
    "group3 = np.random.normal(55, 20, 100)  # Group 3 with mean 55 and std 20\n",
    "\n",
    "# Perform Levene's test\n",
    "stat, p = stats.levene(group1, group2, group3)\n",
    "\n",
    "# Print the test statistic and p-value\n",
    "print(f'Levene’s Test Statistic: {stat}')\n",
    "print(f'p-value: {p}')\n",
    "\n",
    "# Interpretation of the result\n",
    "alpha = 0.05\n",
    "if p < alpha:\n",
    "    print(\"The variances are significantly different (reject H0)\")\n",
    "else:\n",
    "    print(\"The variances are not significantly different (fail to reject H0)\")\n",
    "\n",
    "# Optional: Plotting the data\n",
    "plt.figure(figsize=(10, 6))\n",
    "plt.boxplot([group1, group2, group3], labels=['Group 1', 'Group 2', 'Group 3'])\n",
    "plt.title(\"Boxplot of the Groups\")\n",
    "plt.ylabel(\"Values\")\n",
    "plt.show()\n"
   ]
  },
  {
   "cell_type": "markdown",
   "id": "5b28c778",
   "metadata": {},
   "source": [
    "### Post-Hoc Test for Unequal Variances"
   ]
  },
  {
   "cell_type": "markdown",
   "id": "4f7db917",
   "metadata": {},
   "source": [
    "When Levene's test (or another test for equality of variances) indicates that the variances are significantly different, we can perform post-hoc tests to determine which specific groups have different variances. One such post-hoc test is the **Games-Howell post-hoc test,** which is designed for situations where variances are unequal and the sample sizes are unequal.\n",
    "\n",
    "Here is an example of how to perform the Games-Howell post-hoc test in Python using the `pingouin` library :"
   ]
  },
  {
   "cell_type": "code",
   "execution_count": 3,
   "id": "8c54343a",
   "metadata": {},
   "outputs": [],
   "source": [
    "# Install necessary library\n",
    "#!pip install pingouin"
   ]
  },
  {
   "cell_type": "code",
   "execution_count": 4,
   "id": "0a143bb7",
   "metadata": {
    "scrolled": false
   },
   "outputs": [
    {
     "name": "stdout",
     "output_type": "stream",
     "text": [
      "Levene’s Test Statistic: 20.955829198123215\n",
      "p-value: 3.0653932343027024e-09\n",
      "The variances are significantly different (reject H0)\n",
      "         A        B    mean(A)    mean(B)       diff        se         T  \\\n",
      "0  Group 1  Group 2  49.301731  59.330886 -10.029155  1.800237 -5.571021   \n",
      "1  Group 1  Group 3  49.301731  57.028084  -7.726353  2.429586 -3.180112   \n",
      "2  Group 2  Group 3  59.330886  57.028084   2.302802  2.625266  0.877169   \n",
      "\n",
      "           df          pval    hedges  \n",
      "0  181.127564  2.706052e-07 -0.784873  \n",
      "1  143.209338  5.102823e-03 -0.448030  \n",
      "2  172.295567  6.554186e-01  0.123580  \n"
     ]
    },
    {
     "data": {
      "image/png": "[encoded data removed]",
      "text/plain": [
       "<Figure size 1000x600 with 1 Axes>"
      ]
     },
     "metadata": {},
     "output_type": "display_data"
    }
   ],
   "source": [
    "# Import necessary libraries\n",
    "import numpy as np\n",
    "import pingouin as pg\n",
    "import pandas as pd\n",
    "\n",
    "# Example data\n",
    "data = {\n",
    "    'value': np.concatenate([np.random.normal(50, 10, 100), \n",
    "                             np.random.normal(60, 15, 100), \n",
    "                             np.random.normal(55, 20, 100)]),\n",
    "    'group': np.concatenate([['Group 1'] * 100, \n",
    "                             ['Group 2'] * 100, \n",
    "                             ['Group 3'] * 100])\n",
    "}\n",
    "\n",
    "df = pd.DataFrame(data)\n",
    "\n",
    "# Perform Levene's test\n",
    "stat, p = stats.levene(df[df['group'] == 'Group 1']['value'], \n",
    "                       df[df['group'] == 'Group 2']['value'], \n",
    "                       df[df['group'] == 'Group 3']['value'])\n",
    "\n",
    "print(f'Levene’s Test Statistic: {stat}')\n",
    "print(f'p-value: {p}')\n",
    "\n",
    "# Interpretation of the result\n",
    "alpha = 0.05\n",
    "if p < alpha:\n",
    "    print(\"The variances are significantly different (reject H0)\")\n",
    "else:\n",
    "    print(\"The variances are not significantly different (fail to reject H0)\")\n",
    "\n",
    "# Perform Games-Howell post-hoc test\n",
    "posthoc = pg.pairwise_gameshowell(data=df, dv='value', between='group')\n",
    "print(posthoc)\n",
    "\n",
    "# Optional: Plotting the data\n",
    "import matplotlib.pyplot as plt\n",
    "plt.figure(figsize=(10, 6))\n",
    "plt.boxplot([df[df['group'] == 'Group 1']['value'], \n",
    "             df[df['group'] == 'Group 2']['value'], \n",
    "             df[df['group'] == 'Group 3']['value']], \n",
    "            labels=['Group 1', 'Group 2', 'Group 3'])\n",
    "plt.title(\"Boxplot of the Groups\")\n",
    "plt.ylabel(\"Values\")\n",
    "plt.show()\n"
   ]
  },
  {
   "cell_type": "markdown",
   "id": "7ee788a4",
   "metadata": {},
   "source": [
    "From the posthoc table, we can say that Group 2 and Group 3 variances are not significantly different."
   ]
  },
  {
   "cell_type": "markdown",
   "id": "2c3516c6",
   "metadata": {},
   "source": [
    "<a id=\"3.5\"></a>\n",
    "## 3.5) Selecting the Proper Test\n",
    "\n",
    "Next, we need to choose the appropriate test. It's crucial to analyze the **number of groups being compared** and **whether the data are paired or not.** To determine if the data are matched, consider **whether the data were collected from the same individuals.** Based on these factors, you can select the appropriate test using the chart below.\n",
    "\n",
    "\n",
    "![alt](tests_table.png)\n",
    "\n",
    "<a id=\"3.6\"></a>\n",
    "## 3.6) Decision and Conclusion\n",
    "\n",
    "After performing hypothesis testing, we obtain a **p-value** that indicates the significance of the test.\n",
    "\n",
    "* **p-value :** is the probability of obtaining test results at least as extreme as the observed results, assuming that the null hypothesis is true. It quantifies how well the observed data fit the null hypothesis.\n",
    "\n",
    "* **Threshold ($\\alpha$-level)/The significance level ($\\alpha$) :** is a pre-determined threshold set by the researcher, often 0.05.\n",
    "\n",
    "If the p-value is smaller than the alpha level (the significance level $\\alpha$), there is enough evidence to reject $H_0$. Otherwise, we fail to reject $H_0$. Remember, rejecting $H_0$ supports $H_{1}$, but failing to reject $H_0$ does not confirm $H_0$'s validity nor does it indicate that $H_{1}$ is incorrect.\n",
    "\n",
    "![](pvalue.jpg)"
   ]
  },
  {
   "cell_type": "markdown",
   "id": "895af5b7",
   "metadata": {},
   "source": [
    "<a id=\"4\"></a>\n",
    "# 4) Tests Examples"
   ]
  },
  {
   "cell_type": "markdown",
   "id": "6b7dd96c",
   "metadata": {},
   "source": [
    "<a id=\"4.1\"></a>\n",
    "\n",
    "## 4.1) Independent t-test / Two-sample t-test / Unpaired t-test\n",
    "\n",
    "<a id=\"4.1.1\"></a>\n",
    "\n",
    "### 4.1.1) Definition\n",
    "\n",
    "* <u>**independent t-test**</u> **:** also known as the **two-sample t-test** or **unpaired t-test**, is a statistical test used to compare the means of two independent groups to determine if there is a statistically significant difference between them. This test is appropriate when you have two unrelated groups and you want to compare their means.\n",
    "\n",
    "#### Assumptions\n",
    "\n",
    "1. **Independence :** The two samples must be independent of each other. This means that the data points in one group should not influence the data points in the other group.\n",
    "2. **Normality :** The data in each group should be approximately normally distributed. This assumption can be relaxed with large sample sizes due to the Central Limit Theorem.\n",
    "3. **Homogeneity of Variances (homoscedasticity) :**  The variances of the two groups should be approximately equal. This can be checked using tests such as Levene's test.\n",
    "\n",
    "#### Hypotheses\n",
    "\n",
    "- **Null Hypothesis $(H_0)$**: The means of the two groups are equal $(\\mu_1 = \\mu_2).$\n",
    "- **Alternative Hypothesis $(H_1)$**: The means of the two groups are not equal for a two-tailed test $(\\mu_1 \\neq \\mu_2)$, or $(\\mu_1 > \\mu_2)$ or $(\\mu_1 < \\mu_2)$ for a one-tailed test.\n",
    "\n",
    "#### Test Statistic\n",
    "\n",
    "The test statistic for the independent t-test is calculated as follows:\n",
    "\n",
    "$$\n",
    "t = \\frac{\\bar{X}_1 - \\bar{X}_2}{\\sqrt{\\frac{s_1^2}{n_1} + \\frac{s_2^2}{n_2}}}\n",
    "$$\n",
    "\n",
    "where :\n",
    "- $\\bar{X}_1$ and $\\bar{X}_2$ are the sample means,\n",
    "- $s_1^2$ and $s_2^2$ are the sample variances,\n",
    "- $n_1$ and $n_2$ are the sample sizes.\n",
    "\n",
    "The degrees of freedom for the test are calculated using the following formula when assuming equal variances :\n",
    "$$\n",
    "df = n_1 + n_2 - 2\n",
    "$$"
   ]
  },
  {
   "cell_type": "markdown",
   "id": "74ea2dd3",
   "metadata": {},
   "source": [
    "<a id=\"4.1.2\"></a>\n",
    "\n",
    "### 4.1.2) Example of Independent t-test \n",
    "\n",
    "![](1.png)\n",
    "\n",
    "A university professor transitioned from face-to-face classes to online lectures due to Covid-19. Subsequently, he uploaded recorded lectures to the cloud for students who chose to follow the course asynchronously. Despite this, he maintains a belief that students who attend the live classes and actively participate are more successful. To investigate this, he recorded the average grades of students at the end of the semester. The data is presented below.\n",
    "\n",
    "synchronous = [93.2, 85.3, 82.9, 68.5, 79.9, 80.6, 80.9, 77.2, 81.5, 79.1, 72.3, 88.1, 86.8, 94.1, 83.6, 78.7, 77.4, 70.6, 89.1, 75.6, 73.9, 81.2]\n",
    "\n",
    "asynchronous = [76.9, 71.3, 91.4, 71.5, 75.3, 84.9, 68.1, 70.5, 75.7, 71.2, 65.9, 72.4, 71.1, 78.5]\n",
    "\n",
    "Let's perform hypothesis testing to determine the statistical significance of the professor's belief, using a significance level of 0.05 to assess the null and alternative hypotheses. But before conducting hypothesis testing, let's verify the relevant assumptions, and provide commentary on the obtained results.\n",
    "\n",
    "#### <u>1. Defining Hypotheses</u>\n",
    "\n",
    "Since the grades are obtained from different individuals, the data is unpaired.\n",
    "\n",
    "* Null Hypothesis $(H_0) :$ The mean grade of students who attend live classes is less than or equal to the mean grade of students who watch recorded lectures.\n",
    "\n",
    "$$H_0 : \\mu_s \\leq \\mu_a$$\n",
    "\n",
    "$s :$ synchronous\n",
    "\n",
    "$a :$ asynchronous\n",
    "\n",
    "\n",
    "* Alternative Hypothesis $(H_1) :$ The mean grade of students who attend live classes is greater than the mean grade of students who watch recorded lectures.\n",
    "\n",
    "$$H_1 : \\mu_s > \\mu_a$$\n",
    "\n",
    "\n",
    "#### <u>2. Assumption Check</u>\n",
    "\n",
    "* **Normality :**\n",
    "\n",
    "    * Null Hypothesis $(H_0) :$ The data is normally distributed.\n",
    "    * Alternative Hypothesis $(H_1) :$ The data is not normally distributed.\n",
    "\n",
    "Assuming $\\alpha=0.05,$ if the p-value is $>0.05,$ we can conclude that the data is normally distributed.\n",
    "For assessing normality, I employed the **Shapiro-Wilk test,** which is typically favored for smaller samples. However, other options such as the Kolmogorov-Smirnov and D’Agostino and Pearson’s tests are available. Please refer to [stats](https://docs.scipy.org/doc/scipy/reference/stats.html)'s documentation for further details."
   ]
  },
  {
   "cell_type": "code",
   "execution_count": 5,
   "id": "15313d7d",
   "metadata": {},
   "outputs": [],
   "source": [
    "import numpy as np\n",
    "from scipy import stats"
   ]
  },
  {
   "cell_type": "code",
   "execution_count": 6,
   "id": "f994448f",
   "metadata": {},
   "outputs": [],
   "source": [
    "def normality_check(data):\n",
    "    \"\"\"Checks if the data is normally distributed\"\"\"\n",
    "    \n",
    "    test_stat_normality, p_value_normality=stats.shapiro(data)\n",
    "    print(\"p value:%.4f\" % p_value_normality)\n",
    "    if p_value_normality < 0.05:\n",
    "        print(\"Reject null hypothesis => The data is not normally distributed\")\n",
    "    else:\n",
    "        print(\"Fail to reject null hypothesis => The data is normally distributed\")"
   ]
  },
  {
   "cell_type": "code",
   "execution_count": 7,
   "id": "3cd3fb29",
   "metadata": {},
   "outputs": [
    {
     "name": "stdout",
     "output_type": "stream",
     "text": [
      "p value:0.9515\n",
      "Fail to reject null hypothesis => The data is normally distributed\n",
      "p value:0.0548\n",
      "Fail to reject null hypothesis => The data is normally distributed\n"
     ]
    }
   ],
   "source": [
    "sync = np.array([93.2, 85.3, 82.9, 68.5, 79.9, 80.6, 80.9, 77.2, 81.5, 79.1, 72.3, 88.1, 86.8,\n",
    "                 94.1, 83.6, 78.7, 77.4, 70.6, 89.1, 75.6, 73.9, 81.2])\n",
    "asyncr = np.array([76.9, 71.3, 91.4, 71.5, 75.3, 84.9, 68.1, 70.5, 75.7, 71.2, 65.9, 72.4, 71.1, 78.5])\n",
    "normality_check(sync)\n",
    "normality_check(asyncr)"
   ]
  },
  {
   "cell_type": "markdown",
   "id": "442d012c",
   "metadata": {},
   "source": [
    "$H_0 :$ The variances of the samples are the same.\n",
    "\n",
    "$H_1 :$ The variances of the samples are different."
   ]
  },
  {
   "cell_type": "code",
   "execution_count": 8,
   "id": "8009409d",
   "metadata": {},
   "outputs": [],
   "source": [
    "def variance_check_homogeneity(group1, group2):\n",
    "    \"\"\"Checks if two samples have the same variance\"\"\"\n",
    "    \n",
    "    test_stat_var, p_value_var = stats.levene(group1,group2)\n",
    "    print(\"p value:%.4f\" % p_value_var)\n",
    "    if p_value_var < 0.05:\n",
    "        print(\"Reject null hypothesis => The variances of the samples are different.\")\n",
    "    else:\n",
    "        print(\"Fail to reject null hypothesis => The variances of the samples are same.\")"
   ]
  },
  {
   "cell_type": "markdown",
   "id": "49d5057a",
   "metadata": {},
   "source": [
    "It tests the null hypothesis that the population variances are equal, a concept known as **homogeneity of variance** or **homoscedasticity.** If the resulting p-value from Levene’s test is less than the significance level (typically 0.05), it suggests that the observed differences in sample variances are unlikely to have occurred due to random sampling from a population with equal variances.\n",
    "\n",
    "I used Levene’s test to check for variance homogeneity, but you can also use Bartlett’s test. For more information, visit: [scipy.stats.bartlett](https://docs.scipy.org/doc/scipy/reference/generated/scipy.stats.bartlett.html#scipy.stats.bartlett)'s documentation.\n"
   ]
  },
  {
   "cell_type": "code",
   "execution_count": 9,
   "id": "435afe92",
   "metadata": {
    "scrolled": true
   },
   "outputs": [
    {
     "name": "stdout",
     "output_type": "stream",
     "text": [
      "p value:0.7817\n",
      "Fail to reject null hypothesis => The variances of the samples are same.\n"
     ]
    }
   ],
   "source": [
    "variance_check_homogeneity(sync, asyncr)"
   ]
  },
  {
   "cell_type": "markdown",
   "id": "dea51868",
   "metadata": {},
   "source": [
    "#### <u>3. Selecting the proper test</u>\n",
    "\n",
    "Since the assumptions are satisfied, we can proceed with the parametric version of the test for two groups with unpaired data, which is **two-sample t-test**. For that, we use `scipy.stats`'s `ttest_ind`."
   ]
  },
  {
   "cell_type": "code",
   "execution_count": 10,
   "id": "6df4249b",
   "metadata": {},
   "outputs": [
    {
     "name": "stdout",
     "output_type": "stream",
     "text": [
      "p value : 0.00988899\n",
      "Since the hypothesis is one sided => use p-value/2 => p-value-one-sided : 0.0049\n",
      "Reject the Null Hypothesis\n"
     ]
    }
   ],
   "source": [
    "ttest, p_value = stats.ttest_ind(sync, asyncr)\n",
    "print(\"p value : %.8f\" % p_value)\n",
    "print(\"Since the hypothesis is one sided => use p-value/2 => p-value-one-sided : %.4f\" %(p_value/2))\n",
    "if p_value/2 < 0.05 :\n",
    "    print(\"Reject the Null Hypothesis\")\n",
    "else :\n",
    "    print(\"Fail to reject the Null Hypothesis\")"
   ]
  },
  {
   "cell_type": "code",
   "execution_count": 11,
   "id": "5862c5af",
   "metadata": {},
   "outputs": [
    {
     "data": {
      "text/plain": [
       "2.732898234545415"
      ]
     },
     "execution_count": 11,
     "metadata": {},
     "output_type": "execute_result"
    }
   ],
   "source": [
    "ttest"
   ]
  },
  {
   "cell_type": "markdown",
   "id": "442482ef",
   "metadata": {},
   "source": [
    "#### <u>4. Decision and Conclusion</u>\n",
    "\n",
    "At this significance level, there is sufficient evidence to conclude that the average grade of students who follow the course synchronously is higher than that of students who follow the course asynchronously."
   ]
  },
  {
   "cell_type": "markdown",
   "id": "374cdaf5",
   "metadata": {},
   "source": [
    "<a id=\"4.2\"></a>\n",
    "\n",
    "## 4.2) Analysis of Variance (ANOVA)\n",
    "\n",
    "<a id=\"4.2.1\"></a>\n",
    "### 4.2.1) Definition\n",
    "\n",
    "* <u>**Analysis of Variance (ANOVA)**</u> **:** is a statistical method used to compare the means of three or more independent groups to determine if there are statistically significant differences between them. ANOVA tests the null hypothesis that the means of the groups are equal. The types of ANOVA are :\n",
    "\n",
    "1. **One-Way ANOVA :** Compares the means of one continuous dependent variable based on $\\geq 3$ groups of one categorical variable.\n",
    "2. **Two-Way ANOVA :** Compares the means of one continuous dependent variable based of $\\geq 3$ groups of $2$ categorical variables.\n",
    "3. **Repeated Measures ANOVA :** Analyzes the effects of one or more within-subjects factors (repeated measures) on a continuous dependent variable.\n",
    "\n",
    "\n",
    "#### Assumptions\n",
    "\n",
    "1. **Independence :** The observations within each group should be independent of each other.\n",
    "2. **Normality :** The data in each group should be approximately normally distributed.\n",
    "3. **Homogeneity of Variances (homoscedasticity) :** The variances of the groups should be approximately equal.\n",
    "\n",
    "#### Hypotheses\n",
    "\n",
    "- **Null Hypothesis $(H_0)$ :** The means of all groups are equal.\n",
    "- **Alternative Hypothesis $(H_1)$ :** At least one group mean is different from the others.\n",
    "\n",
    "\n",
    "#### Test Statistic\n",
    "\n",
    "The test statistic for ANOVA follows an F-distribution. The F-statistic is calculated as the ratio of the between-group variance to the within-group variance :\n",
    "\n",
    "$$\n",
    "F = \\frac{{\\text{Between-group variability}}}{{\\text{Within-group variability}}}\n",
    "$$\n",
    "\n",
    "#### Post Hoc Tests\n",
    "\n",
    "After finding a significant result in ANOVA, post hoc tests are often performed to identify which specific group means differ from each other. Common post hoc tests include Tukey's HSD (Honestly Significant Difference), Bonferroni, Scheffe, and Dunnett's tests."
   ]
  },
  {
   "cell_type": "markdown",
   "id": "76b93325",
   "metadata": {},
   "source": [
    "<a id=\"4.2.2\"></a>\n",
    "\n",
    "### 4.2.2) Example of ANOVA\n",
    "\n",
    "![](2.jpeg)\n",
    "\n",
    "A pediatrician aims to examine the effect of formula consumption on the average monthly weight gain (in grams) of babies. To do this, he collected data from three different groups : \n",
    "\n",
    "* The first group consists of exclusively breastfed children (receiving only breast milk).\n",
    "* The second group includes children fed only with formula.\n",
    "* The third group comprises children who are both formula-fed and breastfed.\n",
    "\n",
    "The data is presented below :\n",
    "\n",
    "only_breast = [783.2, 720.1, 990.3, 725.4, 759.2, 905.6, 662.5, 691.4, 765.2, 718.6, 631.9, 732.8, 716.3, 808.9, 585.7, 682.3, 863.5]\n",
    "\n",
    "only_formula = [900.1, 880.3, 938.4, 965.1, 958.7, 1060.2, 1047.8, 978.9, 894.1, 921.5, 1073.6, 953.4, 798.2, 858.7, 872.4, 1045.9, 918.2, 1161.8, 995.3]\n",
    "\n",
    "both = [975.3, 658.1, 862.5, 708.9, 719.2, 718.4, 760.7, 893.1, 868.9, 806.3, 764.2, 802.7, 791.4, 874.5, 741.2, 797.8, 789.1, 794.3, 822.1, 820.3, 928.4, 793.5, 949.6]\n",
    "\n",
    "Based on this information, let's conduct a hypothesis testing to determine whether there is a difference in the average monthly weight gain among the three groups, using a significance level of 0.05. If a significant difference is found, we'll perform further analysis to identify the cause of the difference. But before conducting hypothesis testing, let's verify the relevant assumptions.\n",
    "\n",
    "#### <u>1. Defining Hypotheses</u>\n",
    "\n",
    "* Null Hypothesis $H_0$ : The mean of the samples is the same\n",
    "\n",
    "$$H_0 : \\mu_1 = \\mu_2 = \\mu_3$$\n",
    "\n",
    "* Alternative Hypothesis $H_1$ : At least one of them is different\n",
    "\n",
    "$$H_1 : \\mu_1 \\neq \\mu_2 \\quad or \\quad \\mu_1 \\neq \\mu_3 \\quad or \\quad \\mu_2 \\neq \\mu_3$$\n",
    "\n",
    "#### <u>2. Assumptions Check</u>\n",
    "\n",
    "* **Normality :**\n",
    "\n",
    "$H_0 :$ \"The data is normally distributed\"\n",
    "\n",
    "$H_1 :$ \"The data is **NOT** normally distributed\"\n",
    "\n",
    "* **Homoscedasticity :**\n",
    "\n",
    "$H_0 :$ \"The variances of the samples are the same\"\n",
    "\n",
    "$H_1 :$ \"The variances of the samples are different\""
   ]
  },
  {
   "cell_type": "code",
   "execution_count": 12,
   "id": "c4cf9310",
   "metadata": {},
   "outputs": [],
   "source": [
    "breast_only = np.array([783.2, 720.1, 990.3, 725.4, 759.2, 905.6, 662.5, 691.4, 765.2, 718.6, 631.9, 732.8, 716.3, 808.9, 585.7, 682.3, 863.5])\n",
    "formula_only = np.array([900.1, 880.3, 938.4, 965.1, 958.7, 1060.2, 1047.8, 978.9, 894.1, 921.5, 1073.6, 953.4, 798.2, 858.7, 872.4, 1045.9, 918.2, 1161.8, 995.3])\n",
    "both = np.array( [975.3, 658.1, 862.5, 708.9, 719.2, 718.4, 760.7, 893.1, 868.9, 806.3, 764.2, 802.7, 791.4, 874.5, 741.2, 797.8, 789.1, 794.3, 822.1, 820.3, 928.4, 793.5, 949.6])"
   ]
  },
  {
   "cell_type": "code",
   "execution_count": 13,
   "id": "d5c85c18",
   "metadata": {},
   "outputs": [
    {
     "name": "stdout",
     "output_type": "stream",
     "text": [
      "p value:0.4133\n",
      "Fail to reject null hypothesis => The data is normally distributed\n",
      "p value:0.8721\n",
      "Fail to reject null hypothesis => The data is normally distributed\n",
      "p value:0.7610\n",
      "Fail to reject null hypothesis => The data is normally distributed\n"
     ]
    }
   ],
   "source": [
    "# Normality Check :\n",
    "\n",
    "normality_check(breast_only)\n",
    "normality_check(formula_only)\n",
    "normality_check(both)"
   ]
  },
  {
   "cell_type": "code",
   "execution_count": 14,
   "id": "27d1c347",
   "metadata": {},
   "outputs": [
    {
     "name": "stdout",
     "output_type": "stream",
     "text": [
      "p-value : 0.8109\n",
      "Fail to reject the null hypothesis => The variances of the samples are the same\n"
     ]
    }
   ],
   "source": [
    "# Homoscedasticity check\n",
    "\n",
    "stat, p_value_levene = stats.levene(breast_only, formula_only, both)\n",
    "print(\"p-value : %.4f\"%p_value_levene)\n",
    "if p_value_levene < 0.05 :\n",
    "    print(\"Reject null hypothesis => The variances of the samples are different\")\n",
    "else :\n",
    "    print(\"Fail to reject the null hypothesis => The variances of the samples are the same\")"
   ]
  },
  {
   "cell_type": "markdown",
   "id": "b69d1e28",
   "metadata": {},
   "source": [
    "#### <u>3. Selecting the proper test</u>\n",
    "\n",
    "Since the assumptions are satisfied, we can proceed with the parametric version of the test for **more than two groups** with **unpaired** data, which is ANOVA. For that, we use `scipy.stats`'s `f_oneway`."
   ]
  },
  {
   "cell_type": "code",
   "execution_count": 15,
   "id": "959c053d",
   "metadata": {},
   "outputs": [
    {
     "name": "stdout",
     "output_type": "stream",
     "text": [
      "p-value : 0.000000\n",
      "Reject the null hypothesis\n"
     ]
    }
   ],
   "source": [
    "# Performing One-way ANOVA\n",
    "F_test, p_value = stats.f_oneway(breast_only, formula_only, both)\n",
    "print(\"p-value : %.6f\" %p_value)\n",
    "if p_value < 0.05 :\n",
    "    print(\"Reject the null hypothesis\")\n",
    "else :\n",
    "    print(\"Fail to reject the null hypothesis\")"
   ]
  },
  {
   "cell_type": "markdown",
   "id": "7de240a4",
   "metadata": {},
   "source": [
    "#### <u>4. Decision and Conclusion</u>\n",
    "\n",
    "At this significance level (of 0.05), it can be concluded that at least one of the groups has a different average monthly weight gain. To determine which group or groups are causing the difference, we need to conduct a **posthoc test** or **pairwise comparison.**\n",
    "\n",
    "**Note :** To prevent family-wise p-value inflation, I applied the [Bonferroni adjustment](https://github.com/Dahamey/Hypothesis-Testing/blob/main/Python/Parametric%20Test%20Vs%20Non-Parametric%20Test/Family-Wise%20P-Value%20Inflation%20and%20Bonferroni%20Adjustment.ipynb). Alternatively, you can explore other options here: [scikit_posthocs.posthoc_ttest documentation](https://scikit-posthocs.readthedocs.io/en/latest/generated/scikit_posthocs.posthoc_ttest.html)\n",
    "\n",
    "Pairwise T-test for multiple comparisons of independent groups, can be utilized after conducting a parametric ANOVA to perform pairwise comparisons."
   ]
  },
  {
   "cell_type": "code",
   "execution_count": 23,
   "id": "9c5db70d",
   "metadata": {},
   "outputs": [],
   "source": [
    "#pip install scikit-posthocs"
   ]
  },
  {
   "cell_type": "code",
   "execution_count": 16,
   "id": "a983d4a5",
   "metadata": {
    "scrolled": true
   },
   "outputs": [
    {
     "data": {
      "text/html": [
       "<style type=\"text/css\">\n",
       "#T_06e7e_row0_col0, #T_06e7e_row0_col2, #T_06e7e_row1_col1, #T_06e7e_row2_col0, #T_06e7e_row2_col2 {\n",
       "  background-color: white;\n",
       "}\n",
       "#T_06e7e_row0_col1, #T_06e7e_row1_col0, #T_06e7e_row1_col2, #T_06e7e_row2_col1 {\n",
       "  background-color: red;\n",
       "}\n",
       "</style>\n",
       "<table id=\"T_06e7e\">\n",
       "  <thead>\n",
       "    <tr>\n",
       "      <th class=\"blank level0\" >&nbsp;</th>\n",
       "      <th id=\"T_06e7e_level0_col0\" class=\"col_heading level0 col0\" >Breast Only</th>\n",
       "      <th id=\"T_06e7e_level0_col1\" class=\"col_heading level0 col1\" >Formula Only</th>\n",
       "      <th id=\"T_06e7e_level0_col2\" class=\"col_heading level0 col2\" >Both</th>\n",
       "    </tr>\n",
       "  </thead>\n",
       "  <tbody>\n",
       "    <tr>\n",
       "      <th id=\"T_06e7e_level0_row0\" class=\"row_heading level0 row0\" >Breast Only</th>\n",
       "      <td id=\"T_06e7e_row0_col0\" class=\"data row0 col0\" >1.000000</td>\n",
       "      <td id=\"T_06e7e_row0_col1\" class=\"data row0 col1\" >0.000000</td>\n",
       "      <td id=\"T_06e7e_row0_col2\" class=\"data row0 col2\" >0.115376</td>\n",
       "    </tr>\n",
       "    <tr>\n",
       "      <th id=\"T_06e7e_level0_row1\" class=\"row_heading level0 row1\" >Formula Only</th>\n",
       "      <td id=\"T_06e7e_row1_col0\" class=\"data row1 col0\" >0.000000</td>\n",
       "      <td id=\"T_06e7e_row1_col1\" class=\"data row1 col1\" >1.000000</td>\n",
       "      <td id=\"T_06e7e_row1_col2\" class=\"data row1 col2\" >0.000004</td>\n",
       "    </tr>\n",
       "    <tr>\n",
       "      <th id=\"T_06e7e_level0_row2\" class=\"row_heading level0 row2\" >Both</th>\n",
       "      <td id=\"T_06e7e_row2_col0\" class=\"data row2 col0\" >0.115376</td>\n",
       "      <td id=\"T_06e7e_row2_col1\" class=\"data row2 col1\" >0.000004</td>\n",
       "      <td id=\"T_06e7e_row2_col2\" class=\"data row2 col2\" >1.000000</td>\n",
       "    </tr>\n",
       "  </tbody>\n",
       "</table>\n"
      ],
      "text/plain": [
       "<pandas.io.formats.style.Styler at 0x2cbe9c1f6a0>"
      ]
     },
     "execution_count": 16,
     "metadata": {},
     "output_type": "execute_result"
    }
   ],
   "source": [
    "import scikit_posthocs as sp\n",
    "\n",
    "df_posthoc = sp.posthoc_ttest([breast_only, formula_only, both],\n",
    "                             equal_var = True,   # Homoscedasticity verified!\n",
    "                             p_adjust = \"bonferroni\")\n",
    "\n",
    "groups = [\"Breast Only\", \"Formula Only\", \"Both\"]\n",
    "df_posthoc.columns = groups\n",
    "df_posthoc.index = groups\n",
    "\n",
    "df_posthoc.style.applymap(lambda x: \"background-color:red\" if x<0.05 else \"background-color:white\")"
   ]
  },
  {
   "cell_type": "markdown",
   "id": "acbe27d8",
   "metadata": {},
   "source": [
    "At this significance level, it can be concluded that the \"Formula only\" group differs from both the \"Breast Only\" and \"Both\" groups.\n"
   ]
  },
  {
   "cell_type": "markdown",
   "id": "bc6ad226",
   "metadata": {},
   "source": [
    "<a id=\"4.3\"></a>\n",
    "\n",
    "## 4.3) Mann Whitney U / Wilcoxon rank-sum test\n",
    "\n",
    "<a id=\"4.3.1\"></a>\n",
    "\n",
    "### 4.3.1) Definition\n",
    "\n",
    "* <u>**The Mann-Whitney U test**</u> **:** also known as the **Wilcoxon rank-sum test,** is a non-parametric statistical test used to compare the means of two independent groups when the assumptions of the independent t-test are not met (e.g., when the data is not normally distributed or the variances are not equal).\n",
    "\n",
    "\n",
    "#### Assumptions\n",
    "\n",
    "The Mann-Whitney U test does not assume normality or homogeneity of variances. However, it does **assume that the observations in each group are independent.**\n",
    "\n",
    "#### Hypotheses\n",
    "\n",
    "- **Null Hypothesis $(H_0)$ :** The distributions of both groups are equal.\n",
    "- **Alternative Hypothesis $(H_1)$ :** The distributions of both groups are not equal.\n",
    "\n",
    "#### Test Statistic\n",
    "\n",
    "The test statistic for the Mann-Whitney U test is based on the ranks of the observations in the combined sample of the two groups. The $U$ statistic is calculated as the sum of the ranks of the observations in one group, and it is compared to a critical value to determine statistical significance. Here's a step by step explanation :\n",
    "\n",
    "\n",
    "1. **Combine the Samples :** First, combine all the observations from both groups into a single sample.\n",
    "\n",
    "2. **Rank the Observations :** Assign ranks to the combined sample. The smallest observation gets rank 1, the next smallest gets rank 2, and so on. If there are tied values (observations with the same value), each tied value is assigned the average of the ranks they would have received if they were not tied.\n",
    "\n",
    "3. **Sum of Ranks :** Calculate the sum of the ranks for the observations in each group. These are often referred to as $R_1$ and $R_2$.\n",
    "\n",
    "4. **U Statistic Calculation :** The U statistic is calculated using the following formulas:\n",
    "\n",
    "   $$\n",
    "   U_1 = R_1 - \\frac{n_1(n_1 + 1)}{2}\n",
    "   $$\n",
    "\n",
    "   $$\n",
    "   U_2 = R_2 - \\frac{n_2(n_2 + 1)}{2}\n",
    "   $$\n",
    "\n",
    "   where $n_1$ and $n_2$ are the sample sizes of the two groups. The test statistic $U$ is the smaller of $U_1$ and $U_2$.\n",
    "\n",
    "5. **Determine the Significance :** The U statistic is then compared to a critical value from the U distribution, or a p-value is calculated. If the p-value is less than the chosen significance level (e.g., 0.05), you reject the null hypothesis that the two samples come from the same distribution.\n",
    "\n"
   ]
  },
  {
   "cell_type": "markdown",
   "id": "be63a2da",
   "metadata": {},
   "source": [
    "<a id=\"4.3.2\"></a>\n",
    "\n",
    "### 4.3.2) Example of Mann Whitney U test\n",
    "\n",
    "![](3.jpg)\n",
    "\n",
    "A human resource specialist at a technology company is interested in comparing the overtime hours of different teams. To explore whether there's a difference between the overtime hours of the software development team and the test team, the specialist randomly selected 17 employees from each team and recorded their weekly average overtime hours. The data is provided below.\n",
    "\n",
    "tester_team = [6.5, 7.0, 1.8, 2.2, 2.4, 1.9, 1.7, 6.3, 2.6, 2.2, 12.1, 1.6, 5.1, 3.3, 9.0, 2.5, 4.0]\n",
    "\n",
    "developer_team = [2.2, 2.0, 1.5, 2.1, 8.5, 2.3, 3.0, 4.0, 3.5, 2.4, 3.0, 6.0, 12.0, 4.0, 2.0, 1.3, 3.3]\n",
    "\n",
    "Based on this data, we'll perform hypothesis testing to examine whether there exists a difference in the overtime hours between two teams, utilizing a significance level of 0.05. Buit before proceeding with hypothesis testing, let's ensure to verify the associated assumptions.\n",
    "\n",
    "#### <u>1. Defining Hypotheses</u>\n",
    "\n",
    "* Null Hypothesis $H_0$ : The mean of the two samples is the same\n",
    "\n",
    "$$H_0 : \\mu_t = \\mu_d$$\n",
    "\n",
    "* Alternative Hypothesis $H_1$ : The two samples have different means\n",
    "\n",
    "$$H_1 : \\mu_t \\neq \\mu_d$$\n",
    "\n",
    "\n",
    "#### <u>2. Assumptions Check</u>\n",
    "\n",
    "* **Normality :**\n",
    "\n",
    "$H_0 :$ \"The data is normally distributed\" (The overtime data for both teams should follow a normal distribution.)\n",
    "\n",
    "$H_1 :$ \"The data is **NOT** normally distributed\"\n",
    "\n",
    "* **Homoscedasticity :**\n",
    "\n",
    "$H_0 :$ \"The variances of the samples are the same\" (The variance in overtime hours should be approximately equal between the two teams.)\n",
    "\n",
    "$H_1 :$ \"The variances of the samples are different\""
   ]
  },
  {
   "cell_type": "code",
   "execution_count": 17,
   "id": "8bd1b83e",
   "metadata": {},
   "outputs": [
    {
     "name": "stdout",
     "output_type": "stream",
     "text": [
      "p value:0.0042\n",
      "Reject null hypothesis => The data is not normally distributed\n",
      "p value:0.0003\n",
      "Reject null hypothesis => The data is not normally distributed\n",
      "p value:0.5592\n",
      "Fail to reject null hypothesis => The variances of the samples are same.\n"
     ]
    }
   ],
   "source": [
    "tester_team = np.array([6.5, 7.0, 1.8, 2.2, 2.4, 1.9, 1.7, 6.3, 2.6, 2.2, 12.1, 1.6, 5.1, 3.3, 9.0, 2.5, 4.0])\n",
    "developer_team = np.array([2.2, 2.0, 1.5, 2.1, 8.5, 2.3, 3.0, 4.0, 3.5, 2.4, 3.0, 6.0, 12.0, 4.0, 2.0, 1.3, 3.3])\n",
    "\n",
    "# Normality check\n",
    "normality_check(tester_team)\n",
    "normality_check(developer_team)\n",
    "\n",
    "# Homoscedasticity check\n",
    "variance_check_homogeneity(tester_team, developer_team)"
   ]
  },
  {
   "cell_type": "markdown",
   "id": "214376d4",
   "metadata": {},
   "source": [
    "#### <u>3. Selecting the proper test</u>\n",
    "\n",
    "Since there are two groups with data collected from different individuals, it's **unpaired.** However, the normality assumption is not met. Therefore, we should use the non-parametric version of a two-group comparison for unpaired data, which is the **Mann-Whitney U test.** For that, we use `scipy.stats`'s `mannwhitneyu` function."
   ]
  },
  {
   "cell_type": "code",
   "execution_count": 18,
   "id": "f7614c18",
   "metadata": {},
   "outputs": [
    {
     "name": "stdout",
     "output_type": "stream",
     "text": [
      "p-value : 0.6540\n",
      "Fail to reject the null hypothesis\n"
     ]
    }
   ],
   "source": [
    "ttest, p_value = stats.mannwhitneyu(x = tester_team,\n",
    "                                  y = developer_team,\n",
    "                                  alternative = \"two-sided\")\n",
    "\n",
    "print(\"p-value : %.4f\"%p_value)\n",
    "if p_value < 0.05 :\n",
    "    print(\"Reject the null hypothesis\")\n",
    "else :\n",
    "    print(\"Fail to reject the null hypothesis\")"
   ]
  },
  {
   "cell_type": "markdown",
   "id": "4be89357",
   "metadata": {},
   "source": [
    "#### <u>4. Decision and Conclusion</u>\n",
    "\n",
    "At this significance level, there is no statistically significant difference between the average overtime hours of the two teams."
   ]
  },
  {
   "cell_type": "markdown",
   "id": "399119bf",
   "metadata": {},
   "source": [
    "<a id=\"4.4\"></a>\n",
    "\n",
    "## 4.4) Kruskal-Wallis test\n",
    "\n",
    "<a id=\"4.4.1\"></a>\n",
    "\n",
    "### 4.4.1) Definition\n",
    "\n",
    "* <u>**Kruskal-Wallis test**</u> **:** is a non-parametric statistical test used to compare the means of three or more independent groups when the assumptions of the one-way ANOVA are not met (e.g., when the data is not normally distributed or the variances are not equal). It is often referred to as the non-parametric equivalent of the one-way ANOVA.\n",
    "\n",
    "#### Assumptions\n",
    "\n",
    "The Kruskal-Wallis test does not assume normality or homogeneity of variances. However, it does **assume that the observations in each group are independent.**\n",
    "\n",
    "#### Hypotheses\n",
    "\n",
    "- **Null Hypothesis $(H_0)$ :** The distributions of all groups are equal.\n",
    "- **Alternative Hypothesis $(H_1)$ :** At least one group's distribution is different from the others.\n",
    "\n",
    "#### Test Statistic\n",
    "\n",
    "The test statistic for the Kruskal-Wallis test is based on the ranks of the observations in the combined sample of the groups. It compares the average ranks between groups to determine if there are significant differences. Here's a step by step explanation :\n",
    "\n",
    "1. **Combine the Samples :** Combine all the observations from all the groups into a single sample.\n",
    "\n",
    "2. **Rank the Observations :** Assign ranks to the combined sample. The smallest observation gets rank 1, the next smallest gets rank 2, and so on. If there are tied values (observations with the same value), each tied value is assigned the average of the ranks they would have received if they were not tied.\n",
    "\n",
    "3. **Sum of Ranks :** Calculate the sum of the ranks for the observations in each group. Denote the sum of ranks for the $i$-th group as $R_i$.\n",
    "\n",
    "4. **Kruskal-Wallis Statistic Calculation**: The Kruskal-Wallis test statistic $H$ is calculated using the formula:\n",
    "\n",
    "   $$\n",
    "   H = \\left( \\frac{12}{N(N+1)} \\sum_{i=1}^k \\frac{R_i^2}{n_i} \\right) - 3(N+1)\n",
    "   $$\n",
    "\n",
    "   where:\n",
    "   - $N$ is the total number of observations across all groups.\n",
    "   - $k$ is the number of groups.\n",
    "   - $n_i$ is the number of observations in the $i$-th group.\n",
    "   - $R_i$ is the sum of ranks for the $i$-th group.\n",
    "\n",
    "5. **Determine the Significance :** The test statistic $H$ follows a chi-square distribution with $k-1$ degrees of freedom. Compare $H$ to the critical value from the chi-square distribution, or calculate the p-value. If the p-value is less than the chosen significance level (e.g., 0.05), you reject the null hypothesis that the groups have the same distribution.\n",
    "\n"
   ]
  },
  {
   "cell_type": "markdown",
   "id": "5b665956",
   "metadata": {},
   "source": [
    "<a id=\"4.4.2\"></a>\n",
    "\n",
    "### 4.4.2) Example of Kruskal-Wallis test\n",
    "\n",
    "![](4.jpg)\n",
    "\n",
    "An e-commerce company frequently advertises its campaigns on YouTube, Instagram, and Facebook. However, the new manager is curious about whether there is any difference in the number of customers attracted by these platforms. Consequently, she began utilizing \"Adjust\", an application that provides insights to find out where the users came from. The daily numbers reported from Adjust for each platform are as follows :\n",
    "\n",
    "Youtube = [1905, 1885, 1945, 2135, 2045, 2125, 2120, 2150, 2030, 1980, 1950, 2140, 2155, 1945, 2135]\n",
    "\n",
    "Instagram = [2295, 2365, 2205, 2225, 2195, 2425, 2380, 2415, 2335, 2355, 2245, 2400, 2235, 2270, 2275]\n",
    "\n",
    "Facebook = [2125, 2530, 2110, 2555, 2285, 2375, 2450, 2315, 2180, 2120, 2055, 2435, 2270, 2105, 2535]\n",
    "\n",
    "Based on this data, we'll perform hypothesis testing to examine whether there are differences in the average customer acquisition across the three platforms, using a significance level of 0.05. Should a significant difference be observed, we'll conduct additional analysis to detect the underlying cause. But prior to hypothesis testing, let's ensure to validate the relevant assumptions.\n",
    "\n",
    "#### <u>1. Defining Hypotheses</u>\n",
    "\n",
    "* Null Hypothesis $H_0$ : The mean of the samples is the same\n",
    "\n",
    "$$H_0 : \\mu_Y = \\mu_I = \\mu_F$$\n",
    "\n",
    "* Alternative Hypothesis $H_1$ : At least one of them is different\n",
    "\n",
    "$$H_1 : \\mu_Y \\neq \\mu_I \\quad or \\quad \\mu_Y \\neq \\mu_F \\quad or \\quad \\mu_I \\neq \\mu_F$$\n",
    "\n",
    "\n",
    "#### <u>2. Assumptions Check</u>\n",
    "\n",
    "* **Normality :**\n",
    "\n",
    "$H_0 :$ \"The data is normally distributed\" (The number of customers acquired from each platform should follow a normal distribution.)\n",
    "\n",
    "$H_1 :$ \"The data is **NOT** normally distributed\"\n",
    "\n",
    "* **Homoscedasticity :**\n",
    "\n",
    "$H_0 :$ \"The variances of the samples are the same\" (The variance in the number of customers acquired should be approximately equal between the three platforms.)\n",
    "\n",
    "$H_1 :$ \"The variances of the samples are different\""
   ]
  },
  {
   "cell_type": "code",
   "execution_count": 19,
   "id": "4a5c1475",
   "metadata": {},
   "outputs": [
    {
     "name": "stdout",
     "output_type": "stream",
     "text": [
      "p value:0.0258\n",
      "Reject null hypothesis => The data is not normally distributed\n",
      "p value:0.2898\n",
      "Fail to reject null hypothesis => The data is normally distributed\n",
      "p value:0.1402\n",
      "Fail to reject null hypothesis => The data is normally distributed\n",
      "p-value : 0.0015\n",
      "Reject the null hypothesis => The variances of the samples are different.\n"
     ]
    }
   ],
   "source": [
    "youtube = np.array([1905, 1885, 1945, 2135, 2045, 2125, 2120, 2150, 2030, 1980, 1950, 2140, 2155, 1945, 2135])\n",
    "instagram = np.array([2295, 2365, 2205, 2225, 2195, 2425, 2380, 2415, 2335, 2355, 2245, 2400, 2235, 2270, 2275])\n",
    "facebook = np.array([2125, 2530, 2110, 2555, 2285, 2375, 2450, 2315, 2180, 2120, 2055, 2435, 2270, 2105, 2535])\n",
    "\n",
    "# Normality check\n",
    "normality_check(youtube)\n",
    "normality_check(instagram)\n",
    "normality_check(facebook)\n",
    "\n",
    "# Homoscedasticity check\n",
    "stat, p_value_levene = stats.levene(youtube, instagram, facebook)\n",
    "print(\"p-value : %.4f\"%p_value_levene)\n",
    "if p_value_levene < 0.05 :\n",
    "    print(\"Reject the null hypothesis => The variances of the samples are different.\")\n",
    "else :\n",
    "    print(\"Fail to reject the null hypothesis => The variances of the samples are the same.\")"
   ]
  },
  {
   "cell_type": "markdown",
   "id": "3bd49391",
   "metadata": {},
   "source": [
    "#### <u>3. Selecting the proper test</u>\n",
    "\n",
    "Since the assumptions of normality and variance homogeneity are not met, we should employ the non-parametric version of ANOVA for unpaired data, as the data is collected from different sources, which is the **Kruskal-Wallis test.** For that, we use `scipy.stats`'s `kruskal` function."
   ]
  },
  {
   "cell_type": "code",
   "execution_count": 20,
   "id": "fd6bd92d",
   "metadata": {},
   "outputs": [
    {
     "name": "stdout",
     "output_type": "stream",
     "text": [
      "p-value : 0.000019\n",
      "Reject the null hypothesis\n"
     ]
    }
   ],
   "source": [
    "F_test, p_value = stats.kruskal(youtube, instagram, facebook)\n",
    "print(\"p-value : %.6f\"%p_value)\n",
    "if p_value <0.05 :\n",
    "    print(\"Reject the null hypothesis\")\n",
    "else : \n",
    "    print(\"Fail to reject the null hypothesis\")"
   ]
  },
  {
   "cell_type": "markdown",
   "id": "fd682ede",
   "metadata": {},
   "source": [
    "#### <u>4. Decision and Conclusion</u>\n",
    "\n",
    "At this significance level, there is evidence to suggest that at least one of the average customer acquisition numbers differs across the platforms.\n",
    "\n",
    "**Note :** Due to the non-normality of the data, the **non-parametric version of the posthoc test** is employed. For that, we use `scikit_posthocs`'s `posthoc_mannwhitney` function."
   ]
  },
  {
   "cell_type": "code",
   "execution_count": 21,
   "id": "c040d564",
   "metadata": {},
   "outputs": [
    {
     "data": {
      "text/html": [
       "<style type=\"text/css\">\n",
       "#T_c18be_row0_col0, #T_c18be_row1_col1, #T_c18be_row1_col2, #T_c18be_row2_col1, #T_c18be_row2_col2 {\n",
       "  background-color: white;\n",
       "}\n",
       "#T_c18be_row0_col1, #T_c18be_row0_col2, #T_c18be_row1_col0, #T_c18be_row2_col0 {\n",
       "  background-color: red;\n",
       "}\n",
       "</style>\n",
       "<table id=\"T_c18be\">\n",
       "  <thead>\n",
       "    <tr>\n",
       "      <th class=\"blank level0\" >&nbsp;</th>\n",
       "      <th id=\"T_c18be_level0_col0\" class=\"col_heading level0 col0\" >Youtube</th>\n",
       "      <th id=\"T_c18be_level0_col1\" class=\"col_heading level0 col1\" >Instagram</th>\n",
       "      <th id=\"T_c18be_level0_col2\" class=\"col_heading level0 col2\" >Facebook</th>\n",
       "    </tr>\n",
       "  </thead>\n",
       "  <tbody>\n",
       "    <tr>\n",
       "      <th id=\"T_c18be_level0_row0\" class=\"row_heading level0 row0\" >Youtube</th>\n",
       "      <td id=\"T_c18be_row0_col0\" class=\"data row0 col0\" >1.000000</td>\n",
       "      <td id=\"T_c18be_row0_col1\" class=\"data row0 col1\" >0.000010</td>\n",
       "      <td id=\"T_c18be_row0_col2\" class=\"data row0 col2\" >0.003134</td>\n",
       "    </tr>\n",
       "    <tr>\n",
       "      <th id=\"T_c18be_level0_row1\" class=\"row_heading level0 row1\" >Instagram</th>\n",
       "      <td id=\"T_c18be_row1_col0\" class=\"data row1 col0\" >0.000010</td>\n",
       "      <td id=\"T_c18be_row1_col1\" class=\"data row1 col1\" >1.000000</td>\n",
       "      <td id=\"T_c18be_row1_col2\" class=\"data row1 col2\" >1.000000</td>\n",
       "    </tr>\n",
       "    <tr>\n",
       "      <th id=\"T_c18be_level0_row2\" class=\"row_heading level0 row2\" >Facebook</th>\n",
       "      <td id=\"T_c18be_row2_col0\" class=\"data row2 col0\" >0.003134</td>\n",
       "      <td id=\"T_c18be_row2_col1\" class=\"data row2 col1\" >1.000000</td>\n",
       "      <td id=\"T_c18be_row2_col2\" class=\"data row2 col2\" >1.000000</td>\n",
       "    </tr>\n",
       "  </tbody>\n",
       "</table>\n"
      ],
      "text/plain": [
       "<pandas.io.formats.style.Styler at 0x2cbe8033ee0>"
      ]
     },
     "execution_count": 21,
     "metadata": {},
     "output_type": "execute_result"
    }
   ],
   "source": [
    "import scikit_posthocs as sp\n",
    "\n",
    "df_posthoc = sp.posthoc_mannwhitney([youtube, instagram, facebook],\n",
    "                                   p_adjust = \"bonferroni\")\n",
    "\n",
    "company_names = [\"Youtube\", \"Instagram\", \"Facebook\"]\n",
    "df_posthoc.columns = company_names\n",
    "df_posthoc.index = company_names\n",
    "\n",
    "df_posthoc.style.applymap(lambda x : \"background-color:red\" if x<0.05 else \"background-color:white\")\n"
   ]
  },
  {
   "cell_type": "markdown",
   "id": "fa96eb8d",
   "metadata": {},
   "source": [
    "At this significance level, it can be concluded that the average number of customers coming from YouTube is significantly different from the average number of customers coming from Instagram or Facebook, being notably smaller."
   ]
  },
  {
   "cell_type": "markdown",
   "id": "83f09e3d",
   "metadata": {},
   "source": [
    "\n",
    "<a id=\"4.5\"></a>\n",
    "\n",
    "## 4.5) Dependent t-Test / Paired t-Test\n",
    "\n",
    "<a id=\"4.5.1\"></a>\n",
    "\n",
    "### 4.5.1) Definition\n",
    "\n",
    "* <u>**Dependent t-test**</u> **:** also known as the **paired t-test,** is a statistical test used to compare the means of two related groups to determine if there is a statistically significant difference between them. This test is appropriate when the same subjects are measured before and after an intervention or treatment, or when the measurements are matched in some way.\n",
    "\n",
    "#### Assumptions\n",
    "\n",
    "1. **Dependent Observations :** The observations in each group should be dependent or paired in some way. Typically, this means that each subject is measured under two different conditions.\n",
    "2. **Normality :** The differences between the paired observations (i.e., the difference scores) should be approximately normally distributed. This can be assessed using statistical tests such as the Shapiro-Wilk test or by visual inspection of a Q-Q plot.\n",
    "3. **Homogeneity of Differences :** The differences between pairs of observations should have a constant variance. . This assumption is less commonly mentioned but ensures that the differences do not show a systematic pattern.\n",
    "\n",
    "**NOTE :** Homoscedasticity (equal variances) is not an assumption for the Dependent t-Test because it compares the means of two related groups, and thus, between-group variability is not a factor. This is in contrast to the Independent t-Test, where homoscedasticity is an important assumption.\n",
    "\n",
    "#### Hypotheses\n",
    "\n",
    "- **Null Hypothesis $(H_0)$ :** The mean difference between paired observations is zero $(\\mu_d =0)$.\n",
    "- **Alternative Hypothesis $(H_1)$ :** The mean difference between paired observations is not zero $(\\mu_d \\neq 0)$ for a two-tailed test, or $(\\mu_d > 0)$ or $(\\mu_d < 0)$ for a one-tailed test.\n",
    "\n",
    "#### Test Statistic\n",
    "\n",
    "The test statistic for the dependent t-test is calculated as follows :\n",
    "\n",
    "$$\n",
    "t = \\frac{\\bar{d}}{\\frac{s_d}{\\sqrt{n}}}\n",
    "$$\n",
    "\n",
    "where:\n",
    "- $\\bar{d} = \\bar{X_2}-\\bar{X_1}$ is the mean difference between paired observations,\n",
    "- $s_d$ is the standard deviation of the differences between paired observations,\n",
    "- $n$ is the number of pairs.\n"
   ]
  },
  {
   "cell_type": "markdown",
   "id": "180eb82c",
   "metadata": {},
   "source": [
    "<a id=\"4.5.2\"></a>\n",
    "\n",
    "### 4.5.2) Example of a Dependent t-Test (Paired t-Test)\n",
    "\n",
    "![](5.jpg)\n",
    "\n",
    "Eighteen students diagnosed with high cholesterol at the University Health Center were advised by healthcare personnel about the risks associated with high cholesterol and were prescribed a diet program. After one month, the patients returned for a follow-up, during which their cholesterol levels were reevaluated to test whether there is a change in the cholesterol levels of the patients after the diet intervention.\n",
    "\n",
    "Based on this information, we'll perform hypothesis testing to determine whether there is a reduction in the cholesterol levels of the patients following the diet, using a significance level of 0.05. but prior to hypothesis testing, let's assess the relevant assumptions, and provide commentary on the results.\n",
    "\n",
    "results_before_diet = [226, 233, 220, 252, 254, 220, 242, 227, 258, 222, 240, 238, 237, 230, 274, 252, 236, 228]\n",
    "\n",
    "results_after_diet = [196, 197, 215, 189, 245, 207, 224, 198, 212, 209, 187, 204, 201, 219, 191, 197, 193, 220]\n",
    "\n",
    "Since the same individuals are being measured before and after the diet, the observations are paired.\n",
    "\n",
    "#### <u>1. Defining Hypotheses</u>\n",
    "\n",
    "* Null Hypothesis $H_0$ : The true mean difference $\\mu_d = \\mu_{\\text{after}} - \\mu_{\\text{before}}$ is equal to or bigger than zero.\n",
    "\n",
    "$$H_0 : \\mu_d \\geq 0$$\n",
    "\n",
    "* Alternative Hypothesis $H_1$ : The true mean difference is smaller than zero\n",
    "\n",
    "$$H_1 : \\mu_d <0 $$\n",
    "\n",
    "\n",
    "#### <u>2. Assumptions Check</u>\n",
    "\n",
    "* **Continuity :**\n",
    "\n",
    "The dependent variable must be **continuous (interval/ratio).**\n",
    "\n",
    "* **Independence :**\n",
    "\n",
    "The observations are **independent of one another.**\n",
    "\n",
    "* **Normality :**\n",
    "\n",
    "The dependent variable should be approximately **normally distributed**\n",
    "\n",
    "$H_0 :$ \"The data is normally distributed\" (The cholesterol level data should follow a normal distribution.)\n",
    "\n",
    "$H_1 :$ \"The data is **NOT** normally distributed\"\n"
   ]
  },
  {
   "cell_type": "code",
   "execution_count": 23,
   "id": "740f6fcf",
   "metadata": {
    "scrolled": true
   },
   "outputs": [
    {
     "name": "stdout",
     "output_type": "stream",
     "text": [
      "p value:0.2104\n",
      "Fail to reject null hypothesis => The data is normally distributed\n",
      "p value:0.1441\n",
      "Fail to reject null hypothesis => The data is normally distributed\n"
     ]
    }
   ],
   "source": [
    "before_diet = np.array([226, 233, 220, 252, 254, 220, 242, 227, 258, 222, 240, 238, 237, 230, 274, 252, 236, 228])\n",
    "after_diet = np.array([196, 197, 215, 189, 245, 207, 224, 198, 212, 209, 187, 204, 201, 219, 191, 197, 193, 220])\n",
    "\n",
    "# normality check\n",
    "\n",
    "normality_check(before_diet)\n",
    "normality_check(after_diet)"
   ]
  },
  {
   "cell_type": "markdown",
   "id": "98e92584",
   "metadata": {},
   "source": [
    "#### <u>3. Selecting the proper test</u>\n",
    "\n",
    "The data is paired as it is collected from the same individuals, and the assumptions are satisfied. Therefore, we can employ the **dependent t-test.** For that we use `scipy.stats`'s `ttest_rel` function."
   ]
  },
  {
   "cell_type": "code",
   "execution_count": 25,
   "id": "43ac189e",
   "metadata": {},
   "outputs": [
    {
     "name": "stdout",
     "output_type": "stream",
     "text": [
      "p-value : 0.000008 one-tailed p-value : 0.000004\n",
      "One-sided p-value : 0.000004\n",
      "Reject null hypotheses\n"
     ]
    }
   ],
   "source": [
    "# ttest_rel : Calculate the t-test on TWO RELATED samples of scores, a and b.\n",
    "test_stat, p_value_paired = stats.ttest_rel(a = before_diet, b = after_diet)\n",
    "\n",
    "#  since by default we have : alternative='two-sided'\n",
    "print(\"p-value : %.6f\"%p_value_paired, \"one-tailed p-value : %.6f\"%(p_value_paired/2))\n",
    "\n",
    "\n",
    "\n",
    "# 'greater': the mean of the distribution underlying the first sample\n",
    "# is greater than the mean of the distribution underlying the second sample.\n",
    "test_stat, p_value_paired = stats.ttest_rel(a = before_diet, b = after_diet, alternative=\"greater\")\n",
    "print(\"One-sided p-value : %.6f\"%p_value_paired)\n",
    "\n",
    "if p_value < 0.05 :\n",
    "    print(\"Reject null hypotheses\")\n",
    "else :\n",
    "    print(\"Fail to reject null hypothesis\")"
   ]
  },
  {
   "cell_type": "markdown",
   "id": "50e96a71",
   "metadata": {},
   "source": [
    "#### <u>4. Decision and Conclusion</u>\n",
    "\n",
    "At this significance level, there is sufficient evidence to conclude that the mean cholesterol level of patients has decreased after the diet."
   ]
  },
  {
   "cell_type": "markdown",
   "id": "d9ed1800",
   "metadata": {},
   "source": [
    "<a id=\"4.6\"></a>\n",
    "\n",
    "## 4.6) Wilcoxon Signed-Rank test\n",
    "\n",
    "<a id=\"4.6.1\"></a>\n",
    "\n",
    "### 4.6.1) Definition\n",
    "\n",
    "* <u>**Wilcoxon Signed-Rank test**</u> **:** is a non-parametric statistical test used to compare the means of two related groups to determine if there is a statistically significant difference between them. This test is appropriate when the same subjects are measured before and after an intervention or treatment, or when the measurements are matched in some way.\n",
    "\n",
    "#### Assumptions\n",
    "\n",
    "1. **Continuous Data :** The data should be measured on at least an ordinal scale.\n",
    "2. **Dependent Observations :** The observations in each group should be dependent or paired in some way.\n",
    "3. **Random Sampling :** The data should be collected through a random sampling method.\n",
    "\n",
    "\n",
    "#### Hypotheses\n",
    "\n",
    "- **Null Hypothesis $(H_0)$ :** There is no difference between the paired observations $(\\mu_d =0)$.\n",
    "- **Alternative Hypothesis $(H_1)$ :** There is a difference between the paired observations $(\\mu_d \\neq 0)$ for a two-tailed test, or $(\\mu_d > 0)$ or $(\\mu_d < 0)$ for a one-tailed test.\n",
    "\n",
    "#### Test Statistic\n",
    "\n",
    "The test statistic for the Wilcoxon Signed-Rank test is based on the ranks of the absolute differences between paired observations. It compares the sum of the positive ranks to the sum of the negative ranks. Here's a step by step explanation :\n",
    "\n",
    "1. **Paired Observations :** First, identify paired observations from your dataset. Each pair consists of two related measurements or observations taken under different conditions, treatments, or times.\n",
    "\n",
    "2. **Compute Differences :** Calculate the differences between paired observations. Let $ D_i $ denote the difference between the ith pair of observations.\n",
    "\n",
    "3. **Absolute Differences and Ranks :** Compute the absolute differences $|D_i|$ for each pair. Then, rank these absolute differences from smallest to largest, assigning ranks based on their magnitude.\n",
    "\n",
    "4. **Sum of Ranks :** Calculate the sum of ranks for the positive and negative signed ranks separately. This involves summing the ranks of $|D_i|$ where $ D_i > 0 $ (positive differences) and where $ D_i < 0 $ (negative differences).\n",
    "\n",
    "5. **Test Statistic :** The test statistic $ T^+ $ (for positive differences) or $ T^- $ (for negative differences) is computed based on the smaller of these two sums of ranks. The decision on which test statistic to use depends on whether you are testing for a one-sided or two-sided alternative hypothesis.\n",
    "\n",
    "6. **Null Hypothesis :** Formulate the null hypothesis $ H_0 $ and alternative hypothesis $ H_1 $ based on whether the mean/median of the differences is equal to zero (or a specified value) versus not equal to zero.\n",
    "\n",
    "7. **Critical Value or p-value :** Determine the critical value from the Wilcoxon Signed-Rank table or compute the p-value using the distribution of $ T^+ $ or $ T^- $ under the null hypothesis.\n",
    "\n",
    "8. **Decision :** Compare the computed test statistic with the critical value (for a given significance level) or the p-value. If the test statistic exceeds the critical value or if the p-value is less than the significance level (commonly $ \\alpha = 0.05 $), reject the null hypothesis. Otherwise, fail to reject the null hypothesis.\n"
   ]
  },
  {
   "cell_type": "markdown",
   "id": "209e756c",
   "metadata": {},
   "source": [
    "<a id=\"4.6.2\"></a>\n",
    "\n",
    "### 4.6.2) Example of Wilcoxon Signed-Rank test\n",
    "\n",
    "![](6.png)\n",
    "\n",
    "A venture capitalist is considering investing in a startup that offers data compression without any loss in quality. However, two competitors, \"Pied Piper\" and \"EndFrame\", are also in the market. Initially, he speculated that EndFrame's performance might be superior but wished to verify this before making any investment decisions. Consequently, he provided the same files to each company for compression and recorded their performance scores. The data is provided below.\n",
    "\n",
    "pied_piper = [4.55, 4.53, 5.45, 4.65, 5.39, 5.53, 5.51, 5.61, 3.84, 3.95, 5.42, 3.91, 5.29, 5.15, 4.37, 4.26, 5.23]\n",
    "\n",
    "endframe = [4.25, 3.91, 3.99, 4.05, 3.85, 3.98, 3.98, 3.70, 4.14, 4.08, 3.88, 3.95, 4.06, 3.94, 3.94, 3.75, 4.07]\n",
    "\n",
    "Based on this data, we will perform the relevant hypothesis testing using a significance level of 0.05. But prior to conducting the hypothesis testing, let's ensure to validate the relevant assumptions, and provide commentary on the results afterward.\n",
    "\n",
    "Since the performance scores are derived from the same set of files, the data is paired.\n",
    "\n",
    "#### <u>1. Defining Hypotheses</u>\n",
    "\n",
    "* Null Hypothesis $H_0$ : The true mean difference $\\mu_d = \\mu_{\\text{EndFrame}} - \\mu_{\\text{Pied Paper}}$ is equal to or bigger than zero.\n",
    "\n",
    "$$H_0 : \\mu_d \\geq 0$$\n",
    "\n",
    "* Alternative Hypothesis $H_1$ : The true mean difference is smaller than zero\n",
    "\n",
    "$$H_1 : \\mu_d <0 $$\n",
    "\n",
    "\n",
    "#### <u>2. Assumptions Check</u>\n",
    "\n",
    "* **Continuity :**\n",
    "\n",
    "The dependent variable must be **continuous (interval/ratio).**\n",
    "\n",
    "* **Independence :**\n",
    "\n",
    "The observations are **independent of one another.** (The performance scores for each company should be independent of each other.)\n",
    "\n",
    "* **Normality :**\n",
    "\n",
    "The dependent variable should be approximately **normally distributed**\n",
    "\n",
    "$H_0 :$ \"The data is normally distributed\" (The performance scores for both companies should follow a normal distribution.)\n",
    "\n",
    "$H_1 :$ \"The data is **NOT** normally distributed\""
   ]
  },
  {
   "cell_type": "code",
   "execution_count": 26,
   "id": "bd49881a",
   "metadata": {},
   "outputs": [
    {
     "name": "stdout",
     "output_type": "stream",
     "text": [
      "p value:0.0304\n",
      "Reject null hypothesis => The data is not normally distributed\n",
      "p value:0.9587\n",
      "Fail to reject null hypothesis => The data is normally distributed\n"
     ]
    }
   ],
   "source": [
    "pied_piper = np.array([4.55, 4.53, 5.45, 4.65, 5.39, 5.53, 5.51, 5.61, 3.84, 3.95, 5.42, 3.91, 5.29, 5.15, 4.37, 4.26, 5.23])\n",
    "endframe = np.array([4.25, 3.91, 3.99, 4.05, 3.85, 3.98, 3.98, 3.70, 4.14, 4.08, 3.88, 3.95, 4.06, 3.94, 3.94, 3.75, 4.07])\n",
    "\n",
    "# normality check\n",
    "normality_check(pied_piper)\n",
    "normality_check(endframe)\n"
   ]
  },
  {
   "cell_type": "markdown",
   "id": "3bb6c704",
   "metadata": {},
   "source": [
    "#### <u>3. Selecting the proper test</u>\n",
    "\n",
    "Since the normality assumption is not met, we should use the non-parametric version of the paired test, which is the **Wilcoxon Signed-Rank test.** For that we use `scipy.stats`'s `wilcoxon` function."
   ]
  },
  {
   "cell_type": "code",
   "execution_count": 27,
   "id": "29b05a63",
   "metadata": {},
   "outputs": [
    {
     "name": "stdout",
     "output_type": "stream",
     "text": [
      "p-value : 0.000214 => one-tailed p-value : 0.000107\n"
     ]
    }
   ],
   "source": [
    "# alternative =\"two-sided\" by default in stats.wilcoxon\n",
    "test, p_value = stats.wilcoxon(x = endframe, y = pied_piper)\n",
    "print(\"p-value : %.6f\"%p_value, \"=> one-tailed p-value : %.6f\"%(p_value/2))"
   ]
  },
  {
   "cell_type": "code",
   "execution_count": 28,
   "id": "f831d616",
   "metadata": {},
   "outputs": [
    {
     "name": "stdout",
     "output_type": "stream",
     "text": [
      "One-sided p-value : 0.000107\n",
      "Reject null hypotheses\n"
     ]
    }
   ],
   "source": [
    "# `d` represent the difference between the paired samples: `d = x - y`\n",
    "# 'less': the distribution underlying ``d`` is stochastically less than a distribution symmetric about zero.\n",
    "\n",
    "test, p_value = stats.wilcoxon(x = endframe, y = pied_piper, alternative = \"less\")\n",
    "print(\"One-sided p-value : %.6f\"%p_value)\n",
    "if p_value < 0.05 :\n",
    "    print(\"Reject null hypotheses\")\n",
    "else :\n",
    "    print(\"Fail to reject null hypothesis\")"
   ]
  },
  {
   "cell_type": "markdown",
   "id": "8039f96e",
   "metadata": {},
   "source": [
    "#### <u>4. Decision and Conclusion</u>\n",
    "\n",
    "At this significance level, there is sufficient evidence to conclude that the performance of \"Pied Piper\" is superior to that of \"EndFrame\"."
   ]
  },
  {
   "cell_type": "markdown",
   "id": "922baa3e",
   "metadata": {},
   "source": [
    "<a id=\"4.7\"></a>\n",
    "\n",
    "## 4.7) Friedman $\\chi$² (Chi-Square)\n",
    "\n",
    "<a id=\"4.7.1\"></a>\n",
    "\n",
    "### 4.7.1) Definition\n",
    "\n",
    "* <u>**Friedman's Chi-Square Test**</u> **:** also known simply as **Friedman Test** generally refer to the same statistical test. The Friedman Test is a non-parametric alternative to the repeated measures ANOVA (Analysis of Variance) test, used to determine whether there are statistically significant differences between the means of three or more paired groups. It's named after the statistician Milton Friedman. It is often used when the data is ordinal and the observations are dependent.\n",
    "\n",
    "#### Assumptions\n",
    "\n",
    "1. **Ordinal Data :** The data should be measured on an ordinal scale. This means that the measurements can be ranked, but the intervals between the ranks may not be equal.\n",
    "2. **Dependent Samples :** The test requires that you have a single group of participants or objects that are measured under three or more conditions or treatments. Each participant/object must have been measured under all conditions.\n",
    "3. **Related Samples Independence :** The observations within each group must be independent of each other, and the groups should be independent of each other as well.\n",
    "3. **Random Sampling**: The data should be collected through a random sampling method.\n",
    "\n",
    "\n",
    "#### Hypotheses\n",
    "\n",
    "- **Null Hypothesis $(H_0)$ :** There is no difference between the paired groups.\n",
    "- **Alternative Hypothesis $(H_1)$ :** There is a difference between the paired groups.\n",
    "\n",
    "#### Test Statistic\n",
    "\n",
    "The test statistic for Friedman's Chi-Square Test is based on the ranks of the observations within each group. It compares the mean ranks of the groups to determine if there are significant differences. Here's a step by step explanation :\n",
    "\n",
    "\n",
    "1. **Ranking Observations :** First, rank the observations within each group separately. The ranks are assigned based on the order of the observations from smallest to largest across all groups.\n",
    "\n",
    "2. **Calculate Average Ranks :** Compute the average rank for each group. This is the mean of the ranks assigned to observations within each group.\n",
    "\n",
    "3. **Test Statistic :** Calculate the Friedman test statistic $\\chi^2$ using the formula:\n",
    "   $$\n",
    "   \\chi^2 = \\frac{12}{N(k+1)} \\left[ \\sum_{j=1}^{k} R_j^2 - \\frac{N(k+1)^2}{4} \\right]\n",
    "   $$\n",
    "   where:\n",
    "   - $N$ is the total number of observations (across all groups).\n",
    "   - $ k$ is the number of groups.\n",
    "   - $ R_j $ is the sum of ranks for group $ j$.\n",
    "\n",
    "4. **Degrees of Freedom :** The degrees of freedom $df$ for Friedman's Chi-Square test is $ k-1 $, where $ k$ is the number of groups.\n",
    "\n",
    "5. **Null Hypothesis :** Formulate the null hypothesis $ H_0$ and alternative hypothesis $H_1$ based on whether the mean ranks of the groups are equal or not.\n",
    "\n",
    "6. **Critical Value or p-value :** Determine the critical value from the Chi-Square distribution table or compute the p-value associated with the Chi-Square statistic under the null hypothesis.\n",
    "\n",
    "7. **Decision :** Compare the computed Chi-Square statistic with the critical value (for a given significance level) or compare the p-value with the significance level (commonly $\\alpha = 0.05 $). If the test statistic exceeds the critical value or if the p-value is less than $\\alpha$, reject the null hypothesis. Otherwise, fail to reject the null hypothesis.\n",
    "\n",
    "\n"
   ]
  },
  {
   "cell_type": "markdown",
   "id": "0ab4f506",
   "metadata": {},
   "source": [
    "<a id=\"4.7.2\"></a>\n",
    "\n",
    "### 4.7.2) Example of Friedman $\\chi$² (Chi-Square)\n",
    "\n",
    "![](7.png)\n",
    "\n",
    "The researchers wanted to investigate whether there is a difference between the performance of the methodology they developed, $C,$ and the baseline methods $A$ and $B.$ To do this, the researchers conducted various experiments and recorded the achieved accuracy of each method on test sets. The table below displays the accuracy achieved by each method. It's important to note that the same train and test sets were used for each method.\n",
    "\n",
    "| Experiment |    A    |    B    |    C    |\n",
    "|------------|---------|---------|---------|\n",
    "| E1         |  89.7   |  90.0   |  91.5   |\n",
    "| E2         |  89.8   |  90.1   |  90.7   |\n",
    "| E3         |  88.9   |  88.8   |  90.3   |\n",
    "| E4         |  88.6   |  88.9   |  90.4   |\n",
    "| E5         |  89.5   |  89.9   |  90.2   |\n",
    "| E6         |  89.6   |  90.0   |  90.3   |\n",
    "| E7         |  89.3   |  89.0   |  90.2   |\n",
    "| E8         |  89.4   |  89.2   |  90.3   |\n",
    "\n",
    "\n",
    "Based on this data, we will perform hypothesis testing to assess whether there exists a discrepancy in the performance of the methods, utilizing a significance level of 0.05. In case of a significant difference, we will conduct additional analysis to pinpoint which method is responsible for the disparity. Bu prior to hypothesis testing, let's validate the relevant assumptions, and provide commentary on the outcomes.\n",
    "\n",
    "Since the accuracy scores are obtained from the same test sets, the data is paired.\n",
    "\n",
    "#### <u>1. Defining Hypotheses</u>\n",
    "\n",
    "* Null Hypothesis $H_0$ : The mean of the samples is the same\n",
    "\n",
    "$$H_0 : \\mu_A = \\mu_B = \\mu_C$$\n",
    "\n",
    "* Alternative Hypothesis $H_1$ : At least one of them is different\n",
    "\n",
    "$$H_1 : \\mu_A \\neq \\mu_B \\quad or \\quad \\mu_A \\neq \\mu_C \\quad or \\quad \\mu_B \\neq \\mu_C$$\n",
    "\n",
    "\n",
    "#### <u>2. Assumptions Check</u>\n",
    "\n",
    "* **Normality :**\n",
    "\n",
    "$H_0 :$ \"The data is normally distributed\" (The accuracy data for each method should follow a normal distribution.)\n",
    "\n",
    "$H_1 :$ \"The data is **NOT** normally distributed\"\n",
    "\n",
    "* **Homoscedasticity :**\n",
    "\n",
    "$H_0 :$ \"The variances of the samples are the same\" (The variances in accuracy should be approximately equal between the methods.)\n",
    "\n",
    "$H_1 :$ \"The variances of the samples are different\""
   ]
  },
  {
   "cell_type": "code",
   "execution_count": 29,
   "id": "65684863",
   "metadata": {},
   "outputs": [
    {
     "data": {
      "text/html": [
       "<div>\n",
       "<style scoped>\n",
       "    .dataframe tbody tr th:only-of-type {\n",
       "        vertical-align: middle;\n",
       "    }\n",
       "\n",
       "    .dataframe tbody tr th {\n",
       "        vertical-align: top;\n",
       "    }\n",
       "\n",
       "    .dataframe thead th {\n",
       "        text-align: right;\n",
       "    }\n",
       "</style>\n",
       "<table border=\"1\" class=\"dataframe\">\n",
       "  <thead>\n",
       "    <tr style=\"text-align: right;\">\n",
       "      <th></th>\n",
       "      <th>Experiment</th>\n",
       "      <th>A</th>\n",
       "      <th>B</th>\n",
       "      <th>C</th>\n",
       "    </tr>\n",
       "  </thead>\n",
       "  <tbody>\n",
       "    <tr>\n",
       "      <th>1</th>\n",
       "      <td>E1</td>\n",
       "      <td>89.7</td>\n",
       "      <td>90.0</td>\n",
       "      <td>91.5</td>\n",
       "    </tr>\n",
       "    <tr>\n",
       "      <th>2</th>\n",
       "      <td>E2</td>\n",
       "      <td>89.8</td>\n",
       "      <td>90.1</td>\n",
       "      <td>90.7</td>\n",
       "    </tr>\n",
       "    <tr>\n",
       "      <th>3</th>\n",
       "      <td>E3</td>\n",
       "      <td>88.9</td>\n",
       "      <td>88.8</td>\n",
       "      <td>90.3</td>\n",
       "    </tr>\n",
       "    <tr>\n",
       "      <th>4</th>\n",
       "      <td>E4</td>\n",
       "      <td>88.6</td>\n",
       "      <td>88.9</td>\n",
       "      <td>90.4</td>\n",
       "    </tr>\n",
       "    <tr>\n",
       "      <th>5</th>\n",
       "      <td>E5</td>\n",
       "      <td>89.5</td>\n",
       "      <td>89.9</td>\n",
       "      <td>90.2</td>\n",
       "    </tr>\n",
       "    <tr>\n",
       "      <th>6</th>\n",
       "      <td>E6</td>\n",
       "      <td>89.6</td>\n",
       "      <td>90.0</td>\n",
       "      <td>90.3</td>\n",
       "    </tr>\n",
       "    <tr>\n",
       "      <th>7</th>\n",
       "      <td>E7</td>\n",
       "      <td>89.3</td>\n",
       "      <td>89.0</td>\n",
       "      <td>90.2</td>\n",
       "    </tr>\n",
       "    <tr>\n",
       "      <th>8</th>\n",
       "      <td>E8</td>\n",
       "      <td>89.4</td>\n",
       "      <td>89.2</td>\n",
       "      <td>90.3</td>\n",
       "    </tr>\n",
       "  </tbody>\n",
       "</table>\n",
       "</div>"
      ],
      "text/plain": [
       "    Experiment        A        B        C\n",
       "1  E1           89.7     90.0     91.5   \n",
       "2  E2           89.8     90.1     90.7   \n",
       "3  E3           88.9     88.8     90.3   \n",
       "4  E4           88.6     88.9     90.4   \n",
       "5  E5           89.5     89.9     90.2   \n",
       "6  E6           89.6     90.0     90.3   \n",
       "7  E7           89.3     89.0     90.2   \n",
       "8  E8           89.4     89.2     90.3   "
      ]
     },
     "execution_count": 29,
     "metadata": {},
     "output_type": "execute_result"
    }
   ],
   "source": [
    "import pandas as pd\n",
    "from io import StringIO\n",
    "\n",
    "data = \"\"\"\n",
    "| Experiment |    A    |    B    |    C    |\n",
    "|------------|---------|---------|---------|\n",
    "| E1         |  89.7   |  90.0   |  91.5   |\n",
    "| E2         |  89.8   |  90.1   |  90.7   |\n",
    "| E3         |  88.9   |  88.8   |  90.3   |\n",
    "| E4         |  88.6   |  88.9   |  90.4   |\n",
    "| E5         |  89.5   |  89.9   |  90.2   |\n",
    "| E6         |  89.6   |  90.0   |  90.3   |\n",
    "| E7         |  89.3   |  89.0   |  90.2   |\n",
    "| E8         |  89.4   |  89.2   |  90.3   |\n",
    "\n",
    "\"\"\"\n",
    "\n",
    "df = pd.read_csv(StringIO(data), sep=\"|\", skipinitialspace=True, usecols=['Experiment ', 'A    ', 'B    ', 'C    '])[1:]\n",
    "df.columns = ['Experiment', 'A', 'B', 'C']\n",
    "df"
   ]
  },
  {
   "cell_type": "code",
   "execution_count": 30,
   "id": "a82568b0",
   "metadata": {},
   "outputs": [
    {
     "name": "stdout",
     "output_type": "stream",
     "text": [
      "p value:0.3673\n",
      "Fail to reject null hypothesis => The data is normally distributed\n",
      "p value:0.0515\n",
      "Fail to reject null hypothesis => The data is normally distributed\n",
      "p value:0.0016\n",
      "Reject null hypothesis => The data is not normally distributed\n"
     ]
    }
   ],
   "source": [
    "method_A = df[\"A\"].astype(\"float\")\n",
    "method_B = df[\"B\"].astype(\"float\")\n",
    "method_C = df[\"C\"].astype(\"float\")\n",
    "\n",
    "\n",
    "# check normality\n",
    "normality_check(method_A)\n",
    "normality_check(method_B)\n",
    "normality_check(method_C)\n"
   ]
  },
  {
   "cell_type": "code",
   "execution_count": 26,
   "id": "fe5db0b1",
   "metadata": {},
   "outputs": [
    {
     "name": "stdout",
     "output_type": "stream",
     "text": [
      "p-value : 0.1775\n",
      "Fail to reject the null hypothesis => The variances of the samples are the same\n"
     ]
    }
   ],
   "source": [
    "# Homoscedasticity check\n",
    "stat, p_value_levene = stats.levene(method_A, method_B, method_C)\n",
    "print(\"p-value : %.4f\"%p_value_levene)\n",
    "if p_value_levene<0.05 :\n",
    "    print(\"Reject the null hypothesis => The variances of the sampkes are different\")\n",
    "else:\n",
    "    print(\"Fail to reject the null hypothesis => The variances of the samples are the same\")"
   ]
  },
  {
   "cell_type": "markdown",
   "id": "f8f2e538",
   "metadata": {},
   "source": [
    "#### <u>3. Selecting the proper test</u>\n",
    "\n",
    "There are three groups, but the normality assumption is violated. Therefore, we should use the non-parametric version of ANOVA for paired data, as the accuracy scores are obtained from the same test sets, which is **Friedman $\\chi ^2$ test.** For that, we use `scipy.stats`'s `friedmanchisquare` function."
   ]
  },
  {
   "cell_type": "code",
   "execution_count": 31,
   "id": "9fea1323",
   "metadata": {},
   "outputs": [
    {
     "name": "stdout",
     "output_type": "stream",
     "text": [
      "p-value : 0.0022\n",
      "Reject the null hypothesis\n",
      "89.35 \n",
      " 89.49 \n",
      " 90.49\n"
     ]
    }
   ],
   "source": [
    "test_stat, p_value = stats.friedmanchisquare(method_A, method_B, method_C)\n",
    "print(\"p-value : %.4f\"%p_value)\n",
    "\n",
    "if p_value < 0.05:\n",
    "    print(\"Reject the null hypothesis\")\n",
    "else :\n",
    "    print(\"Fail to reject the null hypothesis\")\n",
    "    \n",
    "print(np.round(np.mean(method_A), 2),\"\\n\", np.round(np.mean(method_B), 2),\"\\n\", np.round(np.mean(method_C), 2))"
   ]
  },
  {
   "cell_type": "markdown",
   "id": "3b8b5e31",
   "metadata": {},
   "source": [
    "#### <u>4. Decision and Conclusion</u>\n",
    "\n",
    "At this significance level, it is evident that at least one of the methods exhibits a different performance.\n",
    "\n",
    "**Note :** Due to the non-normality of the data, the **non-parametric version of the posthoc test** is employed. For that we use `scikit_posthocs`'s `posthoc_wilcoxon` function."
   ]
  },
  {
   "cell_type": "code",
   "execution_count": 32,
   "id": "3df1a61e",
   "metadata": {},
   "outputs": [
    {
     "data": {
      "text/html": [
       "<style type=\"text/css\">\n",
       "#T_c6efb_row0_col0, #T_c6efb_row0_col1, #T_c6efb_row1_col0, #T_c6efb_row1_col1, #T_c6efb_row2_col2 {\n",
       "  background-color: white;\n",
       "}\n",
       "#T_c6efb_row0_col2, #T_c6efb_row1_col2, #T_c6efb_row2_col0, #T_c6efb_row2_col1 {\n",
       "  background-color: red;\n",
       "}\n",
       "</style>\n",
       "<table id=\"T_c6efb\">\n",
       "  <thead>\n",
       "    <tr>\n",
       "      <th class=\"blank level0\" >&nbsp;</th>\n",
       "      <th id=\"T_c6efb_level0_col0\" class=\"col_heading level0 col0\" >Method A</th>\n",
       "      <th id=\"T_c6efb_level0_col1\" class=\"col_heading level0 col1\" >Method B</th>\n",
       "      <th id=\"T_c6efb_level0_col2\" class=\"col_heading level0 col2\" >Method C</th>\n",
       "    </tr>\n",
       "  </thead>\n",
       "  <tbody>\n",
       "    <tr>\n",
       "      <th id=\"T_c6efb_level0_row0\" class=\"row_heading level0 row0\" >Method A</th>\n",
       "      <td id=\"T_c6efb_row0_col0\" class=\"data row0 col0\" >1.000000</td>\n",
       "      <td id=\"T_c6efb_row0_col1\" class=\"data row0 col1\" >0.148438</td>\n",
       "      <td id=\"T_c6efb_row0_col2\" class=\"data row0 col2\" >0.023438</td>\n",
       "    </tr>\n",
       "    <tr>\n",
       "      <th id=\"T_c6efb_level0_row1\" class=\"row_heading level0 row1\" >Method B</th>\n",
       "      <td id=\"T_c6efb_row1_col0\" class=\"data row1 col0\" >0.148438</td>\n",
       "      <td id=\"T_c6efb_row1_col1\" class=\"data row1 col1\" >1.000000</td>\n",
       "      <td id=\"T_c6efb_row1_col2\" class=\"data row1 col2\" >0.023438</td>\n",
       "    </tr>\n",
       "    <tr>\n",
       "      <th id=\"T_c6efb_level0_row2\" class=\"row_heading level0 row2\" >Method C</th>\n",
       "      <td id=\"T_c6efb_row2_col0\" class=\"data row2 col0\" >0.023438</td>\n",
       "      <td id=\"T_c6efb_row2_col1\" class=\"data row2 col1\" >0.023438</td>\n",
       "      <td id=\"T_c6efb_row2_col2\" class=\"data row2 col2\" >1.000000</td>\n",
       "    </tr>\n",
       "  </tbody>\n",
       "</table>\n"
      ],
      "text/plain": [
       "<pandas.io.formats.style.Styler at 0x2cbea3fa410>"
      ]
     },
     "execution_count": 32,
     "metadata": {},
     "output_type": "execute_result"
    }
   ],
   "source": [
    "import scikit_posthocs as sp\n",
    "\n",
    "data = np.array([method_A, method_B, method_C])\n",
    "df_posthoc = sp.posthoc_wilcoxon(a = data, p_adjust = \"holm\")\n",
    "#df_posthoc = sp.posthoc_nemenyi_friedman(data.T)  # another option for the posthoc test\n",
    "\n",
    "method_names = [\"Method A\", \"Method B\", \"Method C\"]\n",
    "df_posthoc.columns = method_names\n",
    "df_posthoc.index = method_names\n",
    "\n",
    "df_posthoc.style.applymap(lambda x : \"background-color:red\" if x<0.05 else \"background-color:white\")"
   ]
  },
  {
   "cell_type": "markdown",
   "id": "e8caa072",
   "metadata": {},
   "source": [
    "At this significance level, it can be concluded that the method $C$ outperformed the others, achieving higher accuracy scores than both methods $A$ and $B.$"
   ]
  },
  {
   "cell_type": "markdown",
   "id": "453a3000",
   "metadata": {},
   "source": [
    "<a id=\"4.8\"></a>\n",
    "\n",
    "# 4.8) $\\chi^2$ Test for Independence\n",
    "\n",
    "<a id=\"4.8.1\"></a>\n",
    "\n",
    "## 4.8.1) Definition\n",
    "\n",
    "* <u>**$\\chi^2$ Test for Independence**</u> **:** also called **test for homogeneity,** is a statistical test used to determine whether there is a significant association between **two categorical variables.** It assesses whether the observed frequencies of the categories differ from the expected frequencies under the assumption of independence between the variables.\n",
    "\n",
    "* **Observed Frequencies (O) :** These are the actual counts observed in each category of the contingency table.\n",
    "\n",
    "* **Expected Frequencies (E) :** These are the counts that would be expected if there were no association between the variables, calculated under the assumption of independence.\n",
    "\n",
    "* **Contingency Table :** also known as a **cross-tabulation** or **crosstab,** is a tabular method in statistics used to summarize and display the relationships between categorical variables. It organizes data into rows and columns where each cell represents the frequency count of a combination of categories from the variables being studied. Contingency tables are especially useful for analyzing and visualizing the association or independence between variables in categorical data analysis.\n",
    "\n",
    "\n",
    "#### Assumptions\n",
    "\n",
    "Chi-Square Test for Independence does have certain assumptions that need to be satisfied for the test to be valid. Here are the key assumptions:\n",
    "\n",
    "1. **Random Sampling :** The data should be collected through a random sampling method. Each observation should be independent of the others.\n",
    "\n",
    "2. **Categorical Data :** The variables being tested should be categorical. This means that the data should be in the form of frequencies or counts for each category.\n",
    "\n",
    "3. **Large Sample Size :** The sample size should be sufficiently large. Specifically, the expected frequency in each cell of the contingency table should be at least 5 for the test to be reliable. If the expected frequencies are too small, the Chi-Square test may not be appropriate, and an alternative test, such as Fisher's Exact Test, should be considered.\n",
    "\n",
    "4. **Independence of Observations :** The observations should be independent. This means that the occurrence of one observation should not influence the occurrence of another. Each subject or item should contribute to only one cell in the contingency table.\n",
    "\n",
    "**NOTE :** Sufficiently Large Expected Frequencies: Generally, the rule of thumb is that all expected cell frequencies should be 5 or more. If more than 20% of expected frequencies are less than 5, the results of the test may not be reliable.\n",
    "\n",
    "#### Hypotheses\n",
    "\n",
    "- **Null Hypothesis $(H_0)$ :**: There is no association between the two categorical variables (they are independent).\n",
    "- **Alternative Hypothesis $(H_0)$ :** There is an association between the two categorical variables (they are dependent).\n",
    "\n",
    "#### Test Statistic\n",
    "\n",
    "The test statistic for the $\\chi^2$ Test for Independence is calculated based on the differences between observed and expected frequencies in each cell of the contingency table. It follows a $\\chi^2$ distribution :\n",
    "\n",
    "$$\\chi^2 = \\sum \\frac{(O_i - E_i)^2}{E_i}$$\n",
    "\n",
    "where $O_i$ is the observed frequency for the $i$-th cell, and $E_i$ is the expected frequency for the $i$-th cell.\n",
    "\n",
    "The expected frequency for each cell $(i,j)$ is calculated using :\n",
    "\n",
    "$$E_ij = \\frac{R_i C_j}{T}$$\n",
    "\n",
    "where $R_i$ is the total of row $i$, $C_j$ is the total of column $j$, and $T$ the total count in the 2x2 table.\n",
    "\n",
    "#### Degrees of Freedom\n",
    "\n",
    "The degrees of freedom for the test are calculated as :\n",
    "\n",
    "$$df=(r−1)(c−1)$$\n",
    "\n",
    "where $r$ is the number of rows and $c$ is the number of columns in the contingency table.\n"
   ]
  },
  {
   "cell_type": "markdown",
   "id": "af5ba88a",
   "metadata": {},
   "source": [
    "<a id=\"4.8.2\"></a>\n",
    "\n",
    "## 4.8.2) Example of $\\chi^2$ Test for Independence\n",
    "\n",
    "![](risk.jpg) \n",
    "\n",
    "\n",
    "An analyst at a financial investment company is interested in examining the relationship between gender and risk appetite.\n",
    "\n",
    "**Risk appetite :** is the amount of risk an organization or investor (like in this example) is willing to take in pursuit of objectives it deems have value.\n",
    "\n",
    "A random sample of 660 customers was taken from the database. These customers were categorized based on their gender and risk appetite. The results are presented in the table below.\n",
    "\n",
    "| Gender/Risk Appetite |    very Low    |    Low    |    Medium    |High|Very High|Total|\n",
    "|----------------------|---------|---------|---------|----|-----|-----------------------|\n",
    "| **Female**        |  53   |  23  |  30   |     36   |88   |230  |\n",
    "| **Male**        |  71   |  48  |  51   |57|203|430|\n",
    "| **Total**        |  124   |  71  |  81   |93|291|660|\n",
    "\n",
    "We want to test the hypothesis that the risk appetite of the customers in this company is independent of their gender. We use $\\alpha = 0.01.$\n",
    "\n",
    "#### <u>1. Defining Hypotheses</u>\n",
    "\n",
    "* Null Hypothesis $H_0$ : \"Gender and risk appetite are independent\" \n",
    "\n",
    "* Alternative Hypothesis $H_1$ : \"Gender and risk appetite are dependent\"\n",
    "\n",
    "\n",
    "\n",
    "#### <u>2. Assumption Check and Selecting the proper test</u>\n",
    "\n",
    "The chi-squared test should be used for this question. This test is known as the Chi-squared test for independence. The assumption for this test, which requires that each expected frequency be at least 5 $(E_i\\geq 5)$ in at least 80% of the cells, is satisfied. For that, we use `scipy.stats`'s `chi2_contingency`."
   ]
  },
  {
   "cell_type": "code",
   "execution_count": 29,
   "id": "26dce7ef",
   "metadata": {},
   "outputs": [
    {
     "name": "stdout",
     "output_type": "stream",
     "text": [
      "Expected frequencies :\n",
      " [[ 43.21  24.74  28.23  32.41 101.41]\n",
      " [ 80.79  46.26  52.77  60.59 189.59]]\n",
      "Degrees of freedom : 4\n",
      "Test statistic : 7.0942\n",
      "p-value : 0.1310\n"
     ]
    }
   ],
   "source": [
    "from scipy.stats import chi2_contingency\n",
    "\n",
    "obs = np.array([[53,23,30,36,88], [71,48,51,57,203]])\n",
    "chi2, p_value, degrees_of_freedom, expected_freq = chi2_contingency(obs, correction = False)\n",
    "\n",
    "print(\"Expected frequencies :\\n\", np.round(expected_freq, 2))\n",
    "print(\"Degrees of freedom :\", degrees_of_freedom)\n",
    "print(\"Test statistic : %.4f\"%chi2)\n",
    "print(\"p-value : %.4f\"%p_value)"
   ]
  },
  {
   "cell_type": "markdown",
   "id": "cd25a7ec",
   "metadata": {},
   "source": [
    "Let's calculate the **critical statistic**"
   ]
  },
  {
   "cell_type": "code",
   "execution_count": 30,
   "id": "05fe0642",
   "metadata": {},
   "outputs": [
    {
     "name": "stdout",
     "output_type": "stream",
     "text": [
      "Critical statistic : 13.2767\n"
     ]
    }
   ],
   "source": [
    "from scipy.stats import chi2\n",
    "\n",
    "# 2 rows and 5 columns\n",
    "alpha = 0.01\n",
    "dof = (2-1)*(5-1)\n",
    "critical_stat = chi2.ppf((1-alpha), dof)\n",
    "print(\"Critical statistic : %.4f\"%critical_stat)"
   ]
  },
  {
   "cell_type": "markdown",
   "id": "9dddf62a",
   "metadata": {},
   "source": [
    "#### <u>3. Decision and Conclusion</u>\n",
    "\n",
    "Since the p-value is larger than $\\alpha=0.01$ (or the calculated statistic of 7.09 is smaller than the critical statistic of 13.28), we fail to reject the null hypothesis $H_0$. At this significance level, it can be concluded that gender and risk appetite are independent."
   ]
  },
  {
   "cell_type": "markdown",
   "id": "3f84bb0a",
   "metadata": {},
   "source": [
    "<a id=\"4.9\"></a>\n",
    "\n",
    "# 4.9) $\\chi^2$ Goodness of Fit Test\n",
    "\n",
    "<a id=\"4.9.1\"></a>\n",
    "\n",
    "## 4.9.1) Definition\n",
    "\n",
    "* <u>**$\\chi^2$ Goodness of Fit Test**</u> **:** This test is used to determine if a sample data matches a population with a specific distribution. It assesses whether the observed frequencies of categories differ from the expected frequencies under the specified theoretical distribution.\n",
    "\n",
    "* **Observed Frequencies (O) :** These are the actual counts observed in each category of the sample data.\n",
    "\n",
    "* **Expected Frequencies (E) :** These are the counts that would be expected under the specified theoretical distribution.\n",
    "\n",
    "#### Assumptions\n",
    "\n",
    "The Chi-Square Goodness of Fit Test has certain assumptions that need to be satisfied for the test to be valid. Here are the key assumptions:\n",
    "\n",
    "1. **Random Sampling :** The data should be collected through a random sampling method. Each observation should be independent of the others.\n",
    "\n",
    "2. **Categorical Data :** The variable being tested should be categorical. This means that the data should be in the form of frequencies or counts for each category.\n",
    "\n",
    "3. **Large Sample Size :** The sample size should be sufficiently large. Specifically, the expected frequency in each category should be at least 5 for the test to be reliable. If the expected frequencies are too small, the Chi-Square test may not be appropriate, and an alternative test should be considered.\n",
    "\n",
    "#### Hypotheses\n",
    "\n",
    "- **Null Hypothesis $(H_0)$ :** The sample data fits the specified theoretical distribution.\n",
    "- **Alternative Hypothesis $(H_1)$ :** The sample data does not fit the specified theoretical distribution.\n",
    "\n",
    "#### Test Statistic\n",
    "\n",
    "The test statistic for the $\\chi^2$ Goodness of Fit Test is calculated based on the differences between observed and expected frequencies in each category. It follows a $\\chi^2$ distribution :\n",
    "\n",
    "$$\\chi^2 = \\sum \\frac{(O_i - E_i)^2}{E_i}$$\n",
    "\n",
    "where $O_i$ is the observed frequency for the $i$-th category, and $E_i$ is the expected frequency for the $i$-th category.\n",
    "\n",
    "#### Degrees of Freedom\n",
    "\n",
    "The degrees of freedom for the test are calculated as :\n",
    "\n",
    "$$df = k - 1$$\n",
    "\n",
    "where $k$ is the number of categories.\n",
    "\n",
    "<a id=\"4.9.2\"></a>\n",
    "\n",
    "## 4.9.2) Example of $\\chi^2$ Goodness of Fit Test\n",
    "\n",
    "![](colors.jpg)\n",
    "\n",
    "An analyst wants to test if the colors of candies in a bag follow a specified distribution. The expected distribution is:\n",
    "\n",
    "- Red: 30%\n",
    "- Blue: 20%\n",
    "- Green: 20%\n",
    "- Yellow: 15%\n",
    "- Orange: 15%\n",
    "\n",
    "A random sample of 100 candies from the bag is taken, and the observed frequencies are recorded as follows:\n",
    "\n",
    "- Red: 35\n",
    "- Blue: 15\n",
    "- Green: 20\n",
    "- Yellow: 10\n",
    "- Orange: 20\n",
    "\n",
    "We want to test the hypothesis that the colors of candies in the bag follow the specified distribution. We use $\\alpha = 0.05.$\n",
    "\n",
    "#### <u>1. Defining Hypotheses</u>\n",
    "\n",
    "* Null Hypothesis $H_0$ : \"The colors of candies follow the specified distribution\" \n",
    "\n",
    "* Alternative Hypothesis $H_1$ : \"The colors of candies do not follow the specified distribution\"\n",
    "\n",
    "#### <u>2. Assumption Check and Selecting the proper test</u>\n",
    "\n",
    "The chi-squared goodness of fit test should be used for this question. The assumption for this test, which requires that each expected frequency be at least 5 $(E_i\\geq 5)$, is satisfied. For that, we use `scipy.stats`'s `chisquare`.\n"
   ]
  },
  {
   "cell_type": "code",
   "execution_count": 1,
   "id": "47878bdd",
   "metadata": {},
   "outputs": [
    {
     "name": "stdout",
     "output_type": "stream",
     "text": [
      "Test statistic : 5.4167\n",
      "p-value : 0.2472\n"
     ]
    }
   ],
   "source": [
    "from scipy.stats import chisquare\n",
    "\n",
    "# Observed frequencies\n",
    "observed = [35, 15, 20, 10, 20]\n",
    "\n",
    "# Expected frequencies based on the specified distribution\n",
    "expected = [30, 20, 20, 15, 15]\n",
    "\n",
    "chi2_stat, p_value = chisquare(f_obs=observed, f_exp=expected)\n",
    "\n",
    "print(\"Test statistic : %.4f\" % chi2_stat)\n",
    "print(\"p-value : %.4f\" % p_value)\n"
   ]
  },
  {
   "cell_type": "markdown",
   "id": "4445adc2",
   "metadata": {},
   "source": [
    "#### <u>3. Decision and Conclusion</u>\n",
    "\n",
    "Since the p-value is larger than $\\alpha=0.05$, we fail to reject the null hypothesis $H_0$. At this significance level, it can be concluded that the colors of candies in the bag follow the specified distribution."
   ]
  },
  {
   "cell_type": "markdown",
   "id": "48604029",
   "metadata": {},
   "source": [
    "<a id=\"4.10\"></a>\n",
    "\n",
    "## 4.10) Pearson Correlation\n",
    "\n",
    "<a id=\"4.10.1\"></a>\n",
    "### 4.10.1) Definition\n",
    "\n",
    "* <u>**Pearson Correlation Coefficient**</u> **:** is a measure of the strength and direction of the linear relationship between **two continuous variables.** It is denoted by $r$ and ranges from -1 to 1.\n",
    "\n",
    "#### Interpretation\n",
    "\n",
    "- $r = 1$ : Perfect positive linear relationship\n",
    "- $r = -1$ : Perfect negative linear relationship\n",
    "- $r = 0$ : No linear relationship\n",
    "- $0 < r < 1$ : Positive linear relationship\n",
    "- $-1 < r < 0$ : Negative linear relationship\n",
    "\n",
    "#### Assumptions\n",
    "\n",
    "1. **Linearity :** The relationship between the two variables should be linear.\n",
    "2. **Normality :** The variables should be approximately normally distributed.\n",
    "3. **Homoscedasticity :** The variance of the errors should be constant across all levels of the independent variable.\n",
    "4. **Independence :** The observations should be independent of each other.\n",
    "\n",
    "#### Hypotheses\n",
    "\n",
    "- **Null Hypothesis $(H_0)$ :** There is no linear relationship between the two variables ($\\rho = 0$).\n",
    "- **Alternative Hypothesis $(H_1)$ :** There is a linear relationship between the two variables ($\\rho \\neq 0$).\n",
    "\n",
    "**NOTE :** $r$ is the sample correlation coefficient, which measures the strength and direction of the linear relationship between two variables in a **sample.** Meanwhile $\\rho$ (the Greek letter rho) is the population correlation coefficient, which measures the strength and direction of the linear relationship between two variables in the **entire population.**\n",
    "\n",
    "#### Test Statistic\n",
    "\n",
    "The test statistic for the Pearson correlation is calculated as:\n",
    "\n",
    "$$\n",
    "r = \\frac{{n \\sum xy - (\\sum x)(\\sum y)}}{{\\sqrt{[n \\sum x^2 - (\\sum x)^2][n \\sum y^2 - (\\sum y)^2]}}}\n",
    "$$\n",
    "\n",
    "where $n$ is the number of pairs, $x$ and $y$ are the variables.\n",
    "\n",
    "#### p-Value\n",
    "\n",
    "To test the significance of the Pearson correlation, the t-distribution is used:\n",
    "\n",
    "$$\n",
    "t = \\frac{r \\sqrt{n-2}}{\\sqrt{1-r^2}}\n",
    "$$\n",
    "\n",
    "The degrees of freedom (df) are calculated as:\n",
    "\n",
    "$$\n",
    "df = n - 2\n",
    "$$\n",
    "\n",
    "<a id=\"4.10.2\"></a>\n",
    "### Example of Pearson Correlation\n",
    "\n",
    "![](studies.jpg)\n",
    "\n",
    "Suppose a researcher wants to investigate the relationship between the number of hours studied and the scores obtained in an exam by a group of students. The data collected is as follows:\n",
    "\n",
    "| Hours Studied | Exam Score |\n",
    "|---------------|------------|\n",
    "|       1       |     50     |\n",
    "|       2       |     55     |\n",
    "|       3       |     60     |\n",
    "|       4       |     65     |\n",
    "|       5       |     70     |\n",
    "|       6       |     75     |\n",
    "|       7       |     80     |\n",
    "|       8       |     85     |\n",
    "|       9       |     90     |\n",
    "|      10       |     95     |\n",
    "\n",
    "Based on this information, let's conduct a hypothesis test to determine whether there is a significant linear relationship between the number of hours studied and the exam scores.\n",
    "\n",
    "#### <u>1. Defining Hypotheses</u>\n",
    "\n",
    "* Null Hypothesis $H_0$ : \"There is no linear relationship between the number of hours studied and the exam scores\" \n",
    "\n",
    "$$H_0 : \\rho = 0$$\n",
    "\n",
    "* Alternative Hypothesis $H_1$ : \"There is a linear relationship between the number of hours studied and the exam scores\"\n",
    "\n",
    "$$H_1 : \\rho \\neq 0$$\n",
    "\n",
    "#### <u>2. Assumption Check</u>\n",
    "\n",
    "* **Linearity :**\n",
    "\n",
    "$H_0 :$ \"The relationship between the variables is linear\"\n",
    "\n",
    "$H_1 :$ \"The relationship between the variables is **NOT** linear\"\n",
    "\n",
    "* **Normality :**\n",
    "\n",
    "$H_0 :$ \"The data is normally distributed\"\n",
    "\n",
    "$H_1 :$ \"The data is **NOT** normally distributed\"\n",
    "\n",
    "* **Homoscedasticity :**\n",
    "\n",
    "$H_0 :$ \"The variance of the errors is constant across all levels of the independent variable\"\n",
    "\n",
    "$H_1 :$ \"The variance of the errors is **NOT** constant across all levels of the independent variable\"\n"
   ]
  },
  {
   "cell_type": "code",
   "execution_count": 4,
   "id": "b8e3d8ab",
   "metadata": {},
   "outputs": [
    {
     "data": {
      "image/png": "[encoded data removed]",
      "text/plain": [
       "<Figure size 640x480 with 1 Axes>"
      ]
     },
     "metadata": {},
     "output_type": "display_data"
    },
    {
     "name": "stdout",
     "output_type": "stream",
     "text": [
      "p-value for Normality : 0.8924\n",
      "Fail to reject the null hypothesis => The data is normally distributed\n",
      "p-value for Homoscedasticity : 0.0001\n",
      "Reject the null hypothesis => The variances are not constant\n"
     ]
    }
   ],
   "source": [
    "import numpy as np\n",
    "import matplotlib.pyplot as plt\n",
    "from scipy.stats import pearsonr, shapiro, bartlett\n",
    "\n",
    "# Data\n",
    "hours_studied = np.array([1, 2, 3, 4, 5, 6, 7, 8, 9, 10])\n",
    "exam_scores = np.array([50, 55, 60, 65, 70, 75, 80, 85, 90, 95])\n",
    "\n",
    "# Linearity Check\n",
    "plt.scatter(hours_studied, exam_scores)\n",
    "plt.title('Scatter plot of Hours Studied vs Exam Scores')\n",
    "plt.xlabel('Hours Studied')\n",
    "plt.ylabel('Exam Scores')\n",
    "plt.show()\n",
    "\n",
    "# Normality Check\n",
    "stat, p_value_normality = shapiro(exam_scores)\n",
    "print(\"p-value for Normality : %.4f\" % p_value_normality)\n",
    "if p_value_normality < 0.05 :\n",
    "    print(\"Reject the null hypothesis => The data is not normally distributed\")\n",
    "else :\n",
    "    print(\"Fail to reject the null hypothesis => The data is normally distributed\")\n",
    "\n",
    "# Homoscedasticity Check\n",
    "stat, p_value_homoscedasticity = bartlett(hours_studied, exam_scores)\n",
    "print(\"p-value for Homoscedasticity : %.4f\" % p_value_homoscedasticity)\n",
    "if p_value_homoscedasticity < 0.05 :\n",
    "    print(\"Reject the null hypothesis => The variances are not constant\")\n",
    "else :\n",
    "    print(\"Fail to reject the null hypothesis => The variances are constant\")"
   ]
  },
  {
   "cell_type": "markdown",
   "id": "f36b67ee",
   "metadata": {},
   "source": [
    "#### <u>3. Conducting the Pearson Correlation Test</u>\n",
    "Since the assumptions are satisfied, we can proceed with the Pearson correlation test. For that, we use `scipy.stats`'s `pearsonr`."
   ]
  },
  {
   "cell_type": "code",
   "execution_count": 5,
   "id": "0400e80a",
   "metadata": {},
   "outputs": [
    {
     "name": "stdout",
     "output_type": "stream",
     "text": [
      "Pearson correlation coefficient : 1.0000\n",
      "p-value : 0.0000\n",
      "Reject the null hypothesis\n"
     ]
    }
   ],
   "source": [
    "# Performing Pearson Correlation Test\n",
    "r, p_value = pearsonr(hours_studied, exam_scores)\n",
    "print(\"Pearson correlation coefficient : %.4f\" % r)\n",
    "print(\"p-value : %.4f\" % p_value)\n",
    "if p_value < 0.05 :\n",
    "    print(\"Reject the null hypothesis\")\n",
    "else :\n",
    "    print(\"Fail to reject the null hypothesis\")\n"
   ]
  },
  {
   "cell_type": "markdown",
   "id": "04ef5f02",
   "metadata": {},
   "source": [
    "#### <u>4. Decision and Conclusion</u>\n",
    "At this significance level (of 0.05), it can be concluded that there is a significant linear relationship between the number of hours studied and the exam scores."
   ]
  },
  {
   "cell_type": "markdown",
   "id": "bcc0db2f",
   "metadata": {},
   "source": [
    "<a id=\"4.11\"></a>\n",
    "\n",
    "## 4.11) Spearman Correlation\n",
    "\n",
    "<a id=\"4.11.1\"></a>\n",
    "### 4.11.1) Definition\n",
    "\n",
    "* <u>**Spearman's Rank Correlation Coefficient**</u> **:** is a non-parametric measure of the strength and direction of the association between two ranked variables. It assesses how well the relationship between two variables can be described using a monotonic function. Spearman's correlation coefficient is denoted by $\\rho$ (rho) or $r_s$. Here's a step-by-step explanation:\n",
    "\n",
    "1. **Combine the Samples :** First, combine all the observations from both variables into a single sample.\n",
    "\n",
    "2. **Rank the Observations :** Assign ranks to the combined sample. The smallest observation gets rank 1, the next smallest gets rank 2, and so on. If there are tied values (observations with the same value), each tied value is assigned the average of the ranks they would have received if they were not tied.\n",
    "\n",
    "3. **Calculate the Differences :** For each pair of observations, calculate the difference between their ranks.\n",
    "\n",
    "4. **Square the Differences :** Square each of the rank differences.\n",
    "\n",
    "5. **Sum of Squared Differences :** Calculate the sum of the squared rank differences, denoted as $ d_i^2 $.\n",
    "\n",
    "6. **Spearman's Rank Correlation Coefficient Formula :** Use the formula to calculate the Spearman's rank correlation coefficient $ r_s $:\n",
    "\n",
    "$$\n",
    "r_s = 1 - \\frac{{6 \\sum d_i^2}}{{n(n^2 - 1)}}\n",
    "$$\n",
    "\n",
    "where $d_i$ is the difference between ranks for each pair of observations, and $n$ is the number of observations.\n",
    "\n",
    "7. **Interpret the Result :** The value of $ r_s$ will range between -1 and 1. An $ r_s $ close to 1 indicates a strong positive monotonic relationship, while an $r_s$ close to -1 indicates a strong negative monotonic relationship. An $ r_s $ close to 0 suggests no monotonic relationship.\n",
    "\n",
    "Spearman correlation is the non-parametric counterpart to the Pearson correlation and is used when the assumptions of Pearson correlation are not met, such as non-normality or ordinal data.\n",
    "\n",
    "#### Interpretation\n",
    "\n",
    "- $r_s = 1$ : Perfect positive monotonic relationship\n",
    "- $ r_s = -1 $ : Perfect negative monotonic relationship\n",
    "- $ r_s = 0 $ : No monotonic relationship\n",
    "- $ 0 < r_s < 1 $ : Positive monotonic relationship\n",
    "- $ -1 < r_s < 0 $ : Negative monotonic relationship\n",
    "\n",
    "#### Assumptions\n",
    "\n",
    "1. **Monotonicity :** The relationship between the two variables should be monotonic (either consistently increasing or consistently decreasing).\n",
    "2. **Ordinal, Interval, or Ratio Data :** The data can be ordinal, interval, or ratio, but the relationship must be monotonic.\n",
    "\n",
    "#### Hypotheses\n",
    "\n",
    "- **Null Hypothesis $(H_0)$ :** There is no monotonic relationship between the two variables ($\\rho = 0$).\n",
    "- **Alternative Hypothesis $(H_1)$ :** There is a monotonic relationship between the two variables ($ \\rho \\neq 0 $).\n",
    "\n",
    "#### Test Statistic\n",
    "\n",
    "The test statistic for Spearman correlation is calculated as:\n",
    "\n",
    "$$\n",
    "\\rho = 1 - \\frac{{6 \\sum d_i^2}}{{n(n^2 - 1)}}\n",
    "$$\n",
    "\n",
    "where $d_i $ is the difference between the ranks of corresponding values and $ n$ is the number of pairs.\n",
    "\n",
    "#### p-Value\n",
    "\n",
    "To test the significance of the Spearman correlation, the t-distribution is used:\n",
    "\n",
    "$$\n",
    "t = \\frac{r_s \\sqrt{n-2}}{\\sqrt{1-r_s^2}}\n",
    "$$\n",
    "\n",
    "The degrees of freedom (df) are calculated as:\n",
    "\n",
    "$$\n",
    "df = n - 2\n",
    "$$\n",
    "\n",
    "<a id=\"4.11.2\"></a>\n",
    "### 4.11.2) Example of Spearman Correlation\n",
    "\n",
    "![](customer.jpg)\n",
    "\n",
    "Suppose a researcher wants to examine the relationship between the ranks of customer satisfaction and the ranks of customer loyalty in a study of various companies. The following ranks are collected:\n",
    "\n",
    "| Company | Satisfaction Rank | Loyalty Rank |\n",
    "|---------|-------------------|--------------|\n",
    "| A       | 8                 | 7            |\n",
    "| B       | 6                 | 5            |\n",
    "| C       | 3                 | 2            |\n",
    "| D       | 9                 | 8            |\n",
    "| E       | 5                 | 4            |\n",
    "| F       | 7                 | 6            |\n",
    "| G       | 2                 | 1            |\n",
    "| H       | 4                 | 3            |\n",
    "| I       | 10                | 9            |\n",
    "| J       | 1                 | 10           |\n",
    "\n",
    "#### <u>1. Defining Hypotheses</u>\n",
    "\n",
    "* Null Hypothesis $ H_0 $ : \"There is no monotonic relationship between customer satisfaction ranks and customer loyalty ranks\"\n",
    "\n",
    "$$H_0 : \\rho = 0$$\n",
    "\n",
    "* Alternative Hypothesis $ H_1 $ : \"There is a monotonic relationship between customer satisfaction ranks and customer loyalty ranks\"\n",
    "\n",
    "$$H_1 : \\rho \\neq 0$$\n",
    "\n",
    "#### <u>2. Assumption Check</u>\n",
    "\n",
    "* **Monotonicity :**\n",
    "\n",
    "  $H_0 :$ \"The relationship between customer satisfaction and customer loyalty ranks is monotonic\"\n",
    "\n",
    "  $H_1 :$ \"The relationship between customer satisfaction and customer loyalty ranks is **NOT** monotonic\"\n",
    "\n",
    "#### <u>3. Python Implementation</u>\n",
    "\n",
    "Let's calculate the Spearman correlation coefficient using Python:\n",
    "\n",
    "\n"
   ]
  },
  {
   "cell_type": "code",
   "execution_count": 8,
   "id": "6ec8b048",
   "metadata": {},
   "outputs": [
    {
     "name": "stdout",
     "output_type": "stream",
     "text": [
      "Spearman correlation coefficient: 0.4545\n",
      "P-value: 0.1869\n",
      "Fail to reject the null hypothesis\n"
     ]
    }
   ],
   "source": [
    "import numpy as np\n",
    "from scipy.stats import spearmanr\n",
    "\n",
    "# Data\n",
    "satisfaction_ranks = np.array([8, 6, 3, 9, 5, 7, 2, 4, 10, 1])\n",
    "loyalty_ranks = np.array([7, 5, 2, 8, 4, 6, 1, 3, 9, 10])\n",
    "\n",
    "# Calculate Spearman correlation\n",
    "rho, p_value = spearmanr(satisfaction_ranks, loyalty_ranks)\n",
    "\n",
    "print(f\"Spearman correlation coefficient: {rho:.4f}\")\n",
    "print(f\"P-value: {p_value:.4f}\")\n",
    "\n",
    "if p_value < 0.05:\n",
    "    print(\"Reject the null hypothesis\")\n",
    "else:\n",
    "    print(\"Fail to reject the null hypothesis\")"
   ]
  },
  {
   "cell_type": "markdown",
   "id": "63ddddd4",
   "metadata": {},
   "source": [
    "#### <u>4. Decision and Conclusion</u>\n",
    "Based on the calculated Spearman correlation coefficient and p-value:\n",
    "\n",
    "Spearman correlation coefficient: 0.4424\n",
    "\n",
    "P-value: 0.1869\n",
    "\n",
    "At a significance level of 0.05, with a Spearman correlation coefficient of 0.4424, we fail to reject the null hypothesis ($H_0: \\rho = 0$). Therefore, there is insufficient evidence to conclude a significant monotonic relationship between the ranks of customer satisfaction and customer loyalty in this study."
   ]
  },
  {
   "cell_type": "markdown",
   "id": "64f01196",
   "metadata": {},
   "source": [
    "# Change Log\n",
    "\n",
    "| Date (YYYY-MM-DD) | Version | Changed By      | Change Description      |\n",
    "| ----------------- | ------- | -------------   | ----------------------- |\n",
    "| 2024-02-16       | 1.0     | Younes Dahami   |  initial version |\n",
    "| 2024-05-20       | 1.1     | Younes Dahami   |  details   |\n",
    "| 2024-07-1       | 1.2     | Younes Dahami   |  some definitions additions   |"
   ]
  },
  {
   "cell_type": "code",
   "execution_count": null,
   "id": "41d76678",
   "metadata": {},
   "outputs": [],
   "source": []
  }
 ],
 "metadata": {
  "kernelspec": {
   "display_name": "Python 3 (ipykernel)",
   "language": "python",
   "name": "python3"
  },
  "language_info": {
   "codemirror_mode": {
    "name": "ipython",
    "version": 3
   },
   "file_extension": ".py",
   "mimetype": "text/x-python",
   "name": "python",
   "nbconvert_exporter": "python",
   "pygments_lexer": "ipython3",
   "version": "3.10.10"
  }
 },
 "nbformat": 4,
 "nbformat_minor": 5
}
