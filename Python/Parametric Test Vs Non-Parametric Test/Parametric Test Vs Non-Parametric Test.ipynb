{
 "cells": [
  {
   "cell_type": "markdown",
   "id": "6b92d3d4",
   "metadata": {},
   "source": [
    "<h1 style=\"text-align:center;\">Parametric Test Vs Non-Parametric Test</h1>\n"
   ]
  },
  {
   "cell_type": "markdown",
   "id": "f0763758",
   "metadata": {},
   "source": [
    "<u>**Author</u> :** [Younes Dahami](https://www.linkedin.com/in/dahami/)"
   ]
  },
  {
   "cell_type": "markdown",
   "id": "7580b825",
   "metadata": {},
   "source": [
    "# Introduction\n",
    "\n",
    "You want to calculate a hypothesis test, but you don't know exactly what's the difference is between **parametric** and **non-parametric** tests, and you're wondering when to use each test.\n",
    "\n",
    "If you want to calculate a hypothesis test, you must first check the assumptions. One of the most common assumptions is the data used must show a **certain distribution**, usually the normal distribution.\n",
    "\n",
    "To simply put it :\n",
    "\n",
    "* If your data is **normally distributed**, use the **parametric tests** e.g. : t-test, ANOVA or Pearson Correlation.\n",
    "\n",
    "* If your data is **not normally distributed**, use the **non-parametric tests** e.g. : Mann-WhitneyU test or a Spearman Correlation.\n",
    "\n",
    "Of coursen you still have to check if there are further assumptions for the respective test. But in general, there are less assumptions for non-parametric tests than for parametric tests.\n",
    "\n",
    "Parametric tests are generally mor powerful than non-parametric tests."
   ]
  },
  {
   "cell_type": "markdown",
   "id": "c863acb2",
   "metadata": {},
   "source": [
    "## 1) Parametric Tests\n",
    "\n",
    "**<u>Parametric tests</u>** **:** are statistical tests that make assumptions about the parameters of the population distribution from which the samples are drawn. Specifically, they assume that the data follows a certain distribution (usually a normal distribution) and often involve estimating parameters such as the mean and standard deviation.\n",
    "\n",
    "Key Characteristics :\n",
    "\n",
    "* **Assumption of Normality :** Data should be normally distributed or approximately normally distributed.\n",
    "* **Homogeneity of Variances :** Assumes equal variances among the groups being compared.\n",
    "* **Scale of Measurement :** Typically requires data that is at least interval scale.\n",
    "\n",
    "**<u>Examples</u>** **:** t-tests (independent and paired), ANOVA (Analysis of Variance), and linear regression."
   ]
  },
  {
   "cell_type": "markdown",
   "id": "dec4bab0",
   "metadata": {},
   "source": [
    "## 2) Non-Parametric Tests\n",
    "\n",
    "**<u>Non-parametric tests</u>** **:** are statistical tests that do not assume a specific distribution for the data. They are used when the assumptions of parametric tests are not met, particularly when the data does not follow a normal distribution or when dealing with ordinal data or non-quantitative data.\n",
    "\n",
    "Key Characteristics :\n",
    "\n",
    "* **No Assumption of Distribution :** Does not require the data to follow a normal distribution.\n",
    "* **Flexible with Data Types :** Can handle ordinal data, ranks, and non-quantitative data.\n",
    "\n",
    "**<u>Examples</u>** **:** Mann-Whitney U test, Wilcoxon signed-rank test, Kruskal-Wallis test, and Spearman's rank correlation."
   ]
  },
  {
   "cell_type": "markdown",
   "id": "fd375bd5",
   "metadata": {},
   "source": [
    "Parametric tests are more powerful when their assumptions are met because they use more information from the data, while non-parametric tests are more versatile and can be applied to a wider range of data types and distributions.\n",
    "\n",
    "|                                    | Parametric Tests        | Non-Parametric Tests         | \n",
    "| ---------------------------------- | ----------------------- | --------------------------   | \n",
    "| **One Sample**                       | Simple t-Test           | Wilcoxon Test for One Sample |   \n",
    "| **Two dependent Samples**              | Paired Sample t-Test    | Wilcoxon Test                | \n",
    "| **Two independent Samples**            | Unpaired Sample t-Test  | Mann-Whitney U Test          |   \n",
    "| **More than two independent Samples**  | One Factorial ANOVA     | Kruskal-Wallis Test          |   \n",
    "| **More than two dependent Samples**    | Repeated Measures ANOVA | Friedman Test                |   \n",
    "| **Correlation Between Two Variables**  | Pearson Correlation     | Spearman Correlation         |   \n",
    "\n"
   ]
  },
  {
   "cell_type": "markdown",
   "id": "1d0b9dad",
   "metadata": {},
   "source": [
    "## 3) Hypothesis Testing \n",
    "\n",
    "Hypotheses are claims (assertions) that can be verified or refuted using statistical methods. Hypothesis testing organizes these assertions into a framework, allowing us to use statistical evidence to evaluate their validity. This process enables us to determine whether the claims hold true or not.\n",
    "\n",
    "In this notebook, I will demonstrate hypothesis testing with Python through several step-by-step examples. But first, let me briefly explain the hypothesis testing process. If you prefer, you can skip directly to the questions.\n",
    "\n",
    "### 3.1) Defining Hypotheses\n",
    "\n",
    "First, we need to identify the scientific question we aim to answer and formulate it as the Null Hypothesis $(H_0)$ and the Alternative Hypothesis ($H_{1}$ or $H_{a}$). Remember that $(H_0)$ and $H_{1}$ must be mutually exclusive, and $H_{1}$ should not include equality :\n",
    "\n",
    "$H_0 : \\mu = x, H_{1}: μ \\neq x$\n",
    "\n",
    "$H_0 : \\mu \\leq x, H_{1}: μ > x$\n",
    "\n",
    "$H_0 : \\mu \\geq x, H_{1}: μ < x$\n",
    "\n",
    "\n",
    "### 3.2) Assumption Check\n",
    "\n",
    "To determine whether to use the **parametric** or **non-parametric** version of the test, we need to verify the following requirements :\n",
    "\n",
    "* Observations in each sample are independent and identically distributed (iid).\n",
    "* Observations in each sample are normally distributed.\n",
    "* Observations in each sample have the same variance.\n",
    "\n",
    "### 3.3) Selecting the Proper Test\n",
    "\n",
    "Next, we need to choose the appropriate test. It's crucial to analyze the number of groups being compared and whether the data are paired or not. To determine if the data are matched, consider whether the data were collected from the same individuals. Based on these factors, you can select the appropriate test using the chart below.\n",
    "\n",
    "\n",
    "![alt](tests_table.png)\n",
    "\n",
    "### 3.4) Decision and Conclusion\n",
    "\n",
    "After performing hypothesis testing, we obtain a **p-value** that indicates the significance of the test.\n",
    "\n",
    "If the p-value is smaller than the alpha level (the significance level $\\alpha$), there is enough evidence to reject $H_0$. Otherwise, we fail to reject $H_0$. Remember, rejecting $H_0$ supports $H_{1}$, but failing to reject $H_0$ does not confirm $H_0$'s validity nor does it indicate that $H_{1}$ is incorrect.\n",
    "\n",
    "![](pvalue.jpg)"
   ]
  },
  {
   "cell_type": "markdown",
   "id": "74ea2dd3",
   "metadata": {},
   "source": [
    "# 4) Tests Examples\n",
    "\n",
    "## 4.1) t-Test Independent\n",
    "\n",
    "![](1.png)\n",
    "\n",
    "A university professor transitioned from face-to-face classes to online lectures due to Covid-19. Subsequently, he uploaded recorded lectures to the cloud for students who chose to follow the course asynchronously. Despite this, he maintains a belief that students who attend the live classes and actively participate are more successful. To investigate this, he recorded the average grades of students at the end of the semester. The data is presented below.\n",
    "\n",
    "ynchronous = [93.2, 85.3, 82.9, 68.5, 79.9, 80.6, 80.9, 77.2, 81.5, 79.1, 72.3, 88.1, 86.8, 94.1, 83.6, 78.7, 77.4, 70.6, 89.1, 75.6, 73.9, 81.2]\n",
    "\n",
    "asynchronous = [76.9, 71.3, 91.4, 71.5, 75.3, 84.9, 68.1, 70.5, 75.7, 71.2, 65.9, 72.4, 71.1, 78.5]\n",
    "\n",
    "Perform hypothesis testing to determine the statistical significance of the professor's belief, using a significance level of 0.05 to assess the null and alternative hypotheses. Before conducting hypothesis testing, verify the relevant assumptions. Provide commentary on the obtained results.\n",
    "\n",
    "#### 1. Defining Hypotheses\n",
    "\n",
    "Since the grades are obtained from different individuals, the data is unpaired.\n",
    "\n",
    "* Null Hypothesis $(H_0) :$ The mean grade of students who attend live classes is less than or equal to the mean grade of students who watch recorded lectures.\n",
    "\n",
    "$$H_0 : \\mu_s \\leq \\mu_a$$\n",
    "\n",
    "* Alternative Hypothesis $(H_1) :$ The mean grade of students who attend live classes is greater than the mean grade of students who watch recorded lectures.\n",
    "\n",
    "$$H_1 : \\mu_s > \\mu_a$$\n",
    "\n",
    "\n",
    "**Assumption Check :**\n",
    "\n",
    "* Null Hypothesis $(H_0) :$ The data is normally distributed.\n",
    "* Alternative Hypothesis $(H_1) :$ The data is not normally distributed.\n",
    "\n",
    "Assuming $\\alpha=0.05,$ if the p-value is $>0.05,$ we can conclude that the data is normally distributed.\n",
    "For assessing normality, I employed the **Shapiro-Wilk test,** which is typically favored for smaller samples. However, other options such as the Kolmogorov-Smirnov and D’Agostino and Pearson’s tests are available. Please refer to https://docs.scipy.org/doc/scipy/reference/stats.html for further details."
   ]
  },
  {
   "cell_type": "code",
   "execution_count": 9,
   "id": "15313d7d",
   "metadata": {},
   "outputs": [],
   "source": [
    "import numpy as np\n",
    "from scipy import stats"
   ]
  },
  {
   "cell_type": "code",
   "execution_count": 10,
   "id": "f994448f",
   "metadata": {},
   "outputs": [],
   "source": [
    "def normality_check(data):\n",
    "    \"\"\"Checks if the data is normally distributed\"\"\"\n",
    "    test_stat_normality, p_value_normality=stats.shapiro(data)\n",
    "    print(\"p value:%.4f\" % p_value_normality)\n",
    "    if p_value_normality <0.05:\n",
    "        print(\"Reject null hypothesis => The data is not normally distributed\")\n",
    "    else:\n",
    "        print(\"Fail to reject null hypothesis => The data is normally distributed\")"
   ]
  },
  {
   "cell_type": "code",
   "execution_count": 11,
   "id": "3cd3fb29",
   "metadata": {},
   "outputs": [
    {
     "name": "stdout",
     "output_type": "stream",
     "text": [
      "p value:0.9515\n",
      "Fail to reject null hypothesis => The data is normally distributed\n",
      "p value:0.0548\n",
      "Fail to reject null hypothesis => The data is normally distributed\n"
     ]
    }
   ],
   "source": [
    "sync = np.array([93.2, 85.3, 82.9, 68.5, 79.9, 80.6, 80.9, 77.2, 81.5, 79.1, 72.3, 88.1, 86.8,\n",
    "                 94.1, 83.6, 78.7, 77.4, 70.6, 89.1, 75.6, 73.9, 81.2])\n",
    "asyncr = np.array([76.9, 71.3, 91.4, 71.5, 75.3, 84.9, 68.1, 70.5, 75.7, 71.2, 65.9, 72.4, 71.1, 78.5])\n",
    "normality_check(sync)\n",
    "normality_check(asyncr)"
   ]
  },
  {
   "cell_type": "code",
   "execution_count": null,
   "id": "6e650ea4",
   "metadata": {},
   "outputs": [],
   "source": []
  },
  {
   "cell_type": "code",
   "execution_count": null,
   "id": "8009409d",
   "metadata": {},
   "outputs": [],
   "source": []
  }
 ],
 "metadata": {
  "kernelspec": {
   "display_name": "Python 3 (ipykernel)",
   "language": "python",
   "name": "python3"
  },
  "language_info": {
   "codemirror_mode": {
    "name": "ipython",
    "version": 3
   },
   "file_extension": ".py",
   "mimetype": "text/x-python",
   "name": "python",
   "nbconvert_exporter": "python",
   "pygments_lexer": "ipython3",
   "version": "3.10.10"
  }
 },
 "nbformat": 4,
 "nbformat_minor": 5
}
