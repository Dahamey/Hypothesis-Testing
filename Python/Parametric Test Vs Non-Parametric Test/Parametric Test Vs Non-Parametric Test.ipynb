{
 "cells": [
  {
   "cell_type": "markdown",
   "id": "6b92d3d4",
   "metadata": {},
   "source": [
    "<h1 style=\"text-align:center;\">Parametric Test Vs Non-Parametric Test</h1>\n"
   ]
  },
  {
   "cell_type": "markdown",
   "id": "f0763758",
   "metadata": {},
   "source": [
    "<u>**Author</u> :** [Younes Dahami](https://www.linkedin.com/in/dahami/)"
   ]
  },
  {
   "cell_type": "markdown",
   "id": "a5cee692",
   "metadata": {},
   "source": [
    "<a id=\"top\"></a>\n",
    "\n",
    "<div class=\"list-group\" id=\"list-tab\" role=\"tablist\">\n",
    "<h3 class=\"list-group-item list-group-item-action active\" data-toggle=\"list\"  role=\"tab\" aria-controls=\"home\">Table of contents</h3>\n",
    "    \n",
    "<font color=\"blue\" size=+1><b>[0. Introduction](#0)</b></font>\n",
    "    \n",
    "<font color=\"blue\" size=+1><b>[1. Parametric Tests](#1)</b></font>\n",
    "    \n",
    "<font color=\"blue\" size=+1><b>[2. Non-Parametric Tests](#2)</b></font>\n",
    "\n",
    "<font color=\"blue\" size=+1><b>[3. Hypothesis Testing](#3)</b></font>\n",
    "* [3.1 Defining Hypotheses](#3.1)\n",
    "* [3.2 Assumption Check](#3.2) \n",
    "* [3.3 Selecting the Proper Test](#3.3)\n",
    "* [3.4 Decision and Conclusion](#3.4)\n",
    "    \n",
    "    \n",
    "<font color=\"blue\" size=+1><b>[4. Tests Examples](#4)</b></font>\n",
    "* [4.1 Independent t-test / Two-sample t-test / Unpaired t-test](#4.1)\n",
    "    * [4.1.1 Definition](#4.1.1)\n",
    "    * [4.1.2 Example of Independent t-test](#4.1.2)\n",
    "    \n",
    "* [4.2 Analysis of Variance (ANOVA)](#4.2)\n",
    "    * [4.2.1 Definition](#4.2.1)\n",
    "    * [4.2.2 Example of ANOVA](#4.2.2)\n",
    "    \n",
    "* [4.3 Mann Whitney U / Wilcoxon rank-sum test](#4.3)\n",
    "    * [4.3.1 Definition](#4.3.1)\n",
    "    * [4.3.2 Example of Mann Whitney U / Wilcoxon rank-sum test](#4.3.2)\n",
    "    \n",
    " \n",
    "* [4.4 Kruskal-Wallis test](#4.4)\n",
    "    * [4.4.1 Definition](#4.4.1)\n",
    "    * [4.4.2 Example of Kruskal-Wallis test](#4.4.2)\n",
    "    \n",
    "    \n",
    "* [4.5 Dependent t-Test / Paired t-Test](#4.5)\n",
    "    * [4.5.1 Definition](#4.5.1)\n",
    "    * [4.5.2 Example of Dependent t-Test (Paired t-Test)](#4.5.2)\n",
    "    \n",
    "    \n",
    "* [4.6 Wilcoxon Signed-Rank test](#4.6)\n",
    "    * [4.6.1 Definition](#4.6.1)\n",
    "    * [4.6.2 Example of Wilcoxon Signed-Rank test](#4.6.2)\n",
    "    \n",
    "* [4.7 Friedman $\\chi$² (Chi-Square)](#4.7)\n",
    "    * [4.7.1 Definition](#4.7.1)\n",
    "    * [4.7.2 Example of Friedman $\\chi$² (Chi-Square)](#4.7.2)\n",
    "    \n",
    "* [4.8 $\\chi^2$ Test for Independence](#4.8)\n",
    "    * [4.8.1 Definition](#4.8.1)\n",
    "    * [4.8.2 Example of $\\chi^2$ Test for Independence](#4.8.2)\n",
    "\n",
    "    \n"
   ]
  },
  {
   "cell_type": "markdown",
   "id": "7580b825",
   "metadata": {},
   "source": [
    "<a id=\"0\"></a>\n",
    "\n",
    "# Introduction\n",
    "\n",
    "You want to calculate a hypothesis test, but you don't know exactly what's the difference is between **parametric** and **non-parametric** tests, and you're wondering when to use each test.\n",
    "\n",
    "If you want to calculate a hypothesis test, you must first check the assumptions. One of the most common assumptions is the data used must show a **certain distribution**, usually the normal distribution.\n",
    "\n",
    "To simply put it :\n",
    "\n",
    "* If your data is **normally distributed**, use the **parametric tests** e.g. : t-test, ANOVA or Pearson Correlation.\n",
    "\n",
    "* If your data is **not normally distributed**, use the **non-parametric tests** e.g. : Mann-Whitney U test or a Spearman Correlation.\n",
    "\n",
    "Of course you still have to check if there are further assumptions for the respective test. But in general, there are less assumptions for non-parametric tests than for parametric tests.\n",
    "\n",
    "Parametric tests are generally mor powerful than non-parametric tests."
   ]
  },
  {
   "cell_type": "markdown",
   "id": "c863acb2",
   "metadata": {},
   "source": [
    "<a id=\"1\"></a>\n",
    "\n",
    "# 1) Parametric Tests\n",
    "\n",
    "**<u>Parametric tests</u>** **:** are statistical tests that make assumptions about the parameters of the population distribution from which the samples are drawn. Specifically, they assume that the data follows a certain distribution (usually a normal distribution) and often involve estimating parameters such as the mean and standard deviation.\n",
    "\n",
    "Key Characteristics :\n",
    "\n",
    "* **Assumption of Normality :** Data should be normally distributed or approximately normally distributed.\n",
    "* **Homogeneity of Variances :** Assumes equal variances among the groups being compared.\n",
    "* **Scale of Measurement :** Typically requires data that is at least interval scale.\n",
    "\n",
    "**<u>Examples</u>** **:** t-tests (independent and paired), ANOVA (Analysis of Variance), and linear regression."
   ]
  },
  {
   "cell_type": "markdown",
   "id": "dec4bab0",
   "metadata": {},
   "source": [
    "<a id=\"2\"></a>\n",
    "\n",
    "# 2) Non-Parametric Tests\n",
    "\n",
    "**<u>Non-parametric tests</u>** **:** are statistical tests that do not assume a specific distribution for the data. They are used when the assumptions of parametric tests are not met, particularly when the data does not follow a normal distribution or when dealing with ordinal data or non-quantitative data.\n",
    "\n",
    "Key Characteristics :\n",
    "\n",
    "* **No Assumption of Distribution :** Does not require the data to follow a normal distribution.\n",
    "* **Flexible with Data Types :** Can handle ordinal data, ranks, and non-quantitative data.\n",
    "\n",
    "**<u>Examples</u>** **:** Mann-Whitney U test, Wilcoxon signed-rank test, Kruskal-Wallis test, and Spearman's rank correlation."
   ]
  },
  {
   "cell_type": "markdown",
   "id": "fd375bd5",
   "metadata": {},
   "source": [
    "Parametric tests are more powerful when their assumptions are met because they use more information from the data, while non-parametric tests are more versatile and can be applied to a wider range of data types and distributions.\n",
    "\n",
    "|                                    | Parametric Tests        | Non-Parametric Tests         | \n",
    "| ---------------------------------- | ----------------------- | --------------------------   | \n",
    "| **One Sample**                       | Simple t-Test           | Wilcoxon Test for One Sample |   \n",
    "| **Two dependent Samples**              | Paired Sample t-Test    | Wilcoxon Test                | \n",
    "| **Two independent Samples**            | Unpaired Sample t-Test  | Mann-Whitney U Test          |   \n",
    "| **More than two independent Samples**  | One Factorial ANOVA     | Kruskal-Wallis Test          |   \n",
    "| **More than two dependent Samples**    | Repeated Measures ANOVA | Friedman Test                |   \n",
    "| **Correlation Between Two Variables**  | Pearson Correlation     | Spearman Correlation         |   \n",
    "\n"
   ]
  },
  {
   "cell_type": "markdown",
   "id": "1d0b9dad",
   "metadata": {},
   "source": [
    "<a id=\"3\"></a>\n",
    "\n",
    "# 3) Hypothesis Testing \n",
    "\n",
    "Hypotheses are claims (assertions) that can be verified or refuted using statistical methods. Hypothesis testing organizes these assertions into a framework, allowing us to use statistical evidence to evaluate their validity. This process enables us to determine whether the claims hold true or not.\n",
    "\n",
    "In this notebook, I will demonstrate hypothesis testing with Python through several step-by-step examples. But first, let me briefly explain the hypothesis testing process. If you prefer, you can skip directly to the questions.\n",
    "\n",
    "<a id=\"3.1\"></a>\n",
    "## 3.1) Defining Hypotheses\n",
    "\n",
    "First, we need to identify the scientific question we aim to answer and formulate it as the Null Hypothesis $(H_0)$ and the Alternative Hypothesis ($H_{1}$ or $H_{a}$). Remember that $(H_0)$ and $H_{1}$ must be mutually exclusive, and $H_{1}$ should not include equality :\n",
    "\n",
    "$H_0 : \\mu = x, H_{1}: μ \\neq x$\n",
    "\n",
    "$H_0 : \\mu \\leq x, H_{1}: μ > x$\n",
    "\n",
    "$H_0 : \\mu \\geq x, H_{1}: μ < x$\n",
    "\n",
    "<a id=\"3.2\"></a>\n",
    "## 3.2) Assumption Check\n",
    "\n",
    "To determine whether to use the **parametric** or **non-parametric** version of the test, we need to verify the following requirements :\n",
    "\n",
    "* Observations in each sample are independent and identically distributed (iid).\n",
    "* Observations in each sample are normally distributed.\n",
    "* Observations in each sample have the same variance.\n",
    "\n",
    "<a id=\"3.3\"></a>\n",
    "## 3.3) Selecting the Proper Test\n",
    "\n",
    "Next, we need to choose the appropriate test. It's crucial to analyze the number of groups being compared and whether the data are paired or not. To determine if the data are matched, consider whether the data were collected from the same individuals. Based on these factors, you can select the appropriate test using the chart below.\n",
    "\n",
    "\n",
    "![alt](tests_table.png)\n",
    "\n",
    "<a id=\"3.4\"></a>\n",
    "## 3.4) Decision and Conclusion\n",
    "\n",
    "After performing hypothesis testing, we obtain a **p-value** that indicates the significance of the test.\n",
    "\n",
    "If the p-value is smaller than the alpha level (the significance level $\\alpha$), there is enough evidence to reject $H_0$. Otherwise, we fail to reject $H_0$. Remember, rejecting $H_0$ supports $H_{1}$, but failing to reject $H_0$ does not confirm $H_0$'s validity nor does it indicate that $H_{1}$ is incorrect.\n",
    "\n",
    "![](pvalue.jpg)"
   ]
  },
  {
   "cell_type": "markdown",
   "id": "895af5b7",
   "metadata": {},
   "source": [
    "<a id=\"4\"></a>\n",
    "# 4) Tests Examples"
   ]
  },
  {
   "cell_type": "markdown",
   "id": "6b7dd96c",
   "metadata": {},
   "source": [
    "<a id=\"4.1\"></a>\n",
    "\n",
    "## 4.1) Independent t-test / Two-sample t-test / Unpaired t-test\n",
    "\n",
    "<a id=\"4.1.1\"></a>\n",
    "\n",
    "### 4.1.1) Definition\n",
    "\n",
    "* <u>**independent t-test**</u> **:** also known as the **two-sample t-test** or **unpaired t-test**, is a statistical test used to compare the means of two independent groups to determine if there is a statistically significant difference between them. This test is appropriate when you have two unrelated groups and you want to compare their means.\n",
    "\n",
    "#### Assumptions\n",
    "\n",
    "1. **Independence :** The two samples must be independent of each other. This means that the data points in one group should not influence the data points in the other group.\n",
    "2. **Normality :** The data in each group should be approximately normally distributed. This assumption can be relaxed with large sample sizes due to the Central Limit Theorem.\n",
    "3. **Homogeneity of Variances (homoscedasticity) :**  The variances of the two groups should be approximately equal. This can be checked using tests such as Levene's test.\n",
    "\n",
    "#### Hypotheses\n",
    "\n",
    "- **Null Hypothesis $(H_0)$**: The means of the two groups are equal $(\\mu_1 \\leq \\mu_2).$\n",
    "- **Alternative Hypothesis $(H_1)$**: The means of the two groups are not equal $(\\mu_1 \\neq \\mu_2).$ for a two-tailed test, or $(\\mu_1 > \\mu_2).$ or $(\\mu_1 < \\mu_2).$ for a one-tailed test.\n",
    "\n",
    "#### Test Statistic\n",
    "\n",
    "The test statistic for the independent t-test is calculated as follows:\n",
    "\n",
    "$$\n",
    "t = \\frac{\\bar{X}_1 - \\bar{X}_2}{\\sqrt{\\frac{s_1^2}{n_1} + \\frac{s_2^2}{n_2}}}\n",
    "$$\n",
    "\n",
    "where :\n",
    "- $\\bar{X}_1$ and $\\bar{X}_2$ are the sample means,\n",
    "- $s_1^2$ and $s_2^2$ are the sample variances,\n",
    "- $n_1$ and $n_2$ are the sample sizes.\n",
    "\n",
    "The degrees of freedom for the test are calculated using the following formula when assuming equal variances :\n",
    "$$\n",
    "df = n_1 + n_2 - 2\n",
    "$$"
   ]
  },
  {
   "cell_type": "markdown",
   "id": "74ea2dd3",
   "metadata": {},
   "source": [
    "<a id=\"4.1.2\"></a>\n",
    "\n",
    "### 4.1.2) Example of Independent t-test \n",
    "\n",
    "![](1.png)\n",
    "\n",
    "A university professor transitioned from face-to-face classes to online lectures due to Covid-19. Subsequently, he uploaded recorded lectures to the cloud for students who chose to follow the course asynchronously. Despite this, he maintains a belief that students who attend the live classes and actively participate are more successful. To investigate this, he recorded the average grades of students at the end of the semester. The data is presented below.\n",
    "\n",
    "synchronous = [93.2, 85.3, 82.9, 68.5, 79.9, 80.6, 80.9, 77.2, 81.5, 79.1, 72.3, 88.1, 86.8, 94.1, 83.6, 78.7, 77.4, 70.6, 89.1, 75.6, 73.9, 81.2]\n",
    "\n",
    "asynchronous = [76.9, 71.3, 91.4, 71.5, 75.3, 84.9, 68.1, 70.5, 75.7, 71.2, 65.9, 72.4, 71.1, 78.5]\n",
    "\n",
    "Perform hypothesis testing to determine the statistical significance of the professor's belief, using a significance level of 0.05 to assess the null and alternative hypotheses. Before conducting hypothesis testing, verify the relevant assumptions. Provide commentary on the obtained results.\n",
    "\n",
    "#### <u>1. Defining Hypotheses</u>\n",
    "\n",
    "Since the grades are obtained from different individuals, the data is unpaired.\n",
    "\n",
    "* Null Hypothesis $(H_0) :$ The mean grade of students who attend live classes is less than or equal to the mean grade of students who watch recorded lectures.\n",
    "\n",
    "$$H_0 : \\mu_s \\leq \\mu_a$$\n",
    "\n",
    "$s :$ synchronous\n",
    "\n",
    "$a :$ asynchronous\n",
    "\n",
    "\n",
    "* Alternative Hypothesis $(H_1) :$ The mean grade of students who attend live classes is greater than the mean grade of students who watch recorded lectures.\n",
    "\n",
    "$$H_1 : \\mu_s > \\mu_a$$\n",
    "\n",
    "\n",
    "#### <u>2. Assumption Check</u>\n",
    "\n",
    "* Null Hypothesis $(H_0) :$ The data is normally distributed.\n",
    "* Alternative Hypothesis $(H_1) :$ The data is not normally distributed.\n",
    "\n",
    "Assuming $\\alpha=0.05,$ if the p-value is $>0.05,$ we can conclude that the data is normally distributed.\n",
    "For assessing normality, I employed the **Shapiro-Wilk test,** which is typically favored for smaller samples. However, other options such as the Kolmogorov-Smirnov and D’Agostino and Pearson’s tests are available. Please refer to [stats](https://docs.scipy.org/doc/scipy/reference/stats.html)'s documentation for further details."
   ]
  },
  {
   "cell_type": "code",
   "execution_count": 1,
   "id": "15313d7d",
   "metadata": {},
   "outputs": [],
   "source": [
    "import numpy as np\n",
    "from scipy import stats"
   ]
  },
  {
   "cell_type": "code",
   "execution_count": 2,
   "id": "f994448f",
   "metadata": {},
   "outputs": [],
   "source": [
    "def normality_check(data):\n",
    "    \"\"\"Checks if the data is normally distributed\"\"\"\n",
    "    \n",
    "    test_stat_normality, p_value_normality=stats.shapiro(data)\n",
    "    print(\"p value:%.4f\" % p_value_normality)\n",
    "    if p_value_normality <0.05:\n",
    "        print(\"Reject null hypothesis => The data is not normally distributed\")\n",
    "    else:\n",
    "        print(\"Fail to reject null hypothesis => The data is normally distributed\")"
   ]
  },
  {
   "cell_type": "code",
   "execution_count": 3,
   "id": "3cd3fb29",
   "metadata": {},
   "outputs": [
    {
     "name": "stdout",
     "output_type": "stream",
     "text": [
      "p value:0.9515\n",
      "Fail to reject null hypothesis => The data is normally distributed\n",
      "p value:0.0548\n",
      "Fail to reject null hypothesis => The data is normally distributed\n"
     ]
    }
   ],
   "source": [
    "sync = np.array([93.2, 85.3, 82.9, 68.5, 79.9, 80.6, 80.9, 77.2, 81.5, 79.1, 72.3, 88.1, 86.8,\n",
    "                 94.1, 83.6, 78.7, 77.4, 70.6, 89.1, 75.6, 73.9, 81.2])\n",
    "asyncr = np.array([76.9, 71.3, 91.4, 71.5, 75.3, 84.9, 68.1, 70.5, 75.7, 71.2, 65.9, 72.4, 71.1, 78.5])\n",
    "normality_check(sync)\n",
    "normality_check(asyncr)"
   ]
  },
  {
   "cell_type": "markdown",
   "id": "442d012c",
   "metadata": {},
   "source": [
    "$H_0 :$ The variances of the samples are the same.\n",
    "\n",
    "$H_1 :$ The variances of the samples are different."
   ]
  },
  {
   "cell_type": "code",
   "execution_count": 4,
   "id": "8009409d",
   "metadata": {},
   "outputs": [],
   "source": [
    "def variance_check_homogeneity(group1, group2):\n",
    "    \"\"\"Checks if two samples have the same variance\"\"\"\n",
    "    \n",
    "    test_stat_var, p_value_var= stats.levene(group1,group2)\n",
    "    print(\"p value:%.4f\" % p_value_var)\n",
    "    if p_value_var <0.05:\n",
    "        print(\"Reject null hypothesis => The variances of the samples are different.\")\n",
    "    else:\n",
    "        print(\"Fail to reject null hypothesis => The variances of the samples are same.\")"
   ]
  },
  {
   "cell_type": "markdown",
   "id": "49d5057a",
   "metadata": {},
   "source": [
    "It tests the null hypothesis that the population variances are equal, a concept known as **homogeneity of variance**b or **homoscedasticity.** If the resulting p-value from Levene’s test is less than the significance level (typically 0.05), it suggests that the observed differences in sample variances are unlikely to have occurred due to random sampling from a population with equal variances.\n",
    "\n",
    "I used Levene’s test to check for variance homogeneity, but you can also use Bartlett’s test. For more information, visit: [scipy.stats.bartlett](https://docs.scipy.org/doc/scipy/reference/generated/scipy.stats.bartlett.html#scipy.stats.bartlett)'s documentation.\n"
   ]
  },
  {
   "cell_type": "code",
   "execution_count": 5,
   "id": "435afe92",
   "metadata": {
    "scrolled": true
   },
   "outputs": [
    {
     "name": "stdout",
     "output_type": "stream",
     "text": [
      "p value:0.7817\n",
      "Fail to reject null hypothesis => The variances of the samples are same.\n"
     ]
    }
   ],
   "source": [
    "variance_check_homogeneity(sync, asyncr)"
   ]
  },
  {
   "cell_type": "markdown",
   "id": "dea51868",
   "metadata": {},
   "source": [
    "#### <u>3. Selecting the proper test</u>\n",
    "\n",
    "Since the assumptions are satisfied, we can proceed with the parametric version of the test for two groups with unpaired data."
   ]
  },
  {
   "cell_type": "code",
   "execution_count": 6,
   "id": "6df4249b",
   "metadata": {},
   "outputs": [
    {
     "name": "stdout",
     "output_type": "stream",
     "text": [
      "p value : 0.00988899\n",
      "Since the hypothesis is one sided => use p-value/2 => p-value-one-sided : 0.0049\n",
      "Reject the Null Hypothesis\n"
     ]
    }
   ],
   "source": [
    "ttest, p_value = stats.ttest_ind(sync, asyncr)\n",
    "print(\"p value : %.8f\" % p_value)\n",
    "print(\"Since the hypothesis is one sided => use p-value/2 => p-value-one-sided : %.4f\" %(p_value/2))\n",
    "if p_value/2 < 0.05 :\n",
    "    print(\"Reject the Null Hypothesis\")\n",
    "else :\n",
    "    print(\"Fail to reject the Null Hypothesis\")"
   ]
  },
  {
   "cell_type": "code",
   "execution_count": 7,
   "id": "5862c5af",
   "metadata": {},
   "outputs": [
    {
     "data": {
      "text/plain": [
       "2.732898234545415"
      ]
     },
     "execution_count": 7,
     "metadata": {},
     "output_type": "execute_result"
    }
   ],
   "source": [
    "ttest"
   ]
  },
  {
   "cell_type": "markdown",
   "id": "442482ef",
   "metadata": {},
   "source": [
    "#### <u>4. Decision and Conclusion</u>\n",
    "\n",
    "At this significance level, there is sufficient evidence to conclude that the average grade of students who follow the course synchronously is higher than that of students who follow the course asynchronously."
   ]
  },
  {
   "cell_type": "markdown",
   "id": "374cdaf5",
   "metadata": {},
   "source": [
    "<a id=\"4.2\"></a>\n",
    "\n",
    "## 4.2) Analysis of Variance (ANOVA)\n",
    "\n",
    "<a id=\"4.2.1\"></a>\n",
    "### 4.2.1) Definition\n",
    "\n",
    "* <u>**Analysis of Variance (ANOVA)**</u> **:** is a statistical method used to compare the means of three or more independent groups to determine if there are statistically significant differences between them. ANOVA tests the null hypothesis that the means of the groups are equal. The types of ANOVA are :\n",
    "\n",
    "1. **One-Way ANOVA :** Compares the means of three or more independent groups.\n",
    "2. **Two-Way ANOVA :** Analyzes the effects of two categorical independent variables on a continuous dependent variable.\n",
    "3. **Repeated Measures ANOVA :** Analyzes the effects of one or more within-subjects factors (repeated measures) on a continuous dependent variable.\n",
    "\n",
    "\n",
    "#### Assumptions\n",
    "\n",
    "1. **Independence :** The observations within each group should be independent of each other.\n",
    "2. **Normality :** The data in each group should be approximately normally distributed.\n",
    "3. **Homogeneity of Variances (homoscedasticity) :** The variances of the groups should be approximately equal.\n",
    "\n",
    "#### Hypotheses\n",
    "\n",
    "- **Null Hypothesis $(H_0)$ :** The means of all groups are equal.\n",
    "- **Alternative Hypothesis $(H_1)$ :** At least one group mean is different from the others.\n",
    "\n",
    "\n",
    "#### Test Statistic\n",
    "\n",
    "The test statistic for ANOVA follows an F-distribution. The F-statistic is calculated as the ratio of the between-group variance to the within-group variance :\n",
    "\n",
    "$$\n",
    "F = \\frac{{\\text{Between-group variability}}}{{\\text{Within-group variability}}}\n",
    "$$\n",
    "\n",
    "#### Post Hoc Tests\n",
    "\n",
    "After finding a significant result in ANOVA, post hoc tests are often performed to identify which specific group means differ from each other. Common post hoc tests include Tukey's HSD (Honestly Significant Difference), Bonferroni, Scheffe, and Dunnett's tests."
   ]
  },
  {
   "cell_type": "markdown",
   "id": "76b93325",
   "metadata": {},
   "source": [
    "<a id=\"4.2.2\"></a>\n",
    "\n",
    "### 4.2.2) Example of ANOVA\n",
    "\n",
    "![](2.jpeg)\n",
    "\n",
    "A pediatrician aims to examine the effect of formula consumption on the average monthly weight gain (in grams) of babies. To do this, he collected data from three different groups : \n",
    "\n",
    "* The first group consists of exclusively breastfed children (receiving only breast milk).\n",
    "* The second group includes children fed only with formula.\n",
    "* The third group comprises children who are both formula-fed and breastfed.\n",
    "\n",
    "The data is presented below :\n",
    "\n",
    "only_breast = [783.2, 720.1, 990.3, 725.4, 759.2, 905.6, 662.5, 691.4, 765.2, 718.6, 631.9, 732.8, 716.3, 808.9, 585.7, 682.3, 863.5]\n",
    "\n",
    "only_formula = [900.1, 880.3, 938.4, 965.1, 958.7, 1060.2, 1047.8, 978.9, 894.1, 921.5, 1073.6, 953.4, 798.2, 858.7, 872.4, 1045.9, 918.2, 1161.8, 995.3]\n",
    "\n",
    "both = [975.3, 658.1, 862.5, 708.9, 719.2, 718.4, 760.7, 893.1, 868.9, 806.3, 764.2, 802.7, 791.4, 874.5, 741.2, 797.8, 789.1, 794.3, 822.1, 820.3, 928.4, 793.5, 949.6]\n",
    "\n",
    "Based on this information, conduct hypothesis testing to determine whether there is a difference in the average monthly weight gain among the three groups, using a significance level of 0.05. If a significant difference is found, perform further analysis to identify the cause of the difference. Before conducting hypothesis testing, verify the relevant assumptions.\n",
    "\n",
    "#### <u>1. Defining Hypotheses</u>\n",
    "\n",
    "* Null Hypothesis $H_0$ : The mean of the samples is the same\n",
    "\n",
    "$$H_0 : \\mu_1 = \\mu_2 = \\mu_3$$\n",
    "\n",
    "* Alternative Hypothesis $H_1$ : At least one of them is different\n",
    "\n",
    "$$H_1 : \\mu_1 \\neq \\mu_2 \\quad or \\quad \\mu_1 \\neq \\mu_3 \\quad or \\quad \\mu_2 \\neq \\mu_3$$\n",
    "\n",
    "#### <u>2. Assumptions Check</u>\n",
    "\n",
    "* **Normality :**\n",
    "\n",
    "$H_0 :$ \"The data is normally distributed\"\n",
    "\n",
    "$H_1 :$ \"The data is **NOT** normally distributed\"\n",
    "\n",
    "* **Homoscedasticity :**\n",
    "\n",
    "$H_0 :$ \"The variances of the samples are the same\"\n",
    "\n",
    "$H_1 :$ \"The variances of the samples are different\""
   ]
  },
  {
   "cell_type": "code",
   "execution_count": 8,
   "id": "c4cf9310",
   "metadata": {},
   "outputs": [],
   "source": [
    "breast_only = np.array([783.2, 720.1, 990.3, 725.4, 759.2, 905.6, 662.5, 691.4, 765.2, 718.6, 631.9, 732.8, 716.3, 808.9, 585.7, 682.3, 863.5])\n",
    "formula_only = np.array([900.1, 880.3, 938.4, 965.1, 958.7, 1060.2, 1047.8, 978.9, 894.1, 921.5, 1073.6, 953.4, 798.2, 858.7, 872.4, 1045.9, 918.2, 1161.8, 995.3])\n",
    "both = np.array( [975.3, 658.1, 862.5, 708.9, 719.2, 718.4, 760.7, 893.1, 868.9, 806.3, 764.2, 802.7, 791.4, 874.5, 741.2, 797.8, 789.1, 794.3, 822.1, 820.3, 928.4, 793.5, 949.6])"
   ]
  },
  {
   "cell_type": "code",
   "execution_count": 9,
   "id": "d5c85c18",
   "metadata": {},
   "outputs": [
    {
     "name": "stdout",
     "output_type": "stream",
     "text": [
      "p value:0.4133\n",
      "Fail to reject null hypothesis => The data is normally distributed\n",
      "p value:0.8721\n",
      "Fail to reject null hypothesis => The data is normally distributed\n",
      "p value:0.7610\n",
      "Fail to reject null hypothesis => The data is normally distributed\n"
     ]
    }
   ],
   "source": [
    "# Normality Check :\n",
    "\n",
    "normality_check(breast_only)\n",
    "normality_check(formula_only)\n",
    "normality_check(both)"
   ]
  },
  {
   "cell_type": "code",
   "execution_count": 10,
   "id": "27d1c347",
   "metadata": {},
   "outputs": [
    {
     "name": "stdout",
     "output_type": "stream",
     "text": [
      "p-value : 0.8109\n",
      "Fail to reject the null hypothesis => The variances of the samples are the same\n"
     ]
    }
   ],
   "source": [
    "# Homoscedasticity check\n",
    "\n",
    "stat, p_value_levene = stats.levene(breast_only, formula_only, both)\n",
    "print(\"p-value : %.4f\"%p_value_levene)\n",
    "if p_value_levene < 0.05 :\n",
    "    print(\"Reject null hypothesis => The variances of the samples are different\")\n",
    "else :\n",
    "    print(\"Fail to reject the null hypothesis => The variances of the samples are the same\")"
   ]
  },
  {
   "cell_type": "markdown",
   "id": "b69d1e28",
   "metadata": {},
   "source": [
    "#### <u>3. Selecting the proper test</u>\n",
    "\n",
    "Since the assumptions are satisfied, we can proceed with the parametric version of the test for **more than two groups** with **unpaired** data."
   ]
  },
  {
   "cell_type": "code",
   "execution_count": 11,
   "id": "959c053d",
   "metadata": {},
   "outputs": [
    {
     "name": "stdout",
     "output_type": "stream",
     "text": [
      "p-value : 0.000000\n",
      "Reject the null hypothesis\n"
     ]
    }
   ],
   "source": [
    "# Performing One-way ANOVA\n",
    "F_test, p_value = stats.f_oneway(breast_only, formula_only, both)\n",
    "print(\"p-value : %.6f\" %p_value)\n",
    "if p_value < 0.05 :\n",
    "    print(\"Reject the null hypothesis\")\n",
    "else :\n",
    "    print(\"Fail to reject the null hypothesis\")"
   ]
  },
  {
   "cell_type": "markdown",
   "id": "7de240a4",
   "metadata": {},
   "source": [
    "#### <u>4. Decision and Conclusion</u>\n",
    "\n",
    "At this significance level (of 0.05), it can be concluded that at least one of the groups has a different average monthly weight gain. To determine which group or groups are causing the difference, we need to conduct a **posthoc test** or **pairwise comparison.**\n",
    "\n",
    "**Note :** To prevent family-wise p-value inflation, I applied the Bonferroni adjustment. Alternatively, you can explore other options here: [scikit_posthocs.posthoc_ttest documentation](https://scikit-posthocs.readthedocs.io/en/latest/generated/scikit_posthocs.posthoc_ttest.html)\n",
    "\n",
    "Pairwise T-test for multiple comparisons of independent groups, can be utilized after conducting a parametric ANOVA to perform pairwise comparisons."
   ]
  },
  {
   "cell_type": "code",
   "execution_count": 12,
   "id": "9c5db70d",
   "metadata": {},
   "outputs": [],
   "source": [
    "#pip install scikit-posthocs"
   ]
  },
  {
   "cell_type": "code",
   "execution_count": 13,
   "id": "a983d4a5",
   "metadata": {
    "scrolled": true
   },
   "outputs": [
    {
     "data": {
      "text/html": [
       "<style type=\"text/css\">\n",
       "#T_92fde_row0_col0, #T_92fde_row0_col2, #T_92fde_row1_col1, #T_92fde_row2_col0, #T_92fde_row2_col2 {\n",
       "  background-color: white;\n",
       "}\n",
       "#T_92fde_row0_col1, #T_92fde_row1_col0, #T_92fde_row1_col2, #T_92fde_row2_col1 {\n",
       "  background-color: red;\n",
       "}\n",
       "</style>\n",
       "<table id=\"T_92fde\">\n",
       "  <thead>\n",
       "    <tr>\n",
       "      <th class=\"blank level0\" >&nbsp;</th>\n",
       "      <th id=\"T_92fde_level0_col0\" class=\"col_heading level0 col0\" >Breast Only</th>\n",
       "      <th id=\"T_92fde_level0_col1\" class=\"col_heading level0 col1\" >Formula Only</th>\n",
       "      <th id=\"T_92fde_level0_col2\" class=\"col_heading level0 col2\" >Both</th>\n",
       "    </tr>\n",
       "  </thead>\n",
       "  <tbody>\n",
       "    <tr>\n",
       "      <th id=\"T_92fde_level0_row0\" class=\"row_heading level0 row0\" >Breast Only</th>\n",
       "      <td id=\"T_92fde_row0_col0\" class=\"data row0 col0\" >1.000000</td>\n",
       "      <td id=\"T_92fde_row0_col1\" class=\"data row0 col1\" >0.000000</td>\n",
       "      <td id=\"T_92fde_row0_col2\" class=\"data row0 col2\" >0.115376</td>\n",
       "    </tr>\n",
       "    <tr>\n",
       "      <th id=\"T_92fde_level0_row1\" class=\"row_heading level0 row1\" >Formula Only</th>\n",
       "      <td id=\"T_92fde_row1_col0\" class=\"data row1 col0\" >0.000000</td>\n",
       "      <td id=\"T_92fde_row1_col1\" class=\"data row1 col1\" >1.000000</td>\n",
       "      <td id=\"T_92fde_row1_col2\" class=\"data row1 col2\" >0.000004</td>\n",
       "    </tr>\n",
       "    <tr>\n",
       "      <th id=\"T_92fde_level0_row2\" class=\"row_heading level0 row2\" >Both</th>\n",
       "      <td id=\"T_92fde_row2_col0\" class=\"data row2 col0\" >0.115376</td>\n",
       "      <td id=\"T_92fde_row2_col1\" class=\"data row2 col1\" >0.000004</td>\n",
       "      <td id=\"T_92fde_row2_col2\" class=\"data row2 col2\" >1.000000</td>\n",
       "    </tr>\n",
       "  </tbody>\n",
       "</table>\n"
      ],
      "text/plain": [
       "<pandas.io.formats.style.Styler at 0x25a2d3460b0>"
      ]
     },
     "execution_count": 13,
     "metadata": {},
     "output_type": "execute_result"
    }
   ],
   "source": [
    "import scikit_posthocs as sp\n",
    "\n",
    "df_posthoc = sp.posthoc_ttest([breast_only, formula_only, both],\n",
    "                             equal_var = True,   # Homoscedasticity verified!\n",
    "                             p_adjust = \"bonferroni\")\n",
    "\n",
    "groups = [\"Breast Only\", \"Formula Only\", \"Both\"]\n",
    "df_posthoc.columns = groups\n",
    "df_posthoc.index = groups\n",
    "\n",
    "df_posthoc.style.applymap(lambda x: \"background-color:red\" if x<0.05 else \"background-color:white\")\n"
   ]
  },
  {
   "cell_type": "markdown",
   "id": "acbe27d8",
   "metadata": {},
   "source": [
    "At this significance level, it can be concluded that the \"only formula\" group differs from both the \"only breast\" and \"both\" groups.\n"
   ]
  },
  {
   "cell_type": "markdown",
   "id": "bc6ad226",
   "metadata": {},
   "source": [
    "<a id=\"4.3\"></a>\n",
    "\n",
    "## 4.3) Mann Whitney U / Wilcoxon rank-sum test\n",
    "\n",
    "<a id=\"4.3.1\"></a>\n",
    "\n",
    "### 4.3.1) Definition\n",
    "\n",
    "* <u>**The Mann-Whitney U test**</u> **:** also known as the **Wilcoxon rank-sum test,** is a non-parametric statistical test used to compare the means of two independent groups when the assumptions of the independent t-test are not met (e.g., when the data is not normally distributed or the variances are not equal).\n",
    "\n",
    "\n",
    "#### Assumptions\n",
    "\n",
    "The Mann-Whitney U test does not assume normality or homogeneity of variances. However, it does assume that the observations in each group are independent.\n",
    "\n",
    "#### Hypotheses\n",
    "\n",
    "- **Null Hypothesis $(H_0)$ :** The distributions of both groups are equal.\n",
    "- **Alternative Hypothesis $(H_1)$ :** The distributions of both groups are not equal.\n",
    "\n",
    "#### Test Statistic\n",
    "\n",
    "The test statistic for the Mann-Whitney U test is based on the ranks of the observations in the combined sample of the two groups. The $U$ statistic is calculated as the sum of the ranks of the observations in one group, and it is compared to a critical value to determine statistical significance.\n"
   ]
  },
  {
   "cell_type": "markdown",
   "id": "be63a2da",
   "metadata": {},
   "source": [
    "<a id=\"4.3.2\"></a>\n",
    "\n",
    "### 4.3.2) Example of Mann Whitney U test\n",
    "\n",
    "![](3.jpg)\n",
    "\n",
    "A human resource specialist at a technology company is interested in comparing the overtime hours of different teams. To explore whether there's a difference between the overtime hours of the software development team and the test team, the specialist randomly selected 17 employees from each team and recorded their weekly average overtime hours. The data is provided below.\n",
    "\n",
    "tester_team = [6.5, 7.0, 1.8, 2.2, 2.4, 1.9, 1.7, 6.3, 2.6, 2.2, 12.1, 1.6, 5.1, 3.3, 9.0, 2.5, 4.0]\n",
    "\n",
    "developer_team = [2.2, 2.0, 1.5, 2.1, 8.5, 2.3, 3.0, 4.0, 3.5, 2.4, 3.0, 6.0, 12.0, 4.0, 2.0, 1.3, 3.3]\n",
    "\n",
    "Based on this data, perform hypothesis testing to examine whether there exists a difference in the overtime hours between two teams, utilizing a significance level of 0.05. Before proceeding with hypothesis testing, ensure to verify the associated assumptions.\n",
    "\n",
    "#### <u>1. Defining Hypotheses</u>\n",
    "\n",
    "* Null Hypothesis $H_0$ : The mean of the two samples is the same\n",
    "\n",
    "$$H_0 : \\mu_t = \\mu_d$$\n",
    "\n",
    "* Alternative Hypothesis $H_1$ : The two samples have different means\n",
    "\n",
    "$$H_1 : \\mu_t \\neq \\mu_d$$\n",
    "\n",
    "\n",
    "#### <u>2. Assumptions Check</u>\n",
    "\n",
    "* **Normality :**\n",
    "\n",
    "$H_0 :$ \"The data is normally distributed\" (The overtime data for both teams should follow a normal distribution.)\n",
    "\n",
    "$H_1 :$ \"The data is **NOT** normally distributed\"\n",
    "\n",
    "* **Homoscedasticity :**\n",
    "\n",
    "$H_0 :$ \"The variances of the samples are the same\" (The variance in overtime hours should be approximately equal between the two teams.)\n",
    "\n",
    "$H_1 :$ \"The variances of the samples are different\""
   ]
  },
  {
   "cell_type": "code",
   "execution_count": 14,
   "id": "8bd1b83e",
   "metadata": {},
   "outputs": [
    {
     "name": "stdout",
     "output_type": "stream",
     "text": [
      "p value:0.0042\n",
      "Reject null hypothesis => The data is not normally distributed\n",
      "p value:0.0003\n",
      "Reject null hypothesis => The data is not normally distributed\n",
      "p value:0.5592\n",
      "Fail to reject null hypothesis => The variances of the samples are same.\n"
     ]
    }
   ],
   "source": [
    "tester_team = np.array([6.5, 7.0, 1.8, 2.2, 2.4, 1.9, 1.7, 6.3, 2.6, 2.2, 12.1, 1.6, 5.1, 3.3, 9.0, 2.5, 4.0])\n",
    "developer_team = np.array([2.2, 2.0, 1.5, 2.1, 8.5, 2.3, 3.0, 4.0, 3.5, 2.4, 3.0, 6.0, 12.0, 4.0, 2.0, 1.3, 3.3])\n",
    "\n",
    "# Normality check\n",
    "normality_check(tester_team)\n",
    "normality_check(developer_team)\n",
    "\n",
    "# Homoscedasticity check\n",
    "variance_check_homogeneity(tester_team, developer_team)"
   ]
  },
  {
   "cell_type": "markdown",
   "id": "214376d4",
   "metadata": {},
   "source": [
    "#### <u>3. Selecting the proper test</u>\n",
    "\n",
    "Since there are two groups with data collected from different individuals, it's **unpaired.** However, the normality assumption is not met. Therefore, we should use the non-parametric version of a two-group comparison for unpaired data, which is the **Mann-Whitney U test.**"
   ]
  },
  {
   "cell_type": "code",
   "execution_count": 15,
   "id": "f7614c18",
   "metadata": {},
   "outputs": [
    {
     "name": "stdout",
     "output_type": "stream",
     "text": [
      "p-value : 0.6540\n",
      "Fail to reject the null hypothesis\n"
     ]
    }
   ],
   "source": [
    "ttest, p_value = stats.mannwhitneyu(x = tester_team,\n",
    "                                  y = developer_team,\n",
    "                                  alternative = \"two-sided\")\n",
    "\n",
    "print(\"p-value : %.4f\"%p_value)\n",
    "if p_value < 0.05 :\n",
    "    print(\"Reject the null hypothesis\")\n",
    "else :\n",
    "    print(\"Fail to reject the null hypothesis\")"
   ]
  },
  {
   "cell_type": "markdown",
   "id": "4be89357",
   "metadata": {},
   "source": [
    "#### <u>4. Decision and Conclusion</u>\n",
    "\n",
    "At this significance level, there is no statistically significant difference between the average overtime hours of the two teams."
   ]
  },
  {
   "cell_type": "markdown",
   "id": "399119bf",
   "metadata": {},
   "source": [
    "<a id=\"4.4\"></a>\n",
    "\n",
    "## 4.4) Kruskal-Wallis test\n",
    "\n",
    "<a id=\"4.4.1\"></a>\n",
    "\n",
    "### 4.4.1) Definition\n",
    "\n",
    "* <u>**Kruskal-Wallis test**</u> **:** is a non-parametric statistical test used to compare the means of three or more independent groups when the assumptions of the one-way ANOVA are not met (e.g., when the data is not normally distributed or the variances are not equal). It is often referred to as the non-parametric equivalent of the one-way ANOVA.\n",
    "\n",
    "#### Assumptions\n",
    "\n",
    "The Kruskal-Wallis test does not assume normality or homogeneity of variances. However, it does assume that the observations in each group are independent.\n",
    "\n",
    "#### Hypotheses\n",
    "\n",
    "- **Null Hypothesis $(H_0)$ :** The distributions of all groups are equal.\n",
    "- **Alternative Hypothesis $(H_1)$ :** At least one group's distribution is different from the others.\n",
    "\n",
    "#### Test Statistic\n",
    "\n",
    "The test statistic for the Kruskal-Wallis test is based on the ranks of the observations in the combined sample of the groups. It compares the average ranks between groups to determine if there are significant differences.\n"
   ]
  },
  {
   "cell_type": "markdown",
   "id": "5b665956",
   "metadata": {},
   "source": [
    "<a id=\"4.4.2\"></a>\n",
    "\n",
    "### 4.4.2) Example of Kruskal-Wallis test\n",
    "\n",
    "![](4.jpg)\n",
    "\n",
    "An e-commerce company frequently advertises its campaigns on YouTube, Instagram, and Facebook. However, the new manager is curious about whether there is any difference in the number of customers attracted by these platforms. Consequently, she began utilizing \"Adjust\", an application that provides insights to find out where the users came from. The daily numbers reported from Adjust for each platform are as follows :\n",
    "\n",
    "Youtube = [1905, 1885, 1945, 2135, 2045, 2125, 2120, 2150, 2030, 1980, 1950, 2140, 2155, 1945, 2135]\n",
    "\n",
    "Instagram = [2295, 2365, 2205, 2225, 2195, 2425, 2380, 2415, 2335, 2355, 2245, 2400, 2235, 2270, 2275]\n",
    "\n",
    "Facebook = [2125, 2530, 2110, 2555, 2285, 2375, 2450, 2315, 2180, 2120, 2055, 2435, 2270, 2105, 2535]\n",
    "\n",
    "Based on this data, perform hypothesis testing to examine whether there are differences in the average customer acquisition across the three platforms, using a significance level of 0.05. Should a significant difference be observed, conduct additional analysis to detect the underlying cause. Prior to hypothesis testing, ensure to validate the relevant assumptions.\n",
    "\n",
    "#### <u>1. Defining Hypotheses</u>\n",
    "\n",
    "* Null Hypothesis $H_0$ : The mean of the samples is the same\n",
    "\n",
    "$$H_0 : \\mu_Y = \\mu_I = \\mu_F$$\n",
    "\n",
    "* Alternative Hypothesis $H_1$ : At least one of them is different\n",
    "\n",
    "$$H_1 : \\mu_Y \\neq \\mu_I \\quad or \\quad \\mu_Y \\neq \\mu_F \\quad or \\quad \\mu_I \\neq \\mu_F$$\n",
    "\n",
    "\n",
    "#### <u>2. Assumptions Check</u>\n",
    "\n",
    "* **Normality :**\n",
    "\n",
    "$H_0 :$ \"The data is normally distributed\" (The number of customers acquired from each platform should follow a normal distribution.)\n",
    "\n",
    "$H_1 :$ \"The data is **NOT** normally distributed\"\n",
    "\n",
    "* **Homoscedasticity :**\n",
    "\n",
    "$H_0 :$ \"The variances of the samples are the same\" (The variance in the number of customers acquired should be approximately equal between the three platforms.)\n",
    "\n",
    "$H_1 :$ \"The variances of the samples are different\""
   ]
  },
  {
   "cell_type": "code",
   "execution_count": 16,
   "id": "4a5c1475",
   "metadata": {},
   "outputs": [
    {
     "name": "stdout",
     "output_type": "stream",
     "text": [
      "p value:0.0258\n",
      "Reject null hypothesis => The data is not normally distributed\n",
      "p value:0.2898\n",
      "Fail to reject null hypothesis => The data is normally distributed\n",
      "p value:0.1402\n",
      "Fail to reject null hypothesis => The data is normally distributed\n",
      "p-value : 0.0015\n",
      "Reject the null hypothesis => The variances of the samples are different.\n"
     ]
    }
   ],
   "source": [
    "youtube = np.array([1905, 1885, 1945, 2135, 2045, 2125, 2120, 2150, 2030, 1980, 1950, 2140, 2155, 1945, 2135])\n",
    "instagram = np.array([2295, 2365, 2205, 2225, 2195, 2425, 2380, 2415, 2335, 2355, 2245, 2400, 2235, 2270, 2275])\n",
    "facebook = np.array([2125, 2530, 2110, 2555, 2285, 2375, 2450, 2315, 2180, 2120, 2055, 2435, 2270, 2105, 2535])\n",
    "\n",
    "# Normality check\n",
    "normality_check(youtube)\n",
    "normality_check(instagram)\n",
    "normality_check(facebook)\n",
    "\n",
    "# Homoscedasticity check\n",
    "stat, p_value_levene = stats.levene(youtube, instagram, facebook)\n",
    "print(\"p-value : %.4f\"%p_value_levene)\n",
    "if p_value_levene < 0.05 :\n",
    "    print(\"Reject the null hypothesis => The variances of the samples are different.\")\n",
    "else :\n",
    "    print(\"Fail to reject the null hypothesis => The variances of the samples are the same.\")"
   ]
  },
  {
   "cell_type": "markdown",
   "id": "3bd49391",
   "metadata": {},
   "source": [
    "#### <u>3. Selecting the proper test</u>\n",
    "\n",
    "Since the assumptions of normality and variance homogeneity are not met, we should employ the non-parametric version of ANOVA for unpaired data, as the data is collected from different sources, which is the **Kruskal-Wallis test.**"
   ]
  },
  {
   "cell_type": "code",
   "execution_count": 17,
   "id": "fd6bd92d",
   "metadata": {},
   "outputs": [
    {
     "name": "stdout",
     "output_type": "stream",
     "text": [
      "p-value : 0.000019\n",
      "Reject the null hypothesis\n"
     ]
    }
   ],
   "source": [
    "F_test, p_value = stats.kruskal(youtube, instagram, facebook)\n",
    "print(\"p-value : %.6f\"%p_value)\n",
    "if p_value <0.05 :\n",
    "    print(\"Reject the null hypothesis\")\n",
    "else : \n",
    "    print(\"Fail to reject the null hypothesis\")"
   ]
  },
  {
   "cell_type": "markdown",
   "id": "fd682ede",
   "metadata": {},
   "source": [
    "#### <u>4. Decision and Conclusion</u>\n",
    "\n",
    "At this significance level, there is evidence to suggest that at least one of the average customer acquisition numbers differs across the platforms.\n",
    "\n",
    "**Note :** Due to the non-normality of the data, the **non-parametric version of the posthoc test** is employed."
   ]
  },
  {
   "cell_type": "code",
   "execution_count": 18,
   "id": "c040d564",
   "metadata": {},
   "outputs": [
    {
     "data": {
      "text/html": [
       "<style type=\"text/css\">\n",
       "#T_9e018_row0_col0, #T_9e018_row1_col1, #T_9e018_row1_col2, #T_9e018_row2_col1, #T_9e018_row2_col2 {\n",
       "  background-color: white;\n",
       "}\n",
       "#T_9e018_row0_col1, #T_9e018_row0_col2, #T_9e018_row1_col0, #T_9e018_row2_col0 {\n",
       "  background-color: red;\n",
       "}\n",
       "</style>\n",
       "<table id=\"T_9e018\">\n",
       "  <thead>\n",
       "    <tr>\n",
       "      <th class=\"blank level0\" >&nbsp;</th>\n",
       "      <th id=\"T_9e018_level0_col0\" class=\"col_heading level0 col0\" >Youtube</th>\n",
       "      <th id=\"T_9e018_level0_col1\" class=\"col_heading level0 col1\" >Instagram</th>\n",
       "      <th id=\"T_9e018_level0_col2\" class=\"col_heading level0 col2\" >Facebook</th>\n",
       "    </tr>\n",
       "  </thead>\n",
       "  <tbody>\n",
       "    <tr>\n",
       "      <th id=\"T_9e018_level0_row0\" class=\"row_heading level0 row0\" >Youtube</th>\n",
       "      <td id=\"T_9e018_row0_col0\" class=\"data row0 col0\" >1.000000</td>\n",
       "      <td id=\"T_9e018_row0_col1\" class=\"data row0 col1\" >0.000010</td>\n",
       "      <td id=\"T_9e018_row0_col2\" class=\"data row0 col2\" >0.003134</td>\n",
       "    </tr>\n",
       "    <tr>\n",
       "      <th id=\"T_9e018_level0_row1\" class=\"row_heading level0 row1\" >Instagram</th>\n",
       "      <td id=\"T_9e018_row1_col0\" class=\"data row1 col0\" >0.000010</td>\n",
       "      <td id=\"T_9e018_row1_col1\" class=\"data row1 col1\" >1.000000</td>\n",
       "      <td id=\"T_9e018_row1_col2\" class=\"data row1 col2\" >1.000000</td>\n",
       "    </tr>\n",
       "    <tr>\n",
       "      <th id=\"T_9e018_level0_row2\" class=\"row_heading level0 row2\" >Facebook</th>\n",
       "      <td id=\"T_9e018_row2_col0\" class=\"data row2 col0\" >0.003134</td>\n",
       "      <td id=\"T_9e018_row2_col1\" class=\"data row2 col1\" >1.000000</td>\n",
       "      <td id=\"T_9e018_row2_col2\" class=\"data row2 col2\" >1.000000</td>\n",
       "    </tr>\n",
       "  </tbody>\n",
       "</table>\n"
      ],
      "text/plain": [
       "<pandas.io.formats.style.Styler at 0x25a2e407130>"
      ]
     },
     "execution_count": 18,
     "metadata": {},
     "output_type": "execute_result"
    }
   ],
   "source": [
    "import scikit_posthocs as sp\n",
    "\n",
    "df_posthoc = sp.posthoc_mannwhitney([youtube, instagram, facebook],\n",
    "                                   p_adjust = \"bonferroni\")\n",
    "\n",
    "company_names = [\"Youtube\", \"Instagram\", \"Facebook\"]\n",
    "df_posthoc.columns = company_names\n",
    "df_posthoc.index = company_names\n",
    "\n",
    "df_posthoc.style.applymap(lambda x : \"background-color:red\" if x<0.05 else \"background-color:white\")\n"
   ]
  },
  {
   "cell_type": "markdown",
   "id": "fa96eb8d",
   "metadata": {},
   "source": [
    "The average number of customers coming from YouTube is significantly different from the others, being notably smaller."
   ]
  },
  {
   "cell_type": "markdown",
   "id": "83f09e3d",
   "metadata": {},
   "source": [
    "\n",
    "<a id=\"4.5\"></a>\n",
    "\n",
    "## 4.5) Dependent t-Test / Paired t-Test\n",
    "\n",
    "<a id=\"4.5.1\"></a>\n",
    "\n",
    "### 4.5.1) Definition\n",
    "\n",
    "* <u>**Dependent t-test**</u> **:** also known as the **paired t-test,** is a statistical test used to compare the means of two related groups to determine if there is a statistically significant difference between them. This test is appropriate when the same subjects are measured before and after an intervention or treatment, or when the measurements are matched in some way.\n",
    "\n",
    "#### Assumptions\n",
    "\n",
    "1. **Dependent Observations :** The observations in each group should be dependent or paired in some way. Typically, this means that each subject is measured under two different conditions.\n",
    "2. **Normality :** The differences between pairs of observations should be approximately normally distributed.\n",
    "3. **Homogeneity of Differences :** The differences between pairs of observations should have a constant variance.\n",
    "\n",
    "#### Hypotheses\n",
    "\n",
    "- **Null Hypothesis $(H_0)$ :** The mean difference between paired observations is zero $(\\mu_d =0)$.\n",
    "- **Alternative Hypothesis $(H_1)$ :** The mean difference between paired observations is not zero $(\\mu_d \\neq 0)$ for a two-tailed test, or $(\\mu_d > 0)$ or $(\\mu_d < 0)$ for a one-tailed test.\n",
    "\n",
    "#### Test Statistic\n",
    "\n",
    "The test statistic for the dependent t-test is calculated as follows :\n",
    "\n",
    "$$\n",
    "t = \\frac{\\bar{d}}{\\frac{s_d}{\\sqrt{n}}}\n",
    "$$\n",
    "\n",
    "where:\n",
    "- $\\bar{d} = \\bar{X_2}-\\bar{X_1}$ is the mean difference between paired observations,\n",
    "- $s_d$ is the standard deviation of the differences between paired observations,\n",
    "- $n$ is the number of pairs.\n"
   ]
  },
  {
   "cell_type": "markdown",
   "id": "180eb82c",
   "metadata": {},
   "source": [
    "<a id=\"4.5.2\"></a>\n",
    "\n",
    "### 4.5.2) Example of a Dependent t-Test (Paired t-Test)\n",
    "\n",
    "![](5.jpg)\n",
    "\n",
    "Eighteen students diagnosed with high cholesterol at the University Health Center were advised by healthcare personnel about the risks associated with high cholesterol and were prescribed a diet program. After one month, the patients returned for a follow-up, during which their cholesterol levels were reevaluated. Test whether there is a change in the cholesterol levels of the patients after the diet intervention.\n",
    "\n",
    "Based on this information, perform hypothesis testing to determine whether there is a reduction in the cholesterol levels of the patients following the diet, using a significance level of 0.05. Prior to hypothesis testing, assess the relevant assumptions. Provide commentary on the results.\n",
    "\n",
    "results_before_diet = [226, 233, 220, 252, 254, 220, 242, 227, 258, 222, 240, 238, 237, 230, 274, 252, 236, 228]\n",
    "\n",
    "results_after_diet = [196, 197, 215, 189, 245, 207, 224, 198, 212, 209, 187, 204, 201, 219, 191, 197, 193, 220]\n",
    "\n",
    "Since the same individuals are being measured before and after the diet, the observations are paired.\n",
    "\n",
    "#### <u>1. Defining Hypotheses</u>\n",
    "\n",
    "* Null Hypothesis $H_0$ : The true mean difference $\\mu_d = \\mu_{\\text{after}} - \\mu_{\\text{before}}$ is equal to or bigger than zero.\n",
    "\n",
    "$$H_0 : \\mu_d \\geq 0$$\n",
    "\n",
    "* Alternative Hypothesis $H_1$ : The true mean difference is smaller than zero\n",
    "\n",
    "$$H_1 : \\mu_d <0 $$\n",
    "\n",
    "\n",
    "#### <u>2. Assumptions Check</u>\n",
    "\n",
    "* **Continuity :**\n",
    "\n",
    "The dependent variable must be **continuous (interval/ratio).**\n",
    "\n",
    "* **Independence :**\n",
    "\n",
    "The observations are **independent of one another.**\n",
    "\n",
    "* **Normality :**\n",
    "\n",
    "The dependent variable should be approximately **normally distributed**\n",
    "\n",
    "$H_0 :$ \"The data is normally distributed\" (The cholesterol level data should follow a normal distribution.)\n",
    "\n",
    "$H_1 :$ \"The data is **NOT** normally distributed\"\n"
   ]
  },
  {
   "cell_type": "code",
   "execution_count": 19,
   "id": "740f6fcf",
   "metadata": {},
   "outputs": [
    {
     "name": "stdout",
     "output_type": "stream",
     "text": [
      "p value:0.2104\n",
      "Fail to reject null hypothesis => The data is normally distributed\n",
      "p value:0.1441\n",
      "Fail to reject null hypothesis => The data is normally distributed\n"
     ]
    }
   ],
   "source": [
    "before_diet = np.array([226, 233, 220, 252, 254, 220, 242, 227, 258, 222, 240, 238, 237, 230, 274, 252, 236, 228])\n",
    "after_diet = np.array([196, 197, 215, 189, 245, 207, 224, 198, 212, 209, 187, 204, 201, 219, 191, 197, 193, 220])\n",
    "\n",
    "# normality check\n",
    "\n",
    "normality_check(before_diet)\n",
    "normality_check(after_diet)"
   ]
  },
  {
   "cell_type": "markdown",
   "id": "98e92584",
   "metadata": {},
   "source": [
    "#### <u>3. Selecting the proper test</u>\n",
    "\n",
    "The data is paired as it is collected from the same individuals, and the assumptions are satisfied. Therefore, we can employ the **dependent t-test.**"
   ]
  },
  {
   "cell_type": "code",
   "execution_count": 20,
   "id": "43ac189e",
   "metadata": {},
   "outputs": [
    {
     "name": "stdout",
     "output_type": "stream",
     "text": [
      "p-value : 0.000008 one-tailed p-value : 0.000004\n",
      "One-sided p-value : 0.000004\n",
      "Reject null hypotheses\n"
     ]
    }
   ],
   "source": [
    "# ttest_rel : Calculate the t-test on TWO RELATED samples of scores, a and b.\n",
    "test_stat, p_value_paired = stats.ttest_rel(a = before_diet, b = after_diet)\n",
    "\n",
    "#  since by default we have : alternative='two-sided'\n",
    "print(\"p-value : %.6f\"%p_value_paired, \"one-tailed p-value : %.6f\"%(p_value_paired/2))\n",
    "\n",
    "\n",
    "\n",
    "# 'greater': the mean of the distribution underlying the first sample\n",
    "# is greater than the mean of the distribution underlying the second sample.\n",
    "test_stat, p_value_paired = stats.ttest_rel(a = before_diet, b = after_diet, alternative=\"greater\")\n",
    "print(\"One-sided p-value : %.6f\"%p_value_paired)\n",
    "\n",
    "if p_value < 0.05 :\n",
    "    print(\"Reject null hypotheses\")\n",
    "else :\n",
    "    print(\"Fail to reject null hypothesis\")"
   ]
  },
  {
   "cell_type": "markdown",
   "id": "50e96a71",
   "metadata": {},
   "source": [
    "#### <u>4. Decision and Conclusion</u>\n",
    "\n",
    "At this significance level, there is sufficient evidence to conclude that the mean cholesterol level of patients has decreased after the diet."
   ]
  },
  {
   "cell_type": "markdown",
   "id": "d9ed1800",
   "metadata": {},
   "source": [
    "<a id=\"4.6\"></a>\n",
    "\n",
    "## 4.6) Wilcoxon Signed-Rank test\n",
    "\n",
    "<a id=\"4.6.1\"></a>\n",
    "\n",
    "### 4.6.1) Definition\n",
    "\n",
    "* <u>**Wilcoxon Signed-Rank test**</u> **:** is a non-parametric statistical test used to compare the means of two related groups to determine if there is a statistically significant difference between them. This test is appropriate when the same subjects are measured before and after an intervention or treatment, or when the measurements are matched in some way.\n",
    "\n",
    "#### Assumptions\n",
    "\n",
    "1. **Continuous Data :** The data should be measured on at least an ordinal scale.\n",
    "2. **Dependent Observations :** The observations in each group should be dependent or paired in some way.\n",
    "3. **Random Sampling :** The data should be collected through a random sampling method.\n",
    "\n",
    "\n",
    "#### Hypotheses\n",
    "\n",
    "- **Null Hypothesis $(H_0)$ :** There is no difference between the paired observations $(\\mu_d =0)$.\n",
    "- **Alternative Hypothesis $(H_1)$ :** There is a difference between the paired observations $(\\mu_d \\neq 0)$ for a two-tailed test, or $(\\mu_d > 0)$ or $(\\mu_d < 0)$ for a one-tailed test.\n",
    "\n",
    "#### Test Statistic\n",
    "\n",
    "The test statistic for the Wilcoxon Signed-Rank test is based on the ranks of the absolute differences between paired observations. It compares the sum of the positive ranks to the sum of the negative ranks.\n"
   ]
  },
  {
   "cell_type": "markdown",
   "id": "209e756c",
   "metadata": {},
   "source": [
    "<a id=\"4.6.2\"></a>\n",
    "\n",
    "### 4.6.2) Example of Wilcoxon Signed-Rank test\n",
    "\n",
    "![](6.png)\n",
    "\n",
    "A venture capitalist is considering investing in a startup that offers data compression without any loss in quality. However, two competitors, \"Pied Piper\" and \"EndFrame\", are also in the market. Initially, she speculated that EndFrame's performance might be superior but wished to verify this before making any investment decisions. Consequently, she provided the same files to each company for compression and recorded their performance scores. The data is provided below.\n",
    "\n",
    "pied_piper = [4.55, 4.53, 5.45, 4.65, 5.39, 5.53, 5.51, 5.61, 3.84, 3.95, 5.42, 3.91, 5.29, 5.15, 4.37, 4.26, 5.23]\n",
    "\n",
    "endframe = [4.25, 3.91, 3.99, 4.05, 3.85, 3.98, 3.98, 3.70, 4.14, 4.08, 3.88, 3.95, 4.06, 3.94, 3.94, 3.75, 4.07]\n",
    "\n",
    "Based on this data, perform the relevant hypothesis testing using a significance level of 0.05. Prior to conducting the hypothesis testing, ensure to validate the relevant assumptions. Provide commentary on the results afterward.\n",
    "\n",
    "Since the performance scores are derived from the same set of files, the data is paired.\n",
    "\n",
    "#### <u>1. Defining Hypotheses</u>\n",
    "\n",
    "* Null Hypothesis $H_0$ : The true mean difference $\\mu_d = \\mu_{\\text{EndFrame}} - \\mu_{\\text{Pied Paper}}$ is equal to or bigger than zero.\n",
    "\n",
    "$$H_0 : \\mu_d \\geq 0$$\n",
    "\n",
    "* Alternative Hypothesis $H_1$ : The true mean difference is smaller than zero\n",
    "\n",
    "$$H_1 : \\mu_d <0 $$\n",
    "\n",
    "\n",
    "#### <u>2. Assumptions Check</u>\n",
    "\n",
    "* **Continuity :**\n",
    "\n",
    "The dependent variable must be **continuous (interval/ratio).**\n",
    "\n",
    "* **Independence :**\n",
    "\n",
    "The observations are **independent of one another.** (The performance scores for each company should be independent of each other.)\n",
    "\n",
    "* **Normality :**\n",
    "\n",
    "The dependent variable should be approximately **normally distributed**\n",
    "\n",
    "$H_0 :$ \"The data is normally distributed\" (The performance scores for both companies should follow a normal distribution.)\n",
    "\n",
    "$H_1 :$ \"The data is **NOT** normally distributed\""
   ]
  },
  {
   "cell_type": "code",
   "execution_count": 21,
   "id": "bd49881a",
   "metadata": {},
   "outputs": [
    {
     "name": "stdout",
     "output_type": "stream",
     "text": [
      "p value:0.0304\n",
      "Reject null hypothesis => The data is not normally distributed\n",
      "p value:0.9587\n",
      "Fail to reject null hypothesis => The data is normally distributed\n"
     ]
    }
   ],
   "source": [
    "pied_piper = np.array([4.55, 4.53, 5.45, 4.65, 5.39, 5.53, 5.51, 5.61, 3.84, 3.95, 5.42, 3.91, 5.29, 5.15, 4.37, 4.26, 5.23])\n",
    "endframe = np.array([4.25, 3.91, 3.99, 4.05, 3.85, 3.98, 3.98, 3.70, 4.14, 4.08, 3.88, 3.95, 4.06, 3.94, 3.94, 3.75, 4.07])\n",
    "\n",
    "# normality check\n",
    "normality_check(pied_piper)\n",
    "normality_check(endframe)\n"
   ]
  },
  {
   "cell_type": "markdown",
   "id": "3bb6c704",
   "metadata": {},
   "source": [
    "#### <u>3. Selecting the proper test</u>\n",
    "\n",
    "Since the normality assumption is not met, we should use the non-parametric version of the paired test, which is the **Wilcoxon Signed-Rank test.**"
   ]
  },
  {
   "cell_type": "code",
   "execution_count": 22,
   "id": "29b05a63",
   "metadata": {},
   "outputs": [
    {
     "name": "stdout",
     "output_type": "stream",
     "text": [
      "p-value : 0.000214 => one-tailed p-value : 0.000107\n"
     ]
    }
   ],
   "source": [
    "# alternative =\"two-sided\" by default in stats.wilcoxon\n",
    "test, p_value = stats.wilcoxon(x = endframe, y = pied_piper)\n",
    "print(\"p-value : %.6f\"%p_value, \"=> one-tailed p-value : %.6f\"%(p_value/2))"
   ]
  },
  {
   "cell_type": "code",
   "execution_count": 23,
   "id": "f831d616",
   "metadata": {},
   "outputs": [
    {
     "name": "stdout",
     "output_type": "stream",
     "text": [
      "One-sided p-value : 0.000107\n",
      "Reject null hypotheses\n"
     ]
    }
   ],
   "source": [
    "# `d` represent the difference between the paired samples: `d = x - y`\n",
    "# 'less': the distribution underlying ``d`` is stochastically less than a distribution symmetric about zero.\n",
    "\n",
    "test, p_value = stats.wilcoxon(x = endframe, y = pied_piper, alternative = \"less\")\n",
    "print(\"One-sided p-value : %.6f\"%p_value)\n",
    "if p_value < 0.05 :\n",
    "    print(\"Reject null hypotheses\")\n",
    "else :\n",
    "    print(\"Fail to reject null hypothesis\")"
   ]
  },
  {
   "cell_type": "markdown",
   "id": "8039f96e",
   "metadata": {},
   "source": [
    "#### <u>4. Decision and Conclusion</u>\n",
    "\n",
    "At this significance level, there is sufficient evidence to conclude that the performance of \"Pied Piper\" is superior to that of \"EndFrame\"."
   ]
  },
  {
   "cell_type": "markdown",
   "id": "922baa3e",
   "metadata": {},
   "source": [
    "<a id=\"4.7\"></a>\n",
    "\n",
    "## 4.7) Friedman $\\chi$² (Chi-Square)\n",
    "\n",
    "<a id=\"4.7.1\"></a>\n",
    "\n",
    "### 4.7.1) Definition\n",
    "\n",
    "* <u>**Friedman's Chi-Square Test**</u> **:** also known simply as **Friedman Test** generally refer to the same statistical test. The Friedman Test is a non-parametric alternative to the repeated measures ANOVA (Analysis of Variance) test, used to determine whether there are statistically significant differences between the means of three or more paired groups. It's named after the statistician Milton Friedman. It is often used when the data is ordinal and the observations are dependent.\n",
    "\n",
    "#### Assumptions\n",
    "\n",
    "1. **Continuous Data**: The data should be measured on at least an ordinal scale.\n",
    "2. **Dependent Observations**: The observations in each group should be dependent or paired in some way.\n",
    "3. **Random Sampling**: The data should be collected through a random sampling method.\n",
    "\n",
    "\n",
    "#### Hypotheses\n",
    "\n",
    "- **Null Hypothesis $(H_0)$ :** There is no difference between the paired groups.\n",
    "- **Alternative Hypothesis $(H_1)$ :** There is a difference between the paired groups.\n",
    "\n",
    "#### Test Statistic\n",
    "\n",
    "The test statistic for Friedman's Chi-Square Test is based on the ranks of the observations within each group. It compares the mean ranks of the groups to determine if there are significant differences.\n"
   ]
  },
  {
   "cell_type": "markdown",
   "id": "0ab4f506",
   "metadata": {},
   "source": [
    "<a id=\"4.7.2\"></a>\n",
    "\n",
    "### 4.7.2) Example of Friedman $\\chi$² (Chi-Square)\n",
    "\n",
    "![](7.png)\n",
    "\n",
    "The researcher wanted to investigate whether there is a difference between the performance of the methodology they developed, $C,$ and the baseline methods $A$ and $B.$ To do this, the researcher conducted various experiments and recorded the achieved accuracy of each method on test sets. The table below displays the accuracy achieved by each method. It's important to note that the same train and test sets were used for each method.\n",
    "\n",
    "| Experiment |    A    |    B    |    C    |\n",
    "|------------|---------|---------|---------|\n",
    "| E1         |  89.7   |  90.0   |  91.5   |\n",
    "| E2         |  89.8   |  90.1   |  90.7   |\n",
    "| E3         |  88.9   |  88.8   |  90.3   |\n",
    "| E4         |  88.6   |  88.9   |  90.4   |\n",
    "| E5         |  89.5   |  89.9   |  90.2   |\n",
    "| E6         |  89.6   |  90.0   |  90.3   |\n",
    "| E7         |  89.3   |  89.0   |  90.2   |\n",
    "| E8         |  89.4   |  89.2   |  90.3   |\n",
    "\n",
    "\n",
    "Based on this data, perform hypothesis testing to assess whether there exists a discrepancy in the performance of the methods, utilizing a significance level of 0.05. In case of a significant difference, conduct additional analysis to pinpoint which method is responsible for the disparity. Prior to hypothesis testing, validate the relevant assumptions. Provide commentary on the outcomes.\n",
    "\n",
    "Since the accuracy scores are obtained from the same test sets, the data is paired.\n",
    "\n",
    "#### <u>1. Defining Hypotheses</u>\n",
    "\n",
    "* Null Hypothesis $H_0$ : The mean of the samples is the same\n",
    "\n",
    "$$H_0 : \\mu_A = \\mu_B = \\mu_C$$\n",
    "\n",
    "* Alternative Hypothesis $H_1$ : At least one of them is different\n",
    "\n",
    "$$H_1 : \\mu_A \\neq \\mu_B \\quad or \\quad \\mu_A \\neq \\mu_C \\quad or \\quad \\mu_B \\neq \\mu_C$$\n",
    "\n",
    "\n",
    "#### <u>2. Assumptions Check</u>\n",
    "\n",
    "* **Normality :**\n",
    "\n",
    "$H_0 :$ \"The data is normally distributed\" (The accuracy data for each method should follow a normal distribution.)\n",
    "\n",
    "$H_1 :$ \"The data is **NOT** normally distributed\"\n",
    "\n",
    "* **Homoscedasticity :**\n",
    "\n",
    "$H_0 :$ \"The variances of the samples are the same\" (The variances in accuracy should be approximately equal between the methods.)\n",
    "\n",
    "$H_1 :$ \"The variances of the samples are different\""
   ]
  },
  {
   "cell_type": "code",
   "execution_count": 24,
   "id": "65684863",
   "metadata": {},
   "outputs": [
    {
     "data": {
      "text/html": [
       "<div>\n",
       "<style scoped>\n",
       "    .dataframe tbody tr th:only-of-type {\n",
       "        vertical-align: middle;\n",
       "    }\n",
       "\n",
       "    .dataframe tbody tr th {\n",
       "        vertical-align: top;\n",
       "    }\n",
       "\n",
       "    .dataframe thead th {\n",
       "        text-align: right;\n",
       "    }\n",
       "</style>\n",
       "<table border=\"1\" class=\"dataframe\">\n",
       "  <thead>\n",
       "    <tr style=\"text-align: right;\">\n",
       "      <th></th>\n",
       "      <th>Experiment</th>\n",
       "      <th>A</th>\n",
       "      <th>B</th>\n",
       "      <th>C</th>\n",
       "    </tr>\n",
       "  </thead>\n",
       "  <tbody>\n",
       "    <tr>\n",
       "      <th>1</th>\n",
       "      <td>E1</td>\n",
       "      <td>89.7</td>\n",
       "      <td>90.0</td>\n",
       "      <td>91.5</td>\n",
       "    </tr>\n",
       "    <tr>\n",
       "      <th>2</th>\n",
       "      <td>E2</td>\n",
       "      <td>89.8</td>\n",
       "      <td>90.1</td>\n",
       "      <td>90.7</td>\n",
       "    </tr>\n",
       "    <tr>\n",
       "      <th>3</th>\n",
       "      <td>E3</td>\n",
       "      <td>88.9</td>\n",
       "      <td>88.8</td>\n",
       "      <td>90.3</td>\n",
       "    </tr>\n",
       "    <tr>\n",
       "      <th>4</th>\n",
       "      <td>E4</td>\n",
       "      <td>88.6</td>\n",
       "      <td>88.9</td>\n",
       "      <td>90.4</td>\n",
       "    </tr>\n",
       "    <tr>\n",
       "      <th>5</th>\n",
       "      <td>E5</td>\n",
       "      <td>89.5</td>\n",
       "      <td>89.9</td>\n",
       "      <td>90.2</td>\n",
       "    </tr>\n",
       "    <tr>\n",
       "      <th>6</th>\n",
       "      <td>E6</td>\n",
       "      <td>89.6</td>\n",
       "      <td>90.0</td>\n",
       "      <td>90.3</td>\n",
       "    </tr>\n",
       "    <tr>\n",
       "      <th>7</th>\n",
       "      <td>E7</td>\n",
       "      <td>89.3</td>\n",
       "      <td>89.0</td>\n",
       "      <td>90.2</td>\n",
       "    </tr>\n",
       "    <tr>\n",
       "      <th>8</th>\n",
       "      <td>E8</td>\n",
       "      <td>89.4</td>\n",
       "      <td>89.2</td>\n",
       "      <td>90.3</td>\n",
       "    </tr>\n",
       "  </tbody>\n",
       "</table>\n",
       "</div>"
      ],
      "text/plain": [
       "    Experiment        A        B        C\n",
       "1  E1           89.7     90.0     91.5   \n",
       "2  E2           89.8     90.1     90.7   \n",
       "3  E3           88.9     88.8     90.3   \n",
       "4  E4           88.6     88.9     90.4   \n",
       "5  E5           89.5     89.9     90.2   \n",
       "6  E6           89.6     90.0     90.3   \n",
       "7  E7           89.3     89.0     90.2   \n",
       "8  E8           89.4     89.2     90.3   "
      ]
     },
     "execution_count": 24,
     "metadata": {},
     "output_type": "execute_result"
    }
   ],
   "source": [
    "import pandas as pd\n",
    "from io import StringIO\n",
    "\n",
    "data = \"\"\"\n",
    "| Experiment |    A    |    B    |    C    |\n",
    "|------------|---------|---------|---------|\n",
    "| E1         |  89.7   |  90.0   |  91.5   |\n",
    "| E2         |  89.8   |  90.1   |  90.7   |\n",
    "| E3         |  88.9   |  88.8   |  90.3   |\n",
    "| E4         |  88.6   |  88.9   |  90.4   |\n",
    "| E5         |  89.5   |  89.9   |  90.2   |\n",
    "| E6         |  89.6   |  90.0   |  90.3   |\n",
    "| E7         |  89.3   |  89.0   |  90.2   |\n",
    "| E8         |  89.4   |  89.2   |  90.3   |\n",
    "\n",
    "\"\"\"\n",
    "\n",
    "df = pd.read_csv(StringIO(data), sep=\"|\", skipinitialspace=True, usecols=['Experiment ', 'A    ', 'B    ', 'C    '])[1:]\n",
    "df.columns = ['Experiment', 'A', 'B', 'C']\n",
    "df"
   ]
  },
  {
   "cell_type": "code",
   "execution_count": 25,
   "id": "a82568b0",
   "metadata": {},
   "outputs": [
    {
     "name": "stdout",
     "output_type": "stream",
     "text": [
      "p value:0.3673\n",
      "Fail to reject null hypothesis => The data is normally distributed\n",
      "p value:0.0515\n",
      "Fail to reject null hypothesis => The data is normally distributed\n",
      "p value:0.0016\n",
      "Reject null hypothesis => The data is not normally distributed\n"
     ]
    }
   ],
   "source": [
    "method_A = df[\"A\"].astype(\"float\")\n",
    "method_B = df[\"B\"].astype(\"float\")\n",
    "method_C = df[\"C\"].astype(\"float\")\n",
    "\n",
    "\n",
    "# check normality\n",
    "normality_check(method_A)\n",
    "normality_check(method_B)\n",
    "normality_check(method_C)\n"
   ]
  },
  {
   "cell_type": "code",
   "execution_count": 26,
   "id": "fe5db0b1",
   "metadata": {},
   "outputs": [
    {
     "name": "stdout",
     "output_type": "stream",
     "text": [
      "p-value : 0.1775\n",
      "Fail to reject the null hypothesis => The variances of the samples are the same\n"
     ]
    }
   ],
   "source": [
    "# Homoscedasticity check\n",
    "stat, p_value_levene = stats.levene(method_A, method_B, method_C)\n",
    "print(\"p-value : %.4f\"%p_value_levene)\n",
    "if p_value_levene<0.05 :\n",
    "    print(\"Reject the null hypothesis => The variances of the sampkes are different\")\n",
    "else:\n",
    "    print(\"Fail to reject the null hypothesis => The variances of the samples are the same\")"
   ]
  },
  {
   "cell_type": "markdown",
   "id": "f8f2e538",
   "metadata": {},
   "source": [
    "#### <u>3. Selecting the proper test</u>\n",
    "\n",
    "There are three groups, but the normality assumption is violated. Therefore, we should use the non-parametric version of ANOVA for paired data, as the accuracy scores are obtained from the same test sets, which is **Friedman $\\chi ^2$ test.**"
   ]
  },
  {
   "cell_type": "code",
   "execution_count": 27,
   "id": "9fea1323",
   "metadata": {},
   "outputs": [
    {
     "name": "stdout",
     "output_type": "stream",
     "text": [
      "p-value : 0.0022\n",
      "Reject the null hypothesis\n",
      "89.35 \n",
      " 89.49 \n",
      " 90.49\n"
     ]
    }
   ],
   "source": [
    "test_stat, p_value = stats.friedmanchisquare(method_A, method_B, method_C)\n",
    "print(\"p-value : %.4f\"%p_value)\n",
    "\n",
    "if p_value <0.05:\n",
    "    print(\"Reject the null hypothesis\")\n",
    "else :\n",
    "    print(\"Fail to reject the null hypothesis\")\n",
    "    \n",
    "print(np.round(np.mean(method_A), 2),\"\\n\", np.round(np.mean(method_B), 2),\"\\n\", np.round(np.mean(method_C), 2))"
   ]
  },
  {
   "cell_type": "markdown",
   "id": "3b8b5e31",
   "metadata": {},
   "source": [
    "#### <u>4. Decision and Conclusion</u>\n",
    "\n",
    "At this significance level, it is evident that at least one of the methods exhibits a different performance.\n",
    "\n",
    "**Note :** Due to the non-normality of the data, the **non-parametric version of the posthoc test** is employed."
   ]
  },
  {
   "cell_type": "code",
   "execution_count": 28,
   "id": "3df1a61e",
   "metadata": {},
   "outputs": [
    {
     "data": {
      "text/html": [
       "<style type=\"text/css\">\n",
       "#T_6efbb_row0_col0, #T_6efbb_row0_col1, #T_6efbb_row1_col0, #T_6efbb_row1_col1, #T_6efbb_row2_col2 {\n",
       "  background-color: white;\n",
       "}\n",
       "#T_6efbb_row0_col2, #T_6efbb_row1_col2, #T_6efbb_row2_col0, #T_6efbb_row2_col1 {\n",
       "  background-color: red;\n",
       "}\n",
       "</style>\n",
       "<table id=\"T_6efbb\">\n",
       "  <thead>\n",
       "    <tr>\n",
       "      <th class=\"blank level0\" >&nbsp;</th>\n",
       "      <th id=\"T_6efbb_level0_col0\" class=\"col_heading level0 col0\" >Method A</th>\n",
       "      <th id=\"T_6efbb_level0_col1\" class=\"col_heading level0 col1\" >Method B</th>\n",
       "      <th id=\"T_6efbb_level0_col2\" class=\"col_heading level0 col2\" >Method C</th>\n",
       "    </tr>\n",
       "  </thead>\n",
       "  <tbody>\n",
       "    <tr>\n",
       "      <th id=\"T_6efbb_level0_row0\" class=\"row_heading level0 row0\" >Method A</th>\n",
       "      <td id=\"T_6efbb_row0_col0\" class=\"data row0 col0\" >1.000000</td>\n",
       "      <td id=\"T_6efbb_row0_col1\" class=\"data row0 col1\" >0.148438</td>\n",
       "      <td id=\"T_6efbb_row0_col2\" class=\"data row0 col2\" >0.023438</td>\n",
       "    </tr>\n",
       "    <tr>\n",
       "      <th id=\"T_6efbb_level0_row1\" class=\"row_heading level0 row1\" >Method B</th>\n",
       "      <td id=\"T_6efbb_row1_col0\" class=\"data row1 col0\" >0.148438</td>\n",
       "      <td id=\"T_6efbb_row1_col1\" class=\"data row1 col1\" >1.000000</td>\n",
       "      <td id=\"T_6efbb_row1_col2\" class=\"data row1 col2\" >0.023438</td>\n",
       "    </tr>\n",
       "    <tr>\n",
       "      <th id=\"T_6efbb_level0_row2\" class=\"row_heading level0 row2\" >Method C</th>\n",
       "      <td id=\"T_6efbb_row2_col0\" class=\"data row2 col0\" >0.023438</td>\n",
       "      <td id=\"T_6efbb_row2_col1\" class=\"data row2 col1\" >0.023438</td>\n",
       "      <td id=\"T_6efbb_row2_col2\" class=\"data row2 col2\" >1.000000</td>\n",
       "    </tr>\n",
       "  </tbody>\n",
       "</table>\n"
      ],
      "text/plain": [
       "<pandas.io.formats.style.Styler at 0x25a1cce0dc0>"
      ]
     },
     "execution_count": 28,
     "metadata": {},
     "output_type": "execute_result"
    }
   ],
   "source": [
    "import scikit_posthocs as sp\n",
    "\n",
    "data = np.array([method_A, method_B, method_C])\n",
    "df_posthoc = sp.posthoc_wilcoxon(a = data, p_adjust = \"holm\")\n",
    "#df_posthoc = sp.posthoc_nemenyi_friedman(data.T)  # another option for the posthoc test\n",
    "\n",
    "method_names = [\"Method A\", \"Method B\", \"Method C\"]\n",
    "df_posthoc.columns = method_names\n",
    "df_posthoc.index = method_names\n",
    "\n",
    "df_posthoc.style.applymap(lambda x : \"background-color:red\" if x<0.05 else \"background-color:white\")"
   ]
  },
  {
   "cell_type": "markdown",
   "id": "e8caa072",
   "metadata": {},
   "source": [
    "Method $C$ outperformed the others, achieving higher accuracy scores than both methods $A$ and $B.$"
   ]
  },
  {
   "cell_type": "markdown",
   "id": "453a3000",
   "metadata": {},
   "source": [
    "<a id=\"4.8\"></a>\n",
    "\n",
    "# 4.8) $\\chi^2$ Test for Independence\n",
    "\n",
    "<a id=\"4.8.1\"></a>\n",
    "\n",
    "## 4.8.1) Definition\n",
    "\n",
    "* <u>**$\\chi^2$ Test for Independence**</u> **:** also called **test for homogeneity,** is a statistical test used to determine whether there is a significant association between two categorical variables. It assesses whether the observed frequencies of the categories differ from the expected frequencies under the assumption of independence between the variables.\n",
    "\n",
    "* **Observed Frequencies (O) :** The actual counts observed in each category of the contingency table.\n",
    "\n",
    "* **Expected Frequencies (E) :** The counts that would be expected if there were no association between the variables, calculated under the assumption of independence.\n",
    "\n",
    "\n",
    "#### Assumptions\n",
    "\n",
    "Chi-Square Test for Independence does have certain assumptions that need to be satisfied for the test to be valid. Here are the key assumptions:\n",
    "\n",
    "1. **Random Sampling :** The data should be collected through a random sampling method. Each observation should be independent of the others.\n",
    "\n",
    "2. **Categorical Data :** The variables being tested should be categorical. This means that the data should be in the form of frequencies or counts for each category.\n",
    "\n",
    "3. **Large Sample Size :** The sample size should be sufficiently large. Specifically, the expected frequency in each cell of the contingency table should be at least 5 for the test to be reliable. If the expected frequencies are too small, the Chi-Square test may not be appropriate, and an alternative test, such as Fisher's Exact Test, should be considered.\n",
    "\n",
    "4. **Independence of Observations :** The observations should be independent. This means that the occurrence of one observation should not influence the occurrence of another. Each subject or item should contribute to only one cell in the contingency table.\n",
    "\n",
    "**NOTE :** Sufficiently Large Expected Frequencies: Generally, the rule of thumb is that all expected cell frequencies should be 5 or more. If more than 20% of expected frequencies are less than 5, the results of the test may not be reliable.\n",
    "\n",
    "#### Hypotheses\n",
    "\n",
    "- **Null Hypothesis $(H_0)$ :**: There is no association between the two categorical variables (they are independent).\n",
    "- **Alternative Hypothesis $(H_0)$ :** There is an association between the two categorical variables (they are dependent).\n",
    "\n",
    "#### Test Statistic\n",
    "\n",
    "The test statistic for the $\\chi^2$ Test for Independence is calculated based on the differences between observed and expected frequencies in each cell of the contingency table. It follows a $\\chi^2$ distribution :\n",
    "\n",
    "$$\\chi^2 = \\sum \\frac{(O_i - E_i)^2}{E_i}$$\n",
    "\n",
    "where $O_i$ is the observed frequency for the $i$-th cell, and $E_i$ is the expected frequency for the $i$-th cell.\n",
    "\n",
    "The expected frequency for each cell $(i,j)$ is calculated using :\n",
    "\n",
    "$$E_ij = \\frac{R_i C_j}{T}$$\n",
    "\n",
    "where $R_i$ is the total of row $i$, $C_j$ is the total of column $j$, and $T$ the total count in the 2x2 table.\n",
    "\n",
    "#### Degrees of Freedom\n",
    "\n",
    "The degrees of freedom for the test are calculated as :\n",
    "\n",
    "$$df=(r−1)(c−1)$$\n",
    "\n",
    "where $r$ is the number of rows and $c$ is the number of columns in the contingency table.\n"
   ]
  },
  {
   "cell_type": "markdown",
   "id": "af5ba88a",
   "metadata": {},
   "source": [
    "<a id=\"4.8.2\"></a>\n",
    "\n",
    "## 4.8.2) Example of $\\chi^2$ Test for Independence\n",
    "\n",
    "![](risk.jpg) \n",
    "\n",
    "\n",
    "An analyst at a financial investment company is interested in examining the relationship between gender and risk appetite.\n",
    "\n",
    "**Risk appetite :** is the amount of risk an organization or investor is willing to take in pursuit of objectives it deems have value.\n",
    "\n",
    "A random sample of 660 customers was taken from the database. These customers were categorized based on their gender and risk appetite. The results are presented in the table below.\n",
    "\n",
    "| Gender/Risk Appetite |    very Low    |    Low    |    Medium    |High|Very High|Total|\n",
    "|----------------------|---------|---------|---------|----|-----|-----------------------|\n",
    "| **Female**        |  53   |  23  |  30   |     36   |88   |230  |\n",
    "| **Male**        |  71   |  48  |  51   |57|203|430|\n",
    "| **Total**        |  124   |  71  |  81   |93|291|660|\n",
    "\n",
    "We want to test the hypothesis that the risk appetite of the customers in this company is independent of their gender. We use $\\alpha = 0.01.$\n",
    "\n",
    "#### <u>1. Defining Hypotheses</u>\n",
    "\n",
    "* Null Hypothesis $H_0$ : \"Gender and risk appetite are independent\" \n",
    "\n",
    "* Alternative Hypothesis $H_1$ : \"Gender and risk appetite are dependent\"\n",
    "\n",
    "\n",
    "\n",
    "#### <u>2. Assumption Check and Selecting the proper test</u>\n",
    "\n",
    "The chi-squared test should be used for this question. This test is known as the Chi-squared test for independence. The assumption for this test, which requires that each expected frequency be at least 5 $(E_i\\geq 5)$ in at least 80% of the cells, is satisfied."
   ]
  },
  {
   "cell_type": "code",
   "execution_count": 29,
   "id": "26dce7ef",
   "metadata": {},
   "outputs": [
    {
     "name": "stdout",
     "output_type": "stream",
     "text": [
      "Expected frequencies :\n",
      " [[ 43.21  24.74  28.23  32.41 101.41]\n",
      " [ 80.79  46.26  52.77  60.59 189.59]]\n",
      "Degrees of freedom : 4\n",
      "Test statistic : 7.0942\n",
      "p-value : 0.1310\n"
     ]
    }
   ],
   "source": [
    "from scipy.stats import chi2_contingency\n",
    "\n",
    "obs = np.array([[53,23,30,36,88], [71,48,51,57,203]])\n",
    "chi2, p_value, degrees_of_freedom, expected_freq = chi2_contingency(obs, correction = False)\n",
    "\n",
    "print(\"Expected frequencies :\\n\", np.round(expected_freq, 2))\n",
    "print(\"Degrees of freedom :\", degrees_of_freedom)\n",
    "print(\"Test statistic : %.4f\"%chi2)\n",
    "print(\"p-value : %.4f\"%p_value)"
   ]
  },
  {
   "cell_type": "markdown",
   "id": "cd25a7ec",
   "metadata": {},
   "source": [
    "Let's calculate the **critical statistic**"
   ]
  },
  {
   "cell_type": "code",
   "execution_count": 30,
   "id": "05fe0642",
   "metadata": {},
   "outputs": [
    {
     "name": "stdout",
     "output_type": "stream",
     "text": [
      "Critical statistic : 13.2767\n"
     ]
    }
   ],
   "source": [
    "from scipy.stats import chi2\n",
    "\n",
    "# 2 rows and 5 columns\n",
    "alpha = 0.01\n",
    "dof = (2-1)*(5-1)\n",
    "critical_stat = chi2.ppf((1-alpha), dof)\n",
    "print(\"Critical statistic : %.4f\"%critical_stat)"
   ]
  },
  {
   "cell_type": "markdown",
   "id": "9dddf62a",
   "metadata": {},
   "source": [
    "#### <u>3. Decision and Conclusion</u>\n",
    "\n",
    "Since the p-value is larger than $\\alpha=0.01$ (or the calculated statistic of 7.09 is smaller than the critical statistic of 13.28), we fail to reject the null hypothesis $H_0$. At this significance level, it can be concluded that gender and risk appetite are independent."
   ]
  },
  {
   "cell_type": "markdown",
   "id": "64f01196",
   "metadata": {},
   "source": [
    "# Change Log\n",
    "\n",
    "| Date (YYYY-MM-DD) | Version | Changed By      | Change Description      |\n",
    "| ----------------- | ------- | -------------   | ----------------------- |\n",
    "| 2024-02-16       | 1.0     | Younes Dahami   |  initial version |\n",
    "| 2024-05-20       | 1.1     | Younes Dahami   |  details   |"
   ]
  },
  {
   "cell_type": "code",
   "execution_count": null,
   "id": "41d76678",
   "metadata": {},
   "outputs": [],
   "source": []
  }
 ],
 "metadata": {
  "kernelspec": {
   "display_name": "Python 3 (ipykernel)",
   "language": "python",
   "name": "python3"
  },
  "language_info": {
   "codemirror_mode": {
    "name": "ipython",
    "version": 3
   },
   "file_extension": ".py",
   "mimetype": "text/x-python",
   "name": "python",
   "nbconvert_exporter": "python",
   "pygments_lexer": "ipython3",
   "version": "3.10.10"
  }
 },
 "nbformat": 4,
 "nbformat_minor": 5
}
