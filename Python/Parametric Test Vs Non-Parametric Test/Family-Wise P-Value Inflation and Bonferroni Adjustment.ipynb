{
 "cells": [
  {
   "cell_type": "markdown",
   "id": "59d277c2",
   "metadata": {},
   "source": [
    "<h1 style=\"text-align:center;\">Family-Wise P-Value Inflation and Bonferroni Adjustment</h1>\n"
   ]
  },
  {
   "cell_type": "markdown",
   "id": "064d0fa2",
   "metadata": {},
   "source": [
    "<u>**Author</u> :** [Younes Dahami](https://www.linkedin.com/in/dahami/)"
   ]
  },
  {
   "cell_type": "markdown",
   "id": "09407ebb",
   "metadata": {},
   "source": [
    "### Family-Wise P-Value Inflation\n",
    "\n",
    "Family-wise p-value inflation, also known as the family-wise error rate (FWER), refers to the increased probability of making one or more Type I errors (false positives) when multiple hypotheses are tested simultaneously. When conducting multiple statistical tests, the chance of incorrectly rejecting at least one null hypothesis (i.e., finding a significant result when there is none) increases with the number of tests performed.\n",
    "\n",
    "### Example Scenario\n",
    "\n",
    "Suppose you are conducting a study and testing 20 different hypotheses. If each test is performed with a significance level of 0.05 (i.e., a 5% chance of a Type I error), the probability of making at least one Type I error across all 20 tests is higher than 0.05.\n",
    "\n",
    "### Calculating Family-Wise Error Rate\n",
    "\n",
    "If you perform $n$ independent tests, each with a significance level $\\alpha$, the probability of at least one Type I error can be approximated by:\n",
    "\n",
    "$$ 1 - (1 - \\alpha)^n $$\n",
    "\n",
    "For example, with $\\alpha = 0.05$ and $n = 20$:\n",
    "\n",
    "$$ \\text{FWER} \\approx 1 - (1 - 0.05)^{20} \\approx 0.64 $$\n",
    "\n",
    "This means there's about a 64% chance of making at least one Type I error among the 20 tests.\n",
    "\n",
    "### Bonferroni Adjustment\n",
    "\n",
    "To control for the family-wise error rate, adjustments are made to the significance levels of individual tests. The Bonferroni adjustment is one of the simplest and most commonly used methods. It adjusts the significance level to:\n",
    "\n",
    "$$ \\alpha' = \\frac{\\alpha}{n} $$\n",
    "\n",
    "where $\\alpha'$ is the new significance level for each individual test, and $n$ is the number of tests.\n",
    "\n",
    "### Example of Bonferroni Adjustment\n",
    "\n",
    "If you are conducting 20 tests with an overall desired significance level $\\alpha = 0.05$:\n",
    "\n",
    "$$ \\alpha' = \\frac{0.05}{20} = 0.0025 $$\n",
    "\n",
    "Each individual test would now use $\\alpha' = 0.0025$ to determine significance, thereby controlling the family-wise error rate.\n",
    "\n",
    "### Practical Example in Python\n",
    "\n",
    "Here is an example of how to apply the Bonferroni adjustment in Python:\n"
   ]
  },
  {
   "cell_type": "code",
   "execution_count": 1,
   "id": "b3e5bbc3",
   "metadata": {},
   "outputs": [
    {
     "name": "stdout",
     "output_type": "stream",
     "text": [
      "Original p-values: [0.08749075450040038, 0.009825861873992186, 7.973142926261523e-05, 0.3246161278308557, 0.029839390927784388, 0.31154301092483055]\n",
      "Adjusted alpha: 0.008333333333333333\n",
      "Significant after Bonferroni adjustment: [False, False, True, False, False, False]\n"
     ]
    }
   ],
   "source": [
    "# Import necessary libraries\n",
    "import numpy as np\n",
    "from scipy.stats import ttest_ind\n",
    "\n",
    "# Example data\n",
    "np.random.seed(42)\n",
    "group1 = np.random.normal(50, 10, 100)\n",
    "group2 = np.random.normal(51, 10, 100)\n",
    "group3 = np.random.normal(52, 10, 100)\n",
    "group4 = np.random.normal(53, 10, 100)\n",
    "groups = [group1, group2, group3, group4]\n",
    "\n",
    "# Perform multiple t-tests\n",
    "p_values = []\n",
    "for i in range(len(groups)):\n",
    "    for j in range(i + 1, len(groups)):\n",
    "        stat, p = ttest_ind(groups[i], groups[j])\n",
    "        p_values.append(p)\n",
    "\n",
    "# Apply Bonferroni adjustment\n",
    "alpha = 0.05\n",
    "adjusted_alpha = alpha / len(p_values)\n",
    "\n",
    "print(\"Original p-values:\", p_values)\n",
    "print(\"Adjusted alpha:\", adjusted_alpha)\n",
    "\n",
    "# Check significance after adjustment\n",
    "significant = [p < adjusted_alpha for p in p_values]\n",
    "print(\"Significant after Bonferroni adjustment:\", significant)\n"
   ]
  },
  {
   "cell_type": "markdown",
   "id": "aa3a5275",
   "metadata": {},
   "source": [
    "## Explanation \n",
    "\n",
    "* Generate Data : Create four groups of normally distributed data.\n",
    "\n",
    "* Perform t-Tests : Conduct t-tests for all pairwise comparisons between the groups and store the p-values.\n",
    "* Apply Bonferroni Adjustment : Calculate the adjusted significance level $\\alpha'$ and determine which tests are significant after adjustment.\n",
    "* Print Results : Display the original p-values, the adjusted alpha, and which comparisons remain significant after adjustment.\n",
    "\n",
    "\n",
    "## Output Interpretation\n",
    "* Original p-values: P-values from the pairwise t-tests.\n",
    "* Adjusted alpha : The new significance level for each test after applying the Bonferroni correction.\n",
    "* Significant after Bonferroni adjustment : Indicates which tests remain significant after controlling for the family-wise error rate.\n",
    "\n",
    "The Bonferroni adjustment is a conservative method to control for multiple comparisons and helps mitigate the risk of Type I errors when testing multiple hypotheses."
   ]
  },
  {
   "cell_type": "code",
   "execution_count": null,
   "id": "4c6b0213",
   "metadata": {},
   "outputs": [],
   "source": []
  }
 ],
 "metadata": {
  "kernelspec": {
   "display_name": "Python 3 (ipykernel)",
   "language": "python",
   "name": "python3"
  },
  "language_info": {
   "codemirror_mode": {
    "name": "ipython",
    "version": 3
   },
   "file_extension": ".py",
   "mimetype": "text/x-python",
   "name": "python",
   "nbconvert_exporter": "python",
   "pygments_lexer": "ipython3",
   "version": "3.10.10"
  }
 },
 "nbformat": 4,
 "nbformat_minor": 5
}
